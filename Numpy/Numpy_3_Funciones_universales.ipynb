{
 "cells": [
  {
   "cell_type": "markdown",
   "metadata": {},
   "source": [
    "# 20/04 - Pair Programming Numpy 3 - Funciones universales"
   ]
  },
  {
   "cell_type": "markdown",
   "metadata": {},
   "source": [
    "# Ejercicio 1 \n",
    "Cread un array de tres dimensiones de 2 matrices, 3 filas y 5 columnas cuyos valores solo tengan 1 decimales. Sobre el array creado anteriormente, extraed"
   ]
  },
  {
   "cell_type": "code",
   "execution_count": 3,
   "metadata": {},
   "outputs": [
    {
     "data": {
      "text/plain": [
       "array([[[0.9, 0.5, 0.5, 0.9, 0.7],\n",
       "        [0.9, 0.4, 0.5, 1. , 0.7],\n",
       "        [0.8, 0.5, 1. , 0.9, 0.7]],\n",
       "\n",
       "       [[0.6, 0. , 0.5, 1. , 0.5],\n",
       "        [0.5, 0. , 0.3, 1. , 0.6],\n",
       "        [0.9, 0. , 1. , 0.1, 0.8]]])"
      ]
     },
     "execution_count": 3,
     "metadata": {},
     "output_type": "execute_result"
    }
   ],
   "source": [
    "import numpy as np\n",
    "\n",
    "array_1 = np.round(np.random.rand(2, 3, 5), decimals = 1)\n",
    "array_1"
   ]
  },
  {
   "cell_type": "markdown",
   "metadata": {},
   "source": [
    "# Ejercicio 2 \n",
    "Calculad la media del array y almacenarlos en una variable. Redondead a un decimal."
   ]
  },
  {
   "cell_type": "code",
   "execution_count": 4,
   "metadata": {},
   "outputs": [
    {
     "data": {
      "text/plain": [
       "0.6"
      ]
     },
     "execution_count": 4,
     "metadata": {},
     "output_type": "execute_result"
    }
   ],
   "source": [
    "media = np.round(np.mean(array_1), decimals = 1)\n",
    "media "
   ]
  },
  {
   "cell_type": "markdown",
   "metadata": {},
   "source": [
    "# Ejercicio 3 \n",
    "Calculad el valor máximo del array y almacenarlos en una variable. Redondead a un decimal."
   ]
  },
  {
   "cell_type": "code",
   "execution_count": 5,
   "metadata": {},
   "outputs": [
    {
     "data": {
      "text/plain": [
       "1.0"
      ]
     },
     "execution_count": 5,
     "metadata": {},
     "output_type": "execute_result"
    }
   ],
   "source": [
    "maximo = np.round(np.max(array_1), decimals = 1)\n",
    "maximo"
   ]
  },
  {
   "cell_type": "markdown",
   "metadata": {},
   "source": [
    "# Ejercicio 4 \n",
    "Calculad el valor mínimo del array y almacenarlos en una variable. Redondead a un decimal."
   ]
  },
  {
   "cell_type": "code",
   "execution_count": 6,
   "metadata": {},
   "outputs": [
    {
     "data": {
      "text/plain": [
       "0.0"
      ]
     },
     "execution_count": 6,
     "metadata": {},
     "output_type": "execute_result"
    }
   ],
   "source": [
    "minimo = np.round(np.min(array_1), decimals = 1)\n",
    "minimo"
   ]
  },
  {
   "cell_type": "markdown",
   "metadata": {},
   "source": [
    "# Ejercicio 5\n",
    "Cread un array vacío con la misma forma y dimensiones que el array creado anteriormente."
   ]
  },
  {
   "cell_type": "code",
   "execution_count": 8,
   "metadata": {},
   "outputs": [
    {
     "data": {
      "text/plain": [
       "array([[['', '', '', '', ''],\n",
       "        ['', '', '', '', ''],\n",
       "        ['', '', '', '', '']],\n",
       "\n",
       "       [['', '', '', '', ''],\n",
       "        ['', '', '', '', ''],\n",
       "        ['', '', '', '', '']]], dtype='<U1')"
      ]
     },
     "execution_count": 8,
     "metadata": {},
     "output_type": "execute_result"
    }
   ],
   "source": [
    "array_str = np.empty_like(array_1, str)\n",
    "array_str"
   ]
  },
  {
   "cell_type": "markdown",
   "metadata": {},
   "source": [
    "Vamos a reemplazar los valores de la matriz vacía que nos acabamos de crear pero basándonos en los valores del primer array bajo las siguientes condiciones:\n",
    "Si el valor del array es igual que la media, se reemplaza por \"A\".\n",
    "Si el valor del array es mayor que la media, se reemplaza por \"B\".\n",
    "Si el valor del array es menor que la media, se reemplaza por \"C\".\n",
    "Si el valor es igual que el máximo, se reemplaza por \"D\".\n",
    "Si el valor es igual que el mínimo, se reemplaza por \"E\"."
   ]
  },
  {
   "cell_type": "code",
   "execution_count": 17,
   "metadata": {},
   "outputs": [
    {
     "data": {
      "text/plain": [
       "array([[['B', 'C', 'C', 'B', 'B'],\n",
       "        ['B', 'C', 'C', 'D', 'B'],\n",
       "        ['B', 'C', 'D', 'B', 'B']],\n",
       "\n",
       "       [['A', 'E', 'C', 'D', 'C'],\n",
       "        ['C', 'E', 'C', 'D', 'A'],\n",
       "        ['B', 'E', 'D', 'C', 'B']]], dtype='<U1')"
      ]
     },
     "execution_count": 17,
     "metadata": {},
     "output_type": "execute_result"
    }
   ],
   "source": [
    "array_2 = array_str\n",
    "array_2\n",
    "\n",
    "for bloque in range(array_1.shape[0]):\n",
    "    for fila in range(array_1.shape[1]):\n",
    "        for col in range(array_1.shape[2]):\n",
    "                if array_1[bloque][fila][col] == maximo:\n",
    "                    array_str[bloque][fila][col] = \"D\"\n",
    "                elif array_1[bloque][fila][col] == minimo: \n",
    "                    array_str[bloque][fila][col] = \"E\" \n",
    "                elif array_1[bloque][fila][col] == media:\n",
    "                    array_str[bloque][fila][col] = \"A\"\n",
    "                elif array_1[bloque][fila][col]  > media:\n",
    "                    array_str[bloque][fila][col] = \"B\"\n",
    "                elif array_1[bloque][fila][col] < media:\n",
    "                    array_str[bloque][fila][col] = \"C\"\n",
    "                else:\n",
    "                    pass\n",
    "\n",
    "array_2"
   ]
  },
  {
   "cell_type": "markdown",
   "metadata": {},
   "source": [
    "# Ejercicio 6 \n",
    "crearemos un array vacío unidimensional de 30 elementos. \n",
    "Al final de este ejercicio acabaremos teniendo un array de tres dimensiones con la misma forma que el primero que nos creamos.\n",
    "En este caso:\n",
    "Si el valor del array creado en el ejercicio anterior es \"A\" o \"B\" lo reemplazaremos por 1\n",
    "Si el valor del array creado en el ejercicio anterior es \"C\" o \"D\" lo reemplazaremos por 2\n",
    "Si el valor del array creado en el ejercicio anterior es \"E\" lo reemplazaremos por 3."
   ]
  },
  {
   "cell_type": "markdown",
   "metadata": {},
   "source": [
    "Una vez que hayas reemplazado todos los valores cambiad la forma del array para que sea de tres dimensiones, con 2 matrices, 3 filas y 5 columnas."
   ]
  },
  {
   "cell_type": "code",
   "execution_count": 19,
   "metadata": {},
   "outputs": [
    {
     "data": {
      "text/plain": [
       "array([[[1, 2, 2, 1, 1],\n",
       "        [1, 2, 2, 2, 1],\n",
       "        [1, 2, 2, 1, 1]],\n",
       "\n",
       "       [[1, 3, 2, 2, 2],\n",
       "        [2, 3, 2, 2, 1],\n",
       "        [1, 3, 2, 2, 1]]])"
      ]
     },
     "execution_count": 19,
     "metadata": {},
     "output_type": "execute_result"
    }
   ],
   "source": [
    "array_3= np.empty(shape=30,dtype = int)\n",
    "index = 0\n",
    "\n",
    "for matriz in range(array_2.shape[0]):\n",
    "    for fila in range(array_2.shape[1]):\n",
    "        for columnas in range (array_2.shape[2]):\n",
    "            letra = array_2[matriz][fila][columnas]\n",
    "\n",
    "            if letra == \"A\" or letra == \"B\":\n",
    "                n = 1\n",
    "            elif letra == \"C\" or letra == \"D\":\n",
    "                n = 2\n",
    "            else:\n",
    "                n = 3\n",
    "            \n",
    "            array_3[index] = n #index es igual al indice 0, y n va a ser igual a la condicional que pusimos\n",
    "            index += 1 #Acá le decimos que sume uno porque para el siguiente for vamos a acceder al index 1\n",
    "\n",
    "array_3= np.reshape(array_3,(2,3,5))\n",
    "array_3"
   ]
  }
 ],
 "metadata": {
  "interpreter": {
   "hash": "328661ec968ebc77b93161299d44fd1f4547ee33c9a17c5e95f23064c7c08def"
  },
  "kernelspec": {
   "display_name": "Python 3.9.7 ('base')",
   "language": "python",
   "name": "python3"
  },
  "language_info": {
   "codemirror_mode": {
    "name": "ipython",
    "version": 3
   },
   "file_extension": ".py",
   "mimetype": "text/x-python",
   "name": "python",
   "nbconvert_exporter": "python",
   "pygments_lexer": "ipython3",
   "version": "3.9.7"
  },
  "orig_nbformat": 4
 },
 "nbformat": 4,
 "nbformat_minor": 2
}

{
 "cells": [
  {
   "cell_type": "markdown",
   "metadata": {},
   "source": [
    "# 18/04 - Pair Programming Numpy 1 - Arrays"
   ]
  },
  {
   "cell_type": "code",
   "execution_count": 1,
   "metadata": {},
   "outputs": [],
   "source": [
    "import numpy as np"
   ]
  },
  {
   "cell_type": "markdown",
   "metadata": {},
   "source": [
    "# Ejercicio 1 \n",
    "Crear 3 arrays. 1) dos dimensiones, 2 filas y 3 col; 2) 3 dim, 2 matrices,3 filas, 5 col. *) "
   ]
  },
  {
   "cell_type": "code",
   "execution_count": 2,
   "metadata": {},
   "outputs": [
    {
     "data": {
      "text/plain": [
       "array([1, 2, 3, 4, 5])"
      ]
     },
     "execution_count": 2,
     "metadata": {},
     "output_type": "execute_result"
    }
   ],
   "source": [
    "#Array 1\n",
    "\n",
    "lista1 = [1, 2, 3, 4, 5]\n",
    "array_1 =np.array(lista1)\n",
    "array_1"
   ]
  },
  {
   "cell_type": "code",
   "execution_count": 3,
   "metadata": {},
   "outputs": [
    {
     "data": {
      "text/plain": [
       "array([[5, 7, 4],\n",
       "       [5, 7, 1]])"
      ]
     },
     "execution_count": 3,
     "metadata": {},
     "output_type": "execute_result"
    }
   ],
   "source": [
    "#Array 2 (dos dimensiones, 2 filas, 3 col)\n",
    "\n",
    "array_2 = np.random.randint (1, 10, (2, 3))\n",
    "array_2"
   ]
  },
  {
   "cell_type": "code",
   "execution_count": 4,
   "metadata": {},
   "outputs": [
    {
     "data": {
      "text/plain": [
       "array([[[0.67698729, 0.4086536 , 0.51946063, 0.1261828 , 0.61945935],\n",
       "        [0.84156824, 0.27027616, 0.46332469, 0.14066922, 0.27939389],\n",
       "        [0.05017301, 0.64934028, 0.62372353, 0.60436462, 0.28478586]],\n",
       "\n",
       "       [[0.75207932, 0.01571143, 0.97250728, 0.85581733, 0.37191432],\n",
       "        [0.04873334, 0.62474225, 0.12604995, 0.14386295, 0.89292197],\n",
       "        [0.43027618, 0.19337617, 0.26019325, 0.08053639, 0.63155274]]])"
      ]
     },
     "execution_count": 4,
     "metadata": {},
     "output_type": "execute_result"
    }
   ],
   "source": [
    "#Array 3 (2 matrices, 3 filas, 5 col)\n",
    "\n",
    "array_3 = np.random.rand(2, 3, 5)\n",
    "array_3"
   ]
  },
  {
   "cell_type": "markdown",
   "metadata": {},
   "source": [
    "# Ejercicio 2 \n",
    "Función que muestre las propiedades de un array"
   ]
  },
  {
   "cell_type": "code",
   "execution_count": 17,
   "metadata": {},
   "outputs": [],
   "source": [
    "#FUNCIÓN\n",
    "\n",
    "def propiedades (array):\n",
    "    a = \"La forma es: \", array.shape\n",
    "    b = \"El tamaño es:\", array.size\n",
    "    c = \"El número de dimensiones es:\", array.ndim \n",
    "    d = \"El tipo de datos es:\", array.dtype\n",
    "    \n",
    "    print( a, \"\\n\", b, \"\\n\", c, \"\\n\", d)\n",
    "\n"
   ]
  },
  {
   "cell_type": "code",
   "execution_count": 18,
   "metadata": {},
   "outputs": [
    {
     "name": "stdout",
     "output_type": "stream",
     "text": [
      "('La forma es: ', (5,)) \n",
      " ('El tamaño es:', 5) \n",
      " ('El número de dimensiones es:', 1) \n",
      " ('El tipo de datos es:', dtype('int64'))\n"
     ]
    }
   ],
   "source": [
    "propiedades(array_1)\n",
    "#propiedades(array_2)\n",
    "#propiedades(array_3)"
   ]
  },
  {
   "cell_type": "markdown",
   "metadata": {},
   "source": [
    "# Ejercicio 3 \n",
    "Crear matriz de identidad"
   ]
  },
  {
   "cell_type": "code",
   "execution_count": 7,
   "metadata": {},
   "outputs": [
    {
     "data": {
      "text/plain": [
       "array([[1., 0., 0.],\n",
       "       [0., 1., 0.],\n",
       "       [0., 0., 1.]])"
      ]
     },
     "execution_count": 7,
     "metadata": {},
     "output_type": "execute_result"
    }
   ],
   "source": [
    "#2 dimensiones, 3 filas y 3 columnas\n",
    "\n",
    "matriz_ident = np.identity(3)\n",
    "matriz_ident\n",
    "\n"
   ]
  },
  {
   "cell_type": "markdown",
   "metadata": {},
   "source": [
    "# Ejercicio 4 \n",
    "Cread una matriz de tres dimensiones de unos, igual a la matriz de tres dimensiones creada en el primer ejercicio."
   ]
  },
  {
   "cell_type": "code",
   "execution_count": 8,
   "metadata": {},
   "outputs": [
    {
     "data": {
      "text/plain": [
       "array([[[1., 1., 1., 1., 1.],\n",
       "        [1., 1., 1., 1., 1.],\n",
       "        [1., 1., 1., 1., 1.]],\n",
       "\n",
       "       [[1., 1., 1., 1., 1.],\n",
       "        [1., 1., 1., 1., 1.],\n",
       "        [1., 1., 1., 1., 1.]]])"
      ]
     },
     "execution_count": 8,
     "metadata": {},
     "output_type": "execute_result"
    }
   ],
   "source": [
    "matriz_2 = np.ones_like(array_3)\n",
    "matriz_2"
   ]
  },
  {
   "cell_type": "markdown",
   "metadata": {},
   "source": [
    "# Ejercicio 5\n",
    "Realizar operaciones"
   ]
  },
  {
   "cell_type": "code",
   "execution_count": 9,
   "metadata": {},
   "outputs": [],
   "source": [
    "# 1) ¿Se puede sumar el array de dos dimensiones que creamos en el primer ejecicios a la matriz identidad? ¿Por qué?\n",
    "\n",
    "#suma = array_2 + matriz_1\n",
    "#print(array_2)\n",
    "#print(matriz_1)\n",
    "\n",
    "#No se pueden sumar, como hemos comprobado, porque tienen diferentes formas. Ambos son bidimensionales, pero el número de filas y columnas no es el mismo (2, 3) y (3, 3)\n",
    "\n"
   ]
  },
  {
   "cell_type": "code",
   "execution_count": 10,
   "metadata": {},
   "outputs": [
    {
     "name": "stdout",
     "output_type": "stream",
     "text": [
      "Este es el array nuevo: \n",
      " [[2 4 7]\n",
      " [7 3 4]\n",
      " [7 6 8]]\n",
      "El resultado de sumar con '+' es: \n",
      " [[3. 4. 7.]\n",
      " [7. 4. 4.]\n",
      " [7. 6. 9.]]\n",
      "El resultado de sumar con el método np.add es: \n",
      " [[3. 4. 7.]\n",
      " [7. 4. 4.]\n",
      " [7. 6. 9.]]\n"
     ]
    }
   ],
   "source": [
    "# 2) En caso de que no se puedan sumar, busca una solución para sumar una matriz identidad a otra. La solución puede ser crear un array nuevo.\n",
    "\n",
    "#opción: crear array nuevo con las mismas dimensiones: como en este caso la matriz es de tamaño 3x3, nuestro array deberá tener 3 filas y 3 columnas.\n",
    "\n",
    "array_nuevo = np.random.randint(1, 10, (3, 3))\n",
    "print(\"Este es el array nuevo:\", \"\\n\", array_nuevo)\n",
    "\n",
    "#Probamos a sumar array_nuevo con matriz_2\n",
    "\n",
    "# a) Con operador\n",
    "\n",
    "suma = array_nuevo + matriz_ident\n",
    "print(\"El resultado de sumar con '+' es:\", \"\\n\",suma)\n",
    "\n",
    "# b) Con método\n",
    "\n",
    "suma_met = np.add(array_nuevo, matriz_ident)\n",
    "print(\"El resultado de sumar con el método np.add es:\", \"\\n\", suma_met)\n",
    "#Ahora tiene las mismas dimensiones y suma a array_nuevo (con random ints) los \"unos y ceros\" de matriz_1"
   ]
  },
  {
   "cell_type": "code",
   "execution_count": 11,
   "metadata": {},
   "outputs": [
    {
     "name": "stdout",
     "output_type": "stream",
     "text": [
      "El resultado de multiplicar con '*' es: \n",
      " [[2. 0. 0.]\n",
      " [0. 3. 0.]\n",
      " [0. 0. 8.]]\n",
      "El resultado de multiplicar con el método np.multiply es: \n",
      " [[2. 0. 0.]\n",
      " [0. 3. 0.]\n",
      " [0. 0. 8.]]\n"
     ]
    }
   ],
   "source": [
    "# 3) Multiplicación matriz_ident por array_nuevo\n",
    "# a) Con operador\n",
    "mult = matriz_ident * array_nuevo\n",
    "print(\"El resultado de multiplicar con '*' es:\", \"\\n\",mult)\n",
    "\n",
    "#b) Con método\n",
    "mult_metodo = np.multiply(matriz_ident, array_nuevo)\n",
    "print(\"El resultado de multiplicar con el método np.multiply es:\", \"\\n\",mult_metodo)\n"
   ]
  },
  {
   "cell_type": "markdown",
   "metadata": {},
   "source": [
    "4. Dividid las dos matrices"
   ]
  },
  {
   "cell_type": "code",
   "execution_count": 12,
   "metadata": {},
   "outputs": [
    {
     "name": "stdout",
     "output_type": "stream",
     "text": [
      "El resultado de dividir con '/' es: \n",
      " [[0.5        0.         0.        ]\n",
      " [0.         0.33333333 0.        ]\n",
      " [0.         0.         0.125     ]]\n",
      "El resultado de dividir la matriz identidad con el método np.divide es: \n",
      " [[0.5        0.         0.        ]\n",
      " [0.         0.33333333 0.        ]\n",
      " [0.         0.         0.125     ]]\n",
      "El resultado de dividir el array nuevo entre la matriz identidad con el método np.divide es: \n",
      " [[0.5        0.         0.        ]\n",
      " [0.         0.33333333 0.        ]\n",
      " [0.         0.         0.125     ]]\n"
     ]
    },
    {
     "name": "stderr",
     "output_type": "stream",
     "text": [
      "/tmp/ipykernel_355/712860815.py:11: RuntimeWarning: divide by zero encountered in true_divide\n",
      "  div_metodo2 = np.divide(array_nuevo, matriz_ident)\n"
     ]
    }
   ],
   "source": [
    "# a) Con operador\n",
    "div = matriz_ident / array_nuevo\n",
    "print(\"El resultado de dividir con '/' es:\", \"\\n\", div)\n",
    "\n",
    "#b) Con método\n",
    "div_metodo = np.divide(matriz_ident, array_nuevo)\n",
    "print(\"El resultado de dividir la matriz identidad con el método np.divide es:\", \"\\n\", div_metodo)\n",
    "\n",
    "# c) Como quizá tenga más sentido dividir, al contrario, el array entre la matriz:\n",
    "\n",
    "div_metodo2 = np.divide(array_nuevo, matriz_ident)\n",
    "print(\"El resultado de dividir el array nuevo entre la matriz identidad con el método np.divide es:\", \"\\n\", div_metodo)\n",
    "\n",
    "#Dividir entre ceros\n"
   ]
  }
 ],
 "metadata": {
  "kernelspec": {
   "display_name": "Python 3.9.7 ('base')",
   "language": "python",
   "name": "python3"
  },
  "language_info": {
   "codemirror_mode": {
    "name": "ipython",
    "version": 3
   },
   "file_extension": ".py",
   "mimetype": "text/x-python",
   "name": "python",
   "nbconvert_exporter": "python",
   "pygments_lexer": "ipython3",
   "version": "3.9.7"
  },
  "orig_nbformat": 4,
  "vscode": {
   "interpreter": {
    "hash": "328661ec968ebc77b93161299d44fd1f4547ee33c9a17c5e95f23064c7c08def"
   }
  }
 },
 "nbformat": 4,
 "nbformat_minor": 2
}

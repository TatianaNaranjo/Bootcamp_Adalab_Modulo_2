{
 "cells": [
  {
   "cell_type": "markdown",
   "metadata": {},
   "source": [
    "# 21/04 - Pair Programming Numpy IV - Teoria de conjuntos"
   ]
  },
  {
   "cell_type": "markdown",
   "metadata": {},
   "source": [
    "En este caso pondremos en práctica como generar arrays que sigan ciertas distribuciones, así como las operaciones de teoría de conjuntos básicas."
   ]
  },
  {
   "cell_type": "markdown",
   "metadata": {},
   "source": [
    "# Ejercicio 1 \n",
    "¿Cómo podemos crear dos arrays de dos dimensiones usando el método random_sample que tengan los mismos valores?"
   ]
  },
  {
   "cell_type": "code",
   "execution_count": 2,
   "metadata": {},
   "outputs": [
    {
     "name": "stdout",
     "output_type": "stream",
     "text": [
      "array 1= [[4.17022005e-01 7.20324493e-01 1.14374817e-04]\n",
      " [3.02332573e-01 1.46755891e-01 9.23385948e-02]]\n",
      "\n",
      "\n",
      "array 2= [[4.17022005e-01 7.20324493e-01 1.14374817e-04]\n",
      " [3.02332573e-01 1.46755891e-01 9.23385948e-02]]\n"
     ]
    }
   ],
   "source": [
    "import numpy as np\n",
    "np.random.seed(1)\n",
    "array1 = np.random.random_sample((2 ,3))\n",
    "print(\"array 1=\", array1)\n",
    "print('\\n')\n",
    "np.random.seed(1)\n",
    "array2= np.random.random_sample((2, 3))\n",
    "print(\"array 2=\", array2)"
   ]
  },
  {
   "cell_type": "markdown",
   "metadata": {},
   "source": [
    "# Ejercicio 2 \n",
    "Cread los siguientes arrays:\n",
    "Un array de tres dimensiones con distribución uniforme de 2 x 3 x 5, con números entre 0 y 10, que no tengan decimales y extrae sus valores únicos almacenándolos en una variable."
   ]
  },
  {
   "cell_type": "code",
   "execution_count": 4,
   "metadata": {},
   "outputs": [
    {
     "name": "stdout",
     "output_type": "stream",
     "text": [
      "Los valores únicos del array son:  [ 0.  1.  2.  3.  4.  5.  6.  7.  8.  9. 10.]\n"
     ]
    }
   ],
   "source": [
    "array3= (np.random.uniform(0,10, size = (2,3,5))).round(0)\n",
    "unicos= np.unique(array3)\n",
    "print(\"Los valores únicos del array son: \", unicos)"
   ]
  },
  {
   "cell_type": "markdown",
   "metadata": {},
   "source": [
    "Un array de tres dimensiones con distribución binomial de 2 x 3 x 5, con probabilidad de 0.3 y número de pruebas igual a 10. Igual que antes guarda los datos en una variable. Explicar cada uno de los outputs que os salgan. Que significa cada una de estas operaciones que hemos ido extrayendo?"
   ]
  },
  {
   "cell_type": "code",
   "execution_count": 6,
   "metadata": {},
   "outputs": [
    {
     "name": "stdout",
     "output_type": "stream",
     "text": [
      "En este caso de distribución binomial buscamos \n"
     ]
    }
   ],
   "source": [
    "array4= np.random.binomial(10, 0.9, size = (2,3,5))\n",
    "array4\n",
    "print(\"En este caso de distribución binomial buscamos \")"
   ]
  },
  {
   "cell_type": "markdown",
   "metadata": {},
   "source": [
    "# Ejercicio 3 \n",
    "Usando los arrays de elementos únicos obtenidos en el ejercicio anterior realizad las siguientes operaciones:\n",
    "Elementos comunes entre los dos arrays\n",
    "Unión de los dos arrays\n",
    "¿Qué elementos están en el array derivado de la distribución uniforme y no en los únicos de la distribución binomial? Extrae los valores númericos"
   ]
  },
  {
   "cell_type": "code",
   "execution_count": 68,
   "metadata": {},
   "outputs": [
    {
     "name": "stdout",
     "output_type": "stream",
     "text": [
      "Los elementos comunes entre los dos array son:  [ 0. 10.]\n",
      "Los elementos de la unión entre los dos array son:  [ 0.  1.  2.  3.  4.  5.  6.  7.  8.  9. 10. 13. 17. 19. 22. 23. 24. 26.\n",
      " 41. 43. 47. 48. 50. 54. 57. 61. 70. 74. 80. 88. 89. 90. 91. 94. 95. 96.]\n",
      "Los elementos que están en el array derivado de la distribución uniforme y no en los únicos de la distribución binomial son:  [ 4  6  9 14 16 25 28 29 34 35 44 45 51 53 55 56 58 63 67 71 72 78 79 92\n",
      " 97]\n"
     ]
    }
   ],
   "source": [
    "comunes = np.intersect1d(unicos, array4)\n",
    "print(\"Los elementos comunes entre los dos array son: \", comunes) \n",
    "union = np.union1d(unicos,array4)\n",
    "print(\"Los elementos de la unión entre los dos array son: \", union)\n",
    "diferentes = np.setdiff1d(array3,array4)\n",
    "print(\"Los elementos que están en el array derivado de la distribución uniforme y no en los únicos de la distribución binomial son: \", diferentes)"
   ]
  },
  {
   "cell_type": "markdown",
   "metadata": {},
   "source": [
    "# Ejercicio 4\n",
    "Cread dos arrays usando el método random.randint de Numpy con 80 elementos cada uno con números del 1-100, con los siguientes nombres array1 y array2."
   ]
  },
  {
   "cell_type": "markdown",
   "metadata": {},
   "source": []
  },
  {
   "cell_type": "code",
   "execution_count": 60,
   "metadata": {},
   "outputs": [],
   "source": [
    "array1 = np.random.randint(0,100, 80)\n",
    "array2 = np.random.randint(0,100, 80)"
   ]
  },
  {
   "cell_type": "markdown",
   "metadata": {},
   "source": [
    "Extraed los valores únicos de cada uno de los arrays y los guardáis en variables en las que se les llame array1 y array2."
   ]
  },
  {
   "cell_type": "code",
   "execution_count": 61,
   "metadata": {},
   "outputs": [],
   "source": [
    "array1= np.unique(array1)\n",
    "array2= np.unique(array2)\n"
   ]
  },
  {
   "cell_type": "markdown",
   "metadata": {},
   "source": [
    "Identificad los elementos presentes en el array1 pero no en el array2 y asiganarlo a una variable que se llame array3."
   ]
  },
  {
   "cell_type": "code",
   "execution_count": 62,
   "metadata": {},
   "outputs": [],
   "source": [
    "array3= np.setdiff1d(array1,array2)"
   ]
  },
  {
   "cell_type": "markdown",
   "metadata": {},
   "source": [
    "Identificad los elementos presentes en el array2 pero no en el array1 y asiganarlo a una variable que se llame array4."
   ]
  },
  {
   "cell_type": "code",
   "execution_count": 63,
   "metadata": {},
   "outputs": [],
   "source": [
    "array4= np.setdiff1d(array2,array1)"
   ]
  },
  {
   "cell_type": "markdown",
   "metadata": {},
   "source": [
    "Identificad los elementos presentes en ambos arrays y asignarlos a una variable que se llame array5."
   ]
  },
  {
   "cell_type": "code",
   "execution_count": 64,
   "metadata": {},
   "outputs": [],
   "source": [
    "array5= np.intersect1d(array1,array2)"
   ]
  },
  {
   "cell_type": "markdown",
   "metadata": {},
   "source": [
    "¿Cuál es la relación que existe entre todos estos arrays? 💡 Pista 💡 Tendréis que usar las longitudes de cada uno de los arrays creados."
   ]
  },
  {
   "cell_type": "code",
   "execution_count": 65,
   "metadata": {},
   "outputs": [
    {
     "name": "stdout",
     "output_type": "stream",
     "text": [
      "Los valores únicos del array1 son:  55\n",
      "Los valores únicos del array2 son:  57\n",
      "Los elementos que estan en array1 pero no en array2 son:  25\n",
      "Los elementos que estan en array2 pero no en array1 son:  27\n",
      "Los elementos comunes en ambos array son:  30\n"
     ]
    }
   ],
   "source": [
    "print(\"Los valores únicos del array1 son: \", len(array1)) \n",
    "print(\"Los valores únicos del array2 son: \", len(array2)) \n",
    "print(\"Los elementos que estan en array1 pero no en array2 son: \", len(array3)) \n",
    "print(\"Los elementos que estan en array2 pero no en array1 son: \", len(array4)) \n",
    "print(\"Los elementos comunes en ambos array son: \", len(array5))\n"
   ]
  },
  {
   "cell_type": "code",
   "execution_count": 66,
   "metadata": {},
   "outputs": [
    {
     "name": "stdout",
     "output_type": "stream",
     "text": [
      "True\n"
     ]
    }
   ],
   "source": [
    "#Para comprobar la relación vamos a sumar la cantidad de elementos iguales en ambos array + la cantidad de elementos distintos y el total debe ser igual a la cantidad de elementos del array\n",
    "print(len(array1) == len(array3) + len(array5))\n"
   ]
  },
  {
   "cell_type": "code",
   "execution_count": 67,
   "metadata": {},
   "outputs": [
    {
     "name": "stdout",
     "output_type": "stream",
     "text": [
      "True\n"
     ]
    }
   ],
   "source": [
    "print(len(array2) == len(array4) + len(array5))"
   ]
  }
 ],
 "metadata": {
  "interpreter": {
   "hash": "328661ec968ebc77b93161299d44fd1f4547ee33c9a17c5e95f23064c7c08def"
  },
  "kernelspec": {
   "display_name": "Python 3.9.7 ('base')",
   "language": "python",
   "name": "python3"
  },
  "language_info": {
   "codemirror_mode": {
    "name": "ipython",
    "version": 3
   },
   "file_extension": ".py",
   "mimetype": "text/x-python",
   "name": "python",
   "nbconvert_exporter": "python",
   "pygments_lexer": "ipython3",
   "version": "3.9.7"
  },
  "orig_nbformat": 4
 },
 "nbformat": 4,
 "nbformat_minor": 2
}

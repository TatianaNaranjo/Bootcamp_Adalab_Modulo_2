{
 "cells": [
  {
   "cell_type": "markdown",
   "metadata": {},
   "source": [
    "\n",
    "# <span style=\"color:orange\">12/05 - Pair Programming Limpieza 8 - Lidia y Tatiana</span>"
   ]
  },
  {
   "cell_type": "code",
   "execution_count": 1,
   "metadata": {},
   "outputs": [],
   "source": [
    "# cargamos las librerías que nos hacen falta para trabajar. \n",
    "\n",
    "import pandas as pd\n",
    "import numpy as np\n",
    "import seaborn as sns\n",
    "import matplotlib.pyplot as plt\n",
    "\n",
    "import warnings\n",
    "warnings.filterwarnings('ignore')\n",
    "\n",
    "from scipy import stats # para hacer la transformación box-cox\n",
    "\n",
    "pd.options.display.max_columns = None "
   ]
  },
  {
   "cell_type": "code",
   "execution_count": 2,
   "metadata": {},
   "outputs": [
    {
     "data": {
      "text/html": [
       "<div>\n",
       "<style scoped>\n",
       "    .dataframe tbody tr th:only-of-type {\n",
       "        vertical-align: middle;\n",
       "    }\n",
       "\n",
       "    .dataframe tbody tr th {\n",
       "        vertical-align: top;\n",
       "    }\n",
       "\n",
       "    .dataframe thead th {\n",
       "        text-align: right;\n",
       "    }\n",
       "</style>\n",
       "<table border=\"1\" class=\"dataframe\">\n",
       "  <thead>\n",
       "    <tr style=\"text-align: right;\">\n",
       "      <th></th>\n",
       "      <th>year</th>\n",
       "      <th>type</th>\n",
       "      <th>country</th>\n",
       "      <th>age</th>\n",
       "      <th>species_</th>\n",
       "      <th>fecha_limpia</th>\n",
       "      <th>fatal</th>\n",
       "      <th>sex</th>\n",
       "      <th>latitud</th>\n",
       "      <th>longitud</th>\n",
       "      <th>NORM_manual_age</th>\n",
       "      <th>NORM_log</th>\n",
       "      <th>NORM_raiz_cuadrada</th>\n",
       "      <th>NORM_boxcox</th>\n",
       "      <th>NORM_scaller</th>\n",
       "    </tr>\n",
       "  </thead>\n",
       "  <tbody>\n",
       "    <tr>\n",
       "      <th>0</th>\n",
       "      <td>2018</td>\n",
       "      <td>Boating</td>\n",
       "      <td>usa</td>\n",
       "      <td>57.0</td>\n",
       "      <td>White shark</td>\n",
       "      <td>Jun</td>\n",
       "      <td>N</td>\n",
       "      <td>F</td>\n",
       "      <td>39.7837304</td>\n",
       "      <td>-100.445882</td>\n",
       "      <td>0.346937</td>\n",
       "      <td>4.043051</td>\n",
       "      <td>7.549834</td>\n",
       "      <td>9.116327</td>\n",
       "      <td>0.651163</td>\n",
       "    </tr>\n",
       "    <tr>\n",
       "      <th>1</th>\n",
       "      <td>2018</td>\n",
       "      <td>Unprovoked</td>\n",
       "      <td>usa</td>\n",
       "      <td>11.0</td>\n",
       "      <td>Unespecific</td>\n",
       "      <td>Jun</td>\n",
       "      <td>N</td>\n",
       "      <td>F</td>\n",
       "      <td>39.7837304</td>\n",
       "      <td>-100.445882</td>\n",
       "      <td>-0.187946</td>\n",
       "      <td>2.397895</td>\n",
       "      <td>3.316625</td>\n",
       "      <td>3.804860</td>\n",
       "      <td>0.116279</td>\n",
       "    </tr>\n",
       "  </tbody>\n",
       "</table>\n",
       "</div>"
      ],
      "text/plain": [
       "   year        type country   age     species_ fecha_limpia fatal sex  \\\n",
       "0  2018     Boating     usa  57.0  White shark          Jun     N   F   \n",
       "1  2018  Unprovoked     usa  11.0  Unespecific          Jun     N   F   \n",
       "\n",
       "      latitud     longitud  NORM_manual_age  NORM_log  NORM_raiz_cuadrada  \\\n",
       "0  39.7837304  -100.445882         0.346937  4.043051            7.549834   \n",
       "1  39.7837304  -100.445882        -0.187946  2.397895            3.316625   \n",
       "\n",
       "   NORM_boxcox  NORM_scaller  \n",
       "0     9.116327      0.651163  \n",
       "1     3.804860      0.116279  "
      ]
     },
     "execution_count": 2,
     "metadata": {},
     "output_type": "execute_result"
    }
   ],
   "source": [
    "df = pd.read_csv(\"./limpieza_7.csv\", index_col = 0)\n",
    "df.head(2)"
   ]
  },
  {
   "cell_type": "markdown",
   "metadata": {},
   "source": [
    "# Ejercicio 1\n",
    "Estandarizar la columna de age usando todos los métodos aprendidos en la lección."
   ]
  },
  {
   "cell_type": "code",
   "execution_count": 3,
   "metadata": {},
   "outputs": [
    {
     "data": {
      "text/html": [
       "<div>\n",
       "<style scoped>\n",
       "    .dataframe tbody tr th:only-of-type {\n",
       "        vertical-align: middle;\n",
       "    }\n",
       "\n",
       "    .dataframe tbody tr th {\n",
       "        vertical-align: top;\n",
       "    }\n",
       "\n",
       "    .dataframe thead th {\n",
       "        text-align: right;\n",
       "    }\n",
       "</style>\n",
       "<table border=\"1\" class=\"dataframe\">\n",
       "  <thead>\n",
       "    <tr style=\"text-align: right;\">\n",
       "      <th></th>\n",
       "      <th>year</th>\n",
       "      <th>type</th>\n",
       "      <th>country</th>\n",
       "      <th>age</th>\n",
       "      <th>species_</th>\n",
       "      <th>fecha_limpia</th>\n",
       "      <th>fatal</th>\n",
       "      <th>sex</th>\n",
       "      <th>latitud</th>\n",
       "      <th>longitud</th>\n",
       "      <th>NORM_manual_age</th>\n",
       "      <th>NORM_log</th>\n",
       "      <th>NORM_raiz_cuadrada</th>\n",
       "      <th>NORM_boxcox</th>\n",
       "      <th>NORM_scaller</th>\n",
       "      <th>EST_manual</th>\n",
       "    </tr>\n",
       "  </thead>\n",
       "  <tbody>\n",
       "    <tr>\n",
       "      <th>0</th>\n",
       "      <td>2018</td>\n",
       "      <td>Boating</td>\n",
       "      <td>usa</td>\n",
       "      <td>57.0</td>\n",
       "      <td>White shark</td>\n",
       "      <td>Jun</td>\n",
       "      <td>N</td>\n",
       "      <td>F</td>\n",
       "      <td>39.7837304</td>\n",
       "      <td>-100.445882</td>\n",
       "      <td>0.346937</td>\n",
       "      <td>4.043051</td>\n",
       "      <td>7.549834</td>\n",
       "      <td>9.116327</td>\n",
       "      <td>0.651163</td>\n",
       "      <td>2.879330</td>\n",
       "    </tr>\n",
       "    <tr>\n",
       "      <th>1</th>\n",
       "      <td>2018</td>\n",
       "      <td>Unprovoked</td>\n",
       "      <td>usa</td>\n",
       "      <td>11.0</td>\n",
       "      <td>Unespecific</td>\n",
       "      <td>Jun</td>\n",
       "      <td>N</td>\n",
       "      <td>F</td>\n",
       "      <td>39.7837304</td>\n",
       "      <td>-100.445882</td>\n",
       "      <td>-0.187946</td>\n",
       "      <td>2.397895</td>\n",
       "      <td>3.316625</td>\n",
       "      <td>3.804860</td>\n",
       "      <td>0.116279</td>\n",
       "      <td>-1.559821</td>\n",
       "    </tr>\n",
       "  </tbody>\n",
       "</table>\n",
       "</div>"
      ],
      "text/plain": [
       "   year        type country   age     species_ fecha_limpia fatal sex  \\\n",
       "0  2018     Boating     usa  57.0  White shark          Jun     N   F   \n",
       "1  2018  Unprovoked     usa  11.0  Unespecific          Jun     N   F   \n",
       "\n",
       "      latitud     longitud  NORM_manual_age  NORM_log  NORM_raiz_cuadrada  \\\n",
       "0  39.7837304  -100.445882         0.346937  4.043051            7.549834   \n",
       "1  39.7837304  -100.445882        -0.187946  2.397895            3.316625   \n",
       "\n",
       "   NORM_boxcox  NORM_scaller  EST_manual  \n",
       "0     9.116327      0.651163    2.879330  \n",
       "1     3.804860      0.116279   -1.559821  "
      ]
     },
     "execution_count": 3,
     "metadata": {},
     "output_type": "execute_result"
    }
   ],
   "source": [
    "media = df[\"age\"].mean()\n",
    "desviacion = df[\"age\"].std() \n",
    "df[\"EST_manual\"] = (df[\"age\"] - media) / desviacion\n",
    "df.head(2)"
   ]
  },
  {
   "cell_type": "code",
   "execution_count": 4,
   "metadata": {},
   "outputs": [
    {
     "data": {
      "image/png": "[encoded data removed]",
      "text/plain": [
       "<Figure size 1080x360 with 2 Axes>"
      ]
     },
     "metadata": {
      "needs_background": "light"
     },
     "output_type": "display_data"
    }
   ],
   "source": [
    "fig, axes = plt.subplots(1, 2, figsize = (15,5))\n",
    "\n",
    "axes[0].set_title('age')\n",
    "axes[1].set_title(\"EST_manual\")\n",
    "\n",
    "sns.distplot(df['age'] ,ax = axes[0],color=\"r\")\n",
    "sns.distplot(df['EST_manual'], ax = axes[1],color=\"r\");\n"
   ]
  },
  {
   "cell_type": "code",
   "execution_count": 5,
   "metadata": {},
   "outputs": [],
   "source": [
    "from sklearn.preprocessing import StandardScaler"
   ]
  },
  {
   "cell_type": "code",
   "execution_count": 6,
   "metadata": {},
   "outputs": [],
   "source": [
    "# iniciamos el método para escalar\n",
    "scaler = StandardScaler()"
   ]
  },
  {
   "cell_type": "code",
   "execution_count": 7,
   "metadata": {},
   "outputs": [],
   "source": [
    "df[[\"EST_scaller\"]] = scaler.fit_transform(df[[\"age\"]])\n"
   ]
  },
  {
   "cell_type": "code",
   "execution_count": 8,
   "metadata": {},
   "outputs": [
    {
     "data": {
      "text/html": [
       "<div>\n",
       "<style scoped>\n",
       "    .dataframe tbody tr th:only-of-type {\n",
       "        vertical-align: middle;\n",
       "    }\n",
       "\n",
       "    .dataframe tbody tr th {\n",
       "        vertical-align: top;\n",
       "    }\n",
       "\n",
       "    .dataframe thead th {\n",
       "        text-align: right;\n",
       "    }\n",
       "</style>\n",
       "<table border=\"1\" class=\"dataframe\">\n",
       "  <thead>\n",
       "    <tr style=\"text-align: right;\">\n",
       "      <th></th>\n",
       "      <th>year</th>\n",
       "      <th>type</th>\n",
       "      <th>country</th>\n",
       "      <th>age</th>\n",
       "      <th>species_</th>\n",
       "      <th>fecha_limpia</th>\n",
       "      <th>fatal</th>\n",
       "      <th>sex</th>\n",
       "      <th>latitud</th>\n",
       "      <th>longitud</th>\n",
       "      <th>NORM_manual_age</th>\n",
       "      <th>NORM_log</th>\n",
       "      <th>NORM_raiz_cuadrada</th>\n",
       "      <th>NORM_boxcox</th>\n",
       "      <th>NORM_scaller</th>\n",
       "      <th>EST_manual</th>\n",
       "      <th>EST_scaller</th>\n",
       "    </tr>\n",
       "  </thead>\n",
       "  <tbody>\n",
       "    <tr>\n",
       "      <th>0</th>\n",
       "      <td>2018</td>\n",
       "      <td>Boating</td>\n",
       "      <td>usa</td>\n",
       "      <td>57.0</td>\n",
       "      <td>White shark</td>\n",
       "      <td>Jun</td>\n",
       "      <td>N</td>\n",
       "      <td>F</td>\n",
       "      <td>39.7837304</td>\n",
       "      <td>-100.445882</td>\n",
       "      <td>0.346937</td>\n",
       "      <td>4.043051</td>\n",
       "      <td>7.549834</td>\n",
       "      <td>9.116327</td>\n",
       "      <td>0.651163</td>\n",
       "      <td>2.87933</td>\n",
       "      <td>2.879561</td>\n",
       "    </tr>\n",
       "  </tbody>\n",
       "</table>\n",
       "</div>"
      ],
      "text/plain": [
       "   year     type country   age     species_ fecha_limpia fatal sex  \\\n",
       "0  2018  Boating     usa  57.0  White shark          Jun     N   F   \n",
       "\n",
       "      latitud     longitud  NORM_manual_age  NORM_log  NORM_raiz_cuadrada  \\\n",
       "0  39.7837304  -100.445882         0.346937  4.043051            7.549834   \n",
       "\n",
       "   NORM_boxcox  NORM_scaller  EST_manual  EST_scaller  \n",
       "0     9.116327      0.651163     2.87933     2.879561  "
      ]
     },
     "execution_count": 8,
     "metadata": {},
     "output_type": "execute_result"
    }
   ],
   "source": [
    "df.head(1)"
   ]
  },
  {
   "cell_type": "code",
   "execution_count": 9,
   "metadata": {},
   "outputs": [
    {
     "data": {
      "image/png": "[encoded data removed]",
      "text/plain": [
       "<Figure size 1080x360 with 2 Axes>"
      ]
     },
     "metadata": {
      "needs_background": "light"
     },
     "output_type": "display_data"
    }
   ],
   "source": [
    "fig, axes = plt.subplots(1, 2, figsize = (15,5))\n",
    "\n",
    "axes[0].set_title('age')\n",
    "axes[1].set_title('EST_scaller')\n",
    "\n",
    "sns.distplot(df['age'] ,ax = axes[0],color=\"darkorange\")\n",
    "sns.distplot(df['EST_scaller'], ax = axes[1],color=\"darkorange\");\n"
   ]
  },
  {
   "cell_type": "code",
   "execution_count": 10,
   "metadata": {},
   "outputs": [],
   "source": [
    "from sklearn.preprocessing import RobustScaler"
   ]
  },
  {
   "cell_type": "code",
   "execution_count": 11,
   "metadata": {},
   "outputs": [],
   "source": [
    "# construir el modelo de escalador\n",
    "robust = RobustScaler()"
   ]
  },
  {
   "cell_type": "code",
   "execution_count": 12,
   "metadata": {},
   "outputs": [],
   "source": [
    "df[[\"EST_robust\"]] = robust.fit_transform(df[[\"age\"]])"
   ]
  },
  {
   "cell_type": "code",
   "execution_count": 13,
   "metadata": {},
   "outputs": [
    {
     "data": {
      "text/html": [
       "<div>\n",
       "<style scoped>\n",
       "    .dataframe tbody tr th:only-of-type {\n",
       "        vertical-align: middle;\n",
       "    }\n",
       "\n",
       "    .dataframe tbody tr th {\n",
       "        vertical-align: top;\n",
       "    }\n",
       "\n",
       "    .dataframe thead th {\n",
       "        text-align: right;\n",
       "    }\n",
       "</style>\n",
       "<table border=\"1\" class=\"dataframe\">\n",
       "  <thead>\n",
       "    <tr style=\"text-align: right;\">\n",
       "      <th></th>\n",
       "      <th>year</th>\n",
       "      <th>type</th>\n",
       "      <th>country</th>\n",
       "      <th>age</th>\n",
       "      <th>species_</th>\n",
       "      <th>fecha_limpia</th>\n",
       "      <th>fatal</th>\n",
       "      <th>sex</th>\n",
       "      <th>latitud</th>\n",
       "      <th>longitud</th>\n",
       "      <th>NORM_manual_age</th>\n",
       "      <th>NORM_log</th>\n",
       "      <th>NORM_raiz_cuadrada</th>\n",
       "      <th>NORM_boxcox</th>\n",
       "      <th>NORM_scaller</th>\n",
       "      <th>EST_manual</th>\n",
       "      <th>EST_scaller</th>\n",
       "      <th>EST_robust</th>\n",
       "    </tr>\n",
       "  </thead>\n",
       "  <tbody>\n",
       "    <tr>\n",
       "      <th>0</th>\n",
       "      <td>2018</td>\n",
       "      <td>Boating</td>\n",
       "      <td>usa</td>\n",
       "      <td>57.0</td>\n",
       "      <td>White shark</td>\n",
       "      <td>Jun</td>\n",
       "      <td>N</td>\n",
       "      <td>F</td>\n",
       "      <td>39.7837304</td>\n",
       "      <td>-100.445882</td>\n",
       "      <td>0.346937</td>\n",
       "      <td>4.043051</td>\n",
       "      <td>7.549834</td>\n",
       "      <td>9.116327</td>\n",
       "      <td>0.651163</td>\n",
       "      <td>2.879330</td>\n",
       "      <td>2.879561</td>\n",
       "      <td>6.0</td>\n",
       "    </tr>\n",
       "    <tr>\n",
       "      <th>1</th>\n",
       "      <td>2018</td>\n",
       "      <td>Unprovoked</td>\n",
       "      <td>usa</td>\n",
       "      <td>11.0</td>\n",
       "      <td>Unespecific</td>\n",
       "      <td>Jun</td>\n",
       "      <td>N</td>\n",
       "      <td>F</td>\n",
       "      <td>39.7837304</td>\n",
       "      <td>-100.445882</td>\n",
       "      <td>-0.187946</td>\n",
       "      <td>2.397895</td>\n",
       "      <td>3.316625</td>\n",
       "      <td>3.804860</td>\n",
       "      <td>0.116279</td>\n",
       "      <td>-1.559821</td>\n",
       "      <td>-1.559946</td>\n",
       "      <td>-3.2</td>\n",
       "    </tr>\n",
       "  </tbody>\n",
       "</table>\n",
       "</div>"
      ],
      "text/plain": [
       "   year        type country   age     species_ fecha_limpia fatal sex  \\\n",
       "0  2018     Boating     usa  57.0  White shark          Jun     N   F   \n",
       "1  2018  Unprovoked     usa  11.0  Unespecific          Jun     N   F   \n",
       "\n",
       "      latitud     longitud  NORM_manual_age  NORM_log  NORM_raiz_cuadrada  \\\n",
       "0  39.7837304  -100.445882         0.346937  4.043051            7.549834   \n",
       "1  39.7837304  -100.445882        -0.187946  2.397895            3.316625   \n",
       "\n",
       "   NORM_boxcox  NORM_scaller  EST_manual  EST_scaller  EST_robust  \n",
       "0     9.116327      0.651163    2.879330     2.879561         6.0  \n",
       "1     3.804860      0.116279   -1.559821    -1.559946        -3.2  "
      ]
     },
     "execution_count": 13,
     "metadata": {},
     "output_type": "execute_result"
    }
   ],
   "source": [
    "df.head(2)"
   ]
  },
  {
   "cell_type": "code",
   "execution_count": 16,
   "metadata": {},
   "outputs": [
    {
     "data": {
      "image/png": "[encoded data removed]",
      "text/plain": [
       "<Figure size 1080x360 with 2 Axes>"
      ]
     },
     "metadata": {
      "needs_background": "light"
     },
     "output_type": "display_data"
    }
   ],
   "source": [
    "fig, axes = plt.subplots(1, 2, figsize = (15,5))\n",
    "\n",
    "axes[0].set_title('age')\n",
    "axes[1].set_title('EST_robust')\n",
    "\n",
    "sns.distplot(df['age'] ,ax = axes[0],color=\"darkorange\")\n",
    "sns.distplot(df['EST_robust'], ax = axes[1],color=\"darkorange\");\n"
   ]
  },
  {
   "cell_type": "markdown",
   "metadata": {},
   "source": [
    "# Ejercicio 2\n",
    "¿Véis alguna diferencia entre cada uno de los métodos?"
   ]
  },
  {
   "cell_type": "markdown",
   "metadata": {},
   "source": [
    "StandarScaller estandariza con la media y la desviación típica - lo usamos si tenemos outliers\n",
    "\n",
    "\n",
    "RobustScaller estandariza con la mediana y el rango intercuartilico - lo usamos si no tenemos outliers\n",
    "Este metodo elimina la mediana y escala los datos entre el primer y tercer cuartil"
   ]
  },
  {
   "cell_type": "markdown",
   "metadata": {},
   "source": [
    "# Ejercicio 3 \n",
    "Cread una gráfica con varios subplots donde en cada uno de ellos se vea el resultado de la estandarización y la normalización realizada en los dos ejercicios de pair programming de hoy."
   ]
  },
  {
   "cell_type": "code",
   "execution_count": 14,
   "metadata": {},
   "outputs": [],
   "source": [
    "columnas= \"age\",\"EST_manual\", \"EST_scaller\", \"EST_robust\""
   ]
  },
  {
   "cell_type": "code",
   "execution_count": 15,
   "metadata": {},
   "outputs": [
    {
     "data": {
      "image/png": "[encoded data removed]",
      "text/plain": [
       "<Figure size 576x432 with 1 Axes>"
      ]
     },
     "metadata": {
      "needs_background": "light"
     },
     "output_type": "display_data"
    },
    {
     "data": {
      "image/png": "[encoded data removed]",
      "text/plain": [
       "<Figure size 576x432 with 1 Axes>"
      ]
     },
     "metadata": {
      "needs_background": "light"
     },
     "output_type": "display_data"
    },
    {
     "data": {
      "image/png": "[encoded data removed]",
      "text/plain": [
       "<Figure size 576x432 with 1 Axes>"
      ]
     },
     "metadata": {
      "needs_background": "light"
     },
     "output_type": "display_data"
    },
    {
     "data": {
      "image/png": "[encoded data removed]",
      "text/plain": [
       "<Figure size 576x432 with 1 Axes>"
      ]
     },
     "metadata": {
      "needs_background": "light"
     },
     "output_type": "display_data"
    }
   ],
   "source": [
    "for i in columnas:\n",
    "    plt.figure(figsize = (8, 6))\n",
    "    sns.distplot(df[i],color='purple') #lista de todas las columnas normalizadas\n",
    "    plt.show()\n"
   ]
  }
 ],
 "metadata": {
  "interpreter": {
   "hash": "40d3a090f54c6569ab1632332b64b2c03c39dcf918b08424e98f38b5ae0af88f"
  },
  "kernelspec": {
   "display_name": "Python 3.9.7 ('base')",
   "language": "python",
   "name": "python3"
  },
  "language_info": {
   "codemirror_mode": {
    "name": "ipython",
    "version": 3
   },
   "file_extension": ".py",
   "mimetype": "text/x-python",
   "name": "python",
   "nbconvert_exporter": "python",
   "pygments_lexer": "ipython3",
   "version": "3.9.7"
  },
  "orig_nbformat": 4
 },
 "nbformat": 4,
 "nbformat_minor": 2
}

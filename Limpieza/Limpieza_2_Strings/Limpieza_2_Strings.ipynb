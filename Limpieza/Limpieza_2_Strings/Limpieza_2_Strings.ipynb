{
 "cells": [
  {
   "cell_type": "markdown",
   "metadata": {},
   "source": [
    "# 06/05 - Pair Programming Limpieza 2 - Strings"
   ]
  },
  {
   "cell_type": "markdown",
   "metadata": {},
   "source": [
    "**HIPOTESIS**\n",
    "\n",
    "- ¿Es Australia es el sitio más peligroso y letal para estar relajada en la playa?\n",
    "\n",
    "- ¿Cuál es el rango de edad que sufre la mayoría de los ataques?\n",
    "\n",
    "- Independientemente de la edad, sufren los hombres más ataques que las mujeres?\n",
    "\n",
    "- ¿En qué mes ocurren más ataques?\n",
    "\n",
    "- ¿Cuál es la relación entre la especie y el tipo de ataque (si es fatal o no)?\n",
    "\n",
    "- ¿Cómo han evolucionado los ataques a lo largo del tiempo?\n",
    "\n",
    "De todo esto, nos damos cuenta que solo tenemos que limpiar algunas de las columnas, en concreto age, species, country, fatal, year, sex. Si reducimos esto a una tabla para saber que tenemos ya limpito y que no. **Actualizamos esta tabla ya que en el ejercicio de pair de Limpieza I ya dejamos algunas columnas limpitas:"
   ]
  },
  {
   "cell_type": "markdown",
   "metadata": {},
   "source": [
    "# EJERCICIO 1\n",
    "\n",
    "Columna de species: si exploramos esta columna en detalle nos podemos dar cuenta que tenemos muchos valores únicos y esto hace que sea muy difícil trabajar con esta columna. \n",
    "\n",
    "Lo que vamos a hacer es clasificar los tiburones en 5 especies diferentes, las más comunes, que incluyen el tiburón blanco (White), el tiburón tigre (Tiger ), el tiburón gris (Grey), el tiburón limón (Lemon) y el tiburón toro (Bull). \n",
    "\n",
    "El resto de las especies las incluiremos en un único grupo que podremos llamar \"Unspecified\". \n",
    "\n",
    "Ahora nos podemos sentir un poco abrumadas y no saber como enfrentarnos a este reto, pero don't worry, os dejamos por aquí unas 💡 pistas 💡 para que os ayuden a entender cómo hacerlo.\n",
    "\n",
    "Los valores de las columnas son strings por lo que podremos usar regex para buscar palabras clave en cada celda y asignarlo a una de las categorías que hemos definido previamente.\n"
   ]
  },
  {
   "cell_type": "markdown",
   "metadata": {},
   "source": [
    "Tendremos que crearnos una función que aplicaremos sobre nuestra columna species_ para que nos devuelva una nueva columna con los valores clasificados en función de los patrones de regex que hayamos definido."
   ]
  },
  {
   "cell_type": "code",
   "execution_count": 5,
   "metadata": {},
   "outputs": [
    {
     "data": {
      "text/html": [
       "<div>\n",
       "<style scoped>\n",
       "    .dataframe tbody tr th:only-of-type {\n",
       "        vertical-align: middle;\n",
       "    }\n",
       "\n",
       "    .dataframe tbody tr th {\n",
       "        vertical-align: top;\n",
       "    }\n",
       "\n",
       "    .dataframe thead th {\n",
       "        text-align: right;\n",
       "    }\n",
       "</style>\n",
       "<table border=\"1\" class=\"dataframe\">\n",
       "  <thead>\n",
       "    <tr style=\"text-align: right;\">\n",
       "      <th></th>\n",
       "      <th>year</th>\n",
       "      <th>type</th>\n",
       "      <th>country</th>\n",
       "      <th>sex_</th>\n",
       "      <th>age</th>\n",
       "      <th>species_</th>\n",
       "      <th>fatal_(y/n)</th>\n",
       "      <th>date</th>\n",
       "    </tr>\n",
       "  </thead>\n",
       "  <tbody>\n",
       "    <tr>\n",
       "      <th>0</th>\n",
       "      <td>2018</td>\n",
       "      <td>Boating</td>\n",
       "      <td>usa</td>\n",
       "      <td>F</td>\n",
       "      <td>57</td>\n",
       "      <td>White shark</td>\n",
       "      <td>N</td>\n",
       "      <td>25-Jun-2018</td>\n",
       "    </tr>\n",
       "    <tr>\n",
       "      <th>1</th>\n",
       "      <td>2018</td>\n",
       "      <td>Unprovoked</td>\n",
       "      <td>usa</td>\n",
       "      <td>F</td>\n",
       "      <td>11</td>\n",
       "      <td>NaN</td>\n",
       "      <td>N</td>\n",
       "      <td>18-Jun-2018</td>\n",
       "    </tr>\n",
       "    <tr>\n",
       "      <th>2</th>\n",
       "      <td>2018</td>\n",
       "      <td>Invalid</td>\n",
       "      <td>usa</td>\n",
       "      <td>M</td>\n",
       "      <td>48</td>\n",
       "      <td>NaN</td>\n",
       "      <td>N</td>\n",
       "      <td>09-Jun-2018</td>\n",
       "    </tr>\n",
       "    <tr>\n",
       "      <th>3</th>\n",
       "      <td>2018</td>\n",
       "      <td>Unprovoked</td>\n",
       "      <td>australia</td>\n",
       "      <td>M</td>\n",
       "      <td>NaN</td>\n",
       "      <td>2 m shark</td>\n",
       "      <td>N</td>\n",
       "      <td>08-Jun-2018</td>\n",
       "    </tr>\n",
       "    <tr>\n",
       "      <th>4</th>\n",
       "      <td>2018</td>\n",
       "      <td>Provoked</td>\n",
       "      <td>mexico</td>\n",
       "      <td>M</td>\n",
       "      <td>NaN</td>\n",
       "      <td>Tiger shark, 3m</td>\n",
       "      <td>N</td>\n",
       "      <td>04-Jun-2018</td>\n",
       "    </tr>\n",
       "  </tbody>\n",
       "</table>\n",
       "</div>"
      ],
      "text/plain": [
       "   year        type    country sex_  age         species_ fatal_(y/n)  \\\n",
       "0  2018     Boating        usa    F   57      White shark           N   \n",
       "1  2018  Unprovoked        usa    F   11              NaN           N   \n",
       "2  2018     Invalid        usa    M   48              NaN           N   \n",
       "3  2018  Unprovoked  australia    M  NaN        2 m shark           N   \n",
       "4  2018    Provoked     mexico    M  NaN  Tiger shark, 3m           N   \n",
       "\n",
       "          date  \n",
       "0  25-Jun-2018  \n",
       "1  18-Jun-2018  \n",
       "2  09-Jun-2018  \n",
       "3  08-Jun-2018  \n",
       "4  04-Jun-2018  "
      ]
     },
     "execution_count": 5,
     "metadata": {},
     "output_type": "execute_result"
    }
   ],
   "source": [
    "import pandas as pd\n",
    "import numpy as np\n",
    "import re\n",
    "df = pd.read_csv(\"./limpieza_1.csv\", index_col=0)\n",
    "df.head()"
   ]
  },
  {
   "cell_type": "code",
   "execution_count": 6,
   "metadata": {},
   "outputs": [],
   "source": [
    "df_c=df.copy()"
   ]
  },
  {
   "cell_type": "markdown",
   "metadata": {},
   "source": [
    "-----"
   ]
  },
  {
   "cell_type": "markdown",
   "metadata": {},
   "source": [
    "    Pruebas para reducir el bucle"
   ]
  },
  {
   "cell_type": "code",
   "execution_count": 7,
   "metadata": {},
   "outputs": [],
   "source": [
    "#Pruebas , planteando poder reducir el bucle.\n",
    "        \n",
    "patrones_regex= (r\".*[Ww](hite|HITE).*\",r\".*[Tt](iger|IGER).*\",r\".*[Gr](rey|IGER).*\", r\".*[Ll](emon|EMON).*\", r\".*[Bb](ull|ULL).*\")\n",
    "nombre_tiburon= (\"white_shark\",\"tiger_shark\",\"grey_shark\",\"lemon_shark\",\"bull_shark\")\n",
    "   \n",
    "def patrones_tiburon (col):\n",
    "    x= re.findall(patrones_regex, col)\n",
    "    if patrones_regex:\n",
    "        return nombre_tiburon\n",
    "    else:\n",
    "        return \"unspecified\""
   ]
  },
  {
   "cell_type": "code",
   "execution_count": null,
   "metadata": {},
   "outputs": [],
   "source": [
    "df_c[\"species_\"]= df_c[\"species_\"].apply(patrones_tiburon)\n",
    "df_c.head()"
   ]
  },
  {
   "cell_type": "markdown",
   "metadata": {},
   "source": [
    "-----"
   ]
  },
  {
   "cell_type": "markdown",
   "metadata": {},
   "source": [
    "    Bucle definitivo para continuar con la limpieza"
   ]
  },
  {
   "cell_type": "code",
   "execution_count": 9,
   "metadata": {},
   "outputs": [],
   "source": [
    "#Patrones de busqueda, tener en cuenta que para cada palabra hay que cambiar [Ww]\n",
    "\n",
    "patron_blanco = r\".*[Ww](hite|HITE).*\"\n",
    "patron_tigre= r\".*[Tt](iger|IGER).*\"\n",
    "patron_gris= r\".*[Gr](rey|IGER).*\"\n",
    "patron_limon= r\".*[Ll](emon|EMON).*\"\n",
    "patron_toro= r\".*[Bb](ull|ULL).*\""
   ]
  },
  {
   "cell_type": "code",
   "execution_count": 10,
   "metadata": {},
   "outputs": [],
   "source": [
    "def tiburon(col):\n",
    "    try:\n",
    "        if re.findall(patron_blanco, col):\n",
    "            return \"white_shark\"\n",
    "        elif re.findall(patron_tigre, col):\n",
    "            return \"tiger_shark\"\n",
    "        elif re.findall(patron_gris, col):\n",
    "            return \"grey_shark\"\n",
    "        elif re.findall(patron_gris, col):\n",
    "            return \"lemon_shark\"\n",
    "        elif re.findall(patron_limon, col):\n",
    "            return \"bull_shark\"\n",
    "        else:\n",
    "            return \"unspecified\"\n",
    "    except:\n",
    "        return \"unspecified\""
   ]
  },
  {
   "cell_type": "code",
   "execution_count": 11,
   "metadata": {},
   "outputs": [
    {
     "data": {
      "text/html": [
       "<div>\n",
       "<style scoped>\n",
       "    .dataframe tbody tr th:only-of-type {\n",
       "        vertical-align: middle;\n",
       "    }\n",
       "\n",
       "    .dataframe tbody tr th {\n",
       "        vertical-align: top;\n",
       "    }\n",
       "\n",
       "    .dataframe thead th {\n",
       "        text-align: right;\n",
       "    }\n",
       "</style>\n",
       "<table border=\"1\" class=\"dataframe\">\n",
       "  <thead>\n",
       "    <tr style=\"text-align: right;\">\n",
       "      <th></th>\n",
       "      <th>year</th>\n",
       "      <th>type</th>\n",
       "      <th>country</th>\n",
       "      <th>sex_</th>\n",
       "      <th>age</th>\n",
       "      <th>species_</th>\n",
       "      <th>fatal_(y/n)</th>\n",
       "      <th>date</th>\n",
       "    </tr>\n",
       "  </thead>\n",
       "  <tbody>\n",
       "    <tr>\n",
       "      <th>0</th>\n",
       "      <td>2018</td>\n",
       "      <td>Boating</td>\n",
       "      <td>usa</td>\n",
       "      <td>F</td>\n",
       "      <td>57</td>\n",
       "      <td>white_shark</td>\n",
       "      <td>N</td>\n",
       "      <td>25-Jun-2018</td>\n",
       "    </tr>\n",
       "    <tr>\n",
       "      <th>1</th>\n",
       "      <td>2018</td>\n",
       "      <td>Unprovoked</td>\n",
       "      <td>usa</td>\n",
       "      <td>F</td>\n",
       "      <td>11</td>\n",
       "      <td>unspecified</td>\n",
       "      <td>N</td>\n",
       "      <td>18-Jun-2018</td>\n",
       "    </tr>\n",
       "    <tr>\n",
       "      <th>2</th>\n",
       "      <td>2018</td>\n",
       "      <td>Invalid</td>\n",
       "      <td>usa</td>\n",
       "      <td>M</td>\n",
       "      <td>48</td>\n",
       "      <td>unspecified</td>\n",
       "      <td>N</td>\n",
       "      <td>09-Jun-2018</td>\n",
       "    </tr>\n",
       "    <tr>\n",
       "      <th>3</th>\n",
       "      <td>2018</td>\n",
       "      <td>Unprovoked</td>\n",
       "      <td>australia</td>\n",
       "      <td>M</td>\n",
       "      <td>NaN</td>\n",
       "      <td>unspecified</td>\n",
       "      <td>N</td>\n",
       "      <td>08-Jun-2018</td>\n",
       "    </tr>\n",
       "    <tr>\n",
       "      <th>4</th>\n",
       "      <td>2018</td>\n",
       "      <td>Provoked</td>\n",
       "      <td>mexico</td>\n",
       "      <td>M</td>\n",
       "      <td>NaN</td>\n",
       "      <td>tiger_shark</td>\n",
       "      <td>N</td>\n",
       "      <td>04-Jun-2018</td>\n",
       "    </tr>\n",
       "  </tbody>\n",
       "</table>\n",
       "</div>"
      ],
      "text/plain": [
       "   year        type    country sex_  age     species_ fatal_(y/n)         date\n",
       "0  2018     Boating        usa    F   57  white_shark           N  25-Jun-2018\n",
       "1  2018  Unprovoked        usa    F   11  unspecified           N  18-Jun-2018\n",
       "2  2018     Invalid        usa    M   48  unspecified           N  09-Jun-2018\n",
       "3  2018  Unprovoked  australia    M  NaN  unspecified           N  08-Jun-2018\n",
       "4  2018    Provoked     mexico    M  NaN  tiger_shark           N  04-Jun-2018"
      ]
     },
     "execution_count": 11,
     "metadata": {},
     "output_type": "execute_result"
    }
   ],
   "source": [
    "#Aplicamos función a la columna con el método .apply\n",
    "df_c[\"species_\"]= df_c[\"species_\"].apply(tiburon)\n",
    "df_c.head()"
   ]
  },
  {
   "cell_type": "code",
   "execution_count": 12,
   "metadata": {},
   "outputs": [
    {
     "data": {
      "text/plain": [
       "array(['white_shark', 'unspecified', 'tiger_shark', 'bull_shark',\n",
       "       'grey_shark'], dtype=object)"
      ]
     },
     "execution_count": 12,
     "metadata": {},
     "output_type": "execute_result"
    }
   ],
   "source": [
    "#Comprobamos que los valores únicos son los que nosotros queríamos establecer en cada caso.\n",
    "df_c[\"species_\"].unique()"
   ]
  },
  {
   "cell_type": "markdown",
   "metadata": {},
   "source": [
    "# EJERCICIO 2"
   ]
  },
  {
   "cell_type": "markdown",
   "metadata": {},
   "source": [
    "Columna de age: es una columna de tipo string pero debería ser de tipo integer. Además, en esta columna nos vamos a encontrar con algunos errores tipográficos, estos incluyen:\n",
    "- Edaden formato string\n",
    "\n",
    "- Edades separadas por &, or, to, >\n",
    "\n",
    "- Edades con ?\n",
    "\n",
    "Vamos con algunas 💡 pistas 💡 para que os ayuden a entender cómo hacerlo:\n",
    "\n",
    "- Primero tendremos que eliminar todos esos símbolos especiales que nos aparecen. De nuevo, podremos usar regex para extraer unicamente los números que es lo que nos interesa. Usar este regex en una función para sacar solo los números.\n",
    "\n",
    "- Puede que os salga un error similar a este:\n",
    "<br><font color=green>TypeError: expected string or bytes-like object</font>\n",
    "\n",
    "- Para solucionar este problema, antes de nada tendréis que ejecutar este código para que no os de error:\n",
    "c\n",
    "\n",
    "- Una vez que hayáis extraido los números, os daréis cuenta que hay celdas que tienen más de una edad. Tendréis que decidir que hacer en esos casos. Os dejamos por aquí una posible opción usando un método de Pandas que os puede resultar super útil. El método explode, aqui.\n",
    "\n",
    "- Por último cambiad el tipo de la columna de string a integer."
   ]
  },
  {
   "cell_type": "code",
   "execution_count": 13,
   "metadata": {},
   "outputs": [],
   "source": [
    "#Hacemos una copia para el ejercicio 2\n",
    "df_s=df_c.copy()"
   ]
  },
  {
   "cell_type": "code",
   "execution_count": 14,
   "metadata": {},
   "outputs": [
    {
     "data": {
      "text/html": [
       "<div>\n",
       "<style scoped>\n",
       "    .dataframe tbody tr th:only-of-type {\n",
       "        vertical-align: middle;\n",
       "    }\n",
       "\n",
       "    .dataframe tbody tr th {\n",
       "        vertical-align: top;\n",
       "    }\n",
       "\n",
       "    .dataframe thead th {\n",
       "        text-align: right;\n",
       "    }\n",
       "</style>\n",
       "<table border=\"1\" class=\"dataframe\">\n",
       "  <thead>\n",
       "    <tr style=\"text-align: right;\">\n",
       "      <th></th>\n",
       "      <th>year</th>\n",
       "      <th>type</th>\n",
       "      <th>country</th>\n",
       "      <th>sex_</th>\n",
       "      <th>age</th>\n",
       "      <th>species_</th>\n",
       "      <th>fatal_(y/n)</th>\n",
       "      <th>date</th>\n",
       "    </tr>\n",
       "  </thead>\n",
       "  <tbody>\n",
       "    <tr>\n",
       "      <th>0</th>\n",
       "      <td>2018</td>\n",
       "      <td>Boating</td>\n",
       "      <td>usa</td>\n",
       "      <td>F</td>\n",
       "      <td>57</td>\n",
       "      <td>white_shark</td>\n",
       "      <td>N</td>\n",
       "      <td>25-Jun-2018</td>\n",
       "    </tr>\n",
       "    <tr>\n",
       "      <th>1</th>\n",
       "      <td>2018</td>\n",
       "      <td>Unprovoked</td>\n",
       "      <td>usa</td>\n",
       "      <td>F</td>\n",
       "      <td>11</td>\n",
       "      <td>unspecified</td>\n",
       "      <td>N</td>\n",
       "      <td>18-Jun-2018</td>\n",
       "    </tr>\n",
       "  </tbody>\n",
       "</table>\n",
       "</div>"
      ],
      "text/plain": [
       "   year        type country sex_ age     species_ fatal_(y/n)         date\n",
       "0  2018     Boating     usa    F  57  white_shark           N  25-Jun-2018\n",
       "1  2018  Unprovoked     usa    F  11  unspecified           N  18-Jun-2018"
      ]
     },
     "execution_count": 14,
     "metadata": {},
     "output_type": "execute_result"
    }
   ],
   "source": [
    "df_s.head(2)"
   ]
  },
  {
   "cell_type": "code",
   "execution_count": null,
   "metadata": {},
   "outputs": [
    {
     "data": {
      "text/plain": [
       "year            int64\n",
       "type           object\n",
       "country        object\n",
       "sex_           object\n",
       "age            object\n",
       "species_       object\n",
       "fatal_(y/n)    object\n",
       "date           object\n",
       "dtype: object"
      ]
     },
     "execution_count": 6,
     "metadata": {},
     "output_type": "execute_result"
    }
   ],
   "source": [
    "df_s.dtypes"
   ]
  },
  {
   "cell_type": "code",
   "execution_count": 15,
   "metadata": {},
   "outputs": [
    {
     "data": {
      "text/plain": [
       "array(['57', '11', '48', nan, '18', '52', '15', '12', '32', '10', '21',\n",
       "       '34', '30', '60', '33', '29', '54', '41', '37', '56', '19', '25',\n",
       "       '69', '38', '55', '35', '46', '45', '14', '40s', '28', '20', '24',\n",
       "       '26', '49', '22', '7', '31', '17', '40', '13', '42', '3', '8',\n",
       "       '50', '16', '82', '73', '20s', '68', '51', '39', '58', 'Teen',\n",
       "       '47', '61', '65', '36', '66', '43', '60s', '9', '72', '59', '6',\n",
       "       '27', '64', '23', '71', '44', '62', '63', '70', '18 months', '53',\n",
       "       '30s', '50s', 'teen', '77', '74', '28 & 26', '5', '86', '18 or 20',\n",
       "       '12 or 13', '46 & 34', '28, 23 & 30', 'Teens', '36 & 26',\n",
       "       '8 or 10', '84', '\\xa0 ', ' ', '30 or 36', '6½', '21 & ?', '75',\n",
       "       '33 or 37', 'mid-30s', '23 & 20', ' 30', '7      &    31', ' 28',\n",
       "       '20?', \"60's\", '32 & 30', '16 to 18', '87', '67', 'Elderly',\n",
       "       'mid-20s', 'Ca. 33', '74 ', '45 ', '21 or 26', '20 ', '>50',\n",
       "       '18 to 22', 'adult', '9 & 12', '? & 19', '9 months', '25 to 35',\n",
       "       '23 & 26', '1', '(adult)', '33 & 37', '25 or 28',\n",
       "       '37, 67, 35, 27,  ? & 27', '21, 34,24 & 35', '30 & 32', '50 & 30',\n",
       "       '17 & 35', 'X', '\"middle-age\"', '13 or 18', '34 & 19', '33 & 26',\n",
       "       '2 to 3 months', 'MAKE LINE GREEN', ' 43', '81', '\"young\"',\n",
       "       '7 or 8', '78', '17 & 16', 'F', 'Both 11', '9 or 10', 'young',\n",
       "       '36 & 23', '  ', 'A.M.', '?    &   14', '10 or 12', '31 or 33',\n",
       "       '2½', '13 or 14'], dtype=object)"
      ]
     },
     "execution_count": 15,
     "metadata": {},
     "output_type": "execute_result"
    }
   ],
   "source": [
    "#Valoramos toda la información que encontramos dentro de la columna age, ¿Que debemos hacer con estos valores?\n",
    "df_s[\"age\"].unique()"
   ]
  },
  {
   "cell_type": "code",
   "execution_count": 16,
   "metadata": {},
   "outputs": [
    {
     "data": {
      "text/plain": [
       "year            int64\n",
       "type           object\n",
       "country        object\n",
       "sex_           object\n",
       "age            object\n",
       "species_       object\n",
       "fatal_(y/n)    object\n",
       "date           object\n",
       "dtype: object"
      ]
     },
     "execution_count": 16,
     "metadata": {},
     "output_type": "execute_result"
    }
   ],
   "source": [
    "df_s['age'] = df_s['age'].astype(str)\n",
    "df_s.dtypes\n"
   ]
  },
  {
   "cell_type": "code",
   "execution_count": 17,
   "metadata": {},
   "outputs": [
    {
     "data": {
      "text/html": [
       "<div>\n",
       "<style scoped>\n",
       "    .dataframe tbody tr th:only-of-type {\n",
       "        vertical-align: middle;\n",
       "    }\n",
       "\n",
       "    .dataframe tbody tr th {\n",
       "        vertical-align: top;\n",
       "    }\n",
       "\n",
       "    .dataframe thead th {\n",
       "        text-align: right;\n",
       "    }\n",
       "</style>\n",
       "<table border=\"1\" class=\"dataframe\">\n",
       "  <thead>\n",
       "    <tr style=\"text-align: right;\">\n",
       "      <th></th>\n",
       "      <th>year</th>\n",
       "      <th>type</th>\n",
       "      <th>country</th>\n",
       "      <th>sex_</th>\n",
       "      <th>age</th>\n",
       "      <th>species_</th>\n",
       "      <th>fatal_(y/n)</th>\n",
       "      <th>date</th>\n",
       "    </tr>\n",
       "  </thead>\n",
       "  <tbody>\n",
       "    <tr>\n",
       "      <th>0</th>\n",
       "      <td>2018</td>\n",
       "      <td>Boating</td>\n",
       "      <td>usa</td>\n",
       "      <td>F</td>\n",
       "      <td>57</td>\n",
       "      <td>white_shark</td>\n",
       "      <td>N</td>\n",
       "      <td>25-Jun-2018</td>\n",
       "    </tr>\n",
       "    <tr>\n",
       "      <th>1</th>\n",
       "      <td>2018</td>\n",
       "      <td>Unprovoked</td>\n",
       "      <td>usa</td>\n",
       "      <td>F</td>\n",
       "      <td>11</td>\n",
       "      <td>unspecified</td>\n",
       "      <td>N</td>\n",
       "      <td>18-Jun-2018</td>\n",
       "    </tr>\n",
       "    <tr>\n",
       "      <th>2</th>\n",
       "      <td>2018</td>\n",
       "      <td>Invalid</td>\n",
       "      <td>usa</td>\n",
       "      <td>M</td>\n",
       "      <td>48</td>\n",
       "      <td>unspecified</td>\n",
       "      <td>N</td>\n",
       "      <td>09-Jun-2018</td>\n",
       "    </tr>\n",
       "    <tr>\n",
       "      <th>3</th>\n",
       "      <td>2018</td>\n",
       "      <td>Unprovoked</td>\n",
       "      <td>australia</td>\n",
       "      <td>M</td>\n",
       "      <td>nan</td>\n",
       "      <td>unspecified</td>\n",
       "      <td>N</td>\n",
       "      <td>08-Jun-2018</td>\n",
       "    </tr>\n",
       "    <tr>\n",
       "      <th>4</th>\n",
       "      <td>2018</td>\n",
       "      <td>Provoked</td>\n",
       "      <td>mexico</td>\n",
       "      <td>M</td>\n",
       "      <td>nan</td>\n",
       "      <td>tiger_shark</td>\n",
       "      <td>N</td>\n",
       "      <td>04-Jun-2018</td>\n",
       "    </tr>\n",
       "    <tr>\n",
       "      <th>...</th>\n",
       "      <td>...</td>\n",
       "      <td>...</td>\n",
       "      <td>...</td>\n",
       "      <td>...</td>\n",
       "      <td>...</td>\n",
       "      <td>...</td>\n",
       "      <td>...</td>\n",
       "      <td>...</td>\n",
       "    </tr>\n",
       "    <tr>\n",
       "      <th>6278</th>\n",
       "      <td>0</td>\n",
       "      <td>Unprovoked</td>\n",
       "      <td>australia</td>\n",
       "      <td>M</td>\n",
       "      <td>nan</td>\n",
       "      <td>unspecified</td>\n",
       "      <td>Y</td>\n",
       "      <td>Before 1906</td>\n",
       "    </tr>\n",
       "    <tr>\n",
       "      <th>6279</th>\n",
       "      <td>0</td>\n",
       "      <td>Unprovoked</td>\n",
       "      <td>australia</td>\n",
       "      <td>M</td>\n",
       "      <td>nan</td>\n",
       "      <td>unspecified</td>\n",
       "      <td>Y</td>\n",
       "      <td>Before 1903</td>\n",
       "    </tr>\n",
       "    <tr>\n",
       "      <th>6281</th>\n",
       "      <td>0</td>\n",
       "      <td>Unprovoked</td>\n",
       "      <td>usa</td>\n",
       "      <td>M</td>\n",
       "      <td>nan</td>\n",
       "      <td>unspecified</td>\n",
       "      <td>Y</td>\n",
       "      <td>1900-1905</td>\n",
       "    </tr>\n",
       "    <tr>\n",
       "      <th>6282</th>\n",
       "      <td>0</td>\n",
       "      <td>Unprovoked</td>\n",
       "      <td>panama</td>\n",
       "      <td>M</td>\n",
       "      <td>nan</td>\n",
       "      <td>unspecified</td>\n",
       "      <td>Y</td>\n",
       "      <td>1883-1889</td>\n",
       "    </tr>\n",
       "    <tr>\n",
       "      <th>6283</th>\n",
       "      <td>0</td>\n",
       "      <td>Unprovoked</td>\n",
       "      <td>ceylon (sri lanka)</td>\n",
       "      <td>M</td>\n",
       "      <td>15</td>\n",
       "      <td>unspecified</td>\n",
       "      <td>Y</td>\n",
       "      <td>1845-1853</td>\n",
       "    </tr>\n",
       "  </tbody>\n",
       "</table>\n",
       "<p>6237 rows × 8 columns</p>\n",
       "</div>"
      ],
      "text/plain": [
       "      year        type             country sex_  age     species_ fatal_(y/n)  \\\n",
       "0     2018     Boating                 usa    F   57  white_shark           N   \n",
       "1     2018  Unprovoked                 usa    F   11  unspecified           N   \n",
       "2     2018     Invalid                 usa    M   48  unspecified           N   \n",
       "3     2018  Unprovoked           australia    M  nan  unspecified           N   \n",
       "4     2018    Provoked              mexico    M  nan  tiger_shark           N   \n",
       "...    ...         ...                 ...  ...  ...          ...         ...   \n",
       "6278     0  Unprovoked           australia    M  nan  unspecified           Y   \n",
       "6279     0  Unprovoked           australia    M  nan  unspecified           Y   \n",
       "6281     0  Unprovoked                 usa    M  nan  unspecified           Y   \n",
       "6282     0  Unprovoked              panama    M  nan  unspecified           Y   \n",
       "6283     0  Unprovoked  ceylon (sri lanka)    M   15  unspecified           Y   \n",
       "\n",
       "             date  \n",
       "0     25-Jun-2018  \n",
       "1     18-Jun-2018  \n",
       "2     09-Jun-2018  \n",
       "3     08-Jun-2018  \n",
       "4     04-Jun-2018  \n",
       "...           ...  \n",
       "6278  Before 1906  \n",
       "6279  Before 1903  \n",
       "6281    1900-1905  \n",
       "6282    1883-1889  \n",
       "6283    1845-1853  \n",
       "\n",
       "[6237 rows x 8 columns]"
      ]
     },
     "execution_count": 17,
     "metadata": {},
     "output_type": "execute_result"
    }
   ],
   "source": [
    "df_s.explode(\"age\")"
   ]
  },
  {
   "cell_type": "markdown",
   "metadata": {},
   "source": [
    "    Con el patrón de regex, queremos quedarnos con lo siguiente: valor numérico de 1 o 2 números máx, resto será desechado ."
   ]
  },
  {
   "cell_type": "code",
   "execution_count": 18,
   "metadata": {},
   "outputs": [],
   "source": [
    "#Función para \"age\" con regex\n",
    "patron = \"[0-9]{1,2}\"\n",
    "def limpio (col):\n",
    "    x= re.findall(patron, col)\n",
    "    if len(x)>0:\n",
    "        return x[0]\n",
    "    else:\n",
    "        return \"0\""
   ]
  },
  {
   "cell_type": "code",
   "execution_count": 19,
   "metadata": {},
   "outputs": [],
   "source": [
    "#Aplicamos el método a la columna \"age\"\n",
    "df_s[\"age\"]= df_s[\"age\"].apply(limpio)"
   ]
  },
  {
   "cell_type": "code",
   "execution_count": 20,
   "metadata": {},
   "outputs": [
    {
     "data": {
      "text/plain": [
       "array(['57', '11', '48', '0', '18', '52', '15', '12', '32', '10', '21',\n",
       "       '34', '30', '60', '33', '29', '54', '41', '37', '56', '19', '25',\n",
       "       '69', '38', '55', '35', '46', '45', '14', '40', '28', '20', '24',\n",
       "       '26', '49', '22', '7', '31', '17', '13', '42', '3', '8', '50',\n",
       "       '16', '82', '73', '68', '51', '39', '58', '47', '61', '65', '36',\n",
       "       '66', '43', '9', '72', '59', '6', '27', '64', '23', '71', '44',\n",
       "       '62', '63', '70', '53', '77', '74', '5', '86', '84', '75', '87',\n",
       "       '67', '1', '2', '81', '78'], dtype=object)"
      ]
     },
     "execution_count": 20,
     "metadata": {},
     "output_type": "execute_result"
    }
   ],
   "source": [
    "#Comprobamos que ha sido correcta la ejecucción.\n",
    "df_s[\"age\"].unique()"
   ]
  },
  {
   "cell_type": "code",
   "execution_count": 21,
   "metadata": {},
   "outputs": [
    {
     "data": {
      "text/plain": [
       "dtype('O')"
      ]
     },
     "execution_count": 21,
     "metadata": {},
     "output_type": "execute_result"
    }
   ],
   "source": [
    "df_s[\"age\"].dtype"
   ]
  },
  {
   "cell_type": "code",
   "execution_count": 22,
   "metadata": {},
   "outputs": [],
   "source": [
    "#Cambiamos el tipo a \"age\" de \"object\" a \"inst64\"\n",
    "df_s[\"age\"] = df_s[\"age\"].astype('int64') "
   ]
  },
  {
   "cell_type": "code",
   "execution_count": 23,
   "metadata": {},
   "outputs": [
    {
     "data": {
      "text/plain": [
       "27"
      ]
     },
     "execution_count": 23,
     "metadata": {},
     "output_type": "execute_result"
    }
   ],
   "source": [
    "#Es la media de edad\n",
    "media= df_s[df_s[\"age\"]>0][\"age\"].mean()\n",
    "media= round(media)\n",
    "media"
   ]
  },
  {
   "cell_type": "code",
   "execution_count": 24,
   "metadata": {},
   "outputs": [],
   "source": [
    "df_s[\"age\"].replace({0: media}, inplace= True)"
   ]
  },
  {
   "cell_type": "code",
   "execution_count": 25,
   "metadata": {},
   "outputs": [
    {
     "name": "stdout",
     "output_type": "stream",
     "text": [
      "<class 'pandas.core.frame.DataFrame'>\n",
      "Int64Index: 6237 entries, 0 to 6283\n",
      "Data columns (total 8 columns):\n",
      " #   Column       Non-Null Count  Dtype \n",
      "---  ------       --------------  ----- \n",
      " 0   year         6237 non-null   int64 \n",
      " 1   type         6233 non-null   object\n",
      " 2   country      6188 non-null   object\n",
      " 3   sex_         5675 non-null   object\n",
      " 4   age          6237 non-null   int64 \n",
      " 5   species_     6237 non-null   object\n",
      " 6   fatal_(y/n)  5705 non-null   object\n",
      " 7   date         6237 non-null   object\n",
      "dtypes: int64(2), object(6)\n",
      "memory usage: 438.5+ KB\n"
     ]
    }
   ],
   "source": [
    "df_s.info()"
   ]
  },
  {
   "cell_type": "markdown",
   "metadata": {},
   "source": [
    "    Guardamos para próxima limpieza"
   ]
  },
  {
   "cell_type": "code",
   "execution_count": 26,
   "metadata": {},
   "outputs": [],
   "source": [
    "df_s.to_csv(\"limpio2.csv\")#este nos vale para el ejercicio limpieza III"
   ]
  }
 ],
 "metadata": {
  "interpreter": {
   "hash": "328661ec968ebc77b93161299d44fd1f4547ee33c9a17c5e95f23064c7c08def"
  },
  "kernelspec": {
   "display_name": "Python 3.9.7 ('base')",
   "language": "python",
   "name": "python3"
  },
  "language_info": {
   "codemirror_mode": {
    "name": "ipython",
    "version": 3
   },
   "file_extension": ".py",
   "mimetype": "text/x-python",
   "name": "python",
   "nbconvert_exporter": "python",
   "pygments_lexer": "ipython3",
   "version": "3.9.7"
  },
  "orig_nbformat": 4
 },
 "nbformat": 4,
 "nbformat_minor": 2
}

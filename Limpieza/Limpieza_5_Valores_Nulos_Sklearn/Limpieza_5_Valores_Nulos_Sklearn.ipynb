{
 "cells": [
  {
   "cell_type": "markdown",
   "metadata": {},
   "source": [
    "# 11/05 - Pair Programming Limpieza 5 - Valores Nulos Sklearn"
   ]
  },
  {
   "cell_type": "code",
   "execution_count": 8,
   "metadata": {},
   "outputs": [],
   "source": [
    "import pandas as pd\n",
    "import seaborn as sns\n",
    "import matplotlib.pyplot as plt\n",
    "import numpy as np"
   ]
  },
  {
   "cell_type": "code",
   "execution_count": 9,
   "metadata": {},
   "outputs": [
    {
     "data": {
      "text/html": [
       "<div>\n",
       "<style scoped>\n",
       "    .dataframe tbody tr th:only-of-type {\n",
       "        vertical-align: middle;\n",
       "    }\n",
       "\n",
       "    .dataframe tbody tr th {\n",
       "        vertical-align: top;\n",
       "    }\n",
       "\n",
       "    .dataframe thead th {\n",
       "        text-align: right;\n",
       "    }\n",
       "</style>\n",
       "<table border=\"1\" class=\"dataframe\">\n",
       "  <thead>\n",
       "    <tr style=\"text-align: right;\">\n",
       "      <th></th>\n",
       "      <th>year</th>\n",
       "      <th>type</th>\n",
       "      <th>country</th>\n",
       "      <th>sex_</th>\n",
       "      <th>age</th>\n",
       "      <th>species_</th>\n",
       "      <th>fatal_(y/n)</th>\n",
       "      <th>date</th>\n",
       "    </tr>\n",
       "  </thead>\n",
       "  <tbody>\n",
       "    <tr>\n",
       "      <th>0</th>\n",
       "      <td>2018</td>\n",
       "      <td>Boating</td>\n",
       "      <td>usa</td>\n",
       "      <td>F</td>\n",
       "      <td>57.0</td>\n",
       "      <td>white_shark</td>\n",
       "      <td>N</td>\n",
       "      <td>25-Jun-2018</td>\n",
       "    </tr>\n",
       "    <tr>\n",
       "      <th>1</th>\n",
       "      <td>2018</td>\n",
       "      <td>Unprovoked</td>\n",
       "      <td>usa</td>\n",
       "      <td>F</td>\n",
       "      <td>11.0</td>\n",
       "      <td>unspecified</td>\n",
       "      <td>N</td>\n",
       "      <td>18-Jun-2018</td>\n",
       "    </tr>\n",
       "    <tr>\n",
       "      <th>2</th>\n",
       "      <td>2018</td>\n",
       "      <td>Invalid</td>\n",
       "      <td>usa</td>\n",
       "      <td>M</td>\n",
       "      <td>48.0</td>\n",
       "      <td>unspecified</td>\n",
       "      <td>N</td>\n",
       "      <td>09-Jun-2018</td>\n",
       "    </tr>\n",
       "    <tr>\n",
       "      <th>3</th>\n",
       "      <td>2018</td>\n",
       "      <td>Unprovoked</td>\n",
       "      <td>australia</td>\n",
       "      <td>M</td>\n",
       "      <td>NaN</td>\n",
       "      <td>unspecified</td>\n",
       "      <td>N</td>\n",
       "      <td>08-Jun-2018</td>\n",
       "    </tr>\n",
       "    <tr>\n",
       "      <th>4</th>\n",
       "      <td>2018</td>\n",
       "      <td>Provoked</td>\n",
       "      <td>mexico</td>\n",
       "      <td>M</td>\n",
       "      <td>NaN</td>\n",
       "      <td>tiger_shark</td>\n",
       "      <td>N</td>\n",
       "      <td>04-Jun-2018</td>\n",
       "    </tr>\n",
       "    <tr>\n",
       "      <th>...</th>\n",
       "      <td>...</td>\n",
       "      <td>...</td>\n",
       "      <td>...</td>\n",
       "      <td>...</td>\n",
       "      <td>...</td>\n",
       "      <td>...</td>\n",
       "      <td>...</td>\n",
       "      <td>...</td>\n",
       "    </tr>\n",
       "    <tr>\n",
       "      <th>6278</th>\n",
       "      <td>0</td>\n",
       "      <td>Unprovoked</td>\n",
       "      <td>australia</td>\n",
       "      <td>M</td>\n",
       "      <td>NaN</td>\n",
       "      <td>unspecified</td>\n",
       "      <td>Y</td>\n",
       "      <td>Before 1906</td>\n",
       "    </tr>\n",
       "    <tr>\n",
       "      <th>6279</th>\n",
       "      <td>0</td>\n",
       "      <td>Unprovoked</td>\n",
       "      <td>australia</td>\n",
       "      <td>M</td>\n",
       "      <td>NaN</td>\n",
       "      <td>unspecified</td>\n",
       "      <td>Y</td>\n",
       "      <td>Before 1903</td>\n",
       "    </tr>\n",
       "    <tr>\n",
       "      <th>6281</th>\n",
       "      <td>0</td>\n",
       "      <td>Unprovoked</td>\n",
       "      <td>usa</td>\n",
       "      <td>M</td>\n",
       "      <td>NaN</td>\n",
       "      <td>unspecified</td>\n",
       "      <td>Y</td>\n",
       "      <td>1900-1905</td>\n",
       "    </tr>\n",
       "    <tr>\n",
       "      <th>6282</th>\n",
       "      <td>0</td>\n",
       "      <td>Unprovoked</td>\n",
       "      <td>panama</td>\n",
       "      <td>M</td>\n",
       "      <td>NaN</td>\n",
       "      <td>unspecified</td>\n",
       "      <td>Y</td>\n",
       "      <td>1883-1889</td>\n",
       "    </tr>\n",
       "    <tr>\n",
       "      <th>6283</th>\n",
       "      <td>0</td>\n",
       "      <td>Unprovoked</td>\n",
       "      <td>ceylon (sri lanka)</td>\n",
       "      <td>M</td>\n",
       "      <td>15.0</td>\n",
       "      <td>unspecified</td>\n",
       "      <td>Y</td>\n",
       "      <td>1845-1853</td>\n",
       "    </tr>\n",
       "  </tbody>\n",
       "</table>\n",
       "<p>6237 rows × 8 columns</p>\n",
       "</div>"
      ],
      "text/plain": [
       "      year        type             country sex_   age     species_  \\\n",
       "0     2018     Boating                 usa    F  57.0  white_shark   \n",
       "1     2018  Unprovoked                 usa    F  11.0  unspecified   \n",
       "2     2018     Invalid                 usa    M  48.0  unspecified   \n",
       "3     2018  Unprovoked           australia    M   NaN  unspecified   \n",
       "4     2018    Provoked              mexico    M   NaN  tiger_shark   \n",
       "...    ...         ...                 ...  ...   ...          ...   \n",
       "6278     0  Unprovoked           australia    M   NaN  unspecified   \n",
       "6279     0  Unprovoked           australia    M   NaN  unspecified   \n",
       "6281     0  Unprovoked                 usa    M   NaN  unspecified   \n",
       "6282     0  Unprovoked              panama    M   NaN  unspecified   \n",
       "6283     0  Unprovoked  ceylon (sri lanka)    M  15.0  unspecified   \n",
       "\n",
       "     fatal_(y/n)         date  \n",
       "0              N  25-Jun-2018  \n",
       "1              N  18-Jun-2018  \n",
       "2              N  09-Jun-2018  \n",
       "3              N  08-Jun-2018  \n",
       "4              N  04-Jun-2018  \n",
       "...          ...          ...  \n",
       "6278           Y  Before 1906  \n",
       "6279           Y  Before 1903  \n",
       "6281           Y    1900-1905  \n",
       "6282           Y    1883-1889  \n",
       "6283           Y    1845-1853  \n",
       "\n",
       "[6237 rows x 8 columns]"
      ]
     },
     "execution_count": 9,
     "metadata": {},
     "output_type": "execute_result"
    }
   ],
   "source": [
    "df = pd.read_csv(\"./limpio con nan.csv\", index_col=0)\n",
    "df"
   ]
  },
  {
   "cell_type": "code",
   "execution_count": 10,
   "metadata": {},
   "outputs": [
    {
     "data": {
      "text/plain": [
       "year              0\n",
       "type              4\n",
       "country          49\n",
       "sex_            562\n",
       "age            2807\n",
       "species_          0\n",
       "fatal_(y/n)     532\n",
       "date              0\n",
       "dtype: int64"
      ]
     },
     "execution_count": 10,
     "metadata": {},
     "output_type": "execute_result"
    }
   ],
   "source": [
    "df.isnull().sum()"
   ]
  },
  {
   "cell_type": "code",
   "execution_count": 11,
   "metadata": {},
   "outputs": [
    {
     "data": {
      "text/plain": [
       "array([57., 11., 48., nan, 18., 52., 15., 12., 32., 10., 21., 34., 30.,\n",
       "       60., 33., 29., 54., 41., 37., 56., 19., 25., 69., 38., 55., 35.,\n",
       "       46., 45., 14., 40., 28., 20., 24., 26., 49., 22.,  7., 31., 17.,\n",
       "       13., 42.,  3.,  8., 50., 16., 82., 73., 68., 51., 39., 58., 47.,\n",
       "       61., 65., 36., 66., 43.,  9., 72., 59.,  6., 27., 64., 23., 71.,\n",
       "       44., 62., 63., 70., 53., 77., 74.,  5., 86., 84., 75., 87., 67.,\n",
       "        1.,  2., 81., 78.])"
      ]
     },
     "execution_count": 11,
     "metadata": {},
     "output_type": "execute_result"
    }
   ],
   "source": [
    "df[\"age\"].unique()"
   ]
  },
  {
   "cell_type": "code",
   "execution_count": 12,
   "metadata": {},
   "outputs": [],
   "source": [
    "#simple imputer\n",
    "from sklearn.impute import SimpleImputer"
   ]
  },
  {
   "cell_type": "code",
   "execution_count": 13,
   "metadata": {},
   "outputs": [],
   "source": [
    "#interative imputer\n",
    "from sklearn.experimental import enable_iterative_imputer\n",
    "from sklearn.impute import IterativeImputer"
   ]
  },
  {
   "cell_type": "code",
   "execution_count": 14,
   "metadata": {},
   "outputs": [],
   "source": [
    "#knn imputer\n",
    "from sklearn.impute import KNNImputer"
   ]
  },
  {
   "cell_type": "code",
   "execution_count": 15,
   "metadata": {},
   "outputs": [
    {
     "data": {
      "text/html": [
       "<div>\n",
       "<style scoped>\n",
       "    .dataframe tbody tr th:only-of-type {\n",
       "        vertical-align: middle;\n",
       "    }\n",
       "\n",
       "    .dataframe tbody tr th {\n",
       "        vertical-align: top;\n",
       "    }\n",
       "\n",
       "    .dataframe thead th {\n",
       "        text-align: right;\n",
       "    }\n",
       "</style>\n",
       "<table border=\"1\" class=\"dataframe\">\n",
       "  <thead>\n",
       "    <tr style=\"text-align: right;\">\n",
       "      <th></th>\n",
       "      <th>columna</th>\n",
       "      <th>porcentaje</th>\n",
       "    </tr>\n",
       "  </thead>\n",
       "  <tbody>\n",
       "    <tr>\n",
       "      <th>0</th>\n",
       "      <td>year</td>\n",
       "      <td>0.000000</td>\n",
       "    </tr>\n",
       "    <tr>\n",
       "      <th>1</th>\n",
       "      <td>type</td>\n",
       "      <td>0.064133</td>\n",
       "    </tr>\n",
       "    <tr>\n",
       "      <th>2</th>\n",
       "      <td>country</td>\n",
       "      <td>0.785634</td>\n",
       "    </tr>\n",
       "    <tr>\n",
       "      <th>3</th>\n",
       "      <td>sex_</td>\n",
       "      <td>9.010742</td>\n",
       "    </tr>\n",
       "    <tr>\n",
       "      <th>4</th>\n",
       "      <td>age</td>\n",
       "      <td>45.005612</td>\n",
       "    </tr>\n",
       "    <tr>\n",
       "      <th>5</th>\n",
       "      <td>species_</td>\n",
       "      <td>0.000000</td>\n",
       "    </tr>\n",
       "    <tr>\n",
       "      <th>6</th>\n",
       "      <td>fatal_(y/n)</td>\n",
       "      <td>8.529742</td>\n",
       "    </tr>\n",
       "    <tr>\n",
       "      <th>7</th>\n",
       "      <td>date</td>\n",
       "      <td>0.000000</td>\n",
       "    </tr>\n",
       "  </tbody>\n",
       "</table>\n",
       "</div>"
      ],
      "text/plain": [
       "       columna  porcentaje\n",
       "0         year    0.000000\n",
       "1         type    0.064133\n",
       "2      country    0.785634\n",
       "3         sex_    9.010742\n",
       "4          age   45.005612\n",
       "5     species_    0.000000\n",
       "6  fatal_(y/n)    8.529742\n",
       "7         date    0.000000"
      ]
     },
     "execution_count": 15,
     "metadata": {},
     "output_type": "execute_result"
    }
   ],
   "source": [
    "nulos = pd.DataFrame((df.isnull().sum() * 100) / df.shape[0]).reset_index()\n",
    "nulos.columns = [\"columna\", \"porcentaje\"]\n",
    "nulos"
   ]
  },
  {
   "cell_type": "markdown",
   "metadata": {},
   "source": [
    "# EJERCICIO 1"
   ]
  },
  {
   "cell_type": "markdown",
   "metadata": {},
   "source": [
    "- **Reemplazad los valores nulos de la columna age por la media de la edad usando el método SimpleImputer.**"
   ]
  },
  {
   "cell_type": "code",
   "execution_count": 16,
   "metadata": {},
   "outputs": [
    {
     "data": {
      "text/plain": [
       "2807"
      ]
     },
     "execution_count": 16,
     "metadata": {},
     "output_type": "execute_result"
    }
   ],
   "source": [
    "#Primero comprueba cuantos nulos existen en \"age\"\n",
    "df[\"age\"].isnull().sum()"
   ]
  },
  {
   "cell_type": "code",
   "execution_count": 17,
   "metadata": {},
   "outputs": [],
   "source": [
    "#Primero imputamos con estrategia media\n",
    "imputer = SimpleImputer(strategy='mean', missing_values=np.nan)\n",
    "#Donde voy a trabajar\n",
    "imputer = imputer.fit(df[['age']])\n",
    "#Aplico la estrategia transformandolo y creando una nueva columna\n",
    "df['new_age'] = imputer.transform(df[['age']])"
   ]
  },
  {
   "cell_type": "code",
   "execution_count": 18,
   "metadata": {},
   "outputs": [
    {
     "data": {
      "text/plain": [
       "0"
      ]
     },
     "execution_count": 18,
     "metadata": {},
     "output_type": "execute_result"
    }
   ],
   "source": [
    "#Compruebo si el valor de nulos es ahora 0\n",
    "df[\"new_age\"].isnull().sum()"
   ]
  },
  {
   "cell_type": "markdown",
   "metadata": {},
   "source": [
    "- **Reemplazad los valores nulos de la columna sex por la moda, usando el método SimpleImputer.**\n",
    "\n",
    ">💡 ** Pista** 💡 La moda en este tipo de aproximación se indica como most_frequent."
   ]
  },
  {
   "cell_type": "code",
   "execution_count": 19,
   "metadata": {},
   "outputs": [
    {
     "data": {
      "text/plain": [
       "562"
      ]
     },
     "execution_count": 19,
     "metadata": {},
     "output_type": "execute_result"
    }
   ],
   "source": [
    "#Primero comprueba cuantos nulos existen en \"sex_\"\n",
    "df[\"sex_\"].isnull().sum()"
   ]
  },
  {
   "cell_type": "code",
   "execution_count": 20,
   "metadata": {},
   "outputs": [],
   "source": [
    "#Primero imputamos con estrategia moda\n",
    "imputer = SimpleImputer(strategy='most_frequent', missing_values=np.nan)\n",
    "#Donde voy a trabajar\n",
    "imputer = imputer.fit(df[['sex_']])\n",
    "#Aplico la estrategia transformandolo y creando una nueva columna\n",
    "df['new_sex'] = imputer.transform(df[['sex_']])"
   ]
  },
  {
   "cell_type": "code",
   "execution_count": 21,
   "metadata": {},
   "outputs": [
    {
     "data": {
      "text/plain": [
       "0"
      ]
     },
     "execution_count": 21,
     "metadata": {},
     "output_type": "execute_result"
    }
   ],
   "source": [
    "#Compruebo si el valor de nulos es ahora 0\n",
    "df[\"new_sex\"].isnull().sum()"
   ]
  },
  {
   "cell_type": "markdown",
   "metadata": {},
   "source": [
    "- **Reemplazad los valores nulos de la columna type por el valor más frecuente (la moda) con el método SimpleImputer.**"
   ]
  },
  {
   "cell_type": "code",
   "execution_count": 22,
   "metadata": {},
   "outputs": [
    {
     "data": {
      "text/plain": [
       "4"
      ]
     },
     "execution_count": 22,
     "metadata": {},
     "output_type": "execute_result"
    }
   ],
   "source": [
    "#Primero comprueba cuantos nulos existen en \"sex_\"\n",
    "df[\"type\"].isnull().sum()"
   ]
  },
  {
   "cell_type": "code",
   "execution_count": 23,
   "metadata": {},
   "outputs": [],
   "source": [
    "#Primero imputamos con estrategia moda\n",
    "imputer = SimpleImputer(strategy='most_frequent', missing_values=np.nan)\n",
    "#Donde voy a trabajar\n",
    "imputer = imputer.fit(df[['type']])\n",
    "#Aplico la estrategia transformandolo y creando una nueva columna\n",
    "df['new_type'] = imputer.transform(df[['type']])"
   ]
  },
  {
   "cell_type": "code",
   "execution_count": 24,
   "metadata": {},
   "outputs": [
    {
     "data": {
      "text/plain": [
       "0"
      ]
     },
     "execution_count": 24,
     "metadata": {},
     "output_type": "execute_result"
    }
   ],
   "source": [
    "#Compruebo si el valor de nulos es ahora 0\n",
    "df[\"new_type\"].isnull().sum()"
   ]
  },
  {
   "cell_type": "markdown",
   "metadata": {},
   "source": [
    "----------\n"
   ]
  },
  {
   "cell_type": "markdown",
   "metadata": {},
   "source": [
    "    Para type y para sex_, lo hemos hecho de forma individual, pero tambien pordemos cambiar mas de una columna a la vez"
   ]
  },
  {
   "cell_type": "code",
   "execution_count": 25,
   "metadata": {},
   "outputs": [],
   "source": [
    "\n",
    "#Primero imputamos con estrategia moda\n",
    "imputer = SimpleImputer(strategy='most_frequent', missing_values=np.nan)\n",
    "#directamente aplicamos la estrategia transformandolo y creando una nueva columna\n",
    "df[['new_type','new_sex']] = imputer.fit_transform(df[['type','sex_']])"
   ]
  },
  {
   "cell_type": "markdown",
   "metadata": {},
   "source": [
    "----------"
   ]
  },
  {
   "cell_type": "markdown",
   "metadata": {},
   "source": [
    "- **Utilizad el método KNN Imputer para reemplazar todos los valores nulos de las columnas numéricas.**"
   ]
  },
  {
   "cell_type": "code",
   "execution_count": 26,
   "metadata": {},
   "outputs": [
    {
     "data": {
      "text/plain": [
       "year             int64\n",
       "type            object\n",
       "country         object\n",
       "sex_            object\n",
       "age            float64\n",
       "species_        object\n",
       "fatal_(y/n)     object\n",
       "date            object\n",
       "new_age        float64\n",
       "new_sex         object\n",
       "new_type        object\n",
       "dtype: object"
      ]
     },
     "execution_count": 26,
     "metadata": {},
     "output_type": "execute_result"
    }
   ],
   "source": [
    "#Comprobamos el tipo de nuestros datos en DF\n",
    "df.dtypes"
   ]
  },
  {
   "cell_type": "markdown",
   "metadata": {},
   "source": [
    "    Vamos a crear una copia del DF, para mostrar los resultados de este apartado sin que nuestro DF original sufra los cambios, para poder realizar el próximo ejercicio. 😄"
   ]
  },
  {
   "cell_type": "code",
   "execution_count": 27,
   "metadata": {},
   "outputs": [],
   "source": [
    "df_copia=df.copy()"
   ]
  },
  {
   "cell_type": "code",
   "execution_count": 28,
   "metadata": {},
   "outputs": [],
   "source": [
    "#Seleccionamos las numéricas\n",
    "numericas = df_copia.select_dtypes(include = np.number)"
   ]
  },
  {
   "cell_type": "code",
   "execution_count": 29,
   "metadata": {},
   "outputs": [
    {
     "data": {
      "text/html": [
       "<div>\n",
       "<style scoped>\n",
       "    .dataframe tbody tr th:only-of-type {\n",
       "        vertical-align: middle;\n",
       "    }\n",
       "\n",
       "    .dataframe tbody tr th {\n",
       "        vertical-align: top;\n",
       "    }\n",
       "\n",
       "    .dataframe thead th {\n",
       "        text-align: right;\n",
       "    }\n",
       "</style>\n",
       "<table border=\"1\" class=\"dataframe\">\n",
       "  <thead>\n",
       "    <tr style=\"text-align: right;\">\n",
       "      <th></th>\n",
       "      <th>year</th>\n",
       "      <th>age</th>\n",
       "      <th>new_age</th>\n",
       "    </tr>\n",
       "  </thead>\n",
       "  <tbody>\n",
       "    <tr>\n",
       "      <th>0</th>\n",
       "      <td>2018</td>\n",
       "      <td>57.0</td>\n",
       "      <td>57.0</td>\n",
       "    </tr>\n",
       "  </tbody>\n",
       "</table>\n",
       "</div>"
      ],
      "text/plain": [
       "   year   age  new_age\n",
       "0  2018  57.0     57.0"
      ]
     },
     "execution_count": 29,
     "metadata": {},
     "output_type": "execute_result"
    }
   ],
   "source": [
    "#Vemos cuales las variables numéricas de nuestro DF\n",
    "numericas.head(1)"
   ]
  },
  {
   "cell_type": "code",
   "execution_count": 30,
   "metadata": {},
   "outputs": [
    {
     "data": {
      "text/plain": [
       "year          0\n",
       "age        2807\n",
       "new_age       0\n",
       "dtype: int64"
      ]
     },
     "execution_count": 30,
     "metadata": {},
     "output_type": "execute_result"
    }
   ],
   "source": [
    "#Comprobamos los nulos de nuestras numéricas\n",
    "numericas.isnull().sum()"
   ]
  },
  {
   "cell_type": "code",
   "execution_count": 31,
   "metadata": {},
   "outputs": [],
   "source": [
    "# inciamos el KNNImputer \n",
    "imputerKNN = KNNImputer(n_neighbors=5)\n",
    "# lo aplicamos a nuestras variables numéricas\n",
    "imputerKNN.fit(numericas)\n",
    "#Transformamos y lo almacenamos en una variable\n",
    "numericas_knn= imputerKNN.transform(numericas)\n",
    "#Lo convertimos en DF\n",
    "df_knn_imputer = pd.DataFrame(numericas_knn, columns = numericas.columns)"
   ]
  },
  {
   "cell_type": "code",
   "execution_count": 32,
   "metadata": {},
   "outputs": [
    {
     "data": {
      "text/html": [
       "<div>\n",
       "<style scoped>\n",
       "    .dataframe tbody tr th:only-of-type {\n",
       "        vertical-align: middle;\n",
       "    }\n",
       "\n",
       "    .dataframe tbody tr th {\n",
       "        vertical-align: top;\n",
       "    }\n",
       "\n",
       "    .dataframe thead th {\n",
       "        text-align: right;\n",
       "    }\n",
       "</style>\n",
       "<table border=\"1\" class=\"dataframe\">\n",
       "  <thead>\n",
       "    <tr style=\"text-align: right;\">\n",
       "      <th></th>\n",
       "      <th>year</th>\n",
       "      <th>age</th>\n",
       "      <th>new_age</th>\n",
       "    </tr>\n",
       "  </thead>\n",
       "  <tbody>\n",
       "    <tr>\n",
       "      <th>0</th>\n",
       "      <td>2018.0</td>\n",
       "      <td>57.0</td>\n",
       "      <td>57.000000</td>\n",
       "    </tr>\n",
       "    <tr>\n",
       "      <th>1</th>\n",
       "      <td>2018.0</td>\n",
       "      <td>11.0</td>\n",
       "      <td>11.000000</td>\n",
       "    </tr>\n",
       "    <tr>\n",
       "      <th>2</th>\n",
       "      <td>2018.0</td>\n",
       "      <td>48.0</td>\n",
       "      <td>48.000000</td>\n",
       "    </tr>\n",
       "    <tr>\n",
       "      <th>3</th>\n",
       "      <td>2018.0</td>\n",
       "      <td>27.6</td>\n",
       "      <td>27.329155</td>\n",
       "    </tr>\n",
       "    <tr>\n",
       "      <th>4</th>\n",
       "      <td>2018.0</td>\n",
       "      <td>27.6</td>\n",
       "      <td>27.329155</td>\n",
       "    </tr>\n",
       "  </tbody>\n",
       "</table>\n",
       "</div>"
      ],
      "text/plain": [
       "     year   age    new_age\n",
       "0  2018.0  57.0  57.000000\n",
       "1  2018.0  11.0  11.000000\n",
       "2  2018.0  48.0  48.000000\n",
       "3  2018.0  27.6  27.329155\n",
       "4  2018.0  27.6  27.329155"
      ]
     },
     "execution_count": 32,
     "metadata": {},
     "output_type": "execute_result"
    }
   ],
   "source": [
    "df_knn_imputer.head()"
   ]
  },
  {
   "cell_type": "code",
   "execution_count": 33,
   "metadata": {},
   "outputs": [],
   "source": [
    "# Sacamos el nombre de las columnas del dataframe sin nulos\n",
    "columnas_knn = df_knn_imputer.columns\n",
    "# Ahora borramos estas columnas de nuestro DF original para suplirlas por \"columnas_knn\"\n",
    "df_copia.drop(columnas_knn, axis = 1, inplace = True)\n",
    "df_copia[columnas_knn] = numericas_knn"
   ]
  },
  {
   "cell_type": "code",
   "execution_count": 34,
   "metadata": {},
   "outputs": [
    {
     "data": {
      "text/html": [
       "<div>\n",
       "<style scoped>\n",
       "    .dataframe tbody tr th:only-of-type {\n",
       "        vertical-align: middle;\n",
       "    }\n",
       "\n",
       "    .dataframe tbody tr th {\n",
       "        vertical-align: top;\n",
       "    }\n",
       "\n",
       "    .dataframe thead th {\n",
       "        text-align: right;\n",
       "    }\n",
       "</style>\n",
       "<table border=\"1\" class=\"dataframe\">\n",
       "  <thead>\n",
       "    <tr style=\"text-align: right;\">\n",
       "      <th></th>\n",
       "      <th>type</th>\n",
       "      <th>country</th>\n",
       "      <th>sex_</th>\n",
       "      <th>species_</th>\n",
       "      <th>fatal_(y/n)</th>\n",
       "      <th>date</th>\n",
       "      <th>new_sex</th>\n",
       "      <th>new_type</th>\n",
       "      <th>year</th>\n",
       "      <th>age</th>\n",
       "      <th>new_age</th>\n",
       "    </tr>\n",
       "  </thead>\n",
       "  <tbody>\n",
       "    <tr>\n",
       "      <th>0</th>\n",
       "      <td>Boating</td>\n",
       "      <td>usa</td>\n",
       "      <td>F</td>\n",
       "      <td>white_shark</td>\n",
       "      <td>N</td>\n",
       "      <td>25-Jun-2018</td>\n",
       "      <td>F</td>\n",
       "      <td>Boating</td>\n",
       "      <td>2018.0</td>\n",
       "      <td>57.0</td>\n",
       "      <td>57.000000</td>\n",
       "    </tr>\n",
       "    <tr>\n",
       "      <th>1</th>\n",
       "      <td>Unprovoked</td>\n",
       "      <td>usa</td>\n",
       "      <td>F</td>\n",
       "      <td>unspecified</td>\n",
       "      <td>N</td>\n",
       "      <td>18-Jun-2018</td>\n",
       "      <td>F</td>\n",
       "      <td>Unprovoked</td>\n",
       "      <td>2018.0</td>\n",
       "      <td>11.0</td>\n",
       "      <td>11.000000</td>\n",
       "    </tr>\n",
       "    <tr>\n",
       "      <th>2</th>\n",
       "      <td>Invalid</td>\n",
       "      <td>usa</td>\n",
       "      <td>M</td>\n",
       "      <td>unspecified</td>\n",
       "      <td>N</td>\n",
       "      <td>09-Jun-2018</td>\n",
       "      <td>M</td>\n",
       "      <td>Invalid</td>\n",
       "      <td>2018.0</td>\n",
       "      <td>48.0</td>\n",
       "      <td>48.000000</td>\n",
       "    </tr>\n",
       "    <tr>\n",
       "      <th>3</th>\n",
       "      <td>Unprovoked</td>\n",
       "      <td>australia</td>\n",
       "      <td>M</td>\n",
       "      <td>unspecified</td>\n",
       "      <td>N</td>\n",
       "      <td>08-Jun-2018</td>\n",
       "      <td>M</td>\n",
       "      <td>Unprovoked</td>\n",
       "      <td>2018.0</td>\n",
       "      <td>27.6</td>\n",
       "      <td>27.329155</td>\n",
       "    </tr>\n",
       "    <tr>\n",
       "      <th>4</th>\n",
       "      <td>Provoked</td>\n",
       "      <td>mexico</td>\n",
       "      <td>M</td>\n",
       "      <td>tiger_shark</td>\n",
       "      <td>N</td>\n",
       "      <td>04-Jun-2018</td>\n",
       "      <td>M</td>\n",
       "      <td>Provoked</td>\n",
       "      <td>2018.0</td>\n",
       "      <td>27.6</td>\n",
       "      <td>27.329155</td>\n",
       "    </tr>\n",
       "  </tbody>\n",
       "</table>\n",
       "</div>"
      ],
      "text/plain": [
       "         type    country sex_     species_ fatal_(y/n)         date new_sex  \\\n",
       "0     Boating        usa    F  white_shark           N  25-Jun-2018       F   \n",
       "1  Unprovoked        usa    F  unspecified           N  18-Jun-2018       F   \n",
       "2     Invalid        usa    M  unspecified           N  09-Jun-2018       M   \n",
       "3  Unprovoked  australia    M  unspecified           N  08-Jun-2018       M   \n",
       "4    Provoked     mexico    M  tiger_shark           N  04-Jun-2018       M   \n",
       "\n",
       "     new_type    year   age    new_age  \n",
       "0     Boating  2018.0  57.0  57.000000  \n",
       "1  Unprovoked  2018.0  11.0  11.000000  \n",
       "2     Invalid  2018.0  48.0  48.000000  \n",
       "3  Unprovoked  2018.0  27.6  27.329155  \n",
       "4    Provoked  2018.0  27.6  27.329155  "
      ]
     },
     "execution_count": 34,
     "metadata": {},
     "output_type": "execute_result"
    }
   ],
   "source": [
    "df_copia.head()"
   ]
  },
  {
   "cell_type": "code",
   "execution_count": 35,
   "metadata": {},
   "outputs": [
    {
     "data": {
      "text/plain": [
       "type             4\n",
       "country         49\n",
       "sex_           562\n",
       "species_         0\n",
       "fatal_(y/n)    532\n",
       "date             0\n",
       "new_sex          0\n",
       "new_type         0\n",
       "year             0\n",
       "age              0\n",
       "new_age          0\n",
       "dtype: int64"
      ]
     },
     "execution_count": 35,
     "metadata": {},
     "output_type": "execute_result"
    }
   ],
   "source": [
    "df_copia.isnull().sum()"
   ]
  },
  {
   "cell_type": "markdown",
   "metadata": {},
   "source": [
    "- **Utilizad el método Iterative Imputer para reemplazar todos los valores nulos de las columnas numéricas.**"
   ]
  },
  {
   "cell_type": "code",
   "execution_count": 36,
   "metadata": {},
   "outputs": [
    {
     "data": {
      "text/html": [
       "<div>\n",
       "<style scoped>\n",
       "    .dataframe tbody tr th:only-of-type {\n",
       "        vertical-align: middle;\n",
       "    }\n",
       "\n",
       "    .dataframe tbody tr th {\n",
       "        vertical-align: top;\n",
       "    }\n",
       "\n",
       "    .dataframe thead th {\n",
       "        text-align: right;\n",
       "    }\n",
       "</style>\n",
       "<table border=\"1\" class=\"dataframe\">\n",
       "  <thead>\n",
       "    <tr style=\"text-align: right;\">\n",
       "      <th></th>\n",
       "      <th>index</th>\n",
       "      <th>year</th>\n",
       "      <th>type</th>\n",
       "      <th>country</th>\n",
       "      <th>sex_</th>\n",
       "      <th>age</th>\n",
       "      <th>species_</th>\n",
       "      <th>fatal_(y/n)</th>\n",
       "      <th>date</th>\n",
       "    </tr>\n",
       "  </thead>\n",
       "  <tbody>\n",
       "    <tr>\n",
       "      <th>0</th>\n",
       "      <td>0</td>\n",
       "      <td>2018</td>\n",
       "      <td>Boating</td>\n",
       "      <td>usa</td>\n",
       "      <td>F</td>\n",
       "      <td>57.0</td>\n",
       "      <td>white_shark</td>\n",
       "      <td>N</td>\n",
       "      <td>25-Jun-2018</td>\n",
       "    </tr>\n",
       "    <tr>\n",
       "      <th>1</th>\n",
       "      <td>1</td>\n",
       "      <td>2018</td>\n",
       "      <td>Unprovoked</td>\n",
       "      <td>usa</td>\n",
       "      <td>F</td>\n",
       "      <td>11.0</td>\n",
       "      <td>unspecified</td>\n",
       "      <td>N</td>\n",
       "      <td>18-Jun-2018</td>\n",
       "    </tr>\n",
       "    <tr>\n",
       "      <th>2</th>\n",
       "      <td>2</td>\n",
       "      <td>2018</td>\n",
       "      <td>Invalid</td>\n",
       "      <td>usa</td>\n",
       "      <td>M</td>\n",
       "      <td>48.0</td>\n",
       "      <td>unspecified</td>\n",
       "      <td>N</td>\n",
       "      <td>09-Jun-2018</td>\n",
       "    </tr>\n",
       "    <tr>\n",
       "      <th>3</th>\n",
       "      <td>3</td>\n",
       "      <td>2018</td>\n",
       "      <td>Unprovoked</td>\n",
       "      <td>australia</td>\n",
       "      <td>M</td>\n",
       "      <td>NaN</td>\n",
       "      <td>unspecified</td>\n",
       "      <td>N</td>\n",
       "      <td>08-Jun-2018</td>\n",
       "    </tr>\n",
       "    <tr>\n",
       "      <th>4</th>\n",
       "      <td>4</td>\n",
       "      <td>2018</td>\n",
       "      <td>Provoked</td>\n",
       "      <td>mexico</td>\n",
       "      <td>M</td>\n",
       "      <td>NaN</td>\n",
       "      <td>tiger_shark</td>\n",
       "      <td>N</td>\n",
       "      <td>04-Jun-2018</td>\n",
       "    </tr>\n",
       "    <tr>\n",
       "      <th>...</th>\n",
       "      <td>...</td>\n",
       "      <td>...</td>\n",
       "      <td>...</td>\n",
       "      <td>...</td>\n",
       "      <td>...</td>\n",
       "      <td>...</td>\n",
       "      <td>...</td>\n",
       "      <td>...</td>\n",
       "      <td>...</td>\n",
       "    </tr>\n",
       "    <tr>\n",
       "      <th>6232</th>\n",
       "      <td>6278</td>\n",
       "      <td>0</td>\n",
       "      <td>Unprovoked</td>\n",
       "      <td>australia</td>\n",
       "      <td>M</td>\n",
       "      <td>NaN</td>\n",
       "      <td>unspecified</td>\n",
       "      <td>Y</td>\n",
       "      <td>Before 1906</td>\n",
       "    </tr>\n",
       "    <tr>\n",
       "      <th>6233</th>\n",
       "      <td>6279</td>\n",
       "      <td>0</td>\n",
       "      <td>Unprovoked</td>\n",
       "      <td>australia</td>\n",
       "      <td>M</td>\n",
       "      <td>NaN</td>\n",
       "      <td>unspecified</td>\n",
       "      <td>Y</td>\n",
       "      <td>Before 1903</td>\n",
       "    </tr>\n",
       "    <tr>\n",
       "      <th>6234</th>\n",
       "      <td>6281</td>\n",
       "      <td>0</td>\n",
       "      <td>Unprovoked</td>\n",
       "      <td>usa</td>\n",
       "      <td>M</td>\n",
       "      <td>NaN</td>\n",
       "      <td>unspecified</td>\n",
       "      <td>Y</td>\n",
       "      <td>1900-1905</td>\n",
       "    </tr>\n",
       "    <tr>\n",
       "      <th>6235</th>\n",
       "      <td>6282</td>\n",
       "      <td>0</td>\n",
       "      <td>Unprovoked</td>\n",
       "      <td>panama</td>\n",
       "      <td>M</td>\n",
       "      <td>NaN</td>\n",
       "      <td>unspecified</td>\n",
       "      <td>Y</td>\n",
       "      <td>1883-1889</td>\n",
       "    </tr>\n",
       "    <tr>\n",
       "      <th>6236</th>\n",
       "      <td>6283</td>\n",
       "      <td>0</td>\n",
       "      <td>Unprovoked</td>\n",
       "      <td>ceylon (sri lanka)</td>\n",
       "      <td>M</td>\n",
       "      <td>15.0</td>\n",
       "      <td>unspecified</td>\n",
       "      <td>Y</td>\n",
       "      <td>1845-1853</td>\n",
       "    </tr>\n",
       "  </tbody>\n",
       "</table>\n",
       "<p>6237 rows × 9 columns</p>\n",
       "</div>"
      ],
      "text/plain": [
       "      index  year        type             country sex_   age     species_  \\\n",
       "0         0  2018     Boating                 usa    F  57.0  white_shark   \n",
       "1         1  2018  Unprovoked                 usa    F  11.0  unspecified   \n",
       "2         2  2018     Invalid                 usa    M  48.0  unspecified   \n",
       "3         3  2018  Unprovoked           australia    M   NaN  unspecified   \n",
       "4         4  2018    Provoked              mexico    M   NaN  tiger_shark   \n",
       "...     ...   ...         ...                 ...  ...   ...          ...   \n",
       "6232   6278     0  Unprovoked           australia    M   NaN  unspecified   \n",
       "6233   6279     0  Unprovoked           australia    M   NaN  unspecified   \n",
       "6234   6281     0  Unprovoked                 usa    M   NaN  unspecified   \n",
       "6235   6282     0  Unprovoked              panama    M   NaN  unspecified   \n",
       "6236   6283     0  Unprovoked  ceylon (sri lanka)    M  15.0  unspecified   \n",
       "\n",
       "     fatal_(y/n)         date  \n",
       "0              N  25-Jun-2018  \n",
       "1              N  18-Jun-2018  \n",
       "2              N  09-Jun-2018  \n",
       "3              N  08-Jun-2018  \n",
       "4              N  04-Jun-2018  \n",
       "...          ...          ...  \n",
       "6232           Y  Before 1906  \n",
       "6233           Y  Before 1903  \n",
       "6234           Y    1900-1905  \n",
       "6235           Y    1883-1889  \n",
       "6236           Y    1845-1853  \n",
       "\n",
       "[6237 rows x 9 columns]"
      ]
     },
     "execution_count": 36,
     "metadata": {},
     "output_type": "execute_result"
    }
   ],
   "source": [
    "df = pd.read_csv(\"./limpio con nan.csv\", index_col=0).reset_index()\n",
    "df"
   ]
  },
  {
   "cell_type": "code",
   "execution_count": 37,
   "metadata": {},
   "outputs": [],
   "source": [
    "df_copia2=df.copy()"
   ]
  },
  {
   "cell_type": "code",
   "execution_count": 38,
   "metadata": {},
   "outputs": [
    {
     "data": {
      "text/html": [
       "<div>\n",
       "<style scoped>\n",
       "    .dataframe tbody tr th:only-of-type {\n",
       "        vertical-align: middle;\n",
       "    }\n",
       "\n",
       "    .dataframe tbody tr th {\n",
       "        vertical-align: top;\n",
       "    }\n",
       "\n",
       "    .dataframe thead th {\n",
       "        text-align: right;\n",
       "    }\n",
       "</style>\n",
       "<table border=\"1\" class=\"dataframe\">\n",
       "  <thead>\n",
       "    <tr style=\"text-align: right;\">\n",
       "      <th></th>\n",
       "      <th>index</th>\n",
       "      <th>year</th>\n",
       "      <th>age</th>\n",
       "    </tr>\n",
       "  </thead>\n",
       "  <tbody>\n",
       "    <tr>\n",
       "      <th>0</th>\n",
       "      <td>0</td>\n",
       "      <td>2018</td>\n",
       "      <td>57.0</td>\n",
       "    </tr>\n",
       "  </tbody>\n",
       "</table>\n",
       "</div>"
      ],
      "text/plain": [
       "   index  year   age\n",
       "0      0  2018  57.0"
      ]
     },
     "execution_count": 38,
     "metadata": {},
     "output_type": "execute_result"
    }
   ],
   "source": [
    "#Nuestras columnas numéricas\n",
    "numericas = df_copia2.select_dtypes(include = np.number)\n",
    "numericas.head(1)"
   ]
  },
  {
   "cell_type": "code",
   "execution_count": 39,
   "metadata": {},
   "outputs": [
    {
     "data": {
      "text/plain": [
       "index       0\n",
       "year        0\n",
       "age      2807\n",
       "dtype: int64"
      ]
     },
     "execution_count": 39,
     "metadata": {},
     "output_type": "execute_result"
    }
   ],
   "source": [
    "#Cuantos nulos encontramos\n",
    "numericas.isnull().sum()"
   ]
  },
  {
   "cell_type": "code",
   "execution_count": 40,
   "metadata": {},
   "outputs": [
    {
     "data": {
      "text/plain": [
       "index    3133.003848\n",
       "year     1928.874940\n",
       "age        27.329155\n",
       "dtype: float64"
      ]
     },
     "execution_count": 40,
     "metadata": {},
     "output_type": "execute_result"
    }
   ],
   "source": [
    "#Calculamos su media\n",
    "mean= numericas.mean()\n",
    "mean"
   ]
  },
  {
   "cell_type": "code",
   "execution_count": 41,
   "metadata": {},
   "outputs": [],
   "source": [
    "# Vamos a utilizar el método Interative y señalamos las caracteristicas que queremos.\n",
    "imputer = IterativeImputer(n_nearest_features=None, imputation_order='ascending')\n",
    "# lo aplicamos y transformamos sobre nuestras variables numéricas, para que se reemplacen los valores nulos.\n",
    "imputer.fit(numericas)\n",
    "# transformamos nuestros datos, para que se reemplacen los valores nulos\n",
    "imputer.transform(numericas)\n",
    "# convertimos el array que nos devuelve en un dataframe\n",
    "numericas_trans = pd.DataFrame(imputer.transform(numericas), columns = numericas.columns)"
   ]
  },
  {
   "cell_type": "code",
   "execution_count": 42,
   "metadata": {},
   "outputs": [
    {
     "data": {
      "text/html": [
       "<div>\n",
       "<style scoped>\n",
       "    .dataframe tbody tr th:only-of-type {\n",
       "        vertical-align: middle;\n",
       "    }\n",
       "\n",
       "    .dataframe tbody tr th {\n",
       "        vertical-align: top;\n",
       "    }\n",
       "\n",
       "    .dataframe thead th {\n",
       "        text-align: right;\n",
       "    }\n",
       "</style>\n",
       "<table border=\"1\" class=\"dataframe\">\n",
       "  <thead>\n",
       "    <tr style=\"text-align: right;\">\n",
       "      <th></th>\n",
       "      <th>index</th>\n",
       "      <th>year</th>\n",
       "      <th>age</th>\n",
       "    </tr>\n",
       "  </thead>\n",
       "  <tbody>\n",
       "    <tr>\n",
       "      <th>0</th>\n",
       "      <td>0.0</td>\n",
       "      <td>2018.0</td>\n",
       "      <td>57.000000</td>\n",
       "    </tr>\n",
       "    <tr>\n",
       "      <th>1</th>\n",
       "      <td>1.0</td>\n",
       "      <td>2018.0</td>\n",
       "      <td>11.000000</td>\n",
       "    </tr>\n",
       "    <tr>\n",
       "      <th>2</th>\n",
       "      <td>2.0</td>\n",
       "      <td>2018.0</td>\n",
       "      <td>48.000000</td>\n",
       "    </tr>\n",
       "    <tr>\n",
       "      <th>3</th>\n",
       "      <td>3.0</td>\n",
       "      <td>2018.0</td>\n",
       "      <td>32.052499</td>\n",
       "    </tr>\n",
       "    <tr>\n",
       "      <th>4</th>\n",
       "      <td>4.0</td>\n",
       "      <td>2018.0</td>\n",
       "      <td>32.050581</td>\n",
       "    </tr>\n",
       "  </tbody>\n",
       "</table>\n",
       "</div>"
      ],
      "text/plain": [
       "   index    year        age\n",
       "0    0.0  2018.0  57.000000\n",
       "1    1.0  2018.0  11.000000\n",
       "2    2.0  2018.0  48.000000\n",
       "3    3.0  2018.0  32.052499\n",
       "4    4.0  2018.0  32.050581"
      ]
     },
     "execution_count": 42,
     "metadata": {},
     "output_type": "execute_result"
    }
   ],
   "source": [
    "numericas_trans.head()"
   ]
  },
  {
   "cell_type": "code",
   "execution_count": 43,
   "metadata": {},
   "outputs": [],
   "source": [
    "# lo primero que hacemos es sacar el nombre de las columnas del dataframe sin nulos\n",
    "columnas = numericas_trans.columns"
   ]
  },
  {
   "cell_type": "code",
   "execution_count": 44,
   "metadata": {},
   "outputs": [],
   "source": [
    "# utilizando \"columnas\" eliminamos esas columnas de nuestro dataframe\n",
    "df_copia2.drop(columnas, axis = 1, inplace = True)"
   ]
  },
  {
   "cell_type": "code",
   "execution_count": 45,
   "metadata": {},
   "outputs": [],
   "source": [
    "# creamos nuevas columnas en nuestro dataframe original basándonos en el dataframe de las numericas_trans\n",
    "df_copia2[columnas] = numericas_trans[columnas]"
   ]
  },
  {
   "cell_type": "code",
   "execution_count": 46,
   "metadata": {},
   "outputs": [
    {
     "data": {
      "text/plain": [
       "type             4\n",
       "country         49\n",
       "sex_           562\n",
       "species_         0\n",
       "fatal_(y/n)    532\n",
       "date             0\n",
       "index            0\n",
       "year             0\n",
       "age              0\n",
       "dtype: int64"
      ]
     },
     "execution_count": 46,
     "metadata": {},
     "output_type": "execute_result"
    }
   ],
   "source": [
    "df_copia2.isnull().sum()"
   ]
  },
  {
   "cell_type": "code",
   "execution_count": 47,
   "metadata": {},
   "outputs": [
    {
     "data": {
      "text/plain": [
       "index    0\n",
       "year     0\n",
       "age      0\n",
       "dtype: int64"
      ]
     },
     "execution_count": 47,
     "metadata": {},
     "output_type": "execute_result"
    }
   ],
   "source": [
    "numericas_trans.isnull().sum()"
   ]
  },
  {
   "cell_type": "markdown",
   "metadata": {},
   "source": [
    "- **¿Podríais explicar que diferencia hay entre estos dos últimos métodos?**"
   ]
  },
  {
   "cell_type": "markdown",
   "metadata": {},
   "source": [
    "\n",
    "\n",
    "    IterativeImputer: Solo para valores numéricos. Itera por todo el dataframe para obtener el valor aproximado, tantas veces como n-iteraciones se hayan seleccionado.\n",
    "    \n",
    "    KNNImputer: Solo para valores numéricos o fechas. Observa para los n-vecinos más proximos que se hayan seleccionado\n"
   ]
  },
  {
   "cell_type": "markdown",
   "metadata": {},
   "source": [
    "# EJERCICIO 2"
   ]
  },
  {
   "cell_type": "markdown",
   "metadata": {},
   "source": [
    "- **Guardad el csv para seguir trabajando con el en los siguientes ejercicios de pair**"
   ]
  },
  {
   "cell_type": "code",
   "execution_count": 48,
   "metadata": {},
   "outputs": [],
   "source": [
    "df_copia.to_csv(\"limpieza_5.csv\") #hemos guardado es con knn donde las numericas han sido sustituidas por nuevo DF limpio sin creación de una columna nueva"
   ]
  }
 ],
 "metadata": {
  "interpreter": {
   "hash": "328661ec968ebc77b93161299d44fd1f4547ee33c9a17c5e95f23064c7c08def"
  },
  "kernelspec": {
   "display_name": "Python 3.9.7 ('base')",
   "language": "python",
   "name": "python3"
  },
  "language_info": {
   "codemirror_mode": {
    "name": "ipython",
    "version": 3
   },
   "file_extension": ".py",
   "mimetype": "text/x-python",
   "name": "python",
   "nbconvert_exporter": "python",
   "pygments_lexer": "ipython3",
   "version": "3.9.7"
  },
  "orig_nbformat": 4
 },
 "nbformat": 4,
 "nbformat_minor": 2
}

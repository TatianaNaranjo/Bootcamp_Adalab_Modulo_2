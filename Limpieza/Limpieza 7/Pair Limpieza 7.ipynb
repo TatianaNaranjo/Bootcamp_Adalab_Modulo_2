{
 "cells": [
  {
   "cell_type": "markdown",
   "metadata": {},
   "source": [
    "\n",
    "# <span style=\"color:orange\">12/05 - Pair Programming Limpieza 7 - Lidia y Tatiana</span>"
   ]
  },
  {
   "cell_type": "code",
   "execution_count": 1,
   "metadata": {},
   "outputs": [],
   "source": [
    "import pandas as pd\n",
    "import numpy as np\n",
    "import seaborn as sns\n",
    "import matplotlib.pyplot as plt\n",
    "\n",
    "import warnings\n",
    "warnings.filterwarnings('ignore')\n",
    "\n",
    "from scipy import stats # para hacer la transformación box-cox\n",
    "\n",
    "from sklearn.preprocessing import MinMaxScaler \n",
    "\n",
    "pd.options.display.max_columns = None # recordamos que este comando nos permitía ver todas las columnas de dataframe"
   ]
  },
  {
   "cell_type": "code",
   "execution_count": 2,
   "metadata": {},
   "outputs": [
    {
     "data": {
      "text/html": [
       "<div>\n",
       "<style scoped>\n",
       "    .dataframe tbody tr th:only-of-type {\n",
       "        vertical-align: middle;\n",
       "    }\n",
       "\n",
       "    .dataframe tbody tr th {\n",
       "        vertical-align: top;\n",
       "    }\n",
       "\n",
       "    .dataframe thead th {\n",
       "        text-align: right;\n",
       "    }\n",
       "</style>\n",
       "<table border=\"1\" class=\"dataframe\">\n",
       "  <thead>\n",
       "    <tr style=\"text-align: right;\">\n",
       "      <th></th>\n",
       "      <th>year</th>\n",
       "      <th>type</th>\n",
       "      <th>country</th>\n",
       "      <th>age</th>\n",
       "      <th>species_</th>\n",
       "      <th>fecha_limpia</th>\n",
       "      <th>fatal</th>\n",
       "      <th>sex</th>\n",
       "      <th>latitud</th>\n",
       "      <th>longitud</th>\n",
       "    </tr>\n",
       "  </thead>\n",
       "  <tbody>\n",
       "    <tr>\n",
       "      <th>0</th>\n",
       "      <td>2018</td>\n",
       "      <td>Boating</td>\n",
       "      <td>usa</td>\n",
       "      <td>57.0</td>\n",
       "      <td>White shark</td>\n",
       "      <td>Jun</td>\n",
       "      <td>N</td>\n",
       "      <td>F</td>\n",
       "      <td>39.7837304</td>\n",
       "      <td>-100.445882</td>\n",
       "    </tr>\n",
       "    <tr>\n",
       "      <th>1</th>\n",
       "      <td>2018</td>\n",
       "      <td>Unprovoked</td>\n",
       "      <td>usa</td>\n",
       "      <td>11.0</td>\n",
       "      <td>Unespecific</td>\n",
       "      <td>Jun</td>\n",
       "      <td>N</td>\n",
       "      <td>F</td>\n",
       "      <td>39.7837304</td>\n",
       "      <td>-100.445882</td>\n",
       "    </tr>\n",
       "    <tr>\n",
       "      <th>2</th>\n",
       "      <td>2018</td>\n",
       "      <td>Invalid</td>\n",
       "      <td>usa</td>\n",
       "      <td>48.0</td>\n",
       "      <td>Unespecific</td>\n",
       "      <td>Jun</td>\n",
       "      <td>N</td>\n",
       "      <td>M</td>\n",
       "      <td>39.7837304</td>\n",
       "      <td>-100.445882</td>\n",
       "    </tr>\n",
       "    <tr>\n",
       "      <th>3</th>\n",
       "      <td>2018</td>\n",
       "      <td>Unprovoked</td>\n",
       "      <td>australia</td>\n",
       "      <td>27.0</td>\n",
       "      <td>Unespecific</td>\n",
       "      <td>Jun</td>\n",
       "      <td>N</td>\n",
       "      <td>M</td>\n",
       "      <td>-24.7761086</td>\n",
       "      <td>134.755</td>\n",
       "    </tr>\n",
       "    <tr>\n",
       "      <th>4</th>\n",
       "      <td>2018</td>\n",
       "      <td>Provoked</td>\n",
       "      <td>mexico</td>\n",
       "      <td>27.0</td>\n",
       "      <td>Tiger shark</td>\n",
       "      <td>Jun</td>\n",
       "      <td>N</td>\n",
       "      <td>M</td>\n",
       "      <td>23.6585116</td>\n",
       "      <td>-102.0077097</td>\n",
       "    </tr>\n",
       "    <tr>\n",
       "      <th>...</th>\n",
       "      <td>...</td>\n",
       "      <td>...</td>\n",
       "      <td>...</td>\n",
       "      <td>...</td>\n",
       "      <td>...</td>\n",
       "      <td>...</td>\n",
       "      <td>...</td>\n",
       "      <td>...</td>\n",
       "      <td>...</td>\n",
       "      <td>...</td>\n",
       "    </tr>\n",
       "    <tr>\n",
       "      <th>6213</th>\n",
       "      <td>0</td>\n",
       "      <td>Unprovoked</td>\n",
       "      <td>australia</td>\n",
       "      <td>27.0</td>\n",
       "      <td>Tiger shark</td>\n",
       "      <td>Unknown</td>\n",
       "      <td>Y</td>\n",
       "      <td>M</td>\n",
       "      <td>-24.7761086</td>\n",
       "      <td>134.755</td>\n",
       "    </tr>\n",
       "    <tr>\n",
       "      <th>6214</th>\n",
       "      <td>0</td>\n",
       "      <td>Unprovoked</td>\n",
       "      <td>australia</td>\n",
       "      <td>27.0</td>\n",
       "      <td>Tiger shark</td>\n",
       "      <td>Unknown</td>\n",
       "      <td>Y</td>\n",
       "      <td>M</td>\n",
       "      <td>-24.7761086</td>\n",
       "      <td>134.755</td>\n",
       "    </tr>\n",
       "    <tr>\n",
       "      <th>6215</th>\n",
       "      <td>0</td>\n",
       "      <td>Unprovoked</td>\n",
       "      <td>australia</td>\n",
       "      <td>27.0</td>\n",
       "      <td>Tiger shark</td>\n",
       "      <td>Unknown</td>\n",
       "      <td>Y</td>\n",
       "      <td>M</td>\n",
       "      <td>-24.7761086</td>\n",
       "      <td>134.755</td>\n",
       "    </tr>\n",
       "    <tr>\n",
       "      <th>6216</th>\n",
       "      <td>0</td>\n",
       "      <td>Unprovoked</td>\n",
       "      <td>panama</td>\n",
       "      <td>27.0</td>\n",
       "      <td>Unespecific</td>\n",
       "      <td>Unknown</td>\n",
       "      <td>Y</td>\n",
       "      <td>M</td>\n",
       "      <td>8.559559</td>\n",
       "      <td>-81.1308434</td>\n",
       "    </tr>\n",
       "    <tr>\n",
       "      <th>6217</th>\n",
       "      <td>0</td>\n",
       "      <td>Unprovoked</td>\n",
       "      <td>ceylon (sri lanka)</td>\n",
       "      <td>15.0</td>\n",
       "      <td>Unespecific</td>\n",
       "      <td>Unknown</td>\n",
       "      <td>Y</td>\n",
       "      <td>M</td>\n",
       "      <td>7.5554942</td>\n",
       "      <td>80.7137847</td>\n",
       "    </tr>\n",
       "  </tbody>\n",
       "</table>\n",
       "<p>6218 rows × 10 columns</p>\n",
       "</div>"
      ],
      "text/plain": [
       "      year        type             country   age     species_ fecha_limpia  \\\n",
       "0     2018     Boating                 usa  57.0  White shark          Jun   \n",
       "1     2018  Unprovoked                 usa  11.0  Unespecific          Jun   \n",
       "2     2018     Invalid                 usa  48.0  Unespecific          Jun   \n",
       "3     2018  Unprovoked           australia  27.0  Unespecific          Jun   \n",
       "4     2018    Provoked              mexico  27.0  Tiger shark          Jun   \n",
       "...    ...         ...                 ...   ...          ...          ...   \n",
       "6213     0  Unprovoked           australia  27.0  Tiger shark      Unknown   \n",
       "6214     0  Unprovoked           australia  27.0  Tiger shark      Unknown   \n",
       "6215     0  Unprovoked           australia  27.0  Tiger shark      Unknown   \n",
       "6216     0  Unprovoked              panama  27.0  Unespecific      Unknown   \n",
       "6217     0  Unprovoked  ceylon (sri lanka)  15.0  Unespecific      Unknown   \n",
       "\n",
       "     fatal sex      latitud      longitud  \n",
       "0        N   F   39.7837304   -100.445882  \n",
       "1        N   F   39.7837304   -100.445882  \n",
       "2        N   M   39.7837304   -100.445882  \n",
       "3        N   M  -24.7761086       134.755  \n",
       "4        N   M   23.6585116  -102.0077097  \n",
       "...    ...  ..          ...           ...  \n",
       "6213     Y   M  -24.7761086       134.755  \n",
       "6214     Y   M  -24.7761086       134.755  \n",
       "6215     Y   M  -24.7761086       134.755  \n",
       "6216     Y   M     8.559559   -81.1308434  \n",
       "6217     Y   M    7.5554942    80.7137847  \n",
       "\n",
       "[6218 rows x 10 columns]"
      ]
     },
     "execution_count": 2,
     "metadata": {},
     "output_type": "execute_result"
    }
   ],
   "source": [
    "df = pd.read_csv(\"./attacks_limpiando_con_coordenadas.csv\", index_col = 0)\n",
    "df"
   ]
  },
  {
   "cell_type": "code",
   "execution_count": 3,
   "metadata": {},
   "outputs": [
    {
     "data": {
      "text/plain": [
       "3421.0"
      ]
     },
     "execution_count": 3,
     "metadata": {},
     "output_type": "execute_result"
    }
   ],
   "source": [
    "#Queremos saber la suma de los valores únicos que pueda haber en la columna \"age\"\n",
    "df.age.unique().sum()"
   ]
  },
  {
   "cell_type": "code",
   "execution_count": 4,
   "metadata": {},
   "outputs": [
    {
     "data": {
      "text/plain": [
       "<AxesSubplot:xlabel='age', ylabel='Density'>"
      ]
     },
     "execution_count": 4,
     "metadata": {},
     "output_type": "execute_result"
    },
    {
     "data": {
      "image/png": "[encoded data removed]",
      "text/plain": [
       "<Figure size 432x288 with 1 Axes>"
      ]
     },
     "metadata": {
      "needs_background": "light"
     },
     "output_type": "display_data"
    }
   ],
   "source": [
    "#Esta es la distribución de nuestros datos.\n",
    "sns.distplot(df['age'],hist_kws=dict(edgecolor=\"blue\"))"
   ]
  },
  {
   "cell_type": "markdown",
   "metadata": {},
   "source": [
    "**¿Qué tendréis que hacer?**\n",
    "\n",
    "- **Pregunta teórica: Podríais explicar en pocas palabras ¿Qué es lo que hace exactamente el método boxcox de normalización de datos?**"
   ]
  },
  {
   "cell_type": "markdown",
   "metadata": {},
   "source": [
    "    Boxcox: Aplica una transformación boxcox de sobre nuestros datos, para que esten en la misma escala entre -5 y 5.\n",
    "\n",
    "    La transformación de Box-Cox es una transformación potencial que corrije la asimetría (sesgos en la distribución de errores)de una variable, varianzas diferentes o la no linealidad entre variables.\n",
    "\n",
    "    En consecuencia,resulta muy útil para transformar una variable y obtener una nueva que siga una distribución normal."
   ]
  },
  {
   "cell_type": "markdown",
   "metadata": {},
   "source": [
    "- **Normalizad los datos de la columna age. Utilizad los métodos aprendidos y explicad las diferencias entre cada uno de ellos. Para cada transformación que hagáis cread una columna nueva.**"
   ]
  },
  {
   "cell_type": "markdown",
   "metadata": {},
   "source": [
    "    NORMALIZACIÓN MANUAL: "
   ]
  },
  {
   "cell_type": "code",
   "execution_count": 5,
   "metadata": {},
   "outputs": [],
   "source": [
    "def normalizacion_manual(col):\n",
    "    media = df[col].mean()\n",
    "    max = df[col].max()\n",
    "    min= df[col].min()\n",
    "\n",
    "    df[\"NORM_manual_\"+ col] = (df[col] - media) / (max - min)"
   ]
  },
  {
   "cell_type": "code",
   "execution_count": 6,
   "metadata": {},
   "outputs": [],
   "source": [
    "normalizacion_manual(\"age\")"
   ]
  },
  {
   "cell_type": "code",
   "execution_count": 7,
   "metadata": {},
   "outputs": [
    {
     "data": {
      "text/html": [
       "<div>\n",
       "<style scoped>\n",
       "    .dataframe tbody tr th:only-of-type {\n",
       "        vertical-align: middle;\n",
       "    }\n",
       "\n",
       "    .dataframe tbody tr th {\n",
       "        vertical-align: top;\n",
       "    }\n",
       "\n",
       "    .dataframe thead th {\n",
       "        text-align: right;\n",
       "    }\n",
       "</style>\n",
       "<table border=\"1\" class=\"dataframe\">\n",
       "  <thead>\n",
       "    <tr style=\"text-align: right;\">\n",
       "      <th></th>\n",
       "      <th>year</th>\n",
       "      <th>type</th>\n",
       "      <th>country</th>\n",
       "      <th>age</th>\n",
       "      <th>species_</th>\n",
       "      <th>fecha_limpia</th>\n",
       "      <th>fatal</th>\n",
       "      <th>sex</th>\n",
       "      <th>latitud</th>\n",
       "      <th>longitud</th>\n",
       "      <th>NORM_manual_age</th>\n",
       "    </tr>\n",
       "  </thead>\n",
       "  <tbody>\n",
       "    <tr>\n",
       "      <th>0</th>\n",
       "      <td>2018</td>\n",
       "      <td>Boating</td>\n",
       "      <td>usa</td>\n",
       "      <td>57.0</td>\n",
       "      <td>White shark</td>\n",
       "      <td>Jun</td>\n",
       "      <td>N</td>\n",
       "      <td>F</td>\n",
       "      <td>39.7837304</td>\n",
       "      <td>-100.445882</td>\n",
       "      <td>0.346937</td>\n",
       "    </tr>\n",
       "    <tr>\n",
       "      <th>1</th>\n",
       "      <td>2018</td>\n",
       "      <td>Unprovoked</td>\n",
       "      <td>usa</td>\n",
       "      <td>11.0</td>\n",
       "      <td>Unespecific</td>\n",
       "      <td>Jun</td>\n",
       "      <td>N</td>\n",
       "      <td>F</td>\n",
       "      <td>39.7837304</td>\n",
       "      <td>-100.445882</td>\n",
       "      <td>-0.187946</td>\n",
       "    </tr>\n",
       "  </tbody>\n",
       "</table>\n",
       "</div>"
      ],
      "text/plain": [
       "   year        type country   age     species_ fecha_limpia fatal sex  \\\n",
       "0  2018     Boating     usa  57.0  White shark          Jun     N   F   \n",
       "1  2018  Unprovoked     usa  11.0  Unespecific          Jun     N   F   \n",
       "\n",
       "      latitud     longitud  NORM_manual_age  \n",
       "0  39.7837304  -100.445882         0.346937  \n",
       "1  39.7837304  -100.445882        -0.187946  "
      ]
     },
     "execution_count": 7,
     "metadata": {},
     "output_type": "execute_result"
    }
   ],
   "source": [
    "df.head(2)"
   ]
  },
  {
   "cell_type": "code",
   "execution_count": 8,
   "metadata": {},
   "outputs": [
    {
     "data": {
      "image/png": "[encoded data removed]",
      "text/plain": [
       "<Figure size 1080x360 with 2 Axes>"
      ]
     },
     "metadata": {
      "needs_background": "light"
     },
     "output_type": "display_data"
    }
   ],
   "source": [
    "fig, axes = plt.subplots(1, 2, figsize = (15,5))\n",
    "\n",
    "axes[0].set_title('age')\n",
    "axes[1].set_title(\"NORM_manual_age\")\n",
    "\n",
    "sns.distplot(df['age'] ,ax = axes[0],color=\"r\")\n",
    "sns.distplot(df['NORM_manual_age'], ax = axes[1],color=\"r\");"
   ]
  },
  {
   "cell_type": "markdown",
   "metadata": {},
   "source": [
    "    LOGARITMICA:"
   ]
  },
  {
   "cell_type": "code",
   "execution_count": 9,
   "metadata": {},
   "outputs": [],
   "source": [
    "df['NORM_log'] = df['age'].apply(lambda x: np.log(x) if x != 0 else 0)"
   ]
  },
  {
   "cell_type": "code",
   "execution_count": 10,
   "metadata": {},
   "outputs": [
    {
     "data": {
      "text/html": [
       "<div>\n",
       "<style scoped>\n",
       "    .dataframe tbody tr th:only-of-type {\n",
       "        vertical-align: middle;\n",
       "    }\n",
       "\n",
       "    .dataframe tbody tr th {\n",
       "        vertical-align: top;\n",
       "    }\n",
       "\n",
       "    .dataframe thead th {\n",
       "        text-align: right;\n",
       "    }\n",
       "</style>\n",
       "<table border=\"1\" class=\"dataframe\">\n",
       "  <thead>\n",
       "    <tr style=\"text-align: right;\">\n",
       "      <th></th>\n",
       "      <th>year</th>\n",
       "      <th>type</th>\n",
       "      <th>country</th>\n",
       "      <th>age</th>\n",
       "      <th>species_</th>\n",
       "      <th>fecha_limpia</th>\n",
       "      <th>fatal</th>\n",
       "      <th>sex</th>\n",
       "      <th>latitud</th>\n",
       "      <th>longitud</th>\n",
       "      <th>NORM_manual_age</th>\n",
       "      <th>NORM_log</th>\n",
       "    </tr>\n",
       "  </thead>\n",
       "  <tbody>\n",
       "    <tr>\n",
       "      <th>0</th>\n",
       "      <td>2018</td>\n",
       "      <td>Boating</td>\n",
       "      <td>usa</td>\n",
       "      <td>57.0</td>\n",
       "      <td>White shark</td>\n",
       "      <td>Jun</td>\n",
       "      <td>N</td>\n",
       "      <td>F</td>\n",
       "      <td>39.7837304</td>\n",
       "      <td>-100.445882</td>\n",
       "      <td>0.346937</td>\n",
       "      <td>4.043051</td>\n",
       "    </tr>\n",
       "    <tr>\n",
       "      <th>1</th>\n",
       "      <td>2018</td>\n",
       "      <td>Unprovoked</td>\n",
       "      <td>usa</td>\n",
       "      <td>11.0</td>\n",
       "      <td>Unespecific</td>\n",
       "      <td>Jun</td>\n",
       "      <td>N</td>\n",
       "      <td>F</td>\n",
       "      <td>39.7837304</td>\n",
       "      <td>-100.445882</td>\n",
       "      <td>-0.187946</td>\n",
       "      <td>2.397895</td>\n",
       "    </tr>\n",
       "  </tbody>\n",
       "</table>\n",
       "</div>"
      ],
      "text/plain": [
       "   year        type country   age     species_ fecha_limpia fatal sex  \\\n",
       "0  2018     Boating     usa  57.0  White shark          Jun     N   F   \n",
       "1  2018  Unprovoked     usa  11.0  Unespecific          Jun     N   F   \n",
       "\n",
       "      latitud     longitud  NORM_manual_age  NORM_log  \n",
       "0  39.7837304  -100.445882         0.346937  4.043051  \n",
       "1  39.7837304  -100.445882        -0.187946  2.397895  "
      ]
     },
     "execution_count": 10,
     "metadata": {},
     "output_type": "execute_result"
    }
   ],
   "source": [
    "df.head(2)"
   ]
  },
  {
   "cell_type": "code",
   "execution_count": 11,
   "metadata": {},
   "outputs": [
    {
     "data": {
      "image/png": "[encoded data removed]",
      "text/plain": [
       "<Figure size 1080x360 with 2 Axes>"
      ]
     },
     "metadata": {
      "needs_background": "light"
     },
     "output_type": "display_data"
    }
   ],
   "source": [
    "fig, axes = plt.subplots(1, 2, figsize = (15,5))\n",
    "\n",
    "axes[0].set_title('age')\n",
    "axes[1].set_title('NORM_log')\n",
    "\n",
    "sns.distplot(df['age'] ,ax = axes[0],color=\"g\")\n",
    "sns.distplot(df['NORM_log'], ax = axes[1],color=\"g\");"
   ]
  },
  {
   "cell_type": "markdown",
   "metadata": {},
   "source": [
    "    RAIZ CUADRADA:"
   ]
  },
  {
   "cell_type": "code",
   "execution_count": 12,
   "metadata": {},
   "outputs": [],
   "source": [
    "import math \n",
    "df['NORM_raiz_cuadrada'] = df['age'].apply(lambda x: math.sqrt(x))"
   ]
  },
  {
   "cell_type": "code",
   "execution_count": 13,
   "metadata": {},
   "outputs": [
    {
     "data": {
      "text/html": [
       "<div>\n",
       "<style scoped>\n",
       "    .dataframe tbody tr th:only-of-type {\n",
       "        vertical-align: middle;\n",
       "    }\n",
       "\n",
       "    .dataframe tbody tr th {\n",
       "        vertical-align: top;\n",
       "    }\n",
       "\n",
       "    .dataframe thead th {\n",
       "        text-align: right;\n",
       "    }\n",
       "</style>\n",
       "<table border=\"1\" class=\"dataframe\">\n",
       "  <thead>\n",
       "    <tr style=\"text-align: right;\">\n",
       "      <th></th>\n",
       "      <th>year</th>\n",
       "      <th>type</th>\n",
       "      <th>country</th>\n",
       "      <th>age</th>\n",
       "      <th>species_</th>\n",
       "      <th>fecha_limpia</th>\n",
       "      <th>fatal</th>\n",
       "      <th>sex</th>\n",
       "      <th>latitud</th>\n",
       "      <th>longitud</th>\n",
       "      <th>NORM_manual_age</th>\n",
       "      <th>NORM_log</th>\n",
       "      <th>NORM_raiz_cuadrada</th>\n",
       "    </tr>\n",
       "  </thead>\n",
       "  <tbody>\n",
       "    <tr>\n",
       "      <th>0</th>\n",
       "      <td>2018</td>\n",
       "      <td>Boating</td>\n",
       "      <td>usa</td>\n",
       "      <td>57.0</td>\n",
       "      <td>White shark</td>\n",
       "      <td>Jun</td>\n",
       "      <td>N</td>\n",
       "      <td>F</td>\n",
       "      <td>39.7837304</td>\n",
       "      <td>-100.445882</td>\n",
       "      <td>0.346937</td>\n",
       "      <td>4.043051</td>\n",
       "      <td>7.549834</td>\n",
       "    </tr>\n",
       "    <tr>\n",
       "      <th>1</th>\n",
       "      <td>2018</td>\n",
       "      <td>Unprovoked</td>\n",
       "      <td>usa</td>\n",
       "      <td>11.0</td>\n",
       "      <td>Unespecific</td>\n",
       "      <td>Jun</td>\n",
       "      <td>N</td>\n",
       "      <td>F</td>\n",
       "      <td>39.7837304</td>\n",
       "      <td>-100.445882</td>\n",
       "      <td>-0.187946</td>\n",
       "      <td>2.397895</td>\n",
       "      <td>3.316625</td>\n",
       "    </tr>\n",
       "  </tbody>\n",
       "</table>\n",
       "</div>"
      ],
      "text/plain": [
       "   year        type country   age     species_ fecha_limpia fatal sex  \\\n",
       "0  2018     Boating     usa  57.0  White shark          Jun     N   F   \n",
       "1  2018  Unprovoked     usa  11.0  Unespecific          Jun     N   F   \n",
       "\n",
       "      latitud     longitud  NORM_manual_age  NORM_log  NORM_raiz_cuadrada  \n",
       "0  39.7837304  -100.445882         0.346937  4.043051            7.549834  \n",
       "1  39.7837304  -100.445882        -0.187946  2.397895            3.316625  "
      ]
     },
     "execution_count": 13,
     "metadata": {},
     "output_type": "execute_result"
    }
   ],
   "source": [
    "df.head(2)"
   ]
  },
  {
   "cell_type": "code",
   "execution_count": 14,
   "metadata": {},
   "outputs": [
    {
     "data": {
      "image/png": "[encoded data removed]",
      "text/plain": [
       "<Figure size 1080x360 with 2 Axes>"
      ]
     },
     "metadata": {
      "needs_background": "light"
     },
     "output_type": "display_data"
    }
   ],
   "source": [
    "fig, axes = plt.subplots(1, 2, figsize = (15,5))\n",
    "\n",
    "axes[0].set_title('age')\n",
    "axes[1].set_title('NORM_raiz_cuadrada')\n",
    "\n",
    "sns.distplot(df['age'] ,ax = axes[0],color=\"y\")\n",
    "sns.distplot(df['NORM_raiz_cuadrada'], ax = axes[1],color=\"y\");"
   ]
  },
  {
   "cell_type": "markdown",
   "metadata": {},
   "source": [
    "    BOX COX:"
   ]
  },
  {
   "cell_type": "code",
   "execution_count": 15,
   "metadata": {},
   "outputs": [
    {
     "data": {
      "text/plain": [
       "0.35942131224514967"
      ]
     },
     "execution_count": 15,
     "metadata": {},
     "output_type": "execute_result"
    }
   ],
   "source": [
    "df['NORM_boxcox'], lambda_ajustada = stats.boxcox(df['age'])\n",
    "lambda_ajustada #transforma"
   ]
  },
  {
   "cell_type": "code",
   "execution_count": 16,
   "metadata": {},
   "outputs": [
    {
     "data": {
      "text/html": [
       "<div>\n",
       "<style scoped>\n",
       "    .dataframe tbody tr th:only-of-type {\n",
       "        vertical-align: middle;\n",
       "    }\n",
       "\n",
       "    .dataframe tbody tr th {\n",
       "        vertical-align: top;\n",
       "    }\n",
       "\n",
       "    .dataframe thead th {\n",
       "        text-align: right;\n",
       "    }\n",
       "</style>\n",
       "<table border=\"1\" class=\"dataframe\">\n",
       "  <thead>\n",
       "    <tr style=\"text-align: right;\">\n",
       "      <th></th>\n",
       "      <th>year</th>\n",
       "      <th>type</th>\n",
       "      <th>country</th>\n",
       "      <th>age</th>\n",
       "      <th>species_</th>\n",
       "      <th>fecha_limpia</th>\n",
       "      <th>fatal</th>\n",
       "      <th>sex</th>\n",
       "      <th>latitud</th>\n",
       "      <th>longitud</th>\n",
       "      <th>NORM_manual_age</th>\n",
       "      <th>NORM_log</th>\n",
       "      <th>NORM_raiz_cuadrada</th>\n",
       "      <th>NORM_boxcox</th>\n",
       "    </tr>\n",
       "  </thead>\n",
       "  <tbody>\n",
       "    <tr>\n",
       "      <th>0</th>\n",
       "      <td>2018</td>\n",
       "      <td>Boating</td>\n",
       "      <td>usa</td>\n",
       "      <td>57.0</td>\n",
       "      <td>White shark</td>\n",
       "      <td>Jun</td>\n",
       "      <td>N</td>\n",
       "      <td>F</td>\n",
       "      <td>39.7837304</td>\n",
       "      <td>-100.445882</td>\n",
       "      <td>0.346937</td>\n",
       "      <td>4.043051</td>\n",
       "      <td>7.549834</td>\n",
       "      <td>9.116327</td>\n",
       "    </tr>\n",
       "    <tr>\n",
       "      <th>1</th>\n",
       "      <td>2018</td>\n",
       "      <td>Unprovoked</td>\n",
       "      <td>usa</td>\n",
       "      <td>11.0</td>\n",
       "      <td>Unespecific</td>\n",
       "      <td>Jun</td>\n",
       "      <td>N</td>\n",
       "      <td>F</td>\n",
       "      <td>39.7837304</td>\n",
       "      <td>-100.445882</td>\n",
       "      <td>-0.187946</td>\n",
       "      <td>2.397895</td>\n",
       "      <td>3.316625</td>\n",
       "      <td>3.804860</td>\n",
       "    </tr>\n",
       "  </tbody>\n",
       "</table>\n",
       "</div>"
      ],
      "text/plain": [
       "   year        type country   age     species_ fecha_limpia fatal sex  \\\n",
       "0  2018     Boating     usa  57.0  White shark          Jun     N   F   \n",
       "1  2018  Unprovoked     usa  11.0  Unespecific          Jun     N   F   \n",
       "\n",
       "      latitud     longitud  NORM_manual_age  NORM_log  NORM_raiz_cuadrada  \\\n",
       "0  39.7837304  -100.445882         0.346937  4.043051            7.549834   \n",
       "1  39.7837304  -100.445882        -0.187946  2.397895            3.316625   \n",
       "\n",
       "   NORM_boxcox  \n",
       "0     9.116327  \n",
       "1     3.804860  "
      ]
     },
     "execution_count": 16,
     "metadata": {},
     "output_type": "execute_result"
    }
   ],
   "source": [
    "df.head(2)"
   ]
  },
  {
   "cell_type": "code",
   "execution_count": 17,
   "metadata": {},
   "outputs": [
    {
     "data": {
      "image/png": "[encoded data removed]",
      "text/plain": [
       "<Figure size 1080x360 with 2 Axes>"
      ]
     },
     "metadata": {
      "needs_background": "light"
     },
     "output_type": "display_data"
    }
   ],
   "source": [
    "\n",
    "fig, axes = plt.subplots(1, 2, figsize = (15,5))\n",
    "\n",
    "axes[0].set_title('age')\n",
    "axes[1].set_title('NORM_boxcox')\n",
    "\n",
    "sns.distplot(df['age'] ,ax = axes[0],color=\"m\")\n",
    "sns.distplot(df['NORM_boxcox'], ax = axes[1],color=\"m\");"
   ]
  },
  {
   "cell_type": "markdown",
   "metadata": {},
   "source": [
    "    SKLEARN MINMAXSCALLER:\n",
    "    "
   ]
  },
  {
   "cell_type": "code",
   "execution_count": 18,
   "metadata": {},
   "outputs": [],
   "source": [
    "scaler = MinMaxScaler()"
   ]
  },
  {
   "cell_type": "code",
   "execution_count": 19,
   "metadata": {},
   "outputs": [],
   "source": [
    "# and storing the result in ScaledPrice Column\n",
    "df[[\"NORM_scaller\"]] = scaler.fit_transform(df[[\"age\"]])"
   ]
  },
  {
   "cell_type": "code",
   "execution_count": 20,
   "metadata": {},
   "outputs": [
    {
     "data": {
      "text/html": [
       "<div>\n",
       "<style scoped>\n",
       "    .dataframe tbody tr th:only-of-type {\n",
       "        vertical-align: middle;\n",
       "    }\n",
       "\n",
       "    .dataframe tbody tr th {\n",
       "        vertical-align: top;\n",
       "    }\n",
       "\n",
       "    .dataframe thead th {\n",
       "        text-align: right;\n",
       "    }\n",
       "</style>\n",
       "<table border=\"1\" class=\"dataframe\">\n",
       "  <thead>\n",
       "    <tr style=\"text-align: right;\">\n",
       "      <th></th>\n",
       "      <th>year</th>\n",
       "      <th>type</th>\n",
       "      <th>country</th>\n",
       "      <th>age</th>\n",
       "      <th>species_</th>\n",
       "      <th>fecha_limpia</th>\n",
       "      <th>fatal</th>\n",
       "      <th>sex</th>\n",
       "      <th>latitud</th>\n",
       "      <th>longitud</th>\n",
       "      <th>NORM_manual_age</th>\n",
       "      <th>NORM_log</th>\n",
       "      <th>NORM_raiz_cuadrada</th>\n",
       "      <th>NORM_boxcox</th>\n",
       "      <th>NORM_scaller</th>\n",
       "    </tr>\n",
       "  </thead>\n",
       "  <tbody>\n",
       "    <tr>\n",
       "      <th>0</th>\n",
       "      <td>2018</td>\n",
       "      <td>Boating</td>\n",
       "      <td>usa</td>\n",
       "      <td>57.0</td>\n",
       "      <td>White shark</td>\n",
       "      <td>Jun</td>\n",
       "      <td>N</td>\n",
       "      <td>F</td>\n",
       "      <td>39.7837304</td>\n",
       "      <td>-100.445882</td>\n",
       "      <td>0.346937</td>\n",
       "      <td>4.043051</td>\n",
       "      <td>7.549834</td>\n",
       "      <td>9.116327</td>\n",
       "      <td>0.651163</td>\n",
       "    </tr>\n",
       "  </tbody>\n",
       "</table>\n",
       "</div>"
      ],
      "text/plain": [
       "   year     type country   age     species_ fecha_limpia fatal sex  \\\n",
       "0  2018  Boating     usa  57.0  White shark          Jun     N   F   \n",
       "\n",
       "      latitud     longitud  NORM_manual_age  NORM_log  NORM_raiz_cuadrada  \\\n",
       "0  39.7837304  -100.445882         0.346937  4.043051            7.549834   \n",
       "\n",
       "   NORM_boxcox  NORM_scaller  \n",
       "0     9.116327      0.651163  "
      ]
     },
     "execution_count": 20,
     "metadata": {},
     "output_type": "execute_result"
    }
   ],
   "source": [
    "df.head(1)"
   ]
  },
  {
   "cell_type": "code",
   "execution_count": 21,
   "metadata": {},
   "outputs": [
    {
     "data": {
      "image/png": "[encoded data removed]",
      "text/plain": [
       "<Figure size 1080x360 with 2 Axes>"
      ]
     },
     "metadata": {
      "needs_background": "light"
     },
     "output_type": "display_data"
    }
   ],
   "source": [
    "fig, axes = plt.subplots(1, 2, figsize = (15,5))\n",
    "\n",
    "axes[0].set_title('age')\n",
    "axes[1].set_title('NORM_scaller')\n",
    "\n",
    "sns.distplot(df['age'] ,ax = axes[0],color=\"darkorange\")\n",
    "sns.distplot(df['NORM_scaller'], ax = axes[1],color=\"darkorange\");"
   ]
  },
  {
   "cell_type": "code",
   "execution_count": 22,
   "metadata": {},
   "outputs": [
    {
     "data": {
      "text/plain": [
       "('NORM_manual_age',\n",
       " 'NORM_log',\n",
       " 'NORM_raiz_cuadrada',\n",
       " 'NORM_boxcox',\n",
       " 'NORM_scaller')"
      ]
     },
     "execution_count": 22,
     "metadata": {},
     "output_type": "execute_result"
    }
   ],
   "source": [
    "columnas = \"NORM_manual_age\",\"NORM_log\",\"NORM_raiz_cuadrada\",\"NORM_boxcox\",\"NORM_scaller\"\n",
    "columnas"
   ]
  },
  {
   "cell_type": "code",
   "execution_count": 29,
   "metadata": {},
   "outputs": [
    {
     "data": {
      "image/png": "[encoded data removed]",
      "text/plain": [
       "<Figure size 432x288 with 1 Axes>"
      ]
     },
     "metadata": {
      "needs_background": "light"
     },
     "output_type": "display_data"
    },
    {
     "data": {
      "image/png": "[encoded data removed]",
      "text/plain": [
       "<Figure size 432x288 with 1 Axes>"
      ]
     },
     "metadata": {
      "needs_background": "light"
     },
     "output_type": "display_data"
    },
    {
     "data": {
      "image/png": "[encoded data removed]",
      "text/plain": [
       "<Figure size 432x288 with 1 Axes>"
      ]
     },
     "metadata": {
      "needs_background": "light"
     },
     "output_type": "display_data"
    },
    {
     "data": {
      "image/png": "[encoded data removed]",
      "text/plain": [
       "<Figure size 432x288 with 1 Axes>"
      ]
     },
     "metadata": {
      "needs_background": "light"
     },
     "output_type": "display_data"
    },
    {
     "data": {
      "image/png": "[encoded data removed]",
      "text/plain": [
       "<Figure size 432x288 with 1 Axes>"
      ]
     },
     "metadata": {
      "needs_background": "light"
     },
     "output_type": "display_data"
    }
   ],
   "source": [
    "for i in columnas:\n",
    "    sns.distplot(df[i]) #lista de todas las columnas normalizadas\n",
    "    plt.show()\n"
   ]
  },
  {
   "cell_type": "markdown",
   "metadata": {},
   "source": [
    "- **Guardad el csv con los cambios.**"
   ]
  },
  {
   "cell_type": "code",
   "execution_count": null,
   "metadata": {},
   "outputs": [],
   "source": [
    "df.to_csv(\"limpieza_7.csv\")"
   ]
  }
 ],
 "metadata": {
  "interpreter": {
   "hash": "40d3a090f54c6569ab1632332b64b2c03c39dcf918b08424e98f38b5ae0af88f"
  },
  "kernelspec": {
   "display_name": "Python 3.9.7 ('base')",
   "language": "python",
   "name": "python3"
  },
  "language_info": {
   "codemirror_mode": {
    "name": "ipython",
    "version": 3
   },
   "file_extension": ".py",
   "mimetype": "text/x-python",
   "name": "python",
   "nbconvert_exporter": "python",
   "pygments_lexer": "ipython3",
   "version": "3.9.7"
  },
  "orig_nbformat": 4
 },
 "nbformat": 4,
 "nbformat_minor": 2
}

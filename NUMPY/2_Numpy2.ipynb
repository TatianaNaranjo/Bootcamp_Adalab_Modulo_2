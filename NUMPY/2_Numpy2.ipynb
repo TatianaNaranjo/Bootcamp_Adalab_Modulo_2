{
 "cells": [
  {
   "cell_type": "markdown",
   "metadata": {},
   "source": [
    "# 19/04 - Pair Programming Numpy 1 - Tatiana & Lara"
   ]
  },
  {
   "cell_type": "markdown",
   "metadata": {},
   "source": [
    "# Ejercicio 1 "
   ]
  },
  {
   "cell_type": "markdown",
   "metadata": {},
   "source": [
    "Cread un array de dos dimensiones de 5 filas y 3 columnas. Sobre el array creado anteriormente, extraed:\n",
    "El valor de la primera fila y la segunda columna.\n",
    "Los valores de la segunda fila y las dos primeras columnas.\n",
    "Extraed las filas pares (incluyendo la 0) y todas las columnas.\n",
    "Extraed los valores que sean mayores que 0.5.\n",
    "Extraed los valores menores que 0.2 o mayores que 0.5"
   ]
  },
  {
   "cell_type": "code",
   "execution_count": 1,
   "metadata": {},
   "outputs": [
    {
     "name": "stdout",
     "output_type": "stream",
     "text": [
      "Esta es la fila 1, columna 2:  0.6709561385368809\n",
      "\n",
      "\n",
      "Esta es la segunda fila y 2 primeras columnas:  [0.026569   0.81370158]\n",
      "\n",
      "\n",
      "Estas son las filas pares y todas las columnas.  [[0.53525146 0.67095614 0.73722487]\n",
      " [0.11706303 0.55146833 0.97377934]\n",
      " [0.9612193  0.43957208 0.27967176]]\n",
      "\n",
      "\n",
      "Estos son los valores mayores que 0.5. [0.53525146 0.67095614 0.73722487 0.81370158 0.55146833 0.97377934\n",
      " 0.9612193 ]\n",
      "\n",
      "\n",
      "Estos son los valores menores que 0.2 o mayores que 0.5 [0.53525146 0.67095614 0.73722487 0.026569   0.81370158 0.1988499\n",
      " 0.11706303 0.55146833 0.97377934 0.17012656 0.07499542 0.9612193 ]\n"
     ]
    }
   ],
   "source": [
    "import numpy as np\n",
    "array_bidimensional= np.random.rand(5,3)\n",
    "array_bidimensional\n",
    "\n",
    "print(\"Esta es la fila 1, columna 2: \", array_bidimensional[0,1])\n",
    "print(\"\\n\")\n",
    "print(\"Esta es la segunda fila y 2 primeras columnas: \", array_bidimensional[1,:2])\n",
    "print(\"\\n\")\n",
    "print(\"Estas son las filas pares y todas las columnas. \", array_bidimensional[::2,:])\n",
    "print(\"\\n\")\n",
    "print(\"Estos son los valores mayores que 0.5.\", array_bidimensional[array_bidimensional>0.5])\n",
    "print(\"\\n\")\n",
    "print(\"Estos son los valores menores que 0.2 o mayores que 0.5\", array_bidimensional [(array_bidimensional<0.2)|(array_bidimensional>0.5)])"
   ]
  },
  {
   "cell_type": "markdown",
   "metadata": {},
   "source": [
    "# Ejercicio 2 Cread dos array de tres dimensiones:\n",
    " El primero de 2 matrices, 5 filas y 3 columnas.\n",
    " El segundo de 3 matrices, 2 filas y 5 columnas\n",
    "Haced un análisis exploratorio de los array creados"
   ]
  },
  {
   "cell_type": "code",
   "execution_count": 2,
   "metadata": {},
   "outputs": [
    {
     "name": "stdout",
     "output_type": "stream",
     "text": [
      "Análisis exploratorio Primer Array\n",
      "('La forma es:', (2, 5, 3)) \n",
      " ('El tamaño es:', 30) \n",
      " ('El número de dimensiones es:', 3) \n",
      " ('El tipo de datos es:', dtype('int64'))\n",
      "\n",
      "\n",
      "Análisis exploratorio Segundo Array\n",
      "('La forma es:', (3, 2, 5)) \n",
      " ('El tamaño es:', 30) \n",
      " ('El número de dimensiones es:', 3) \n",
      " ('El tipo de datos es:', dtype('int64'))\n"
     ]
    }
   ],
   "source": [
    "array_1= np.random.randint(0,100, (2,5,3))\n",
    "array_2= np.random.randint(0,100, (3,2,5))\n",
    "\n",
    "#FUNCIÓN\n",
    "\n",
    "def propiedades (array):\n",
    "    a = (\"La forma es:\", array.shape)\n",
    "    b = (\"El tamaño es:\", array.size)\n",
    "    c = (\"El número de dimensiones es:\", array.ndim) \n",
    "    d = (\"El tipo de datos es:\", array.dtype)\n",
    "    \n",
    "    print(a, \"\\n\", b, \"\\n\", c, \"\\n\", d)\n",
    "print(\"Análisis exploratorio Primer Array\")\n",
    "propiedades(array_1)\n",
    "print(\"\\n\")\n",
    "print(\"Análisis exploratorio Segundo Array\")\n",
    "propiedades(array_2)"
   ]
  },
  {
   "cell_type": "code",
   "execution_count": 5,
   "metadata": {},
   "outputs": [],
   "source": [
    "#Sumad los dos arrays. ¿Podéis? ¿Por qué?\n",
    "#Suma= array_1+ array_2\n",
    "#No se pueden sumar estos dos arrays puesto que tienen formas distintas."
   ]
  },
  {
   "cell_type": "markdown",
   "metadata": {},
   "source": [
    "Utiliza las funciones .reshape().transpose() para cambiar la forma de los array y hacer operaciones entre ellos"
   ]
  },
  {
   "cell_type": "code",
   "execution_count": 3,
   "metadata": {},
   "outputs": [
    {
     "data": {
      "text/plain": [
       "array([[[ 66,  99,  79],\n",
       "        [146,  83, 113],\n",
       "        [134, 104,  49],\n",
       "        [ 64,  90,  60],\n",
       "        [170, 173, 103]],\n",
       "\n",
       "       [[ 23,  58,  96],\n",
       "        [ 87, 103, 125],\n",
       "        [137,  92,  97],\n",
       "        [ 17, 102, 129],\n",
       "        [ 68, 158, 148]]])"
      ]
     },
     "execution_count": 3,
     "metadata": {},
     "output_type": "execute_result"
    }
   ],
   "source": [
    "#transformar con transpose() para poder sumar\n",
    "array_2_transpuesto= np.transpose(array_2,(1,2,0))\n",
    "array_2_transpuesto\n",
    "\n",
    "suma_a= array_2_transpuesto + array_1\n",
    "suma_a"
   ]
  },
  {
   "cell_type": "code",
   "execution_count": 4,
   "metadata": {},
   "outputs": [
    {
     "data": {
      "text/plain": [
       "array([[[ 66, 145, 110],\n",
       "        [110,  84,  48],\n",
       "        [100, 196,  39],\n",
       "        [ 52,  99,  77],\n",
       "        [100,  86, 187]],\n",
       "\n",
       "       [[ 32, 113, 119],\n",
       "        [128,  96,  89],\n",
       "        [116,  42,  63],\n",
       "        [ 21,  73, 155],\n",
       "        [148, 131, 148]]])"
      ]
     },
     "execution_count": 4,
     "metadata": {},
     "output_type": "execute_result"
    }
   ],
   "source": [
    "#transformar con reshape() para poder sumar\n",
    "array_2_reshaped= array_2.reshape((2,5,3))\n",
    "array_2_reshaped\n",
    "\n",
    "sumar_b= array_1 + array_2_reshaped\n",
    "sumar_b"
   ]
  }
 ],
 "metadata": {
  "interpreter": {
   "hash": "328661ec968ebc77b93161299d44fd1f4547ee33c9a17c5e95f23064c7c08def"
  },
  "kernelspec": {
   "display_name": "Python 3.9.7 ('base')",
   "language": "python",
   "name": "python3"
  },
  "language_info": {
   "codemirror_mode": {
    "name": "ipython",
    "version": 3
   },
   "file_extension": ".py",
   "mimetype": "text/x-python",
   "name": "python",
   "nbconvert_exporter": "python",
   "pygments_lexer": "ipython3",
   "version": "3.9.7"
  },
  "orig_nbformat": 4
 },
 "nbformat": 4,
 "nbformat_minor": 2
}

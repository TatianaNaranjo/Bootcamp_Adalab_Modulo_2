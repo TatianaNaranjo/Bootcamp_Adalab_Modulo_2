{
 "cells": [
  {
   "cell_type": "markdown",
   "metadata": {},
   "source": [
    "# 03/05 - Pair Programming Estadística I - Estadistica Descriptiva"
   ]
  },
  {
   "cell_type": "code",
   "execution_count": 1,
   "metadata": {},
   "outputs": [],
   "source": [
    "import pandas as pd\n",
    "import numpy as np\n",
    "from scipy import stats\n",
    "import matplotlib.pyplot as plt\n",
    "import seaborn as sns"
   ]
  },
  {
   "cell_type": "markdown",
   "metadata": {},
   "source": [
    "# EJERCICIO 1\n",
    "**Buscar un conjunto de datos a analizar:**\n",
    "- **Se recomienda que el conjunto de datos a analizar tenga variables numéricas y categóricas. Ya que tambien se analizarán.**"
   ]
  },
  {
   "cell_type": "code",
   "execution_count": 2,
   "metadata": {},
   "outputs": [
    {
     "data": {
      "text/html": [
       "<div>\n",
       "<style scoped>\n",
       "    .dataframe tbody tr th:only-of-type {\n",
       "        vertical-align: middle;\n",
       "    }\n",
       "\n",
       "    .dataframe tbody tr th {\n",
       "        vertical-align: top;\n",
       "    }\n",
       "\n",
       "    .dataframe thead th {\n",
       "        text-align: right;\n",
       "    }\n",
       "</style>\n",
       "<table border=\"1\" class=\"dataframe\">\n",
       "  <thead>\n",
       "    <tr style=\"text-align: right;\">\n",
       "      <th></th>\n",
       "      <th>Category</th>\n",
       "      <th>Rating</th>\n",
       "      <th>Reviews</th>\n",
       "      <th>Size</th>\n",
       "      <th>Installs</th>\n",
       "      <th>Type</th>\n",
       "      <th>Price</th>\n",
       "      <th>Content Rating</th>\n",
       "      <th>Genres</th>\n",
       "      <th>Last Updated</th>\n",
       "      <th>Current Ver</th>\n",
       "      <th>Android Ver</th>\n",
       "    </tr>\n",
       "    <tr>\n",
       "      <th>App</th>\n",
       "      <th></th>\n",
       "      <th></th>\n",
       "      <th></th>\n",
       "      <th></th>\n",
       "      <th></th>\n",
       "      <th></th>\n",
       "      <th></th>\n",
       "      <th></th>\n",
       "      <th></th>\n",
       "      <th></th>\n",
       "      <th></th>\n",
       "      <th></th>\n",
       "    </tr>\n",
       "  </thead>\n",
       "  <tbody>\n",
       "    <tr>\n",
       "      <th>Photo Editor &amp; Candy Camera &amp; Grid &amp; ScrapBook</th>\n",
       "      <td>ART_AND_DESIGN</td>\n",
       "      <td>4.1</td>\n",
       "      <td>159</td>\n",
       "      <td>19M</td>\n",
       "      <td>10,000+</td>\n",
       "      <td>Free</td>\n",
       "      <td>0</td>\n",
       "      <td>Everyone</td>\n",
       "      <td>Art &amp; Design</td>\n",
       "      <td>January 7, 2018</td>\n",
       "      <td>1.0.0</td>\n",
       "      <td>4.0.3 and up</td>\n",
       "    </tr>\n",
       "    <tr>\n",
       "      <th>Coloring book moana</th>\n",
       "      <td>ART_AND_DESIGN</td>\n",
       "      <td>3.9</td>\n",
       "      <td>967</td>\n",
       "      <td>14M</td>\n",
       "      <td>500,000+</td>\n",
       "      <td>Free</td>\n",
       "      <td>0</td>\n",
       "      <td>Everyone</td>\n",
       "      <td>Art &amp; Design;Pretend Play</td>\n",
       "      <td>January 15, 2018</td>\n",
       "      <td>2.0.0</td>\n",
       "      <td>4.0.3 and up</td>\n",
       "    </tr>\n",
       "    <tr>\n",
       "      <th>U Launcher Lite – FREE Live Cool Themes, Hide Apps</th>\n",
       "      <td>ART_AND_DESIGN</td>\n",
       "      <td>4.7</td>\n",
       "      <td>87510</td>\n",
       "      <td>8.7M</td>\n",
       "      <td>5,000,000+</td>\n",
       "      <td>Free</td>\n",
       "      <td>0</td>\n",
       "      <td>Everyone</td>\n",
       "      <td>Art &amp; Design</td>\n",
       "      <td>August 1, 2018</td>\n",
       "      <td>1.2.4</td>\n",
       "      <td>4.0.3 and up</td>\n",
       "    </tr>\n",
       "    <tr>\n",
       "      <th>Sketch - Draw &amp; Paint</th>\n",
       "      <td>ART_AND_DESIGN</td>\n",
       "      <td>4.5</td>\n",
       "      <td>215644</td>\n",
       "      <td>25M</td>\n",
       "      <td>50,000,000+</td>\n",
       "      <td>Free</td>\n",
       "      <td>0</td>\n",
       "      <td>Teen</td>\n",
       "      <td>Art &amp; Design</td>\n",
       "      <td>June 8, 2018</td>\n",
       "      <td>Varies with device</td>\n",
       "      <td>4.2 and up</td>\n",
       "    </tr>\n",
       "    <tr>\n",
       "      <th>Pixel Draw - Number Art Coloring Book</th>\n",
       "      <td>ART_AND_DESIGN</td>\n",
       "      <td>4.3</td>\n",
       "      <td>967</td>\n",
       "      <td>2.8M</td>\n",
       "      <td>100,000+</td>\n",
       "      <td>Free</td>\n",
       "      <td>0</td>\n",
       "      <td>Everyone</td>\n",
       "      <td>Art &amp; Design;Creativity</td>\n",
       "      <td>June 20, 2018</td>\n",
       "      <td>1.1</td>\n",
       "      <td>4.4 and up</td>\n",
       "    </tr>\n",
       "  </tbody>\n",
       "</table>\n",
       "</div>"
      ],
      "text/plain": [
       "                                                          Category  Rating  \\\n",
       "App                                                                          \n",
       "Photo Editor & Candy Camera & Grid & ScrapBook      ART_AND_DESIGN     4.1   \n",
       "Coloring book moana                                 ART_AND_DESIGN     3.9   \n",
       "U Launcher Lite – FREE Live Cool Themes, Hide Apps  ART_AND_DESIGN     4.7   \n",
       "Sketch - Draw & Paint                               ART_AND_DESIGN     4.5   \n",
       "Pixel Draw - Number Art Coloring Book               ART_AND_DESIGN     4.3   \n",
       "\n",
       "                                                   Reviews  Size     Installs  \\\n",
       "App                                                                             \n",
       "Photo Editor & Candy Camera & Grid & ScrapBook         159   19M      10,000+   \n",
       "Coloring book moana                                    967   14M     500,000+   \n",
       "U Launcher Lite – FREE Live Cool Themes, Hide Apps   87510  8.7M   5,000,000+   \n",
       "Sketch - Draw & Paint                               215644   25M  50,000,000+   \n",
       "Pixel Draw - Number Art Coloring Book                  967  2.8M     100,000+   \n",
       "\n",
       "                                                    Type Price Content Rating  \\\n",
       "App                                                                             \n",
       "Photo Editor & Candy Camera & Grid & ScrapBook      Free     0       Everyone   \n",
       "Coloring book moana                                 Free     0       Everyone   \n",
       "U Launcher Lite – FREE Live Cool Themes, Hide Apps  Free     0       Everyone   \n",
       "Sketch - Draw & Paint                               Free     0           Teen   \n",
       "Pixel Draw - Number Art Coloring Book               Free     0       Everyone   \n",
       "\n",
       "                                                                       Genres  \\\n",
       "App                                                                             \n",
       "Photo Editor & Candy Camera & Grid & ScrapBook                   Art & Design   \n",
       "Coloring book moana                                 Art & Design;Pretend Play   \n",
       "U Launcher Lite – FREE Live Cool Themes, Hide Apps               Art & Design   \n",
       "Sketch - Draw & Paint                                            Art & Design   \n",
       "Pixel Draw - Number Art Coloring Book                 Art & Design;Creativity   \n",
       "\n",
       "                                                        Last Updated  \\\n",
       "App                                                                    \n",
       "Photo Editor & Candy Camera & Grid & ScrapBook       January 7, 2018   \n",
       "Coloring book moana                                 January 15, 2018   \n",
       "U Launcher Lite – FREE Live Cool Themes, Hide Apps    August 1, 2018   \n",
       "Sketch - Draw & Paint                                   June 8, 2018   \n",
       "Pixel Draw - Number Art Coloring Book                  June 20, 2018   \n",
       "\n",
       "                                                           Current Ver  \\\n",
       "App                                                                      \n",
       "Photo Editor & Candy Camera & Grid & ScrapBook                   1.0.0   \n",
       "Coloring book moana                                              2.0.0   \n",
       "U Launcher Lite – FREE Live Cool Themes, Hide Apps               1.2.4   \n",
       "Sketch - Draw & Paint                               Varies with device   \n",
       "Pixel Draw - Number Art Coloring Book                              1.1   \n",
       "\n",
       "                                                     Android Ver  \n",
       "App                                                               \n",
       "Photo Editor & Candy Camera & Grid & ScrapBook      4.0.3 and up  \n",
       "Coloring book moana                                 4.0.3 and up  \n",
       "U Launcher Lite – FREE Live Cool Themes, Hide Apps  4.0.3 and up  \n",
       "Sketch - Draw & Paint                                 4.2 and up  \n",
       "Pixel Draw - Number Art Coloring Book                 4.4 and up  "
      ]
     },
     "execution_count": 2,
     "metadata": {},
     "output_type": "execute_result"
    }
   ],
   "source": [
    "df= pd.read_csv(\"./googleplaystore.csv\",index_col = 0)\n",
    "pd.options.display.max_columns=None\n",
    "df.head()"
   ]
  },
  {
   "cell_type": "code",
   "execution_count": 3,
   "metadata": {},
   "outputs": [
    {
     "data": {
      "text/plain": [
       "(10841, 12)"
      ]
     },
     "execution_count": 3,
     "metadata": {},
     "output_type": "execute_result"
    }
   ],
   "source": [
    "#Queremos ver el número de Columnas y filas de este DATASET\n",
    "df.shape"
   ]
  },
  {
   "cell_type": "code",
   "execution_count": 4,
   "metadata": {},
   "outputs": [
    {
     "data": {
      "text/plain": [
       "array(['ART_AND_DESIGN', 'AUTO_AND_VEHICLES', 'BEAUTY',\n",
       "       'BOOKS_AND_REFERENCE', 'BUSINESS', 'COMICS', 'COMMUNICATION',\n",
       "       'DATING', 'EDUCATION', 'ENTERTAINMENT', 'EVENTS', 'FINANCE',\n",
       "       'FOOD_AND_DRINK', 'HEALTH_AND_FITNESS', 'HOUSE_AND_HOME',\n",
       "       'LIBRARIES_AND_DEMO', 'LIFESTYLE', 'GAME', 'FAMILY', 'MEDICAL',\n",
       "       'SOCIAL', 'SHOPPING', 'PHOTOGRAPHY', 'SPORTS', 'TRAVEL_AND_LOCAL',\n",
       "       'TOOLS', 'PERSONALIZATION', 'PRODUCTIVITY', 'PARENTING', 'WEATHER',\n",
       "       'VIDEO_PLAYERS', 'NEWS_AND_MAGAZINES', 'MAPS_AND_NAVIGATION',\n",
       "       '1.9'], dtype=object)"
      ]
     },
     "execution_count": 4,
     "metadata": {},
     "output_type": "execute_result"
    }
   ],
   "source": [
    "#Son muchos datos y vamos a valorar sí reducir la información y centrarnos en 3 tipos de APPS\n",
    "df[\"Category\"].unique()"
   ]
  },
  {
   "cell_type": "code",
   "execution_count": 5,
   "metadata": {},
   "outputs": [],
   "source": [
    "#Hemos establecido que el análisis será sobre estos datos, seleccionando 3 categorias para reducir datos.\n",
    "df_new= df[df[\"Category\"].isin([\"DATING\", \"HEALTH_AND_FITNESS\" , \"FINANCE\"])]\n"
   ]
  },
  {
   "cell_type": "code",
   "execution_count": 6,
   "metadata": {},
   "outputs": [
    {
     "data": {
      "text/plain": [
       "(941, 12)"
      ]
     },
     "execution_count": 6,
     "metadata": {},
     "output_type": "execute_result"
    }
   ],
   "source": [
    "df_new.shape"
   ]
  },
  {
   "cell_type": "code",
   "execution_count": 7,
   "metadata": {},
   "outputs": [
    {
     "name": "stdout",
     "output_type": "stream",
     "text": [
      "<class 'pandas.core.frame.DataFrame'>\n",
      "Index: 941 entries, Moco+ - Chat, Meet People to Gold Quote - Gold.fr\n",
      "Data columns (total 12 columns):\n",
      " #   Column          Non-Null Count  Dtype  \n",
      "---  ------          --------------  -----  \n",
      " 0   Category        941 non-null    object \n",
      " 1   Rating          815 non-null    float64\n",
      " 2   Reviews         941 non-null    object \n",
      " 3   Size            941 non-null    object \n",
      " 4   Installs        941 non-null    object \n",
      " 5   Type            941 non-null    object \n",
      " 6   Price           941 non-null    object \n",
      " 7   Content Rating  941 non-null    object \n",
      " 8   Genres          941 non-null    object \n",
      " 9   Last Updated    941 non-null    object \n",
      " 10  Current Ver     941 non-null    object \n",
      " 11  Android Ver     941 non-null    object \n",
      "dtypes: float64(1), object(11)\n",
      "memory usage: 95.6+ KB\n"
     ]
    }
   ],
   "source": [
    "#Queremos informarnos del tipo de dato de cada columna\n",
    "df_new.info()"
   ]
  },
  {
   "cell_type": "code",
   "execution_count": 8,
   "metadata": {},
   "outputs": [
    {
     "name": "stderr",
     "output_type": "stream",
     "text": [
      "/tmp/ipykernel_1736/2205491116.py:3: SettingWithCopyWarning: \n",
      "A value is trying to be set on a copy of a slice from a DataFrame.\n",
      "Try using .loc[row_indexer,col_indexer] = value instead\n",
      "\n",
      "See the caveats in the documentation: https://pandas.pydata.org/pandas-docs/stable/user_guide/indexing.html#returning-a-view-versus-a-copy\n",
      "  df_new['Reviews'] = df_new['Reviews'].astype('int64')\n"
     ]
    }
   ],
   "source": [
    "#Vemos que es dtype= object y cambiamos dtype= int64 para poder analizar los datos.\n",
    "\n",
    "df_new['Reviews'] = df_new['Reviews'].astype('int64')"
   ]
  },
  {
   "cell_type": "code",
   "execution_count": 9,
   "metadata": {},
   "outputs": [
    {
     "name": "stdout",
     "output_type": "stream",
     "text": [
      "<class 'pandas.core.frame.DataFrame'>\n",
      "Index: 941 entries, Moco+ - Chat, Meet People to Gold Quote - Gold.fr\n",
      "Data columns (total 12 columns):\n",
      " #   Column          Non-Null Count  Dtype  \n",
      "---  ------          --------------  -----  \n",
      " 0   Category        941 non-null    object \n",
      " 1   Rating          815 non-null    float64\n",
      " 2   Reviews         941 non-null    int64  \n",
      " 3   Size            941 non-null    object \n",
      " 4   Installs        941 non-null    object \n",
      " 5   Type            941 non-null    object \n",
      " 6   Price           941 non-null    object \n",
      " 7   Content Rating  941 non-null    object \n",
      " 8   Genres          941 non-null    object \n",
      " 9   Last Updated    941 non-null    object \n",
      " 10  Current Ver     941 non-null    object \n",
      " 11  Android Ver     941 non-null    object \n",
      "dtypes: float64(1), int64(1), object(10)\n",
      "memory usage: 95.6+ KB\n"
     ]
    }
   ],
   "source": [
    "df_new.info()"
   ]
  },
  {
   "cell_type": "markdown",
   "metadata": {},
   "source": [
    "# EJERCICIO 2\n",
    "**Extraer las siguentes estadísticas del conjunto de datos para las varibles disponibles:**"
   ]
  },
  {
   "cell_type": "markdown",
   "metadata": {},
   "source": [
    "🙋‍♀️ **Las valoraciones y las reseñas tienen un papel muy importante en la visibilidad y el posicionamiento de una app o de un juego móvil en las tiendas de apps, por lo que vamos a estudiar rating y reviews.**"
   ]
  },
  {
   "cell_type": "code",
   "execution_count": 10,
   "metadata": {},
   "outputs": [],
   "source": [
    "#vamos a definir variables para Reviews y Rating\n",
    "reviews= df_new[\"Reviews\"]\n",
    "rating= df_new[\"Rating\"]"
   ]
  },
  {
   "cell_type": "markdown",
   "metadata": {},
   "source": [
    ">Media"
   ]
  },
  {
   "cell_type": "code",
   "execution_count": 11,
   "metadata": {},
   "outputs": [
    {
     "name": "stdout",
     "output_type": "stream",
     "text": [
      "Media: 66669.23379383635\n"
     ]
    }
   ],
   "source": [
    "#MEDIA de las Reviews\n",
    "media_reviews= np.mean(reviews)\n",
    "print(\"Media:\",media_reviews)"
   ]
  },
  {
   "cell_type": "code",
   "execution_count": 12,
   "metadata": {},
   "outputs": [
    {
     "name": "stdout",
     "output_type": "stream",
     "text": [
      "Media: 4.146257668711656\n"
     ]
    }
   ],
   "source": [
    "#MEDIA de las Rating\n",
    "media_rating= np.mean(rating)\n",
    "print(\"Media:\",media_rating)"
   ]
  },
  {
   "cell_type": "markdown",
   "metadata": {},
   "source": [
    ">Desviación con respecto de la media"
   ]
  },
  {
   "cell_type": "code",
   "execution_count": 13,
   "metadata": {},
   "outputs": [
    {
     "name": "stdout",
     "output_type": "stream",
     "text": [
      "Desviación respecto a la media sobre Reviews: App\n",
      "Moco+ - Chat, Meet People                          65124.233794\n",
      "Calculator                                         66612.233794\n",
      "Truth or Dare Pro                                  66669.233794\n",
      "Private Dating, Hide App- Blue for PrivacyHider    66669.233794\n",
      "Ad Blocker for SayHi                               66665.233794\n",
      "                                                       ...     \n",
      "FP Markets                                         66668.233794\n",
      "FP Boss                                            66668.233794\n",
      "FP FCU                                             66621.233794\n",
      "Fast Tract Diet                                    66634.233794\n",
      "Gold Quote - Gold.fr                               66573.233794\n",
      "Name: Reviews, Length: 941, dtype: float64\n"
     ]
    }
   ],
   "source": [
    "#Desviación con respecto a la media Reviews\n",
    "desv_media_reviews =np.abs(reviews - media_reviews)\n",
    "print(\"Desviación respecto a la media sobre Reviews:\",desv_media_reviews)"
   ]
  },
  {
   "cell_type": "code",
   "execution_count": 14,
   "metadata": {},
   "outputs": [
    {
     "name": "stdout",
     "output_type": "stream",
     "text": [
      "Desviación respecto a la media sobre Rating : App\n",
      "Moco+ - Chat, Meet People                          0.053742\n",
      "Calculator                                         1.546258\n",
      "Truth or Dare Pro                                       NaN\n",
      "Private Dating, Hide App- Blue for PrivacyHider         NaN\n",
      "Ad Blocker for SayHi                                    NaN\n",
      "                                                     ...   \n",
      "FP Markets                                              NaN\n",
      "FP Boss                                                 NaN\n",
      "FP FCU                                             0.546258\n",
      "Fast Tract Diet                                    0.253742\n",
      "Gold Quote - Gold.fr                                    NaN\n",
      "Name: Rating, Length: 941, dtype: float64\n"
     ]
    }
   ],
   "source": [
    "#Desviación con respecto a la media RATING\n",
    "desv_media_rating=np.abs(rating - media_rating)\n",
    "print(\"Desviación respecto a la media sobre Rating :\",desv_media_rating)"
   ]
  },
  {
   "cell_type": "markdown",
   "metadata": {},
   "source": [
    ">Varianza"
   ]
  },
  {
   "cell_type": "code",
   "execution_count": 15,
   "metadata": {},
   "outputs": [
    {
     "name": "stdout",
     "output_type": "stream",
     "text": [
      "Varianza de reviews: 57956018239.830574\n"
     ]
    }
   ],
   "source": [
    "varianza_reviews =np.var(reviews)\n",
    "print(\"Varianza de reviews:\",varianza_reviews)"
   ]
  },
  {
   "cell_type": "code",
   "execution_count": 16,
   "metadata": {},
   "outputs": [
    {
     "name": "stdout",
     "output_type": "stream",
     "text": [
      "Varianza de rating: 0.4098479581467124\n"
     ]
    }
   ],
   "source": [
    "varianza_rating =np.var(rating)\n",
    "print(\"Varianza de rating:\",varianza_rating)"
   ]
  },
  {
   "cell_type": "markdown",
   "metadata": {},
   "source": [
    ">Desviación típica"
   ]
  },
  {
   "cell_type": "code",
   "execution_count": 17,
   "metadata": {},
   "outputs": [
    {
     "name": "stdout",
     "output_type": "stream",
     "text": [
      "Desviación tipica de reviews: 240740.56209918298\n"
     ]
    }
   ],
   "source": [
    "desviacion_tipica_reviews= np.std(reviews)\n",
    "print(\"Desviación tipica de reviews:\",desviacion_tipica_reviews)"
   ]
  },
  {
   "cell_type": "code",
   "execution_count": 18,
   "metadata": {},
   "outputs": [
    {
     "name": "stdout",
     "output_type": "stream",
     "text": [
      "Desviación tipica de rating: 0.640193687993495\n"
     ]
    }
   ],
   "source": [
    "desviacion_tipica_rating= np.std(rating)\n",
    "print(\"Desviación tipica de rating:\",desviacion_tipica_rating)"
   ]
  },
  {
   "cell_type": "markdown",
   "metadata": {},
   "source": [
    ">Moda"
   ]
  },
  {
   "cell_type": "code",
   "execution_count": 19,
   "metadata": {},
   "outputs": [
    {
     "name": "stdout",
     "output_type": "stream",
     "text": [
      "Moda y frecuencia de reviews [0] [58]\n"
     ]
    }
   ],
   "source": [
    "moda,frecuencia_reviews= stats.mode(reviews)\n",
    "print(\"Moda y frecuencia de reviews\",moda ,frecuencia_reviews)"
   ]
  },
  {
   "cell_type": "code",
   "execution_count": 20,
   "metadata": {},
   "outputs": [
    {
     "name": "stdout",
     "output_type": "stream",
     "text": [
      "Moda y frecuencia de rating [nan] [126]\n"
     ]
    }
   ],
   "source": [
    "moda,frecuencia_rating= stats.mode(rating)\n",
    "print(\"Moda y frecuencia de rating\",moda ,frecuencia_rating)"
   ]
  },
  {
   "cell_type": "markdown",
   "metadata": {},
   "source": [
    ">Mediana"
   ]
  },
  {
   "cell_type": "code",
   "execution_count": 21,
   "metadata": {},
   "outputs": [
    {
     "name": "stdout",
     "output_type": "stream",
     "text": [
      "Mediana de reviews es: 1601.0\n"
     ]
    }
   ],
   "source": [
    "mediana_reviews= np.median(reviews)\n",
    "print(\"Mediana de reviews es:\",mediana_reviews)"
   ]
  },
  {
   "cell_type": "code",
   "execution_count": 22,
   "metadata": {},
   "outputs": [
    {
     "name": "stdout",
     "output_type": "stream",
     "text": [
      "Mediana de rating es: nan\n"
     ]
    }
   ],
   "source": [
    "mediana_rating= np.median(rating)\n",
    "print(\"Mediana de rating es:\", mediana_rating)"
   ]
  },
  {
   "cell_type": "markdown",
   "metadata": {},
   "source": [
    ">Media ponderada"
   ]
  },
  {
   "cell_type": "code",
   "execution_count": 23,
   "metadata": {},
   "outputs": [
    {
     "name": "stdout",
     "output_type": "stream",
     "text": [
      "La media ponderada de reviews es: (66669.23379383633+0j)\n"
     ]
    }
   ],
   "source": [
    "w = np.ones(941, dtype=np.complex64)\n",
    "avg_reviews= np.average(reviews,weights=w)\n",
    "print(\"La media ponderada de reviews es:\",avg_reviews)"
   ]
  },
  {
   "cell_type": "code",
   "execution_count": 24,
   "metadata": {},
   "outputs": [
    {
     "name": "stdout",
     "output_type": "stream",
     "text": [
      "La media ponderada de rating es: (nan+nanj)\n"
     ]
    }
   ],
   "source": [
    "w = np.ones(941, dtype=np.complex64)\n",
    "avg_rating= np.average(rating,weights=w)\n",
    "print(\"La media ponderada de rating es:\",avg_rating)"
   ]
  },
  {
   "cell_type": "markdown",
   "metadata": {},
   "source": [
    ">Robustez"
   ]
  },
  {
   "cell_type": "markdown",
   "metadata": {},
   "source": [
    "La robustez  se refiere a que el estadístico, no se vea afectado en gran medida por valores atípicos. La mediana es una medida robusta de tendencia central, mientras que el promedio no, puesto que una única medición muy grande o muy pequeña altera significativamente el promedio."
   ]
  },
  {
   "cell_type": "markdown",
   "metadata": {},
   "source": [
    ">Coeficiente de variación"
   ]
  },
  {
   "cell_type": "code",
   "execution_count": 26,
   "metadata": {},
   "outputs": [
    {
     "name": "stdout",
     "output_type": "stream",
     "text": [
      "Coeficiente de variación de reviews: 3.6109693842235178\n"
     ]
    }
   ],
   "source": [
    "coef_var_reviews= np.std(reviews)/np.abs(np.mean(reviews))\n",
    "print(\"Coeficiente de variación de reviews:\",coef_var_reviews)\n"
   ]
  },
  {
   "cell_type": "code",
   "execution_count": 27,
   "metadata": {},
   "outputs": [
    {
     "name": "stdout",
     "output_type": "stream",
     "text": [
      "Coeficiente de variación de rating: 0.1544027745367834\n"
     ]
    }
   ],
   "source": [
    "coef_var_rating= np.std(rating)/np.abs(np.mean(rating))\n",
    "print(\"Coeficiente de variación de rating:\",coef_var_rating)"
   ]
  },
  {
   "cell_type": "markdown",
   "metadata": {},
   "source": [
    "**3. Interpretación de los resultados.**\n",
    "- **Ahora interpreta los resultados obtenidos de los diferentes estadísticos estudiados haciendo incapié en aspectos interesantes de tus datos y explica lo mejor posible la naturaleza de los mismos.**"
   ]
  },
  {
   "cell_type": "markdown",
   "metadata": {},
   "source": [
    "Tenino en cuenta las app evaluadas"
   ]
  },
  {
   "cell_type": "code",
   "execution_count": 30,
   "metadata": {},
   "outputs": [
    {
     "data": {
      "text/html": [
       "<div>\n",
       "<style scoped>\n",
       "    .dataframe tbody tr th:only-of-type {\n",
       "        vertical-align: middle;\n",
       "    }\n",
       "\n",
       "    .dataframe tbody tr th {\n",
       "        vertical-align: top;\n",
       "    }\n",
       "\n",
       "    .dataframe thead th {\n",
       "        text-align: right;\n",
       "    }\n",
       "</style>\n",
       "<table border=\"1\" class=\"dataframe\">\n",
       "  <thead>\n",
       "    <tr style=\"text-align: right;\">\n",
       "      <th></th>\n",
       "      <th>Category</th>\n",
       "      <th>Rating</th>\n",
       "      <th>Reviews</th>\n",
       "      <th>Size</th>\n",
       "      <th>Installs</th>\n",
       "      <th>Type</th>\n",
       "      <th>Price</th>\n",
       "      <th>Content Rating</th>\n",
       "      <th>Genres</th>\n",
       "      <th>Last Updated</th>\n",
       "      <th>Current Ver</th>\n",
       "      <th>Android Ver</th>\n",
       "    </tr>\n",
       "    <tr>\n",
       "      <th>App</th>\n",
       "      <th></th>\n",
       "      <th></th>\n",
       "      <th></th>\n",
       "      <th></th>\n",
       "      <th></th>\n",
       "      <th></th>\n",
       "      <th></th>\n",
       "      <th></th>\n",
       "      <th></th>\n",
       "      <th></th>\n",
       "      <th></th>\n",
       "      <th></th>\n",
       "    </tr>\n",
       "  </thead>\n",
       "  <tbody>\n",
       "    <tr>\n",
       "      <th>Photo Editor &amp; Candy Camera &amp; Grid &amp; ScrapBook</th>\n",
       "      <td>ART_AND_DESIGN</td>\n",
       "      <td>4.1</td>\n",
       "      <td>159</td>\n",
       "      <td>19M</td>\n",
       "      <td>10,000+</td>\n",
       "      <td>Free</td>\n",
       "      <td>0</td>\n",
       "      <td>Everyone</td>\n",
       "      <td>Art &amp; Design</td>\n",
       "      <td>January 7, 2018</td>\n",
       "      <td>1.0.0</td>\n",
       "      <td>4.0.3 and up</td>\n",
       "    </tr>\n",
       "    <tr>\n",
       "      <th>Coloring book moana</th>\n",
       "      <td>ART_AND_DESIGN</td>\n",
       "      <td>3.9</td>\n",
       "      <td>967</td>\n",
       "      <td>14M</td>\n",
       "      <td>500,000+</td>\n",
       "      <td>Free</td>\n",
       "      <td>0</td>\n",
       "      <td>Everyone</td>\n",
       "      <td>Art &amp; Design;Pretend Play</td>\n",
       "      <td>January 15, 2018</td>\n",
       "      <td>2.0.0</td>\n",
       "      <td>4.0.3 and up</td>\n",
       "    </tr>\n",
       "  </tbody>\n",
       "</table>\n",
       "</div>"
      ],
      "text/plain": [
       "                                                      Category  Rating  \\\n",
       "App                                                                      \n",
       "Photo Editor & Candy Camera & Grid & ScrapBook  ART_AND_DESIGN     4.1   \n",
       "Coloring book moana                             ART_AND_DESIGN     3.9   \n",
       "\n",
       "                                               Reviews Size  Installs  Type  \\\n",
       "App                                                                           \n",
       "Photo Editor & Candy Camera & Grid & ScrapBook     159  19M   10,000+  Free   \n",
       "Coloring book moana                                967  14M  500,000+  Free   \n",
       "\n",
       "                                               Price Content Rating  \\\n",
       "App                                                                   \n",
       "Photo Editor & Candy Camera & Grid & ScrapBook     0       Everyone   \n",
       "Coloring book moana                                0       Everyone   \n",
       "\n",
       "                                                                   Genres  \\\n",
       "App                                                                         \n",
       "Photo Editor & Candy Camera & Grid & ScrapBook               Art & Design   \n",
       "Coloring book moana                             Art & Design;Pretend Play   \n",
       "\n",
       "                                                    Last Updated Current Ver  \\\n",
       "App                                                                            \n",
       "Photo Editor & Candy Camera & Grid & ScrapBook   January 7, 2018       1.0.0   \n",
       "Coloring book moana                             January 15, 2018       2.0.0   \n",
       "\n",
       "                                                 Android Ver  \n",
       "App                                                           \n",
       "Photo Editor & Candy Camera & Grid & ScrapBook  4.0.3 and up  \n",
       "Coloring book moana                             4.0.3 and up  "
      ]
     },
     "execution_count": 30,
     "metadata": {},
     "output_type": "execute_result"
    }
   ],
   "source": [
    "df.head(2)"
   ]
  },
  {
   "cell_type": "code",
   "execution_count": 32,
   "metadata": {},
   "outputs": [
    {
     "data": {
      "text/plain": [
       "(10841, 12)"
      ]
     },
     "execution_count": 32,
     "metadata": {},
     "output_type": "execute_result"
    }
   ],
   "source": [
    "df.shape"
   ]
  },
  {
   "cell_type": "markdown",
   "metadata": {},
   "source": [
    "Hemos evaluado 10.840 aplicaciones, de las cuales la media de reviews es de 66.669. Analizando la varianza encontramos que los datos de review de las aplicaciones son dispersos estan muy alejados de la media. La mediana que es el valor central de nuestros datos es de 1601 y es muy distinta a la media que es de 66669."
   ]
  },
  {
   "cell_type": "code",
   "execution_count": 28,
   "metadata": {},
   "outputs": [
    {
     "name": "stdout",
     "output_type": "stream",
     "text": [
      "Datos reviews:\n",
      "Media de reviews: 66669.23379383635\n",
      "Desviación respecto a la media sobre reviews: App\n",
      "Moco+ - Chat, Meet People                          65124.233794\n",
      "Calculator                                         66612.233794\n",
      "Truth or Dare Pro                                  66669.233794\n",
      "Private Dating, Hide App- Blue for PrivacyHider    66669.233794\n",
      "Ad Blocker for SayHi                               66665.233794\n",
      "                                                       ...     \n",
      "FP Markets                                         66668.233794\n",
      "FP Boss                                            66668.233794\n",
      "FP FCU                                             66621.233794\n",
      "Fast Tract Diet                                    66634.233794\n",
      "Gold Quote - Gold.fr                               66573.233794\n",
      "Name: Reviews, Length: 941, dtype: float64\n",
      "Varianza de reviews: 57956018239.830574\n",
      "Desviación tipica de reviews: 240740.56209918298\n",
      "Moda y frecuencia de reviews [nan] [58]\n",
      "Mediana de reviews es: 1601.0\n",
      "La media ponderada de reviews es: (66669.23379383633+0j)\n",
      "Coeficiente de variación de reviews: 3.6109693842235178\n"
     ]
    }
   ],
   "source": [
    "#Resumen datos reviews\n",
    "\n",
    "print(\"Datos reviews:\")\n",
    "\n",
    "print(\"Media de reviews:\",media_reviews)\n",
    "print(\"Desviación respecto a la media sobre reviews:\",desv_media_reviews)\n",
    "print(\"Varianza de reviews:\",varianza_reviews)\n",
    "print(\"Desviación tipica de reviews:\",desviacion_tipica_reviews)\n",
    "print(\"Moda y frecuencia de reviews\",moda ,frecuencia_reviews)\n",
    "print(\"Mediana de reviews es:\",mediana_reviews)\n",
    "print(\"La media ponderada de reviews es:\",avg_reviews)\n",
    "print(\"Coeficiente de variación de reviews:\",coef_var_reviews)\n"
   ]
  },
  {
   "cell_type": "code",
   "execution_count": 29,
   "metadata": {},
   "outputs": [
    {
     "name": "stdout",
     "output_type": "stream",
     "text": [
      "Datos rating:\n",
      "Varianza de rating: 0.4098479581467124\n",
      "Desviación respecto a la media sobre Rating : App\n",
      "Moco+ - Chat, Meet People                          0.053742\n",
      "Calculator                                         1.546258\n",
      "Truth or Dare Pro                                       NaN\n",
      "Private Dating, Hide App- Blue for PrivacyHider         NaN\n",
      "Ad Blocker for SayHi                                    NaN\n",
      "                                                     ...   \n",
      "FP Markets                                              NaN\n",
      "FP Boss                                                 NaN\n",
      "FP FCU                                             0.546258\n",
      "Fast Tract Diet                                    0.253742\n",
      "Gold Quote - Gold.fr                                    NaN\n",
      "Name: Rating, Length: 941, dtype: float64\n",
      "Desviación tipica de rating: 0.640193687993495\n",
      "Moda y frecuencia de rating [nan] [126]\n",
      "Mediana de rating es: nan\n",
      "La media ponderada de rating es: (nan+nanj)\n",
      "Coeficiente de variación de rating: 0.1544027745367834\n"
     ]
    }
   ],
   "source": [
    "#Resumen datos rating\n",
    "\n",
    "print(\"Datos rating:\")\n",
    "\n",
    "print(\"Varianza de rating:\",varianza_rating)\n",
    "print(\"Desviación respecto a la media sobre Rating :\",desv_media_rating)\n",
    "print(\"Desviación tipica de rating:\",desviacion_tipica_rating)\n",
    "print(\"Moda y frecuencia de rating\",moda ,frecuencia_rating)\n",
    "print(\"Mediana de rating es:\", mediana_rating)\n",
    "print(\"La media ponderada de rating es:\",avg_rating)\n",
    "print(\"Coeficiente de variación de rating:\",coef_var_rating)"
   ]
  }
 ],
 "metadata": {
  "interpreter": {
   "hash": "328661ec968ebc77b93161299d44fd1f4547ee33c9a17c5e95f23064c7c08def"
  },
  "kernelspec": {
   "display_name": "Python 3.9.7 ('base')",
   "language": "python",
   "name": "python3"
  },
  "language_info": {
   "codemirror_mode": {
    "name": "ipython",
    "version": 3
   },
   "file_extension": ".py",
   "mimetype": "text/x-python",
   "name": "python",
   "nbconvert_exporter": "python",
   "pygments_lexer": "ipython3",
   "version": "3.9.7"
  },
  "orig_nbformat": 4
 },
 "nbformat": 4,
 "nbformat_minor": 2
}

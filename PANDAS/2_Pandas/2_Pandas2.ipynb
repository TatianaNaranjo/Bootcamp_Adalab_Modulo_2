{
 "cells": [
  {
   "cell_type": "markdown",
   "metadata": {},
   "source": [
    "# 19/04 - Pair Programming Pandas 2 - Tatiana & Lara"
   ]
  },
  {
   "cell_type": "code",
   "execution_count": 1,
   "metadata": {},
   "outputs": [],
   "source": [
    "import pandas as pd\n",
    "import numpy as np\n",
    "import pickle"
   ]
  },
  {
   "cell_type": "markdown",
   "metadata": {},
   "source": [
    "Carga de archivo CSV"
   ]
  },
  {
   "cell_type": "code",
   "execution_count": 2,
   "metadata": {},
   "outputs": [
    {
     "data": {
      "text/html": [
       "<div>\n",
       "<style scoped>\n",
       "    .dataframe tbody tr th:only-of-type {\n",
       "        vertical-align: middle;\n",
       "    }\n",
       "\n",
       "    .dataframe tbody tr th {\n",
       "        vertical-align: top;\n",
       "    }\n",
       "\n",
       "    .dataframe thead th {\n",
       "        text-align: right;\n",
       "    }\n",
       "</style>\n",
       "<table border=\"1\" class=\"dataframe\">\n",
       "  <thead>\n",
       "    <tr style=\"text-align: right;\">\n",
       "      <th></th>\n",
       "      <th>tipo</th>\n",
       "      <th>estado</th>\n",
       "      <th>canal_entrada</th>\n",
       "      <th>fecha_entrada</th>\n",
       "      <th>fecha_contestacion</th>\n",
       "      <th>consejeria</th>\n",
       "      <th>unidad_descripcion</th>\n",
       "      <th>tema</th>\n",
       "      <th>subtema</th>\n",
       "    </tr>\n",
       "  </thead>\n",
       "  <tbody>\n",
       "    <tr>\n",
       "      <th>0</th>\n",
       "      <td>Queja</td>\n",
       "      <td>Recepcionada por Unidad</td>\n",
       "      <td>INTERNET</td>\n",
       "      <td>2022-01-28 00:00:00</td>\n",
       "      <td>NaN</td>\n",
       "      <td>Consejería de Medio Ambiente, Vivienda y Agric...</td>\n",
       "      <td>D.G. de Descarbonización y Transición Energética</td>\n",
       "      <td>ENERGÍA</td>\n",
       "      <td>NaN</td>\n",
       "    </tr>\n",
       "    <tr>\n",
       "      <th>1</th>\n",
       "      <td>Queja</td>\n",
       "      <td>Recepcionada por Unidad</td>\n",
       "      <td>INTERNET</td>\n",
       "      <td>2022-03-28 00:00:00</td>\n",
       "      <td>NaN</td>\n",
       "      <td>Consejería de Medio Ambiente, Vivienda y Agric...</td>\n",
       "      <td>D.G. de Descarbonización y Transición Energética</td>\n",
       "      <td>ENERGÍA</td>\n",
       "      <td>NaN</td>\n",
       "    </tr>\n",
       "  </tbody>\n",
       "</table>\n",
       "</div>"
      ],
      "text/plain": [
       "    tipo                   estado canal_entrada        fecha_entrada  \\\n",
       "0  Queja  Recepcionada por Unidad      INTERNET  2022-01-28 00:00:00   \n",
       "1  Queja  Recepcionada por Unidad      INTERNET  2022-03-28 00:00:00   \n",
       "\n",
       "  fecha_contestacion                                         consejeria  \\\n",
       "0                NaN  Consejería de Medio Ambiente, Vivienda y Agric...   \n",
       "1                NaN  Consejería de Medio Ambiente, Vivienda y Agric...   \n",
       "\n",
       "                                 unidad_descripcion     tema subtema  \n",
       "0  D.G. de Descarbonización y Transición Energética  ENERGÍA     NaN  \n",
       "1  D.G. de Descarbonización y Transición Energética  ENERGÍA     NaN  "
      ]
     },
     "execution_count": 2,
     "metadata": {},
     "output_type": "execute_result"
    }
   ],
   "source": [
    "#CSV\n",
    "csv = pd.read_csv(\"2_quejas.csv\", sep = \";\", encoding = \"latin-1\")\n",
    "csv.head(2)"
   ]
  },
  {
   "cell_type": "markdown",
   "metadata": {},
   "source": [
    "Carga de archivo XLSX"
   ]
  },
  {
   "cell_type": "code",
   "execution_count": 3,
   "metadata": {},
   "outputs": [
    {
     "data": {
      "text/html": [
       "<div>\n",
       "<style scoped>\n",
       "    .dataframe tbody tr th:only-of-type {\n",
       "        vertical-align: middle;\n",
       "    }\n",
       "\n",
       "    .dataframe tbody tr th {\n",
       "        vertical-align: top;\n",
       "    }\n",
       "\n",
       "    .dataframe thead th {\n",
       "        text-align: right;\n",
       "    }\n",
       "</style>\n",
       "<table border=\"1\" class=\"dataframe\">\n",
       "  <thead>\n",
       "    <tr style=\"text-align: right;\">\n",
       "      <th></th>\n",
       "      <th>DESCRIPCION_TEMA</th>\n",
       "      <th>DESCRIPCION_SUBTEMA</th>\n",
       "    </tr>\n",
       "  </thead>\n",
       "  <tbody>\n",
       "    <tr>\n",
       "      <th>0</th>\n",
       "      <td>ATENCIÓN AL CIUDADANO</td>\n",
       "      <td>ADMINISTRACIÓN ELECTRÓNICA</td>\n",
       "    </tr>\n",
       "    <tr>\n",
       "      <th>1</th>\n",
       "      <td>ATENCIÓN AL CIUDADANO</td>\n",
       "      <td>FUNCIÓN PÚBLICA</td>\n",
       "    </tr>\n",
       "  </tbody>\n",
       "</table>\n",
       "</div>"
      ],
      "text/plain": [
       "        DESCRIPCION_TEMA         DESCRIPCION_SUBTEMA\n",
       "0  ATENCIÓN AL CIUDADANO  ADMINISTRACIÓN ELECTRÓNICA\n",
       "1  ATENCIÓN AL CIUDADANO             FUNCIÓN PÚBLICA"
      ]
     },
     "execution_count": 3,
     "metadata": {},
     "output_type": "execute_result"
    }
   ],
   "source": [
    "#XLSX\n",
    "import openpyxl\n",
    "\n",
    "xlsx = pd.read_excel(\"2_quejas.xlsx\")\n",
    "xlsx.head(2)\n"
   ]
  },
  {
   "cell_type": "markdown",
   "metadata": {},
   "source": [
    "Carga de archivo JSON"
   ]
  },
  {
   "cell_type": "code",
   "execution_count": null,
   "metadata": {},
   "outputs": [
    {
     "data": {
      "text/html": [
       "<div>\n",
       "<style scoped>\n",
       "    .dataframe tbody tr th:only-of-type {\n",
       "        vertical-align: middle;\n",
       "    }\n",
       "\n",
       "    .dataframe tbody tr th {\n",
       "        vertical-align: top;\n",
       "    }\n",
       "\n",
       "    .dataframe thead th {\n",
       "        text-align: right;\n",
       "    }\n",
       "</style>\n",
       "<table border=\"1\" class=\"dataframe\">\n",
       "  <thead>\n",
       "    <tr style=\"text-align: right;\">\n",
       "      <th></th>\n",
       "      <th>data</th>\n",
       "    </tr>\n",
       "  </thead>\n",
       "  <tbody>\n",
       "    <tr>\n",
       "      <th>0</th>\n",
       "      <td>{'unidad_descripcion': 'D.G. de Descarbonizaci...</td>\n",
       "    </tr>\n",
       "    <tr>\n",
       "      <th>1</th>\n",
       "      <td>{'unidad_descripcion': 'D.G. de Descarbonizaci...</td>\n",
       "    </tr>\n",
       "  </tbody>\n",
       "</table>\n",
       "</div>"
      ],
      "text/plain": [
       "                                                data\n",
       "0  {'unidad_descripcion': 'D.G. de Descarbonizaci...\n",
       "1  {'unidad_descripcion': 'D.G. de Descarbonizaci..."
      ]
     },
     "execution_count": 6,
     "metadata": {},
     "output_type": "execute_result"
    }
   ],
   "source": [
    "#JSON\n",
    "\n",
    "json = pd.read_json(\"2_quejas.json\")\n",
    "json.head(2)"
   ]
  },
  {
   "cell_type": "code",
   "execution_count": null,
   "metadata": {},
   "outputs": [
    {
     "data": {
      "text/html": [
       "<div>\n",
       "<style scoped>\n",
       "    .dataframe tbody tr th:only-of-type {\n",
       "        vertical-align: middle;\n",
       "    }\n",
       "\n",
       "    .dataframe tbody tr th {\n",
       "        vertical-align: top;\n",
       "    }\n",
       "\n",
       "    .dataframe thead th {\n",
       "        text-align: right;\n",
       "    }\n",
       "</style>\n",
       "<table border=\"1\" class=\"dataframe\">\n",
       "  <thead>\n",
       "    <tr style=\"text-align: right;\">\n",
       "      <th></th>\n",
       "      <th>unidad_descripcion</th>\n",
       "      <th>tipo</th>\n",
       "      <th>estado</th>\n",
       "      <th>tema</th>\n",
       "      <th>consejeria</th>\n",
       "      <th>fecha_contestacion</th>\n",
       "      <th>canal_entrada</th>\n",
       "      <th>fecha_entrada</th>\n",
       "      <th>subtema</th>\n",
       "    </tr>\n",
       "  </thead>\n",
       "  <tbody>\n",
       "    <tr>\n",
       "      <th>0</th>\n",
       "      <td>D.G. de Descarbonización y Transición Energética</td>\n",
       "      <td>Queja</td>\n",
       "      <td>Recepcionada por Unidad</td>\n",
       "      <td>ENERGÍA</td>\n",
       "      <td>Consejería de Medio Ambiente, Vivienda y Agric...</td>\n",
       "      <td></td>\n",
       "      <td>INTERNET</td>\n",
       "      <td>2022-01-28 00:00:00</td>\n",
       "      <td>N/A</td>\n",
       "    </tr>\n",
       "    <tr>\n",
       "      <th>1</th>\n",
       "      <td>D.G. de Descarbonización y Transición Energética</td>\n",
       "      <td>Queja</td>\n",
       "      <td>Recepcionada por Unidad</td>\n",
       "      <td>ENERGÍA</td>\n",
       "      <td>Consejería de Medio Ambiente, Vivienda y Agric...</td>\n",
       "      <td></td>\n",
       "      <td>INTERNET</td>\n",
       "      <td>2022-03-28 00:00:00</td>\n",
       "      <td>N/A</td>\n",
       "    </tr>\n",
       "  </tbody>\n",
       "</table>\n",
       "</div>"
      ],
      "text/plain": [
       "                                 unidad_descripcion   tipo  \\\n",
       "0  D.G. de Descarbonización y Transición Energética  Queja   \n",
       "1  D.G. de Descarbonización y Transición Energética  Queja   \n",
       "\n",
       "                    estado     tema  \\\n",
       "0  Recepcionada por Unidad  ENERGÍA   \n",
       "1  Recepcionada por Unidad  ENERGÍA   \n",
       "\n",
       "                                          consejeria fecha_contestacion  \\\n",
       "0  Consejería de Medio Ambiente, Vivienda y Agric...                      \n",
       "1  Consejería de Medio Ambiente, Vivienda y Agric...                      \n",
       "\n",
       "  canal_entrada        fecha_entrada subtema  \n",
       "0      INTERNET  2022-01-28 00:00:00     N/A  \n",
       "1      INTERNET  2022-03-28 00:00:00     N/A  "
      ]
     },
     "execution_count": 7,
     "metadata": {},
     "output_type": "execute_result"
    }
   ],
   "source": [
    "#Transformamos JSON a formato legible\n",
    "json_legible = json[\"data\"].apply(pd.Series)\n",
    "json_legible.head(2)"
   ]
  },
  {
   "cell_type": "markdown",
   "metadata": {},
   "source": [
    "Carga de archivo pickle"
   ]
  },
  {
   "cell_type": "markdown",
   "metadata": {},
   "source": [
    "CSV de quejas, lo guardamos como pickle.\n",
    "Y ya podemos probar el método pd.read_pickle"
   ]
  },
  {
   "cell_type": "code",
   "execution_count": 9,
   "metadata": {},
   "outputs": [],
   "source": [
    "csv_pick = pd.read_csv(\"2_quejas.csv\", sep = \";\", encoding = \"latin-1\")\n",
    "alternative_pickle = csv_pick.to_pickle(\"alternative_pickle.pickle\")"
   ]
  },
  {
   "cell_type": "code",
   "execution_count": 10,
   "metadata": {},
   "outputs": [
    {
     "data": {
      "text/html": [
       "<div>\n",
       "<style scoped>\n",
       "    .dataframe tbody tr th:only-of-type {\n",
       "        vertical-align: middle;\n",
       "    }\n",
       "\n",
       "    .dataframe tbody tr th {\n",
       "        vertical-align: top;\n",
       "    }\n",
       "\n",
       "    .dataframe thead th {\n",
       "        text-align: right;\n",
       "    }\n",
       "</style>\n",
       "<table border=\"1\" class=\"dataframe\">\n",
       "  <thead>\n",
       "    <tr style=\"text-align: right;\">\n",
       "      <th></th>\n",
       "      <th>tipo</th>\n",
       "      <th>estado</th>\n",
       "      <th>canal_entrada</th>\n",
       "      <th>fecha_entrada</th>\n",
       "      <th>fecha_contestacion</th>\n",
       "      <th>consejeria</th>\n",
       "      <th>unidad_descripcion</th>\n",
       "      <th>tema</th>\n",
       "      <th>subtema</th>\n",
       "    </tr>\n",
       "  </thead>\n",
       "  <tbody>\n",
       "    <tr>\n",
       "      <th>0</th>\n",
       "      <td>Queja</td>\n",
       "      <td>Recepcionada por Unidad</td>\n",
       "      <td>INTERNET</td>\n",
       "      <td>2022-01-28 00:00:00</td>\n",
       "      <td>NaN</td>\n",
       "      <td>Consejería de Medio Ambiente, Vivienda y Agric...</td>\n",
       "      <td>D.G. de Descarbonización y Transición Energética</td>\n",
       "      <td>ENERGÍA</td>\n",
       "      <td>NaN</td>\n",
       "    </tr>\n",
       "    <tr>\n",
       "      <th>1</th>\n",
       "      <td>Queja</td>\n",
       "      <td>Recepcionada por Unidad</td>\n",
       "      <td>INTERNET</td>\n",
       "      <td>2022-03-28 00:00:00</td>\n",
       "      <td>NaN</td>\n",
       "      <td>Consejería de Medio Ambiente, Vivienda y Agric...</td>\n",
       "      <td>D.G. de Descarbonización y Transición Energética</td>\n",
       "      <td>ENERGÍA</td>\n",
       "      <td>NaN</td>\n",
       "    </tr>\n",
       "  </tbody>\n",
       "</table>\n",
       "</div>"
      ],
      "text/plain": [
       "    tipo                   estado canal_entrada        fecha_entrada  \\\n",
       "0  Queja  Recepcionada por Unidad      INTERNET  2022-01-28 00:00:00   \n",
       "1  Queja  Recepcionada por Unidad      INTERNET  2022-03-28 00:00:00   \n",
       "\n",
       "  fecha_contestacion                                         consejeria  \\\n",
       "0                NaN  Consejería de Medio Ambiente, Vivienda y Agric...   \n",
       "1                NaN  Consejería de Medio Ambiente, Vivienda y Agric...   \n",
       "\n",
       "                                 unidad_descripcion     tema subtema  \n",
       "0  D.G. de Descarbonización y Transición Energética  ENERGÍA     NaN  \n",
       "1  D.G. de Descarbonización y Transición Energética  ENERGÍA     NaN  "
      ]
     },
     "execution_count": 10,
     "metadata": {},
     "output_type": "execute_result"
    }
   ],
   "source": [
    "pick = pd.read_pickle(\"alternative_pickle.pickle\")\n",
    "pick.head(2)"
   ]
  },
  {
   "cell_type": "markdown",
   "metadata": {},
   "source": [
    "Carga y guardado de tabla almacenada en el portapapeles"
   ]
  },
  {
   "cell_type": "code",
   "execution_count": 18,
   "metadata": {},
   "outputs": [
    {
     "data": {
      "text/html": [
       "<div>\n",
       "<style scoped>\n",
       "    .dataframe tbody tr th:only-of-type {\n",
       "        vertical-align: middle;\n",
       "    }\n",
       "\n",
       "    .dataframe tbody tr th {\n",
       "        vertical-align: top;\n",
       "    }\n",
       "\n",
       "    .dataframe thead th {\n",
       "        text-align: right;\n",
       "    }\n",
       "</style>\n",
       "<table border=\"1\" class=\"dataframe\">\n",
       "  <thead>\n",
       "    <tr style=\"text-align: right;\">\n",
       "      <th></th>\n",
       "      <th>NIVEL</th>\n",
       "      <th>MES</th>\n",
       "      <th>AÑO</th>\n",
       "      <th>(*)</th>\n",
       "      <th>MES.1</th>\n",
       "      <th>AÑO.1</th>\n",
       "      <th>MES.2</th>\n",
       "      <th>AÑO.2</th>\n",
       "      <th>MES.3</th>\n",
       "      <th>AÑO.3</th>\n",
       "      <th>MES.4</th>\n",
       "      <th>AÑO.4</th>\n",
       "      <th>MES.5</th>\n",
       "      <th>AÑO.5</th>\n",
       "      <th>MES.6</th>\n",
       "      <th>(**)</th>\n",
       "      <th>AÑO.6</th>\n",
       "      <th>(**).1</th>\n",
       "    </tr>\n",
       "  </thead>\n",
       "  <tbody>\n",
       "    <tr>\n",
       "      <th>0</th>\n",
       "      <td>30</td>\n",
       "      <td>1.060,77</td>\n",
       "      <td>14.850,78</td>\n",
       "      <td>2.275,16</td>\n",
       "      <td>30.922,22</td>\n",
       "      <td>2.110,83</td>\n",
       "      <td>28.983,16</td>\n",
       "      <td>1.978,66</td>\n",
       "      <td>27.452,12</td>\n",
       "      <td>1.849,19</td>\n",
       "      <td>25.674,68</td>\n",
       "      <td>1.716,95</td>\n",
       "      <td>24.025,34</td>\n",
       "      <td>1.706,00</td>\n",
       "      <td>23.884,00</td>\n",
       "      <td>NaN</td>\n",
       "      <td>NaN</td>\n",
       "      <td>NaN</td>\n",
       "    </tr>\n",
       "    <tr>\n",
       "      <th>1</th>\n",
       "      <td>29</td>\n",
       "      <td>951,46</td>\n",
       "      <td>13.320,44</td>\n",
       "      <td>2.165,85</td>\n",
       "      <td>29.391,88</td>\n",
       "      <td>2.001,52</td>\n",
       "      <td>27.452,82</td>\n",
       "      <td>1.869,35</td>\n",
       "      <td>25.921,78</td>\n",
       "      <td>1.739,88</td>\n",
       "      <td>24.144,34</td>\n",
       "      <td>1.607,64</td>\n",
       "      <td>22.495,00</td>\n",
       "      <td>1.592,09</td>\n",
       "      <td>22.289,26</td>\n",
       "      <td>NaN</td>\n",
       "      <td>NaN</td>\n",
       "      <td>NaN</td>\n",
       "    </tr>\n",
       "    <tr>\n",
       "      <th>2</th>\n",
       "      <td>28</td>\n",
       "      <td>911,48</td>\n",
       "      <td>12.760,72</td>\n",
       "      <td>2.125,87</td>\n",
       "      <td>28.832,16</td>\n",
       "      <td>1.961,54</td>\n",
       "      <td>26.893,10</td>\n",
       "      <td>1.829,37</td>\n",
       "      <td>25.362,06</td>\n",
       "      <td>1.699,90</td>\n",
       "      <td>23.584,62</td>\n",
       "      <td>1.567,66</td>\n",
       "      <td>21.935,28</td>\n",
       "      <td>1.550,43</td>\n",
       "      <td>21.706,02</td>\n",
       "      <td>NaN</td>\n",
       "      <td>NaN</td>\n",
       "      <td>NaN</td>\n",
       "    </tr>\n",
       "    <tr>\n",
       "      <th>3</th>\n",
       "      <td>27</td>\n",
       "      <td>871,43</td>\n",
       "      <td>12.200,02</td>\n",
       "      <td>2.085,82</td>\n",
       "      <td>28.271,46</td>\n",
       "      <td>1.921,49</td>\n",
       "      <td>26.332,40</td>\n",
       "      <td>1.789,32</td>\n",
       "      <td>24.801,36</td>\n",
       "      <td>1.659,85</td>\n",
       "      <td>23.023,92</td>\n",
       "      <td>1.527,61</td>\n",
       "      <td>21.374,58</td>\n",
       "      <td>1.508,72</td>\n",
       "      <td>21.122,08</td>\n",
       "      <td>NaN</td>\n",
       "      <td>NaN</td>\n",
       "      <td>NaN</td>\n",
       "    </tr>\n",
       "    <tr>\n",
       "      <th>4</th>\n",
       "      <td>26</td>\n",
       "      <td>764,54</td>\n",
       "      <td>10.703,56</td>\n",
       "      <td>1.978,93</td>\n",
       "      <td>26.775,00</td>\n",
       "      <td>1.814,60</td>\n",
       "      <td>24.835,94</td>\n",
       "      <td>1.682,43</td>\n",
       "      <td>23.304,90</td>\n",
       "      <td>1.552,96</td>\n",
       "      <td>21.527,46</td>\n",
       "      <td>1.420,72</td>\n",
       "      <td>19.878,12</td>\n",
       "      <td>1.397,30</td>\n",
       "      <td>19.562</td>\n",
       "      <td>NaN</td>\n",
       "      <td>NaN</td>\n",
       "      <td>NaN</td>\n",
       "    </tr>\n",
       "  </tbody>\n",
       "</table>\n",
       "</div>"
      ],
      "text/plain": [
       "   NIVEL       MES        AÑO       (*)      MES.1     AÑO.1      MES.2  \\\n",
       "0     30  1.060,77  14.850,78  2.275,16  30.922,22  2.110,83  28.983,16   \n",
       "1     29    951,46  13.320,44  2.165,85  29.391,88  2.001,52  27.452,82   \n",
       "2     28    911,48  12.760,72  2.125,87  28.832,16  1.961,54  26.893,10   \n",
       "3     27    871,43  12.200,02  2.085,82  28.271,46  1.921,49  26.332,40   \n",
       "4     26    764,54  10.703,56  1.978,93  26.775,00  1.814,60  24.835,94   \n",
       "\n",
       "      AÑO.2      MES.3     AÑO.3      MES.4     AÑO.4      MES.5     AÑO.5  \\\n",
       "0  1.978,66  27.452,12  1.849,19  25.674,68  1.716,95  24.025,34  1.706,00   \n",
       "1  1.869,35  25.921,78  1.739,88  24.144,34  1.607,64  22.495,00  1.592,09   \n",
       "2  1.829,37  25.362,06  1.699,90  23.584,62  1.567,66  21.935,28  1.550,43   \n",
       "3  1.789,32  24.801,36  1.659,85  23.023,92  1.527,61  21.374,58  1.508,72   \n",
       "4  1.682,43  23.304,90  1.552,96  21.527,46  1.420,72  19.878,12  1.397,30   \n",
       "\n",
       "       MES.6  (**)  AÑO.6  (**).1  \n",
       "0  23.884,00   NaN    NaN     NaN  \n",
       "1  22.289,26   NaN    NaN     NaN  \n",
       "2  21.706,02   NaN    NaN     NaN  \n",
       "3  21.122,08   NaN    NaN     NaN  \n",
       "4     19.562   NaN    NaN     NaN  "
      ]
     },
     "execution_count": 18,
     "metadata": {},
     "output_type": "execute_result"
    }
   ],
   "source": [
    "#CLIPBOARD\n",
    "\n",
    "clip = pd.read_clipboard(sep = \" \")\n",
    "clip"
   ]
  },
  {
   "cell_type": "markdown",
   "metadata": {},
   "source": [
    "https://www.sepg.pap.hacienda.gob.es/sitios/sepg/es-ES/CostesPersonal/EstadisticasInformes/Documents/A%C3%91O%202021/Retribuciones%20personal%20funcionario%202021.pdf"
   ]
  },
  {
   "cell_type": "markdown",
   "metadata": {},
   "source": [
    "Guardado en los siguientes formatos:\n",
    "- csv\n",
    "- excel\n",
    "- json\n",
    "- pickle"
   ]
  },
  {
   "cell_type": "code",
   "execution_count": 21,
   "metadata": {},
   "outputs": [],
   "source": [
    "clip_csv = clip.to_csv(\"archivos_nuevos/clip.csv\")\n",
    "clip_excel = clip.to_excel(\"archivos_nuevos/clip.xlsx\")\n",
    "clip_json = clip.to_json(\"archivos_nuevos/clip.json\")\n",
    "clip_pickle = clip.to_pickle(\"archivos_nuevos/clip.pickle\")"
   ]
  }
 ],
 "metadata": {
  "interpreter": {
   "hash": "31f2aee4e71d21fbe5cf8b01ff0e069b9275f58929596ceb00d14d90e3e16cd6"
  },
  "kernelspec": {
   "display_name": "Python 3.6.9 64-bit",
   "language": "python",
   "name": "python3"
  },
  "language_info": {
   "codemirror_mode": {
    "name": "ipython",
    "version": 3
   },
   "file_extension": ".py",
   "mimetype": "text/x-python",
   "name": "python",
   "nbconvert_exporter": "python",
   "pygments_lexer": "ipython3",
   "version": "3.9.7"
  },
  "orig_nbformat": 4
 },
 "nbformat": 4,
 "nbformat_minor": 2
}

{
 "cells": [
  {
   "cell_type": "markdown",
   "metadata": {},
   "source": [
    "# 06/05 - Pair Programming EDA 3 - Visualización"
   ]
  },
  {
   "cell_type": "markdown",
   "metadata": {},
   "source": [
    "**Hipótesis**\n",
    "\n",
    "Antes de seguir, recordamos las preguntas que nos planteamos al principio del pair programming de EDA para dirigir nuestro análisis.\n",
    "\n",
    "- ¿Es Australia es el sitio más peligroso y letal para estar relajada en la playa?\n",
    "- ¿Hay diferencias entre los paises en los ataques a hombres y mujeres?\n",
    "- ¿Cuáles son las edades que más sufren ataques?\n",
    "- Independientemente de la edad, sufren los hombres más ataques que las mujeres?\n",
    "- ¿En qué mes ocurren más ataques?\n",
    "- ¿Cuál es la relación entre la especie y el tipo de ataque (si es fatal o no)?\n",
    "- ¿Cómo han evolucionado los ataques a lo largo del tiempo?"
   ]
  },
  {
   "cell_type": "markdown",
   "metadata": {},
   "source": [
    "# EJERCICIO 1\n",
    "\n",
    "Estableced el tamaño de las figuras al inicio de vuestro jupyter para que todas tengan las mismas dimensiones."
   ]
  },
  {
   "cell_type": "code",
   "execution_count": 1,
   "metadata": {},
   "outputs": [],
   "source": [
    "import pandas as pd\n",
    "import seaborn as sns\n",
    "import numpy as np\n",
    "import matplotlib.pyplot as plt\n",
    "import sidetable\n",
    "import warnings"
   ]
  },
  {
   "cell_type": "code",
   "execution_count": null,
   "metadata": {},
   "outputs": [],
   "source": [
    "df = pd.read_csv(\"./attackito_supremo.csv\", index_col=0)\n",
    "df.head(2)"
   ]
  },
  {
   "cell_type": "code",
   "execution_count": 3,
   "metadata": {},
   "outputs": [],
   "source": [
    "plt.rcParams[\"figure.figsize\"] = (10,8)\n",
    "warnings.filterwarnings('ignore')"
   ]
  },
  {
   "cell_type": "markdown",
   "metadata": {},
   "source": [
    "# EJERCICIO 2"
   ]
  },
  {
   "cell_type": "markdown",
   "metadata": {},
   "source": [
    "- **¿Cuántos ataques hubo por pais?**"
   ]
  },
  {
   "cell_type": "code",
   "execution_count": null,
   "metadata": {},
   "outputs": [],
   "source": [
    "frecuencia_ataques= df[\"country\"].value_counts()\n",
    "frecuencia_ataques"
   ]
  },
  {
   "cell_type": "markdown",
   "metadata": {},
   "source": [
    "- **¿Se puede ver algo claro si ploteamos todos los paises?**"
   ]
  },
  {
   "cell_type": "code",
   "execution_count": 5,
   "metadata": {},
   "outputs": [
    {
     "data": {
      "image/png": "[encoded data removed]",
      "text/plain": [
       "<Figure size 720x576 with 1 Axes>"
      ]
     },
     "metadata": {
      "needs_background": "light"
     },
     "output_type": "display_data"
    }
   ],
   "source": [
    "#Ploteamos todos los paises para ver el resultado, demasiados paises para ver una distribución clara.\n",
    "ax = sns.countplot(x=\"country\", data=df)"
   ]
  },
  {
   "cell_type": "markdown",
   "metadata": {},
   "source": [
    "- **En caso de que no, seleccionad solo los 10 paises con más ataques y volved a hacer el plot.**"
   ]
  },
  {
   "cell_type": "code",
   "execution_count": 6,
   "metadata": {},
   "outputs": [
    {
     "data": {
      "text/html": [
       "<div>\n",
       "<style scoped>\n",
       "    .dataframe tbody tr th:only-of-type {\n",
       "        vertical-align: middle;\n",
       "    }\n",
       "\n",
       "    .dataframe tbody tr th {\n",
       "        vertical-align: top;\n",
       "    }\n",
       "\n",
       "    .dataframe thead th {\n",
       "        text-align: right;\n",
       "    }\n",
       "</style>\n",
       "<table border=\"1\" class=\"dataframe\">\n",
       "  <thead>\n",
       "    <tr style=\"text-align: right;\">\n",
       "      <th></th>\n",
       "      <th>country</th>\n",
       "      <th>count</th>\n",
       "      <th>percent</th>\n",
       "      <th>cumulative_count</th>\n",
       "      <th>cumulative_percent</th>\n",
       "    </tr>\n",
       "  </thead>\n",
       "  <tbody>\n",
       "    <tr>\n",
       "      <th>0</th>\n",
       "      <td>USA</td>\n",
       "      <td>2222</td>\n",
       "      <td>35.643247</td>\n",
       "      <td>2222</td>\n",
       "      <td>35.643247</td>\n",
       "    </tr>\n",
       "    <tr>\n",
       "      <th>1</th>\n",
       "      <td>AUSTRALIA</td>\n",
       "      <td>1335</td>\n",
       "      <td>21.414822</td>\n",
       "      <td>3557</td>\n",
       "      <td>57.058069</td>\n",
       "    </tr>\n",
       "    <tr>\n",
       "      <th>2</th>\n",
       "      <td>SOUTH AFRICA</td>\n",
       "      <td>577</td>\n",
       "      <td>9.255695</td>\n",
       "      <td>4134</td>\n",
       "      <td>66.313763</td>\n",
       "    </tr>\n",
       "    <tr>\n",
       "      <th>3</th>\n",
       "      <td>PAPUA NEW GUINEA</td>\n",
       "      <td>134</td>\n",
       "      <td>2.149503</td>\n",
       "      <td>4268</td>\n",
       "      <td>68.463266</td>\n",
       "    </tr>\n",
       "    <tr>\n",
       "      <th>4</th>\n",
       "      <td>NEW ZEALAND</td>\n",
       "      <td>127</td>\n",
       "      <td>2.037215</td>\n",
       "      <td>4395</td>\n",
       "      <td>70.500481</td>\n",
       "    </tr>\n",
       "    <tr>\n",
       "      <th>5</th>\n",
       "      <td>BRAZIL</td>\n",
       "      <td>112</td>\n",
       "      <td>1.796599</td>\n",
       "      <td>4507</td>\n",
       "      <td>72.297081</td>\n",
       "    </tr>\n",
       "    <tr>\n",
       "      <th>6</th>\n",
       "      <td>BAHAMAS</td>\n",
       "      <td>109</td>\n",
       "      <td>1.748476</td>\n",
       "      <td>4616</td>\n",
       "      <td>74.045557</td>\n",
       "    </tr>\n",
       "    <tr>\n",
       "      <th>7</th>\n",
       "      <td>MEXICO</td>\n",
       "      <td>88</td>\n",
       "      <td>1.411614</td>\n",
       "      <td>4704</td>\n",
       "      <td>75.457170</td>\n",
       "    </tr>\n",
       "    <tr>\n",
       "      <th>8</th>\n",
       "      <td>ITALY</td>\n",
       "      <td>70</td>\n",
       "      <td>1.122875</td>\n",
       "      <td>4774</td>\n",
       "      <td>76.580045</td>\n",
       "    </tr>\n",
       "    <tr>\n",
       "      <th>9</th>\n",
       "      <td>FIJI</td>\n",
       "      <td>62</td>\n",
       "      <td>0.994546</td>\n",
       "      <td>4836</td>\n",
       "      <td>77.574591</td>\n",
       "    </tr>\n",
       "  </tbody>\n",
       "</table>\n",
       "</div>"
      ],
      "text/plain": [
       "            country  count    percent  cumulative_count  cumulative_percent\n",
       "0               USA   2222  35.643247              2222           35.643247\n",
       "1         AUSTRALIA   1335  21.414822              3557           57.058069\n",
       "2      SOUTH AFRICA    577   9.255695              4134           66.313763\n",
       "3  PAPUA NEW GUINEA    134   2.149503              4268           68.463266\n",
       "4       NEW ZEALAND    127   2.037215              4395           70.500481\n",
       "5            BRAZIL    112   1.796599              4507           72.297081\n",
       "6           BAHAMAS    109   1.748476              4616           74.045557\n",
       "7            MEXICO     88   1.411614              4704           75.457170\n",
       "8             ITALY     70   1.122875              4774           76.580045\n",
       "9              FIJI     62   0.994546              4836           77.574591"
      ]
     },
     "execution_count": 6,
     "metadata": {},
     "output_type": "execute_result"
    }
   ],
   "source": [
    "frecuencia_ataques_10_paises = df.stb.freq(['country'])[:10]\n",
    "frecuencia_ataques_10_paises\n"
   ]
  },
  {
   "cell_type": "code",
   "execution_count": 7,
   "metadata": {},
   "outputs": [
    {
     "data": {
      "image/png": "[encoded data removed]",
      "text/plain": [
       "<Figure size 720x576 with 1 Axes>"
      ]
     },
     "metadata": {
      "needs_background": "light"
     },
     "output_type": "display_data"
    }
   ],
   "source": [
    "ax = sns.barplot(x=\"count\", y=\"country\", data=frecuencia_ataques_10_paises)\n"
   ]
  },
  {
   "cell_type": "markdown",
   "metadata": {},
   "source": [
    "    Countinuamos con nuestro DF pero solo incluimos los 10 paises donde más número de ataques han ocurrido."
   ]
  },
  {
   "cell_type": "code",
   "execution_count": 8,
   "metadata": {},
   "outputs": [
    {
     "data": {
      "text/plain": [
       "USA                 2222\n",
       "AUSTRALIA           1335\n",
       "SOUTH AFRICA         577\n",
       "PAPUA NEW GUINEA     134\n",
       "NEW ZEALAND          127\n",
       "BRAZIL               112\n",
       "BAHAMAS              109\n",
       "MEXICO                88\n",
       "ITALY                 70\n",
       "FIJI                  62\n",
       "Name: country, dtype: int64"
      ]
     },
     "execution_count": 8,
     "metadata": {},
     "output_type": "execute_result"
    }
   ],
   "source": [
    "frecuentes= df[\"country\"].value_counts()[0:10]\n",
    "frecuentes"
   ]
  },
  {
   "cell_type": "markdown",
   "metadata": {},
   "source": [
    "    Para limitar nuestro DF a la valoración anterior con los 10 paises donde han ocurrido más ataques, podemos realizarlo de 2 formas, con LISTAS o DICCIONARIO.\n",
    "    #Finalmente ejecutamos con diccionario.\n",
    "    #Pero dejamos el ejemplo como sería con listas."
   ]
  },
  {
   "cell_type": "code",
   "execution_count": 52,
   "metadata": {},
   "outputs": [],
   "source": [
    "    # Ejemplo lista\n",
    "\n",
    "values = frecuentes.keys().to_list()\n",
    "df= df[df[\"country\"].isin(['USA', 'AUSTRALIA', 'SOUTH AFRICA', 'PAPUA NEW GUINEA', 'NEW ZEALAND', 'BRAZIL', 'BAHAMAS', 'MEXICO', 'ITALY', 'FIJI'])]"
   ]
  },
  {
   "cell_type": "code",
   "execution_count": 10,
   "metadata": {},
   "outputs": [
    {
     "data": {
      "text/plain": [
       "dict_keys(['USA', 'AUSTRALIA', 'SOUTH AFRICA', 'PAPUA NEW GUINEA', 'NEW ZEALAND', 'BRAZIL', 'BAHAMAS', 'MEXICO', 'ITALY', 'FIJI'])"
      ]
     },
     "execution_count": 10,
     "metadata": {},
     "output_type": "execute_result"
    }
   ],
   "source": [
    "    # Con diccionario, podemos usar las variables en .isin() \n",
    "\n",
    "dict_frecuentes =dict(zip(frecuentes.keys(),frecuentes))\n",
    "dict_frecuentes.keys()"
   ]
  },
  {
   "cell_type": "code",
   "execution_count": null,
   "metadata": {},
   "outputs": [],
   "source": [
    "df= df[df[\"country\"].isin(dict_frecuentes.keys())]"
   ]
  },
  {
   "cell_type": "code",
   "execution_count": 72,
   "metadata": {},
   "outputs": [],
   "source": [
    "df_country10= df.copy()"
   ]
  },
  {
   "cell_type": "code",
   "execution_count": 73,
   "metadata": {},
   "outputs": [
    {
     "data": {
      "text/plain": [
       "array(['USA', 'AUSTRALIA', 'MEXICO', 'BRAZIL', 'SOUTH AFRICA', 'BAHAMAS',\n",
       "       'NEW ZEALAND', 'FIJI', 'ITALY', 'PAPUA NEW GUINEA'], dtype=object)"
      ]
     },
     "execution_count": 73,
     "metadata": {},
     "output_type": "execute_result"
    }
   ],
   "source": [
    "df_country10[\"country\"].unique() "
   ]
  },
  {
   "cell_type": "code",
   "execution_count": 56,
   "metadata": {},
   "outputs": [],
   "source": [
    "#Obtenemos la frecuencia de los ataque en nuetro DF para obtener el recuento de ataques \n",
    "frecuencia_country_10= df.stb.freq(['country'])"
   ]
  },
  {
   "cell_type": "code",
   "execution_count": 57,
   "metadata": {},
   "outputs": [
    {
     "data": {
      "image/png": "[encoded data removed]",
      "text/plain": [
       "<Figure size 720x576 with 1 Axes>"
      ]
     },
     "metadata": {
      "needs_background": "light"
     },
     "output_type": "display_data"
    }
   ],
   "source": [
    "ax = sns.barplot(x=\"count\", y=\"country\", data=frecuencia_country_10)"
   ]
  },
  {
   "cell_type": "markdown",
   "metadata": {},
   "source": [
    "    Dando respuesta a nuestra hipotesis, acerca de si es Australia el país más peligroso y letal. Concluimos que en cuanto a número de ataques la hipotesis es falsa. El país con más número de ataques es USA y el segundo es Australia. Además la diferencia es significativa, para el año 2018 USA registró 2.222 ataques, mientras Australia registró 1.335.   "
   ]
  },
  {
   "cell_type": "markdown",
   "metadata": {},
   "source": [
    "\n",
    "- Usando el DataFrame de los 10 paises con más ataques, ¿hay diferencias entre sexos en esos paises?"
   ]
  },
  {
   "cell_type": "code",
   "execution_count": 74,
   "metadata": {},
   "outputs": [],
   "source": [
    "#Sobre los 10 paises con más ataques \n",
    "#Vamos a centrarnos en las categorias \"M\" y \"F\"\n",
    "\n",
    "df_country10= df_country10[df_country10[\"sex_\"].isin([\"M\", \"F\"])]"
   ]
  },
  {
   "cell_type": "code",
   "execution_count": 75,
   "metadata": {},
   "outputs": [
    {
     "data": {
      "text/plain": [
       "array(['F', 'M'], dtype=object)"
      ]
     },
     "execution_count": 75,
     "metadata": {},
     "output_type": "execute_result"
    }
   ],
   "source": [
    "df_country10[\"sex_\"].unique()"
   ]
  },
  {
   "cell_type": "code",
   "execution_count": null,
   "metadata": {},
   "outputs": [],
   "source": [
    "#Este es otro modelo que podemos utilizar con .groupby\n",
    "#Es modelo no es el que vamos a usar, pero es una de las opciones que hemos pensado y lo dejamos aqui a modo de ejemplo nº2\n",
    "ataque_sexo_groupby = pd.DataFrame(df_country10.groupby([\"country\",\"sex_\"])[\"case_number\"].count().sort_values(ascending= False)).reset_index()\n",
    "ataque_sexo_groupby"
   ]
  },
  {
   "cell_type": "code",
   "execution_count": null,
   "metadata": {},
   "outputs": [],
   "source": [
    "# Si examinamos la diferencia de sexos entre los paises de nuestro DF\n",
    "ataque_por_sexo=df_country10.stb.freq(['sex_', 'country'],cum_cols=False)\n",
    "ataque_por_sexo"
   ]
  },
  {
   "cell_type": "code",
   "execution_count": 21,
   "metadata": {},
   "outputs": [
    {
     "data": {
      "text/plain": [
       "Text(0.5, 1.0, 'Número de ataques por país y sexo')"
      ]
     },
     "execution_count": 21,
     "metadata": {},
     "output_type": "execute_result"
    },
    {
     "data": {
      "image/png": "[encoded data removed]",
      "text/plain": [
       "<Figure size 1296x216 with 1 Axes>"
      ]
     },
     "metadata": {
      "needs_background": "light"
     },
     "output_type": "display_data"
    }
   ],
   "source": [
    "fig, ax = plt.subplots(figsize = (18, 3))\n",
    "ax = sns.barplot(x=\"country\", y=\"count\", hue= \"sex_\", data=ataque_por_sexo, palette='pastel')\n",
    "ax.set_title('Número de ataques por país y sexo')"
   ]
  },
  {
   "cell_type": "markdown",
   "metadata": {},
   "source": [
    "    Existe diferencia entre los ataques por sexo en los 10 países seleccionados, siendo los Hombres quienes recibieron más ataques en cada uno de estos países."
   ]
  },
  {
   "cell_type": "markdown",
   "metadata": {},
   "source": [
    "-----"
   ]
  },
  {
   "cell_type": "markdown",
   "metadata": {},
   "source": [
    "- **¿Qué edad recibe mayor número de ataques?**\n",
    "\n",
    "**💡 Pista 💡 Para que esta gráfica nos salga legible tendremos que crear antes grupos de edad. Para hacer esto de una forma sencilla tenemos el método pd.cut() que aprendimos en la lección de Limpieza II.**"
   ]
  },
  {
   "cell_type": "code",
   "execution_count": 76,
   "metadata": {},
   "outputs": [
    {
     "data": {
      "text/plain": [
       "dtype('O')"
      ]
     },
     "execution_count": 76,
     "metadata": {},
     "output_type": "execute_result"
    }
   ],
   "source": [
    "#Comprobamos el tipo, y vemos que es object, debemos cambiar el tipo pero antes hay que examinar los valores y decidir que hacer con ellos\n",
    "df_country10[\"age\"].dtype"
   ]
  },
  {
   "cell_type": "code",
   "execution_count": 77,
   "metadata": {},
   "outputs": [
    {
     "data": {
      "text/plain": [
       "array(['57', '11', '48', nan, '18', '52', '15', '12', '32', '10', '34',\n",
       "       '60', '33', '29', '41', '37', '56', '19', '25', '69', '38', '55',\n",
       "       '35', '46', '14', '28', '20', '54', '7', '31', '17', '40', '3',\n",
       "       '13', '8', '50', '16', '73', '20s', '68', '21', '51', '39', '58',\n",
       "       '30', '26', '22', 'Teen', '47', '61', '65', '42', '36', '66', '43',\n",
       "       '60s', '9', '49', '59', '6', '27', '64', '23', '45', '71', '44',\n",
       "       '62', '63', '70', '24', '40s', '53', '50s', 'teen', '77', '74',\n",
       "       '30s', '5', '86', '12 or 13', 'Teens', '8 or 10', '84', '\\xa0 ',\n",
       "       '30 or 36', '6½', '75', '33 or 37', 'mid-30s', '23 & 20', ' 30',\n",
       "       '7      &    31', ' 28', '20?', \"60's\", '16 to 18', '87', '67',\n",
       "       'Elderly', 'mid-20s', 'Ca. 33', ' ', '74 ', '45 ', '21 or 26',\n",
       "       '>50', 'adult', '? & 19', '9 months', '(adult)', '33 & 37',\n",
       "       '25 or 28', '37, 67, 35, 27,  ? & 27', '30 & 32', '17 & 35',\n",
       "       '\"middle-age\"', '34 & 19', ' 43', '\"young\"', '78', 'F', 'Both 11',\n",
       "       'young', '36 & 23', '  ', 'A.M.', '?    &   14', '10 or 12',\n",
       "       '31 or 33', '2½'], dtype=object)"
      ]
     },
     "execution_count": 77,
     "metadata": {},
     "output_type": "execute_result"
    }
   ],
   "source": [
    "#Siguen siendo demasiados datos que no nos reportan información concreta para trabajar.\n",
    "df_country10[\"age\"].unique()"
   ]
  },
  {
   "cell_type": "code",
   "execution_count": 78,
   "metadata": {},
   "outputs": [
    {
     "data": {
      "text/plain": [
       "0          57\n",
       "1          11\n",
       "2          48\n",
       "6          18\n",
       "7          52\n",
       "        ...  \n",
       "6125    young\n",
       "6171       15\n",
       "6182       21\n",
       "6208       19\n",
       "6220       27\n",
       "Name: age, Length: 2882, dtype: object"
      ]
     },
     "execution_count": 78,
     "metadata": {},
     "output_type": "execute_result"
    }
   ],
   "source": [
    "#Hemos eliminado los NAN que no nos daban información\n",
    "df_country10[\"age\"].dropna()"
   ]
  },
  {
   "cell_type": "code",
   "execution_count": 79,
   "metadata": {},
   "outputs": [],
   "source": [
    "df_country10['age'] = df['age'].astype(str)"
   ]
  },
  {
   "cell_type": "code",
   "execution_count": 80,
   "metadata": {},
   "outputs": [],
   "source": [
    "#Hemos usado regex para dejar solo los números\n",
    "import re\n",
    "patron = \"[0-9]{1,2}\"\n",
    "def limpio (col):\n",
    "    x= re.findall(patron, col)\n",
    "    if len(x)>0:\n",
    "        return x[0]\n",
    "    else:\n",
    "        return \"0\"\n"
   ]
  },
  {
   "cell_type": "code",
   "execution_count": 81,
   "metadata": {},
   "outputs": [],
   "source": [
    "df_country10[\"age\"]= df_country10[\"age\"].apply(limpio)"
   ]
  },
  {
   "cell_type": "code",
   "execution_count": 82,
   "metadata": {},
   "outputs": [
    {
     "data": {
      "text/plain": [
       "array(['57', '11', '48', '0', '18', '52', '15', '12', '32', '10', '34',\n",
       "       '60', '33', '29', '41', '37', '56', '19', '25', '69', '38', '55',\n",
       "       '35', '46', '14', '28', '20', '54', '7', '31', '17', '40', '3',\n",
       "       '13', '8', '50', '16', '73', '68', '21', '51', '39', '58', '30',\n",
       "       '26', '22', '47', '61', '65', '42', '36', '66', '43', '9', '49',\n",
       "       '59', '6', '27', '64', '23', '45', '71', '44', '62', '63', '70',\n",
       "       '24', '53', '77', '74', '5', '86', '84', '75', '87', '67', '78',\n",
       "       '2'], dtype=object)"
      ]
     },
     "execution_count": 82,
     "metadata": {},
     "output_type": "execute_result"
    }
   ],
   "source": [
    "df_country10[\"age\"].unique()"
   ]
  },
  {
   "cell_type": "code",
   "execution_count": 83,
   "metadata": {},
   "outputs": [],
   "source": [
    "df_country10['age'] = df_country10['age'].astype(int)"
   ]
  },
  {
   "cell_type": "code",
   "execution_count": 84,
   "metadata": {},
   "outputs": [
    {
     "data": {
      "text/plain": [
       "dtype('int64')"
      ]
     },
     "execution_count": 84,
     "metadata": {},
     "output_type": "execute_result"
    }
   ],
   "source": [
    "df_country10['age'].dtype"
   ]
  },
  {
   "cell_type": "markdown",
   "metadata": {},
   "source": [
    "    Podríamos sustituir los valores \"0\" por la media de los datos, para que aportarsen algún valor , más real que 0"
   ]
  },
  {
   "cell_type": "code",
   "execution_count": 91,
   "metadata": {},
   "outputs": [
    {
     "data": {
      "text/plain": [
       "27"
      ]
     },
     "execution_count": 91,
     "metadata": {},
     "output_type": "execute_result"
    }
   ],
   "source": [
    "#Es la media de edad\n",
    "media= df_country10[df_country10[\"age\"]>0][\"age\"].mean()\n",
    "media= round(media)\n",
    "media\n"
   ]
  },
  {
   "cell_type": "code",
   "execution_count": 97,
   "metadata": {},
   "outputs": [],
   "source": [
    "df_country10[\"age\"].replace({0: media}, inplace= True)"
   ]
  },
  {
   "cell_type": "code",
   "execution_count": 98,
   "metadata": {},
   "outputs": [
    {
     "data": {
      "text/plain": [
       "array([57, 11, 48, 27, 18, 52, 15, 12, 32, 10, 34, 60, 33, 29, 41, 37, 56,\n",
       "       19, 25, 69, 38, 55, 35, 46, 14, 28, 20, 54,  7, 31, 17, 40,  3, 13,\n",
       "        8, 50, 16, 73, 68, 21, 51, 39, 58, 30, 26, 22, 47, 61, 65, 42, 36,\n",
       "       66, 43,  9, 49, 59,  6, 64, 23, 45, 71, 44, 62, 63, 70, 24, 53, 77,\n",
       "       74,  5, 86, 84, 75, 87, 67, 78,  2])"
      ]
     },
     "execution_count": 98,
     "metadata": {},
     "output_type": "execute_result"
    }
   ],
   "source": [
    "df_country10.age.unique()"
   ]
  },
  {
   "cell_type": "code",
   "execution_count": null,
   "metadata": {},
   "outputs": [],
   "source": [
    "ataques_edades= pd.DataFrame(df_country10.groupby([\"age\",\"country\",\"sex_\"])[\"case_number\"].count().sort_values(ascending= False)).reset_index()\n",
    "ataques_edades"
   ]
  },
  {
   "cell_type": "code",
   "execution_count": null,
   "metadata": {},
   "outputs": [],
   "source": [
    "#Establecemos los rangos de edades y les ponemos label para que salga mejor en la gráfica.\n",
    "ataques_edades[\"age_bins\"] = pd.cut(ataques_edades[\"age\"],bins=[1,10,20,30,40,50,60,70,80,90],labels=['1 a 10', '11 a 20', '21 a 30','31 a 40', '41 a 50',\"51 a 60\", \"61 a 70\", \"70 a 80\", \"81 a 90\"],right=True)\n",
    "ataques_edades.value_counts()"
   ]
  },
  {
   "cell_type": "code",
   "execution_count": 109,
   "metadata": {},
   "outputs": [
    {
     "data": {
      "image/png": "[encoded data removed]",
      "text/plain": [
       "<Figure size 720x576 with 1 Axes>"
      ]
     },
     "metadata": {
      "needs_background": "light"
     },
     "output_type": "display_data"
    }
   ],
   "source": [
    "ax = sns.countplot(x=\"age_bins\",data=ataques_edades, palette='PuBu')"
   ]
  },
  {
   "cell_type": "markdown",
   "metadata": {},
   "source": [
    "    La edad que recibe el mayor número de ataques es el rango de 21 a 30 años. "
   ]
  },
  {
   "cell_type": "markdown",
   "metadata": {},
   "source": [
    "Ataques entre sexos, ¿hay diferencia?"
   ]
  },
  {
   "cell_type": "code",
   "execution_count": null,
   "metadata": {},
   "outputs": [],
   "source": [
    "df_sex= df[df[\"sex_\"].isin([\"M\", \"F\"])]"
   ]
  },
  {
   "cell_type": "code",
   "execution_count": 145,
   "metadata": {},
   "outputs": [
    {
     "data": {
      "image/png": "[encoded data removed]",
      "text/plain": [
       "<Figure size 720x360 with 1 Axes>"
      ]
     },
     "metadata": {
      "needs_background": "light"
     },
     "output_type": "display_data"
    }
   ],
   "source": [
    "fig, ax = plt.subplots(figsize = (10, 5))\n",
    "ax = sns.countplot(x=\"sex_\", data=df_sex, palette='pastel')"
   ]
  },
  {
   "cell_type": "markdown",
   "metadata": {},
   "source": [
    "    Existe una diferencia significativa entre los ataques recibidos por hombres y mujeres. 3.942 ataques fueron a hombres y 509 ataques fueron a mujeres."
   ]
  },
  {
   "cell_type": "markdown",
   "metadata": {},
   "source": [
    "¿Cuando ocurren más ataques? ¿Os sale algo raro en la gráfica? Intentad limpiar un poco los datos para que os salga mejor."
   ]
  },
  {
   "cell_type": "code",
   "execution_count": 136,
   "metadata": {},
   "outputs": [],
   "source": [
    "patron = r\"(Jan|Feb|Mar|Apr|May|Jun|Jul|Aug|Sep|Oct|Nov|Dec)\""
   ]
  },
  {
   "cell_type": "code",
   "execution_count": 137,
   "metadata": {},
   "outputs": [],
   "source": [
    "def sacar_mes(col):\n",
    "    x= re.findall(patron, col)\n",
    "    try:\n",
    "        return x[0]\n",
    "    except:\n",
    "        return \"unspecified\"\n",
    "        "
   ]
  },
  {
   "cell_type": "code",
   "execution_count": 138,
   "metadata": {},
   "outputs": [],
   "source": [
    "df[\"date\"]= df[\"date\"].apply(sacar_mes)"
   ]
  },
  {
   "cell_type": "code",
   "execution_count": 139,
   "metadata": {},
   "outputs": [
    {
     "data": {
      "text/plain": [
       "array(['Jun', 'May', 'Apr', 'Mar', 'Feb', 'Jan', 'Dec', 'Nov', 'Oct',\n",
       "       'Sep', 'Aug', 'Jul', 'unspecified'], dtype=object)"
      ]
     },
     "execution_count": 139,
     "metadata": {},
     "output_type": "execute_result"
    }
   ],
   "source": [
    "df.date.unique()"
   ]
  },
  {
   "cell_type": "code",
   "execution_count": 140,
   "metadata": {},
   "outputs": [],
   "source": [
    "#creamos una variable, que luego usaremos para indicar el orden de visualización de la gráfica\n",
    "orden_meses= \"Jan\", \"Feb\", \"Mar\", \"Apr\", \"May\", \"Jun\", \"Jul\", \"Aug\", \"Sep\", \"Oct\", \"Nov\", \"Dec\", \"unspecified\" "
   ]
  },
  {
   "cell_type": "code",
   "execution_count": 141,
   "metadata": {},
   "outputs": [
    {
     "data": {
      "image/png": "[encoded data removed]",
      "text/plain": [
       "<Figure size 720x576 with 1 Axes>"
      ]
     },
     "metadata": {
      "needs_background": "light"
     },
     "output_type": "display_data"
    }
   ],
   "source": [
    "ax = sns.countplot(x=\"date\", data=df, order= orden_meses) "
   ]
  },
  {
   "cell_type": "markdown",
   "metadata": {},
   "source": [
    "    Julio es el mes del año en que ocurren más ataques de tiburones. "
   ]
  },
  {
   "cell_type": "markdown",
   "metadata": {},
   "source": [
    "👱​🦈​🚨 DANGER ! si eres hombre, entre 21 y 30 años, estas ed vacaciones en USA en julio ... tienes una alta probabilidad de ser atacado por un tiburon. "
   ]
  }
 ],
 "metadata": {
  "interpreter": {
   "hash": "328661ec968ebc77b93161299d44fd1f4547ee33c9a17c5e95f23064c7c08def"
  },
  "kernelspec": {
   "display_name": "Python 3.9.7 ('base')",
   "language": "python",
   "name": "python3"
  },
  "language_info": {
   "codemirror_mode": {
    "name": "ipython",
    "version": 3
   },
   "file_extension": ".py",
   "mimetype": "text/x-python",
   "name": "python",
   "nbconvert_exporter": "python",
   "pygments_lexer": "ipython3",
   "version": "3.9.7"
  },
  "orig_nbformat": 4
 },
 "nbformat": 4,
 "nbformat_minor": 2
}

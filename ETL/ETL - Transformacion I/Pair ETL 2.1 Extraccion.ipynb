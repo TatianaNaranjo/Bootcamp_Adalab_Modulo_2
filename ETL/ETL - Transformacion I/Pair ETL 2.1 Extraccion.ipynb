{
 "cells": [
  {
   "cell_type": "markdown",
   "metadata": {},
   "source": [
    "# 17/05 - Pair Programming ETL 1 - Lidia y Tatiana"
   ]
  },
  {
   "cell_type": "markdown",
   "metadata": {},
   "source": [
    "Tendréis que usar el csv attacks_limpieza_completa.\n",
    "\n",
    "En la lección de hoy aprendimos como transformar nuestros datos para que estén preparados para almacearlos en una BBDD.\n",
    " \n",
    "En este momento tenemos dos fuentes de datos:\n",
    "\n",
    "- El csv con los ataques de tiburones que hemos estado limpiando hasta ahora. Usad el que no tenía las variables categóricas codificadas.\n",
    "- El csv con los datos climáticos de los principales paises que tienen ataques de tiburones."
   ]
  },
  {
   "cell_type": "markdown",
   "metadata": {},
   "source": [
    "El objetivo de la sesión de hoy será juntar en un único csv la información de ambas fuentes. Para ello:\n",
    "\n",
    "- Cargaremos los dos ficheros de datos\n",
    "\n",
    "Del dataframe de los ataques nos quedaremos solo con las filas de los paises que seleccionamos en la lección de ayer:\n",
    "\n",
    ">USA\n",
    "\n",
    ">Australia\n",
    "\n",
    ">New Zealand\n",
    "\n",
    ">South Africa\n",
    "\n",
    ">Papua New Guinea"
   ]
  },
  {
   "cell_type": "code",
   "execution_count": 133,
   "metadata": {},
   "outputs": [],
   "source": [
    "import requests\n",
    "import pandas as pd\n",
    "import numpy as np\n",
    "\n",
    "from datetime import datetime, timedelta"
   ]
  },
  {
   "cell_type": "code",
   "execution_count": 134,
   "metadata": {},
   "outputs": [],
   "source": [
    "# Cargamos el primer archivo\n",
    "df = pd.read_csv(\"./attacks_limpieza_completa.csv\", index_col = 0)\n",
    "df.reset_index(inplace=True)"
   ]
  },
  {
   "cell_type": "code",
   "execution_count": 135,
   "metadata": {},
   "outputs": [
    {
     "data": {
      "text/html": [
       "<div>\n",
       "<style scoped>\n",
       "    .dataframe tbody tr th:only-of-type {\n",
       "        vertical-align: middle;\n",
       "    }\n",
       "\n",
       "    .dataframe tbody tr th {\n",
       "        vertical-align: top;\n",
       "    }\n",
       "\n",
       "    .dataframe thead th {\n",
       "        text-align: right;\n",
       "    }\n",
       "</style>\n",
       "<table border=\"1\" class=\"dataframe\">\n",
       "  <thead>\n",
       "    <tr style=\"text-align: right;\">\n",
       "      <th></th>\n",
       "      <th>index</th>\n",
       "      <th>year</th>\n",
       "      <th>type</th>\n",
       "      <th>country</th>\n",
       "      <th>age</th>\n",
       "      <th>species_</th>\n",
       "      <th>fecha_limpia</th>\n",
       "      <th>fatal</th>\n",
       "      <th>sex</th>\n",
       "      <th>latitud</th>\n",
       "      <th>...</th>\n",
       "      <th>fatal_N</th>\n",
       "      <th>fatal_Unknown</th>\n",
       "      <th>fatal_Y</th>\n",
       "      <th>fatal_N.1</th>\n",
       "      <th>fatal_Unknown.1</th>\n",
       "      <th>fatal_Y.1</th>\n",
       "      <th>species_.1</th>\n",
       "      <th>fecha_limpia.1</th>\n",
       "      <th>type.1</th>\n",
       "      <th>age_NORM</th>\n",
       "    </tr>\n",
       "  </thead>\n",
       "  <tbody>\n",
       "    <tr>\n",
       "      <th>0</th>\n",
       "      <td>0</td>\n",
       "      <td>2018</td>\n",
       "      <td>Boating</td>\n",
       "      <td>usa</td>\n",
       "      <td>57.0</td>\n",
       "      <td>White shark</td>\n",
       "      <td>Jun</td>\n",
       "      <td>N</td>\n",
       "      <td>F</td>\n",
       "      <td>39.78373</td>\n",
       "      <td>...</td>\n",
       "      <td>1</td>\n",
       "      <td>0</td>\n",
       "      <td>0</td>\n",
       "      <td>1</td>\n",
       "      <td>0</td>\n",
       "      <td>0</td>\n",
       "      <td>4</td>\n",
       "      <td>7</td>\n",
       "      <td>1</td>\n",
       "      <td>9.116327</td>\n",
       "    </tr>\n",
       "    <tr>\n",
       "      <th>1</th>\n",
       "      <td>1</td>\n",
       "      <td>2018</td>\n",
       "      <td>Unprovoked</td>\n",
       "      <td>usa</td>\n",
       "      <td>11.0</td>\n",
       "      <td>Unespecific</td>\n",
       "      <td>Jun</td>\n",
       "      <td>N</td>\n",
       "      <td>F</td>\n",
       "      <td>39.78373</td>\n",
       "      <td>...</td>\n",
       "      <td>1</td>\n",
       "      <td>0</td>\n",
       "      <td>0</td>\n",
       "      <td>1</td>\n",
       "      <td>0</td>\n",
       "      <td>0</td>\n",
       "      <td>3</td>\n",
       "      <td>7</td>\n",
       "      <td>7</td>\n",
       "      <td>3.804860</td>\n",
       "    </tr>\n",
       "  </tbody>\n",
       "</table>\n",
       "<p>2 rows × 22 columns</p>\n",
       "</div>"
      ],
      "text/plain": [
       "   index  year        type country   age     species_ fecha_limpia fatal sex  \\\n",
       "0      0  2018     Boating     usa  57.0  White shark          Jun     N   F   \n",
       "1      1  2018  Unprovoked     usa  11.0  Unespecific          Jun     N   F   \n",
       "\n",
       "    latitud  ...  fatal_N fatal_Unknown  fatal_Y  fatal_N.1  fatal_Unknown.1  \\\n",
       "0  39.78373  ...        1             0        0          1                0   \n",
       "1  39.78373  ...        1             0        0          1                0   \n",
       "\n",
       "   fatal_Y.1  species_.1  fecha_limpia.1  type.1  age_NORM  \n",
       "0          0           4               7       1  9.116327  \n",
       "1          0           3               7       7  3.804860  \n",
       "\n",
       "[2 rows x 22 columns]"
      ]
     },
     "execution_count": 135,
     "metadata": {},
     "output_type": "execute_result"
    }
   ],
   "source": [
    "df.head(2)"
   ]
  },
  {
   "cell_type": "code",
   "execution_count": 136,
   "metadata": {},
   "outputs": [],
   "source": [
    "# Del primer archivo seleccionamos solo los paises que nos interesan\n",
    "df_paises= df[df[\"country\"].isin([\"usa\",\"australia\",\"new zealand\", \"south africa\", \"papua new guinea\"])]"
   ]
  },
  {
   "cell_type": "code",
   "execution_count": 137,
   "metadata": {},
   "outputs": [],
   "source": [
    "# Cargamos el segundo archivo\n",
    "df_clima= pd.read_csv(\"./df_completo.csv\", index_col = 0)\n",
    "df_clima.reset_index(inplace=True)"
   ]
  },
  {
   "cell_type": "markdown",
   "metadata": {},
   "source": [
    "Del dataframe de los datos climáticos seleccionaremos todas las columnas.\n",
    "\n",
    "Cuando ya tengamos todos los datos deseados juntaremos los dos csv.\n",
    "\n",
    "Para hacer esta unión tendremos que hacer un groupby en la tabla de clima para sacar una media de las medidas climáticas por pais.\n",
    "\n",
    "Antes de hacer el groupby si nos fijamos tenemos dos columnas rh_profile y wind_profile cuya información es una lista de diccionarios. \n",
    "\n",
    "Si intentamos hacer la media de eso no nos dará un valor real. \n",
    "\n",
    "Como separar esta información en distintas columnas fue un problema al que nos enfrentamos en la clase invertida de ETL-2, donde teníais un Bonus para desempaquetar esta información. En caso de que en aquel ejercicio no lo consigierais os dejamos por aquí una posible solución que nos permite separar esa información en distintas columnas. \n",
    "\n",
    "Os dejamos el código documentado. ⚠️ Os recomendamos que vayáis desgranando el código y viendo lo que nos devuelve cada línea de código para entenderlo mejor."
   ]
  },
  {
   "cell_type": "code",
   "execution_count": 138,
   "metadata": {},
   "outputs": [
    {
     "data": {
      "text/html": [
       "<div>\n",
       "<style scoped>\n",
       "    .dataframe tbody tr th:only-of-type {\n",
       "        vertical-align: middle;\n",
       "    }\n",
       "\n",
       "    .dataframe tbody tr th {\n",
       "        vertical-align: top;\n",
       "    }\n",
       "\n",
       "    .dataframe thead th {\n",
       "        text-align: right;\n",
       "    }\n",
       "</style>\n",
       "<table border=\"1\" class=\"dataframe\">\n",
       "  <thead>\n",
       "    <tr style=\"text-align: right;\">\n",
       "      <th></th>\n",
       "      <th>index</th>\n",
       "      <th>timepoint</th>\n",
       "      <th>cloudcover</th>\n",
       "      <th>highcloud</th>\n",
       "      <th>midcloud</th>\n",
       "      <th>lowcloud</th>\n",
       "      <th>rh_profile</th>\n",
       "      <th>wind_profile</th>\n",
       "      <th>temp2m</th>\n",
       "      <th>lifted_index</th>\n",
       "      <th>rh2m</th>\n",
       "      <th>msl_pressure</th>\n",
       "      <th>prec_type</th>\n",
       "      <th>prec_amount</th>\n",
       "      <th>snow_depth</th>\n",
       "      <th>wind10m.direction</th>\n",
       "      <th>wind10m.speed</th>\n",
       "      <th>pais</th>\n",
       "      <th>latitud</th>\n",
       "      <th>longitud</th>\n",
       "    </tr>\n",
       "  </thead>\n",
       "  <tbody>\n",
       "    <tr>\n",
       "      <th>0</th>\n",
       "      <td>0</td>\n",
       "      <td>3</td>\n",
       "      <td>1</td>\n",
       "      <td>-9999</td>\n",
       "      <td>-9999</td>\n",
       "      <td>-9999</td>\n",
       "      <td>[{'layer': '950mb', 'rh': 5}, {'layer': '900mb...</td>\n",
       "      <td>[{'layer': '950mb', 'direction': 245, 'speed':...</td>\n",
       "      <td>21</td>\n",
       "      <td>2</td>\n",
       "      <td>8</td>\n",
       "      <td>1017</td>\n",
       "      <td>none</td>\n",
       "      <td>0</td>\n",
       "      <td>0</td>\n",
       "      <td>200</td>\n",
       "      <td>2</td>\n",
       "      <td>USA</td>\n",
       "      <td>39.78373</td>\n",
       "      <td>-100.445882</td>\n",
       "    </tr>\n",
       "    <tr>\n",
       "      <th>1</th>\n",
       "      <td>1</td>\n",
       "      <td>6</td>\n",
       "      <td>1</td>\n",
       "      <td>-9999</td>\n",
       "      <td>-9999</td>\n",
       "      <td>-9999</td>\n",
       "      <td>[{'layer': '950mb', 'rh': 5}, {'layer': '900mb...</td>\n",
       "      <td>[{'layer': '950mb', 'direction': 250, 'speed':...</td>\n",
       "      <td>21</td>\n",
       "      <td>2</td>\n",
       "      <td>8</td>\n",
       "      <td>1018</td>\n",
       "      <td>none</td>\n",
       "      <td>0</td>\n",
       "      <td>0</td>\n",
       "      <td>230</td>\n",
       "      <td>2</td>\n",
       "      <td>USA</td>\n",
       "      <td>39.78373</td>\n",
       "      <td>-100.445882</td>\n",
       "    </tr>\n",
       "  </tbody>\n",
       "</table>\n",
       "</div>"
      ],
      "text/plain": [
       "   index  timepoint  cloudcover  highcloud  midcloud  lowcloud  \\\n",
       "0      0          3           1      -9999     -9999     -9999   \n",
       "1      1          6           1      -9999     -9999     -9999   \n",
       "\n",
       "                                          rh_profile  \\\n",
       "0  [{'layer': '950mb', 'rh': 5}, {'layer': '900mb...   \n",
       "1  [{'layer': '950mb', 'rh': 5}, {'layer': '900mb...   \n",
       "\n",
       "                                        wind_profile  temp2m  lifted_index  \\\n",
       "0  [{'layer': '950mb', 'direction': 245, 'speed':...      21             2   \n",
       "1  [{'layer': '950mb', 'direction': 250, 'speed':...      21             2   \n",
       "\n",
       "   rh2m  msl_pressure prec_type  prec_amount  snow_depth  wind10m.direction  \\\n",
       "0     8          1017      none            0           0                200   \n",
       "1     8          1018      none            0           0                230   \n",
       "\n",
       "   wind10m.speed pais   latitud    longitud  \n",
       "0              2  USA  39.78373 -100.445882  \n",
       "1              2  USA  39.78373 -100.445882  "
      ]
     },
     "execution_count": 138,
     "metadata": {},
     "output_type": "execute_result"
    }
   ],
   "source": [
    "df_clima.head(2)"
   ]
  },
  {
   "cell_type": "code",
   "execution_count": 139,
   "metadata": {},
   "outputs": [],
   "source": [
    "import ast"
   ]
  },
  {
   "cell_type": "code",
   "execution_count": 140,
   "metadata": {},
   "outputs": [],
   "source": [
    "df_clima[\"rh_profile\"] =df_clima[\"rh_profile\"].apply(ast.literal_eval)"
   ]
  },
  {
   "cell_type": "code",
   "execution_count": 141,
   "metadata": {},
   "outputs": [
    {
     "data": {
      "text/plain": [
       "[{'layer': '950mb', 'rh': 5},\n",
       " {'layer': '900mb', 'rh': 4},\n",
       " {'layer': '850mb', 'rh': 4},\n",
       " {'layer': '800mb', 'rh': 4},\n",
       " {'layer': '750mb', 'rh': 3},\n",
       " {'layer': '700mb', 'rh': 1},\n",
       " {'layer': '650mb', 'rh': 2},\n",
       " {'layer': '600mb', 'rh': 3},\n",
       " {'layer': '550mb', 'rh': 4},\n",
       " {'layer': '500mb', 'rh': 5},\n",
       " {'layer': '450mb', 'rh': 1},\n",
       " {'layer': '400mb', 'rh': 0},\n",
       " {'layer': '350mb', 'rh': 3},\n",
       " {'layer': '300mb', 'rh': 2},\n",
       " {'layer': '250mb', 'rh': 3},\n",
       " {'layer': '200mb', 'rh': 8}]"
      ]
     },
     "execution_count": 141,
     "metadata": {},
     "output_type": "execute_result"
    }
   ],
   "source": [
    "df_clima.rh_profile[0] "
   ]
  },
  {
   "cell_type": "code",
   "execution_count": 142,
   "metadata": {},
   "outputs": [],
   "source": [
    "rh= df_clima[\"rh_profile\"].apply(pd.Series)"
   ]
  },
  {
   "cell_type": "code",
   "execution_count": 143,
   "metadata": {},
   "outputs": [],
   "source": [
    "for i in range(len(rh.columns)):\n",
    "    nombre = \"rh_\" + str(rh[i].apply(pd.Series)[\"layer\"][0]) \n",
    "    valores = list(rh[i].apply(pd.Series)[\"rh\"])#tenemos que convertirlo a lista para q funcione el insert\n",
    "    df_clima.insert(i, nombre, valores)#insert acepta listas"
   ]
  },
  {
   "cell_type": "code",
   "execution_count": 144,
   "metadata": {},
   "outputs": [
    {
     "data": {
      "text/html": [
       "<div>\n",
       "<style scoped>\n",
       "    .dataframe tbody tr th:only-of-type {\n",
       "        vertical-align: middle;\n",
       "    }\n",
       "\n",
       "    .dataframe tbody tr th {\n",
       "        vertical-align: top;\n",
       "    }\n",
       "\n",
       "    .dataframe thead th {\n",
       "        text-align: right;\n",
       "    }\n",
       "</style>\n",
       "<table border=\"1\" class=\"dataframe\">\n",
       "  <thead>\n",
       "    <tr style=\"text-align: right;\">\n",
       "      <th></th>\n",
       "      <th>rh_950mb</th>\n",
       "      <th>rh_900mb</th>\n",
       "      <th>rh_850mb</th>\n",
       "      <th>rh_800mb</th>\n",
       "      <th>rh_750mb</th>\n",
       "      <th>rh_700mb</th>\n",
       "      <th>rh_650mb</th>\n",
       "      <th>rh_600mb</th>\n",
       "      <th>rh_550mb</th>\n",
       "      <th>rh_500mb</th>\n",
       "      <th>...</th>\n",
       "      <th>rh2m</th>\n",
       "      <th>msl_pressure</th>\n",
       "      <th>prec_type</th>\n",
       "      <th>prec_amount</th>\n",
       "      <th>snow_depth</th>\n",
       "      <th>wind10m.direction</th>\n",
       "      <th>wind10m.speed</th>\n",
       "      <th>pais</th>\n",
       "      <th>latitud</th>\n",
       "      <th>longitud</th>\n",
       "    </tr>\n",
       "  </thead>\n",
       "  <tbody>\n",
       "    <tr>\n",
       "      <th>0</th>\n",
       "      <td>5</td>\n",
       "      <td>4</td>\n",
       "      <td>4</td>\n",
       "      <td>4</td>\n",
       "      <td>3</td>\n",
       "      <td>1</td>\n",
       "      <td>2</td>\n",
       "      <td>3</td>\n",
       "      <td>4</td>\n",
       "      <td>5</td>\n",
       "      <td>...</td>\n",
       "      <td>8</td>\n",
       "      <td>1017</td>\n",
       "      <td>none</td>\n",
       "      <td>0</td>\n",
       "      <td>0</td>\n",
       "      <td>200</td>\n",
       "      <td>2</td>\n",
       "      <td>USA</td>\n",
       "      <td>39.78373</td>\n",
       "      <td>-100.445882</td>\n",
       "    </tr>\n",
       "    <tr>\n",
       "      <th>1</th>\n",
       "      <td>5</td>\n",
       "      <td>4</td>\n",
       "      <td>4</td>\n",
       "      <td>4</td>\n",
       "      <td>1</td>\n",
       "      <td>0</td>\n",
       "      <td>2</td>\n",
       "      <td>3</td>\n",
       "      <td>4</td>\n",
       "      <td>3</td>\n",
       "      <td>...</td>\n",
       "      <td>8</td>\n",
       "      <td>1018</td>\n",
       "      <td>none</td>\n",
       "      <td>0</td>\n",
       "      <td>0</td>\n",
       "      <td>230</td>\n",
       "      <td>2</td>\n",
       "      <td>USA</td>\n",
       "      <td>39.78373</td>\n",
       "      <td>-100.445882</td>\n",
       "    </tr>\n",
       "  </tbody>\n",
       "</table>\n",
       "<p>2 rows × 36 columns</p>\n",
       "</div>"
      ],
      "text/plain": [
       "   rh_950mb  rh_900mb  rh_850mb  rh_800mb  rh_750mb  rh_700mb  rh_650mb  \\\n",
       "0         5         4         4         4         3         1         2   \n",
       "1         5         4         4         4         1         0         2   \n",
       "\n",
       "   rh_600mb  rh_550mb  rh_500mb  ...  rh2m  msl_pressure  prec_type  \\\n",
       "0         3         4         5  ...     8          1017       none   \n",
       "1         3         4         3  ...     8          1018       none   \n",
       "\n",
       "   prec_amount  snow_depth  wind10m.direction  wind10m.speed  pais   latitud  \\\n",
       "0            0           0                200              2   USA  39.78373   \n",
       "1            0           0                230              2   USA  39.78373   \n",
       "\n",
       "     longitud  \n",
       "0 -100.445882  \n",
       "1 -100.445882  \n",
       "\n",
       "[2 rows x 36 columns]"
      ]
     },
     "execution_count": 144,
     "metadata": {},
     "output_type": "execute_result"
    }
   ],
   "source": [
    "df_clima.head(2)"
   ]
  },
  {
   "cell_type": "code",
   "execution_count": 145,
   "metadata": {},
   "outputs": [],
   "source": [
    "df_clima['wind_profile']= df_clima['wind_profile'].apply(ast.literal_eval)"
   ]
  },
  {
   "cell_type": "code",
   "execution_count": 146,
   "metadata": {},
   "outputs": [
    {
     "data": {
      "text/plain": [
       "[{'layer': '950mb', 'direction': 245, 'speed': 2},\n",
       " {'layer': '900mb', 'direction': 230, 'speed': 3},\n",
       " {'layer': '850mb', 'direction': 240, 'speed': 3},\n",
       " {'layer': '800mb', 'direction': 255, 'speed': 2},\n",
       " {'layer': '750mb', 'direction': 265, 'speed': 3},\n",
       " {'layer': '700mb', 'direction': 265, 'speed': 3},\n",
       " {'layer': '650mb', 'direction': 255, 'speed': 3},\n",
       " {'layer': '600mb', 'direction': 250, 'speed': 4},\n",
       " {'layer': '550mb', 'direction': 260, 'speed': 5},\n",
       " {'layer': '500mb', 'direction': 270, 'speed': 5},\n",
       " {'layer': '450mb', 'direction': 285, 'speed': 4},\n",
       " {'layer': '400mb', 'direction': 290, 'speed': 5},\n",
       " {'layer': '350mb', 'direction': 290, 'speed': 5},\n",
       " {'layer': '300mb', 'direction': 300, 'speed': 6},\n",
       " {'layer': '250mb', 'direction': 305, 'speed': 5},\n",
       " {'layer': '200mb', 'direction': 285, 'speed': 5}]"
      ]
     },
     "execution_count": 146,
     "metadata": {},
     "output_type": "execute_result"
    }
   ],
   "source": [
    "df_clima['wind_profile'][0] "
   ]
  },
  {
   "cell_type": "code",
   "execution_count": 147,
   "metadata": {},
   "outputs": [],
   "source": [
    "direction= df_clima[\"wind_profile\"].apply(pd.Series)"
   ]
  },
  {
   "cell_type": "code",
   "execution_count": 148,
   "metadata": {},
   "outputs": [],
   "source": [
    "for i in range(len(direction.columns)):\n",
    "    nombre = \"wind_\" + str(direction[i].apply(pd.Series)[\"layer\"][0]) \n",
    "    valores = list(direction[i].apply(pd.Series)[\"direction\"])#tenemos que convertirlo a lista para q funcione el insert\n",
    "    df_clima.insert(i, nombre, valores)#insert acepta listas"
   ]
  },
  {
   "cell_type": "code",
   "execution_count": 149,
   "metadata": {},
   "outputs": [],
   "source": [
    "speed= df_clima[\"wind_profile\"].apply(pd.Series)"
   ]
  },
  {
   "cell_type": "code",
   "execution_count": 150,
   "metadata": {},
   "outputs": [],
   "source": [
    "for i in range(len(speed.columns)):\n",
    "    nombre = \"wind_speed_\" + str(speed[i].apply(pd.Series)[\"layer\"][0]) \n",
    "    valores = list(speed[i].apply(pd.Series)[\"speed\"])#tenemos que convertirlo a lista para q funcione el insert\n",
    "    df_clima.insert(i, nombre, valores)#insert acepta listas"
   ]
  },
  {
   "cell_type": "code",
   "execution_count": 151,
   "metadata": {},
   "outputs": [
    {
     "data": {
      "text/plain": [
       "Index(['wind_speed_950mb', 'wind_speed_900mb', 'wind_speed_850mb',\n",
       "       'wind_speed_800mb', 'wind_speed_750mb', 'wind_speed_700mb',\n",
       "       'wind_speed_650mb', 'wind_speed_600mb', 'wind_speed_550mb',\n",
       "       'wind_speed_500mb', 'wind_speed_450mb', 'wind_speed_400mb',\n",
       "       'wind_speed_350mb', 'wind_speed_300mb', 'wind_speed_250mb',\n",
       "       'wind_speed_200mb', 'wind_950mb', 'wind_900mb', 'wind_850mb',\n",
       "       'wind_800mb', 'wind_750mb', 'wind_700mb', 'wind_650mb', 'wind_600mb',\n",
       "       'wind_550mb', 'wind_500mb', 'wind_450mb', 'wind_400mb', 'wind_350mb',\n",
       "       'wind_300mb', 'wind_250mb', 'wind_200mb', 'rh_950mb', 'rh_900mb',\n",
       "       'rh_850mb', 'rh_800mb', 'rh_750mb', 'rh_700mb', 'rh_650mb', 'rh_600mb',\n",
       "       'rh_550mb', 'rh_500mb', 'rh_450mb', 'rh_400mb', 'rh_350mb', 'rh_300mb',\n",
       "       'rh_250mb', 'rh_200mb', 'index', 'timepoint', 'cloudcover', 'highcloud',\n",
       "       'midcloud', 'lowcloud', 'rh_profile', 'wind_profile', 'temp2m',\n",
       "       'lifted_index', 'rh2m', 'msl_pressure', 'prec_type', 'prec_amount',\n",
       "       'snow_depth', 'wind10m.direction', 'wind10m.speed', 'pais', 'latitud',\n",
       "       'longitud'],\n",
       "      dtype='object')"
      ]
     },
     "execution_count": 151,
     "metadata": {},
     "output_type": "execute_result"
    }
   ],
   "source": [
    "df_clima.columns #verificamos que todas nuestras columnas esta creadas"
   ]
  },
  {
   "cell_type": "markdown",
   "metadata": {},
   "source": [
    "Sacamos las medias de la tabla de clima por pais"
   ]
  },
  {
   "cell_type": "code",
   "execution_count": 152,
   "metadata": {},
   "outputs": [],
   "source": [
    "df_clima_agrupado= df_clima.groupby(\"pais\").mean()"
   ]
  },
  {
   "cell_type": "code",
   "execution_count": 153,
   "metadata": {},
   "outputs": [
    {
     "data": {
      "text/html": [
       "<div>\n",
       "<style scoped>\n",
       "    .dataframe tbody tr th:only-of-type {\n",
       "        vertical-align: middle;\n",
       "    }\n",
       "\n",
       "    .dataframe tbody tr th {\n",
       "        vertical-align: top;\n",
       "    }\n",
       "\n",
       "    .dataframe thead th {\n",
       "        text-align: right;\n",
       "    }\n",
       "</style>\n",
       "<table border=\"1\" class=\"dataframe\">\n",
       "  <thead>\n",
       "    <tr style=\"text-align: right;\">\n",
       "      <th></th>\n",
       "      <th>wind_speed_950mb</th>\n",
       "      <th>wind_speed_900mb</th>\n",
       "      <th>wind_speed_850mb</th>\n",
       "      <th>wind_speed_800mb</th>\n",
       "      <th>wind_speed_750mb</th>\n",
       "      <th>wind_speed_700mb</th>\n",
       "      <th>wind_speed_650mb</th>\n",
       "      <th>wind_speed_600mb</th>\n",
       "      <th>wind_speed_550mb</th>\n",
       "      <th>wind_speed_500mb</th>\n",
       "      <th>...</th>\n",
       "      <th>temp2m</th>\n",
       "      <th>lifted_index</th>\n",
       "      <th>rh2m</th>\n",
       "      <th>msl_pressure</th>\n",
       "      <th>prec_amount</th>\n",
       "      <th>snow_depth</th>\n",
       "      <th>wind10m.direction</th>\n",
       "      <th>wind10m.speed</th>\n",
       "      <th>latitud</th>\n",
       "      <th>longitud</th>\n",
       "    </tr>\n",
       "    <tr>\n",
       "      <th>pais</th>\n",
       "      <th></th>\n",
       "      <th></th>\n",
       "      <th></th>\n",
       "      <th></th>\n",
       "      <th></th>\n",
       "      <th></th>\n",
       "      <th></th>\n",
       "      <th></th>\n",
       "      <th></th>\n",
       "      <th></th>\n",
       "      <th></th>\n",
       "      <th></th>\n",
       "      <th></th>\n",
       "      <th></th>\n",
       "      <th></th>\n",
       "      <th></th>\n",
       "      <th></th>\n",
       "      <th></th>\n",
       "      <th></th>\n",
       "      <th></th>\n",
       "      <th></th>\n",
       "    </tr>\n",
       "  </thead>\n",
       "  <tbody>\n",
       "    <tr>\n",
       "      <th>Australia</th>\n",
       "      <td>3.125000</td>\n",
       "      <td>2.921875</td>\n",
       "      <td>2.812500</td>\n",
       "      <td>2.640625</td>\n",
       "      <td>2.671875</td>\n",
       "      <td>2.781250</td>\n",
       "      <td>2.859375</td>\n",
       "      <td>3.093750</td>\n",
       "      <td>3.187500</td>\n",
       "      <td>3.359375</td>\n",
       "      <td>...</td>\n",
       "      <td>24.093750</td>\n",
       "      <td>0.37500</td>\n",
       "      <td>10.796875</td>\n",
       "      <td>1019.156250</td>\n",
       "      <td>3.484375</td>\n",
       "      <td>0.0</td>\n",
       "      <td>133.437500</td>\n",
       "      <td>2.984375</td>\n",
       "      <td>-24.776109</td>\n",
       "      <td>134.755000</td>\n",
       "    </tr>\n",
       "    <tr>\n",
       "      <th>New Zealand</th>\n",
       "      <td>5.171875</td>\n",
       "      <td>5.281250</td>\n",
       "      <td>5.375000</td>\n",
       "      <td>5.515625</td>\n",
       "      <td>5.625000</td>\n",
       "      <td>5.859375</td>\n",
       "      <td>6.078125</td>\n",
       "      <td>6.343750</td>\n",
       "      <td>6.703125</td>\n",
       "      <td>7.093750</td>\n",
       "      <td>...</td>\n",
       "      <td>12.781250</td>\n",
       "      <td>3.09375</td>\n",
       "      <td>10.890625</td>\n",
       "      <td>1006.625000</td>\n",
       "      <td>3.671875</td>\n",
       "      <td>0.0</td>\n",
       "      <td>255.000000</td>\n",
       "      <td>4.500000</td>\n",
       "      <td>-41.500083</td>\n",
       "      <td>172.834408</td>\n",
       "    </tr>\n",
       "    <tr>\n",
       "      <th>Papua New Guinea</th>\n",
       "      <td>3.468750</td>\n",
       "      <td>3.421875</td>\n",
       "      <td>3.125000</td>\n",
       "      <td>2.781250</td>\n",
       "      <td>2.281250</td>\n",
       "      <td>2.203125</td>\n",
       "      <td>2.437500</td>\n",
       "      <td>2.609375</td>\n",
       "      <td>2.671875</td>\n",
       "      <td>3.031250</td>\n",
       "      <td>...</td>\n",
       "      <td>26.578125</td>\n",
       "      <td>-0.53125</td>\n",
       "      <td>10.453125</td>\n",
       "      <td>1012.546875</td>\n",
       "      <td>1.921875</td>\n",
       "      <td>0.0</td>\n",
       "      <td>100.546875</td>\n",
       "      <td>3.140625</td>\n",
       "      <td>-5.681607</td>\n",
       "      <td>144.248908</td>\n",
       "    </tr>\n",
       "    <tr>\n",
       "      <th>South Africa</th>\n",
       "      <td>3.859375</td>\n",
       "      <td>4.000000</td>\n",
       "      <td>4.046875</td>\n",
       "      <td>4.265625</td>\n",
       "      <td>4.531250</td>\n",
       "      <td>4.859375</td>\n",
       "      <td>5.218750</td>\n",
       "      <td>5.546875</td>\n",
       "      <td>5.890625</td>\n",
       "      <td>6.437500</td>\n",
       "      <td>...</td>\n",
       "      <td>20.000000</td>\n",
       "      <td>1.90625</td>\n",
       "      <td>10.296875</td>\n",
       "      <td>1016.703125</td>\n",
       "      <td>6.656250</td>\n",
       "      <td>0.0</td>\n",
       "      <td>210.312500</td>\n",
       "      <td>3.468750</td>\n",
       "      <td>-28.816624</td>\n",
       "      <td>24.991639</td>\n",
       "    </tr>\n",
       "    <tr>\n",
       "      <th>USA</th>\n",
       "      <td>2.375000</td>\n",
       "      <td>2.921875</td>\n",
       "      <td>3.281250</td>\n",
       "      <td>3.453125</td>\n",
       "      <td>3.531250</td>\n",
       "      <td>3.593750</td>\n",
       "      <td>3.781250</td>\n",
       "      <td>4.046875</td>\n",
       "      <td>4.171875</td>\n",
       "      <td>4.218750</td>\n",
       "      <td>...</td>\n",
       "      <td>22.609375</td>\n",
       "      <td>1.90625</td>\n",
       "      <td>5.031250</td>\n",
       "      <td>1015.468750</td>\n",
       "      <td>0.000000</td>\n",
       "      <td>0.0</td>\n",
       "      <td>136.093750</td>\n",
       "      <td>2.203125</td>\n",
       "      <td>39.783730</td>\n",
       "      <td>-100.445882</td>\n",
       "    </tr>\n",
       "  </tbody>\n",
       "</table>\n",
       "<p>5 rows × 64 columns</p>\n",
       "</div>"
      ],
      "text/plain": [
       "                  wind_speed_950mb  wind_speed_900mb  wind_speed_850mb  \\\n",
       "pais                                                                     \n",
       "Australia                 3.125000          2.921875          2.812500   \n",
       "New Zealand               5.171875          5.281250          5.375000   \n",
       "Papua New Guinea          3.468750          3.421875          3.125000   \n",
       "South Africa              3.859375          4.000000          4.046875   \n",
       "USA                       2.375000          2.921875          3.281250   \n",
       "\n",
       "                  wind_speed_800mb  wind_speed_750mb  wind_speed_700mb  \\\n",
       "pais                                                                     \n",
       "Australia                 2.640625          2.671875          2.781250   \n",
       "New Zealand               5.515625          5.625000          5.859375   \n",
       "Papua New Guinea          2.781250          2.281250          2.203125   \n",
       "South Africa              4.265625          4.531250          4.859375   \n",
       "USA                       3.453125          3.531250          3.593750   \n",
       "\n",
       "                  wind_speed_650mb  wind_speed_600mb  wind_speed_550mb  \\\n",
       "pais                                                                     \n",
       "Australia                 2.859375          3.093750          3.187500   \n",
       "New Zealand               6.078125          6.343750          6.703125   \n",
       "Papua New Guinea          2.437500          2.609375          2.671875   \n",
       "South Africa              5.218750          5.546875          5.890625   \n",
       "USA                       3.781250          4.046875          4.171875   \n",
       "\n",
       "                  wind_speed_500mb  ...     temp2m  lifted_index       rh2m  \\\n",
       "pais                                ...                                       \n",
       "Australia                 3.359375  ...  24.093750       0.37500  10.796875   \n",
       "New Zealand               7.093750  ...  12.781250       3.09375  10.890625   \n",
       "Papua New Guinea          3.031250  ...  26.578125      -0.53125  10.453125   \n",
       "South Africa              6.437500  ...  20.000000       1.90625  10.296875   \n",
       "USA                       4.218750  ...  22.609375       1.90625   5.031250   \n",
       "\n",
       "                  msl_pressure  prec_amount  snow_depth  wind10m.direction  \\\n",
       "pais                                                                         \n",
       "Australia          1019.156250     3.484375         0.0         133.437500   \n",
       "New Zealand        1006.625000     3.671875         0.0         255.000000   \n",
       "Papua New Guinea   1012.546875     1.921875         0.0         100.546875   \n",
       "South Africa       1016.703125     6.656250         0.0         210.312500   \n",
       "USA                1015.468750     0.000000         0.0         136.093750   \n",
       "\n",
       "                  wind10m.speed    latitud    longitud  \n",
       "pais                                                    \n",
       "Australia              2.984375 -24.776109  134.755000  \n",
       "New Zealand            4.500000 -41.500083  172.834408  \n",
       "Papua New Guinea       3.140625  -5.681607  144.248908  \n",
       "South Africa           3.468750 -28.816624   24.991639  \n",
       "USA                    2.203125  39.783730 -100.445882  \n",
       "\n",
       "[5 rows x 64 columns]"
      ]
     },
     "execution_count": 153,
     "metadata": {},
     "output_type": "execute_result"
    }
   ],
   "source": [
    "df_clima_agrupado"
   ]
  },
  {
   "cell_type": "code",
   "execution_count": 154,
   "metadata": {},
   "outputs": [],
   "source": [
    "df_clima_agrupado= pd.DataFrame(df_clima_agrupado.reset_index())"
   ]
  },
  {
   "cell_type": "code",
   "execution_count": 155,
   "metadata": {},
   "outputs": [
    {
     "data": {
      "text/html": [
       "<div>\n",
       "<style scoped>\n",
       "    .dataframe tbody tr th:only-of-type {\n",
       "        vertical-align: middle;\n",
       "    }\n",
       "\n",
       "    .dataframe tbody tr th {\n",
       "        vertical-align: top;\n",
       "    }\n",
       "\n",
       "    .dataframe thead th {\n",
       "        text-align: right;\n",
       "    }\n",
       "</style>\n",
       "<table border=\"1\" class=\"dataframe\">\n",
       "  <thead>\n",
       "    <tr style=\"text-align: right;\">\n",
       "      <th></th>\n",
       "      <th>pais</th>\n",
       "      <th>wind_speed_950mb</th>\n",
       "      <th>wind_speed_900mb</th>\n",
       "      <th>wind_speed_850mb</th>\n",
       "      <th>wind_speed_800mb</th>\n",
       "      <th>wind_speed_750mb</th>\n",
       "      <th>wind_speed_700mb</th>\n",
       "      <th>wind_speed_650mb</th>\n",
       "      <th>wind_speed_600mb</th>\n",
       "      <th>wind_speed_550mb</th>\n",
       "      <th>...</th>\n",
       "      <th>temp2m</th>\n",
       "      <th>lifted_index</th>\n",
       "      <th>rh2m</th>\n",
       "      <th>msl_pressure</th>\n",
       "      <th>prec_amount</th>\n",
       "      <th>snow_depth</th>\n",
       "      <th>wind10m.direction</th>\n",
       "      <th>wind10m.speed</th>\n",
       "      <th>latitud</th>\n",
       "      <th>longitud</th>\n",
       "    </tr>\n",
       "  </thead>\n",
       "  <tbody>\n",
       "    <tr>\n",
       "      <th>0</th>\n",
       "      <td>Australia</td>\n",
       "      <td>3.125000</td>\n",
       "      <td>2.921875</td>\n",
       "      <td>2.812500</td>\n",
       "      <td>2.640625</td>\n",
       "      <td>2.671875</td>\n",
       "      <td>2.781250</td>\n",
       "      <td>2.859375</td>\n",
       "      <td>3.093750</td>\n",
       "      <td>3.187500</td>\n",
       "      <td>...</td>\n",
       "      <td>24.093750</td>\n",
       "      <td>0.37500</td>\n",
       "      <td>10.796875</td>\n",
       "      <td>1019.156250</td>\n",
       "      <td>3.484375</td>\n",
       "      <td>0.0</td>\n",
       "      <td>133.437500</td>\n",
       "      <td>2.984375</td>\n",
       "      <td>-24.776109</td>\n",
       "      <td>134.755000</td>\n",
       "    </tr>\n",
       "    <tr>\n",
       "      <th>1</th>\n",
       "      <td>New Zealand</td>\n",
       "      <td>5.171875</td>\n",
       "      <td>5.281250</td>\n",
       "      <td>5.375000</td>\n",
       "      <td>5.515625</td>\n",
       "      <td>5.625000</td>\n",
       "      <td>5.859375</td>\n",
       "      <td>6.078125</td>\n",
       "      <td>6.343750</td>\n",
       "      <td>6.703125</td>\n",
       "      <td>...</td>\n",
       "      <td>12.781250</td>\n",
       "      <td>3.09375</td>\n",
       "      <td>10.890625</td>\n",
       "      <td>1006.625000</td>\n",
       "      <td>3.671875</td>\n",
       "      <td>0.0</td>\n",
       "      <td>255.000000</td>\n",
       "      <td>4.500000</td>\n",
       "      <td>-41.500083</td>\n",
       "      <td>172.834408</td>\n",
       "    </tr>\n",
       "    <tr>\n",
       "      <th>2</th>\n",
       "      <td>Papua New Guinea</td>\n",
       "      <td>3.468750</td>\n",
       "      <td>3.421875</td>\n",
       "      <td>3.125000</td>\n",
       "      <td>2.781250</td>\n",
       "      <td>2.281250</td>\n",
       "      <td>2.203125</td>\n",
       "      <td>2.437500</td>\n",
       "      <td>2.609375</td>\n",
       "      <td>2.671875</td>\n",
       "      <td>...</td>\n",
       "      <td>26.578125</td>\n",
       "      <td>-0.53125</td>\n",
       "      <td>10.453125</td>\n",
       "      <td>1012.546875</td>\n",
       "      <td>1.921875</td>\n",
       "      <td>0.0</td>\n",
       "      <td>100.546875</td>\n",
       "      <td>3.140625</td>\n",
       "      <td>-5.681607</td>\n",
       "      <td>144.248908</td>\n",
       "    </tr>\n",
       "    <tr>\n",
       "      <th>3</th>\n",
       "      <td>South Africa</td>\n",
       "      <td>3.859375</td>\n",
       "      <td>4.000000</td>\n",
       "      <td>4.046875</td>\n",
       "      <td>4.265625</td>\n",
       "      <td>4.531250</td>\n",
       "      <td>4.859375</td>\n",
       "      <td>5.218750</td>\n",
       "      <td>5.546875</td>\n",
       "      <td>5.890625</td>\n",
       "      <td>...</td>\n",
       "      <td>20.000000</td>\n",
       "      <td>1.90625</td>\n",
       "      <td>10.296875</td>\n",
       "      <td>1016.703125</td>\n",
       "      <td>6.656250</td>\n",
       "      <td>0.0</td>\n",
       "      <td>210.312500</td>\n",
       "      <td>3.468750</td>\n",
       "      <td>-28.816624</td>\n",
       "      <td>24.991639</td>\n",
       "    </tr>\n",
       "    <tr>\n",
       "      <th>4</th>\n",
       "      <td>USA</td>\n",
       "      <td>2.375000</td>\n",
       "      <td>2.921875</td>\n",
       "      <td>3.281250</td>\n",
       "      <td>3.453125</td>\n",
       "      <td>3.531250</td>\n",
       "      <td>3.593750</td>\n",
       "      <td>3.781250</td>\n",
       "      <td>4.046875</td>\n",
       "      <td>4.171875</td>\n",
       "      <td>...</td>\n",
       "      <td>22.609375</td>\n",
       "      <td>1.90625</td>\n",
       "      <td>5.031250</td>\n",
       "      <td>1015.468750</td>\n",
       "      <td>0.000000</td>\n",
       "      <td>0.0</td>\n",
       "      <td>136.093750</td>\n",
       "      <td>2.203125</td>\n",
       "      <td>39.783730</td>\n",
       "      <td>-100.445882</td>\n",
       "    </tr>\n",
       "  </tbody>\n",
       "</table>\n",
       "<p>5 rows × 65 columns</p>\n",
       "</div>"
      ],
      "text/plain": [
       "               pais  wind_speed_950mb  wind_speed_900mb  wind_speed_850mb  \\\n",
       "0         Australia          3.125000          2.921875          2.812500   \n",
       "1       New Zealand          5.171875          5.281250          5.375000   \n",
       "2  Papua New Guinea          3.468750          3.421875          3.125000   \n",
       "3      South Africa          3.859375          4.000000          4.046875   \n",
       "4               USA          2.375000          2.921875          3.281250   \n",
       "\n",
       "   wind_speed_800mb  wind_speed_750mb  wind_speed_700mb  wind_speed_650mb  \\\n",
       "0          2.640625          2.671875          2.781250          2.859375   \n",
       "1          5.515625          5.625000          5.859375          6.078125   \n",
       "2          2.781250          2.281250          2.203125          2.437500   \n",
       "3          4.265625          4.531250          4.859375          5.218750   \n",
       "4          3.453125          3.531250          3.593750          3.781250   \n",
       "\n",
       "   wind_speed_600mb  wind_speed_550mb  ...     temp2m  lifted_index  \\\n",
       "0          3.093750          3.187500  ...  24.093750       0.37500   \n",
       "1          6.343750          6.703125  ...  12.781250       3.09375   \n",
       "2          2.609375          2.671875  ...  26.578125      -0.53125   \n",
       "3          5.546875          5.890625  ...  20.000000       1.90625   \n",
       "4          4.046875          4.171875  ...  22.609375       1.90625   \n",
       "\n",
       "        rh2m  msl_pressure  prec_amount  snow_depth  wind10m.direction  \\\n",
       "0  10.796875   1019.156250     3.484375         0.0         133.437500   \n",
       "1  10.890625   1006.625000     3.671875         0.0         255.000000   \n",
       "2  10.453125   1012.546875     1.921875         0.0         100.546875   \n",
       "3  10.296875   1016.703125     6.656250         0.0         210.312500   \n",
       "4   5.031250   1015.468750     0.000000         0.0         136.093750   \n",
       "\n",
       "   wind10m.speed    latitud    longitud  \n",
       "0       2.984375 -24.776109  134.755000  \n",
       "1       4.500000 -41.500083  172.834408  \n",
       "2       3.140625  -5.681607  144.248908  \n",
       "3       3.468750 -28.816624   24.991639  \n",
       "4       2.203125  39.783730 -100.445882  \n",
       "\n",
       "[5 rows x 65 columns]"
      ]
     },
     "execution_count": 155,
     "metadata": {},
     "output_type": "execute_result"
    }
   ],
   "source": [
    "df_clima_agrupado.head()"
   ]
  },
  {
   "cell_type": "code",
   "execution_count": 156,
   "metadata": {},
   "outputs": [
    {
     "data": {
      "text/plain": [
       "Index(['pais', 'wind_speed_950mb', 'wind_speed_900mb', 'wind_speed_850mb',\n",
       "       'wind_speed_800mb', 'wind_speed_750mb', 'wind_speed_700mb',\n",
       "       'wind_speed_650mb', 'wind_speed_600mb', 'wind_speed_550mb',\n",
       "       'wind_speed_500mb', 'wind_speed_450mb', 'wind_speed_400mb',\n",
       "       'wind_speed_350mb', 'wind_speed_300mb', 'wind_speed_250mb',\n",
       "       'wind_speed_200mb', 'wind_950mb', 'wind_900mb', 'wind_850mb',\n",
       "       'wind_800mb', 'wind_750mb', 'wind_700mb', 'wind_650mb', 'wind_600mb',\n",
       "       'wind_550mb', 'wind_500mb', 'wind_450mb', 'wind_400mb', 'wind_350mb',\n",
       "       'wind_300mb', 'wind_250mb', 'wind_200mb', 'rh_950mb', 'rh_900mb',\n",
       "       'rh_850mb', 'rh_800mb', 'rh_750mb', 'rh_700mb', 'rh_650mb', 'rh_600mb',\n",
       "       'rh_550mb', 'rh_500mb', 'rh_450mb', 'rh_400mb', 'rh_350mb', 'rh_300mb',\n",
       "       'rh_250mb', 'rh_200mb', 'index', 'timepoint', 'cloudcover', 'highcloud',\n",
       "       'midcloud', 'lowcloud', 'temp2m', 'lifted_index', 'rh2m',\n",
       "       'msl_pressure', 'prec_amount', 'snow_depth', 'wind10m.direction',\n",
       "       'wind10m.speed', 'latitud', 'longitud'],\n",
       "      dtype='object')"
      ]
     },
     "execution_count": 156,
     "metadata": {},
     "output_type": "execute_result"
    }
   ],
   "source": [
    "df_clima_agrupado.columns "
   ]
  },
  {
   "cell_type": "code",
   "execution_count": 157,
   "metadata": {},
   "outputs": [
    {
     "data": {
      "text/plain": [
       "(4335, 22)"
      ]
     },
     "execution_count": 157,
     "metadata": {},
     "output_type": "execute_result"
    }
   ],
   "source": [
    "df_paises.shape"
   ]
  },
  {
   "cell_type": "code",
   "execution_count": 158,
   "metadata": {},
   "outputs": [
    {
     "data": {
      "text/plain": [
       "(5, 65)"
      ]
     },
     "execution_count": 158,
     "metadata": {},
     "output_type": "execute_result"
    }
   ],
   "source": [
    "df_clima_agrupado.shape"
   ]
  },
  {
   "cell_type": "code",
   "execution_count": 159,
   "metadata": {},
   "outputs": [],
   "source": [
    "def minuscula(col):\n",
    "    try:\n",
    "        col=col.lower\n",
    "    except:\n",
    "        pass\n",
    "    return col\n"
   ]
  },
  {
   "cell_type": "code",
   "execution_count": 160,
   "metadata": {},
   "outputs": [],
   "source": [
    "df_clima_agrupado[\"pais\"] = df_clima_agrupado[\"pais\"].apply(minuscula)"
   ]
  },
  {
   "cell_type": "code",
   "execution_count": 161,
   "metadata": {},
   "outputs": [],
   "source": [
    "df_unido_total = pd.merge(df_paises,df_clima_agrupado, left_on=[\"country\"], right_on=[\"pais\"])"
   ]
  },
  {
   "cell_type": "code",
   "execution_count": 162,
   "metadata": {},
   "outputs": [
    {
     "data": {
      "text/plain": [
       "Index(['index', 'year', 'type', 'country', 'age', 'species_', 'fecha_limpia',\n",
       "       'fatal', 'sex', 'latitud', 'longitud', 'country2', 'fatal_N',\n",
       "       'fatal_Unknown', 'fatal_Y', 'fatal_N.1', 'fatal_Unknown.1', 'fatal_Y.1',\n",
       "       'species_.1', 'fecha_limpia.1', 'type.1', 'age_NORM'],\n",
       "      dtype='object')"
      ]
     },
     "execution_count": 162,
     "metadata": {},
     "output_type": "execute_result"
    }
   ],
   "source": [
    "df_paises.columns"
   ]
  },
  {
   "cell_type": "code",
   "execution_count": 163,
   "metadata": {},
   "outputs": [
    {
     "data": {
      "text/plain": [
       "array(['usa', 'australia', 'south africa', 'new zealand',\n",
       "       'papua new guinea'], dtype=object)"
      ]
     },
     "execution_count": 163,
     "metadata": {},
     "output_type": "execute_result"
    }
   ],
   "source": [
    "df_paises.country.unique()"
   ]
  },
  {
   "cell_type": "code",
   "execution_count": 164,
   "metadata": {},
   "outputs": [
    {
     "data": {
      "text/plain": [
       "array([<built-in method lower of str object at 0x7faca2a25770>,\n",
       "       <built-in method lower of str object at 0x7faca2a1e170>,\n",
       "       <built-in method lower of str object at 0x7facd82e8260>,\n",
       "       <built-in method lower of str object at 0x7faca2a1ed70>,\n",
       "       <built-in method lower of str object at 0x7faca2a25c70>],\n",
       "      dtype=object)"
      ]
     },
     "execution_count": 164,
     "metadata": {},
     "output_type": "execute_result"
    }
   ],
   "source": [
    "df_clima_agrupado.pais.unique()"
   ]
  },
  {
   "cell_type": "markdown",
   "metadata": {},
   "source": [
    "Como tenemos los nombres de los países escritos distinto, los cambiamos"
   ]
  },
  {
   "cell_type": "code",
   "execution_count": 165,
   "metadata": {},
   "outputs": [
    {
     "data": {
      "text/html": [
       "<div>\n",
       "<style scoped>\n",
       "    .dataframe tbody tr th:only-of-type {\n",
       "        vertical-align: middle;\n",
       "    }\n",
       "\n",
       "    .dataframe tbody tr th {\n",
       "        vertical-align: top;\n",
       "    }\n",
       "\n",
       "    .dataframe thead th {\n",
       "        text-align: right;\n",
       "    }\n",
       "</style>\n",
       "<table border=\"1\" class=\"dataframe\">\n",
       "  <thead>\n",
       "    <tr style=\"text-align: right;\">\n",
       "      <th></th>\n",
       "      <th>index_x</th>\n",
       "      <th>year</th>\n",
       "      <th>type</th>\n",
       "      <th>country</th>\n",
       "      <th>age</th>\n",
       "      <th>species_</th>\n",
       "      <th>fecha_limpia</th>\n",
       "      <th>fatal</th>\n",
       "      <th>sex</th>\n",
       "      <th>latitud_x</th>\n",
       "      <th>...</th>\n",
       "      <th>temp2m</th>\n",
       "      <th>lifted_index</th>\n",
       "      <th>rh2m</th>\n",
       "      <th>msl_pressure</th>\n",
       "      <th>prec_amount</th>\n",
       "      <th>snow_depth</th>\n",
       "      <th>wind10m.direction</th>\n",
       "      <th>wind10m.speed</th>\n",
       "      <th>latitud_y</th>\n",
       "      <th>longitud_y</th>\n",
       "    </tr>\n",
       "  </thead>\n",
       "  <tbody>\n",
       "  </tbody>\n",
       "</table>\n",
       "<p>0 rows × 87 columns</p>\n",
       "</div>"
      ],
      "text/plain": [
       "Empty DataFrame\n",
       "Columns: [index_x, year, type, country, age, species_, fecha_limpia, fatal, sex, latitud_x, longitud_x, country2, fatal_N, fatal_Unknown, fatal_Y, fatal_N.1, fatal_Unknown.1, fatal_Y.1, species_.1, fecha_limpia.1, type.1, age_NORM, pais, wind_speed_950mb, wind_speed_900mb, wind_speed_850mb, wind_speed_800mb, wind_speed_750mb, wind_speed_700mb, wind_speed_650mb, wind_speed_600mb, wind_speed_550mb, wind_speed_500mb, wind_speed_450mb, wind_speed_400mb, wind_speed_350mb, wind_speed_300mb, wind_speed_250mb, wind_speed_200mb, wind_950mb, wind_900mb, wind_850mb, wind_800mb, wind_750mb, wind_700mb, wind_650mb, wind_600mb, wind_550mb, wind_500mb, wind_450mb, wind_400mb, wind_350mb, wind_300mb, wind_250mb, wind_200mb, rh_950mb, rh_900mb, rh_850mb, rh_800mb, rh_750mb, rh_700mb, rh_650mb, rh_600mb, rh_550mb, rh_500mb, rh_450mb, rh_400mb, rh_350mb, rh_300mb, rh_250mb, rh_200mb, index_y, timepoint, cloudcover, highcloud, midcloud, lowcloud, temp2m, lifted_index, rh2m, msl_pressure, prec_amount, snow_depth, wind10m.direction, wind10m.speed, latitud_y, longitud_y]\n",
       "Index: []\n",
       "\n",
       "[0 rows x 87 columns]"
      ]
     },
     "execution_count": 165,
     "metadata": {},
     "output_type": "execute_result"
    }
   ],
   "source": [
    "df_unido_total.head(4)"
   ]
  },
  {
   "cell_type": "markdown",
   "metadata": {},
   "source": [
    "Guardar los resultados obtenidos en un csv."
   ]
  },
  {
   "cell_type": "code",
   "execution_count": 166,
   "metadata": {},
   "outputs": [],
   "source": [
    "df_unido_total.to_csv(\"df_paises_agrupados_media.csv\")"
   ]
  }
 ],
 "metadata": {
  "interpreter": {
   "hash": "328661ec968ebc77b93161299d44fd1f4547ee33c9a17c5e95f23064c7c08def"
  },
  "kernelspec": {
   "display_name": "Python 3.9.7 ('base')",
   "language": "python",
   "name": "python3"
  },
  "language_info": {
   "codemirror_mode": {
    "name": "ipython",
    "version": 3
   },
   "file_extension": ".py",
   "mimetype": "text/x-python",
   "name": "python",
   "nbconvert_exporter": "python",
   "pygments_lexer": "ipython3",
   "version": "3.9.7"
  },
  "orig_nbformat": 4
 },
 "nbformat": 4,
 "nbformat_minor": 2
}

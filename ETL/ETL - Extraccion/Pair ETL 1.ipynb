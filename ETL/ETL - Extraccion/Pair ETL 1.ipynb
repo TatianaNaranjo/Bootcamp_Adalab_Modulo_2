{
 "cells": [
  {
   "cell_type": "markdown",
   "metadata": {},
   "source": [
    "# 17/05 - Pair Programming ETL 1 - Lidia y Tatiana"
   ]
  },
  {
   "cell_type": "markdown",
   "metadata": {},
   "source": [
    "Vamos a nutrir los datos de los ataques de los tiburones con información climática de los paises que tenemos. Para eso vamos a usar la API del clima que hemos aprendido en la clase invertida:"
   ]
  },
  {
   "cell_type": "code",
   "execution_count": null,
   "metadata": {},
   "outputs": [],
   "source": [
    "url = f'http://www.7timer.info/bin/api.pl?lon=-{lon}&lat={lat}&product={producto}&output=json'"
   ]
  },
  {
   "cell_type": "code",
   "execution_count": 1,
   "metadata": {},
   "outputs": [],
   "source": [
    "import requests\n",
    "import pandas as pd\n",
    "import numpy as np\n",
    "\n",
    "from datetime import datetime, timedelta"
   ]
  },
  {
   "cell_type": "markdown",
   "metadata": {},
   "source": [
    "En este caso os recomendamos que uséis el producto meteo para obtener la información climática.\n",
    " \n",
    "Para hacer la llamada a la API necesitamos también las coordenadas de los paises que tenemos en el dataset.\n",
    "\n",
    "Por lo tanto, el objetivo es que saquéis la información del clima de la API para los paises que tenemos. \n",
    "\n",
    "Pero antes de poneros manos a la obra, tenemos muchísimos paises y esto puede hacerse eterno. Sacad la información climática solo para los siguientes paises, con las siguientes coordenadas:"
   ]
  },
  {
   "cell_type": "markdown",
   "metadata": {},
   "source": [
    "👉🏻 Requisitos de este ejercicio de pair programming:\n",
    "\n",
    "- Deberéis meter toda la información climática en un único dataframe.\n",
    "\n",
    "- Deberéis hacer la llamada a la API de una sola vez. Es decir, tendréis que interar la lista de paises y sacar la información del clima para cada uno de ellos.\n",
    "\n",
    "- Al meter toda la información en un único dataframe tendremos que crear una columna que corresponda con el nombre del pais.\n",
    "\n",
    "- Guardar el dataframe obtenido para usarlo en la siguiente sesión de pair programming."
   ]
  },
  {
   "cell_type": "markdown",
   "metadata": {},
   "source": [
    "💡 Pistas 💡\n",
    "\n",
    "Crearos un diccionario donde:\n",
    "\n",
    "Las keys sean los nombres de los paises\n",
    "\n",
    "Los values sean las coordenadas de los paises en formato lista.\n",
    "\n",
    "Iterar por el diccionario. Dentro del for haremos la llamada a la API como hemos aprendido en las clases invertidas. Recordamos que para iterar por el diccionario tenemos que seguir la siguiente estructura:"
   ]
  },
  {
   "cell_type": "code",
   "execution_count": 11,
   "metadata": {},
   "outputs": [
    {
     "data": {
      "text/plain": [
       "{'USA': [39.7837304, -100.445882],\n",
       " 'Australia': [-24.7761086, 134.755],\n",
       " 'South Africa': [-28.8166236, 24.991639],\n",
       " 'New Zealand': [-41.5000831, 172.8344077],\n",
       " 'Papua New Guinea': [-5.6816069, 144.2489081]}"
      ]
     },
     "execution_count": 11,
     "metadata": {},
     "output_type": "execute_result"
    }
   ],
   "source": [
    "pais= \"USA\",\"Australia\",\"South Africa\",\"New Zealand\",\"Papua New Guinea\"\n",
    "latitud_longitud= [39.7837304,-100.445882], [-24.7761086,134.755],[-28.8166236,24.991639], [-41.5000831,172.8344077], [-5.6816069,144.2489081]\n",
    "\n",
    "diccionario = dict(zip(pais, latitud_longitud))\n",
    "diccionario"
   ]
  },
  {
   "cell_type": "code",
   "execution_count": 133,
   "metadata": {},
   "outputs": [],
   "source": [
    "#Creamos un diccionario vacio\n",
    "df_completo= pd.DataFrame()\n",
    "\n",
    "for key, value in diccionario.items():\n",
    "\n",
    "    lon= value[1]\n",
    "    lat= value[0]\n",
    "    producto= \"meteo\"\n",
    "    url = f'http://www.7timer.info/bin/api.pl?lon=-{lon}&lat={lat}&product={producto}&output=json' \n",
    "\n",
    "    response = requests.get(url=url)\n",
    "    response.status_code\n",
    "    response.reason\n",
    "\n",
    "    #Creamos el dataFrame que viene de la API\n",
    "    df_API = pd.DataFrame.from_dict(pd.json_normalize(response.json()[\"dataseries\"]))\n",
    "    \n",
    "    #Le decimos que añada las columas según nuestro diccionario\n",
    "    df_API[\"pais\"]=key\n",
    "    df_API[\"latitud\"]=value[0]\n",
    "    df_API[\"longitud\"]=value[1]\n",
    "    \n",
    "    #Unimos los data set\n",
    "    df_completo = pd.concat([df_completo,df_API], axis = 0)\n"
   ]
  },
  {
   "cell_type": "code",
   "execution_count": 134,
   "metadata": {},
   "outputs": [
    {
     "data": {
      "text/html": [
       "<div>\n",
       "<style scoped>\n",
       "    .dataframe tbody tr th:only-of-type {\n",
       "        vertical-align: middle;\n",
       "    }\n",
       "\n",
       "    .dataframe tbody tr th {\n",
       "        vertical-align: top;\n",
       "    }\n",
       "\n",
       "    .dataframe thead th {\n",
       "        text-align: right;\n",
       "    }\n",
       "</style>\n",
       "<table border=\"1\" class=\"dataframe\">\n",
       "  <thead>\n",
       "    <tr style=\"text-align: right;\">\n",
       "      <th></th>\n",
       "      <th>timepoint</th>\n",
       "      <th>cloudcover</th>\n",
       "      <th>highcloud</th>\n",
       "      <th>midcloud</th>\n",
       "      <th>lowcloud</th>\n",
       "      <th>rh_profile</th>\n",
       "      <th>wind_profile</th>\n",
       "      <th>temp2m</th>\n",
       "      <th>lifted_index</th>\n",
       "      <th>rh2m</th>\n",
       "      <th>msl_pressure</th>\n",
       "      <th>prec_type</th>\n",
       "      <th>prec_amount</th>\n",
       "      <th>snow_depth</th>\n",
       "      <th>wind10m.direction</th>\n",
       "      <th>wind10m.speed</th>\n",
       "      <th>pais</th>\n",
       "      <th>latitud</th>\n",
       "      <th>longitud</th>\n",
       "    </tr>\n",
       "  </thead>\n",
       "  <tbody>\n",
       "    <tr>\n",
       "      <th>37</th>\n",
       "      <td>114</td>\n",
       "      <td>4</td>\n",
       "      <td>-9999</td>\n",
       "      <td>-9999</td>\n",
       "      <td>-9999</td>\n",
       "      <td>[{'layer': '950mb', 'rh': 14}, {'layer': '900m...</td>\n",
       "      <td>[{'layer': '950mb', 'direction': 100, 'speed':...</td>\n",
       "      <td>26</td>\n",
       "      <td>-1</td>\n",
       "      <td>11</td>\n",
       "      <td>1014</td>\n",
       "      <td>none</td>\n",
       "      <td>2</td>\n",
       "      <td>0</td>\n",
       "      <td>95</td>\n",
       "      <td>3</td>\n",
       "      <td>Papua New Guinea</td>\n",
       "      <td>-5.681607</td>\n",
       "      <td>144.248908</td>\n",
       "    </tr>\n",
       "    <tr>\n",
       "      <th>40</th>\n",
       "      <td>123</td>\n",
       "      <td>1</td>\n",
       "      <td>-9999</td>\n",
       "      <td>-9999</td>\n",
       "      <td>-9999</td>\n",
       "      <td>[{'layer': '950mb', 'rh': 13}, {'layer': '900m...</td>\n",
       "      <td>[{'layer': '950mb', 'direction': 255, 'speed':...</td>\n",
       "      <td>18</td>\n",
       "      <td>2</td>\n",
       "      <td>10</td>\n",
       "      <td>1020</td>\n",
       "      <td>none</td>\n",
       "      <td>8</td>\n",
       "      <td>0</td>\n",
       "      <td>250</td>\n",
       "      <td>3</td>\n",
       "      <td>South Africa</td>\n",
       "      <td>-28.816624</td>\n",
       "      <td>24.991639</td>\n",
       "    </tr>\n",
       "  </tbody>\n",
       "</table>\n",
       "</div>"
      ],
      "text/plain": [
       "    timepoint  cloudcover  highcloud  midcloud  lowcloud  \\\n",
       "37        114           4      -9999     -9999     -9999   \n",
       "40        123           1      -9999     -9999     -9999   \n",
       "\n",
       "                                           rh_profile  \\\n",
       "37  [{'layer': '950mb', 'rh': 14}, {'layer': '900m...   \n",
       "40  [{'layer': '950mb', 'rh': 13}, {'layer': '900m...   \n",
       "\n",
       "                                         wind_profile  temp2m  lifted_index  \\\n",
       "37  [{'layer': '950mb', 'direction': 100, 'speed':...      26            -1   \n",
       "40  [{'layer': '950mb', 'direction': 255, 'speed':...      18             2   \n",
       "\n",
       "    rh2m  msl_pressure prec_type  prec_amount  snow_depth wind10m.direction  \\\n",
       "37    11          1014      none            2           0                95   \n",
       "40    10          1020      none            8           0               250   \n",
       "\n",
       "    wind10m.speed              pais    latitud    longitud  \n",
       "37              3  Papua New Guinea  -5.681607  144.248908  \n",
       "40              3      South Africa -28.816624   24.991639  "
      ]
     },
     "execution_count": 134,
     "metadata": {},
     "output_type": "execute_result"
    }
   ],
   "source": [
    "df_completo.sample(2)"
   ]
  },
  {
   "cell_type": "code",
   "execution_count": 135,
   "metadata": {},
   "outputs": [],
   "source": [
    "df_completo.to_csv(\"df_completo.csv\")"
   ]
  }
 ],
 "metadata": {
  "interpreter": {
   "hash": "40d3a090f54c6569ab1632332b64b2c03c39dcf918b08424e98f38b5ae0af88f"
  },
  "kernelspec": {
   "display_name": "Python 3.9.7 ('base')",
   "language": "python",
   "name": "python3"
  },
  "language_info": {
   "codemirror_mode": {
    "name": "ipython",
    "version": 3
   },
   "file_extension": ".py",
   "mimetype": "text/x-python",
   "name": "python",
   "nbconvert_exporter": "python",
   "pygments_lexer": "ipython3",
   "version": "3.9.7"
  },
  "orig_nbformat": 4
 },
 "nbformat": 4,
 "nbformat_minor": 2
}

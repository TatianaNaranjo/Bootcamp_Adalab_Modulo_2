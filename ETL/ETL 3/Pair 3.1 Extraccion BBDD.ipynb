{
 "cells": [
  {
   "cell_type": "markdown",
   "metadata": {},
   "source": [
    "# 18/05 - Pair Programming ETL 3.1 - Lidia y Tatiana"
   ]
  },
  {
   "cell_type": "code",
   "execution_count": 1,
   "metadata": {},
   "outputs": [],
   "source": [
    "import requests\n",
    "import pandas as pd\n",
    "import numpy as np\n",
    "import mysql.connector"
   ]
  },
  {
   "cell_type": "markdown",
   "metadata": {},
   "source": [
    "Es el momento de meter todos nuestros datos en SQL 💪🏽!!! En este ejercicio nos crearemos dos tablas en una BBDD creada por nosotras. Una de las tablas contendrá la información que obtuvimos de los ejercicios de pair programming de Limpieza, es decir, el data set de ataques de tiburones limpito. La segunda tabla tendrá la información obtenida en el ejercicio de pair de ETL 1.\n",
    "\n",
    "📌 Nota Todo lo tendremos que hacer desde jupyter notebook\n",
    "\n",
    "Cread la BBDD con el nombre de tiburones.\n",
    "\n",
    "Cread las tablas de la BBDD:\n",
    "\n",
    "Tabla ataques\n",
    "\n",
    "Tabla clima\n"
   ]
  },
  {
   "cell_type": "code",
   "execution_count": 2,
   "metadata": {},
   "outputs": [
    {
     "data": {
      "text/html": [
       "<div>\n",
       "<style scoped>\n",
       "    .dataframe tbody tr th:only-of-type {\n",
       "        vertical-align: middle;\n",
       "    }\n",
       "\n",
       "    .dataframe tbody tr th {\n",
       "        vertical-align: top;\n",
       "    }\n",
       "\n",
       "    .dataframe thead th {\n",
       "        text-align: right;\n",
       "    }\n",
       "</style>\n",
       "<table border=\"1\" class=\"dataframe\">\n",
       "  <thead>\n",
       "    <tr style=\"text-align: right;\">\n",
       "      <th></th>\n",
       "      <th>year</th>\n",
       "      <th>type</th>\n",
       "      <th>country</th>\n",
       "      <th>age</th>\n",
       "      <th>species_</th>\n",
       "      <th>fecha_limpia</th>\n",
       "      <th>fatal</th>\n",
       "      <th>sex</th>\n",
       "      <th>latitud</th>\n",
       "      <th>longitud</th>\n",
       "      <th>...</th>\n",
       "      <th>fatal_N</th>\n",
       "      <th>fatal_Unknown</th>\n",
       "      <th>fatal_Y</th>\n",
       "      <th>fatal_N.1</th>\n",
       "      <th>fatal_Unknown.1</th>\n",
       "      <th>fatal_Y.1</th>\n",
       "      <th>species_.1</th>\n",
       "      <th>fecha_limpia.1</th>\n",
       "      <th>type.1</th>\n",
       "      <th>age_NORM</th>\n",
       "    </tr>\n",
       "  </thead>\n",
       "  <tbody>\n",
       "    <tr>\n",
       "      <th>0</th>\n",
       "      <td>2018</td>\n",
       "      <td>Boating</td>\n",
       "      <td>usa</td>\n",
       "      <td>57.0</td>\n",
       "      <td>White shark</td>\n",
       "      <td>Jun</td>\n",
       "      <td>N</td>\n",
       "      <td>F</td>\n",
       "      <td>39.78373</td>\n",
       "      <td>-100.445882</td>\n",
       "      <td>...</td>\n",
       "      <td>1</td>\n",
       "      <td>0</td>\n",
       "      <td>0</td>\n",
       "      <td>1</td>\n",
       "      <td>0</td>\n",
       "      <td>0</td>\n",
       "      <td>4</td>\n",
       "      <td>7</td>\n",
       "      <td>1</td>\n",
       "      <td>9.116327</td>\n",
       "    </tr>\n",
       "  </tbody>\n",
       "</table>\n",
       "<p>1 rows × 21 columns</p>\n",
       "</div>"
      ],
      "text/plain": [
       "   year     type country   age     species_ fecha_limpia fatal sex   latitud  \\\n",
       "0  2018  Boating     usa  57.0  White shark          Jun     N   F  39.78373   \n",
       "\n",
       "     longitud  ... fatal_N  fatal_Unknown  fatal_Y  fatal_N.1  \\\n",
       "0 -100.445882  ...       1              0        0          1   \n",
       "\n",
       "   fatal_Unknown.1  fatal_Y.1  species_.1  fecha_limpia.1  type.1  age_NORM  \n",
       "0                0          0           4               7       1  9.116327  \n",
       "\n",
       "[1 rows x 21 columns]"
      ]
     },
     "execution_count": 2,
     "metadata": {},
     "output_type": "execute_result"
    }
   ],
   "source": [
    "df_ataques=pd.read_csv(\"./attacks_limpieza_completa.csv\",index_col=0)\n",
    "df_ataques.head(1)"
   ]
  },
  {
   "cell_type": "code",
   "execution_count": 3,
   "metadata": {},
   "outputs": [
    {
     "data": {
      "text/html": [
       "<div>\n",
       "<style scoped>\n",
       "    .dataframe tbody tr th:only-of-type {\n",
       "        vertical-align: middle;\n",
       "    }\n",
       "\n",
       "    .dataframe tbody tr th {\n",
       "        vertical-align: top;\n",
       "    }\n",
       "\n",
       "    .dataframe thead th {\n",
       "        text-align: right;\n",
       "    }\n",
       "</style>\n",
       "<table border=\"1\" class=\"dataframe\">\n",
       "  <thead>\n",
       "    <tr style=\"text-align: right;\">\n",
       "      <th></th>\n",
       "      <th>timepoint</th>\n",
       "      <th>cloudcover</th>\n",
       "      <th>highcloud</th>\n",
       "      <th>midcloud</th>\n",
       "      <th>lowcloud</th>\n",
       "      <th>rh_profile</th>\n",
       "      <th>wind_profile</th>\n",
       "      <th>temp2m</th>\n",
       "      <th>lifted_index</th>\n",
       "      <th>rh2m</th>\n",
       "      <th>msl_pressure</th>\n",
       "      <th>prec_type</th>\n",
       "      <th>prec_amount</th>\n",
       "      <th>snow_depth</th>\n",
       "      <th>wind10m.direction</th>\n",
       "      <th>wind10m.speed</th>\n",
       "      <th>pais</th>\n",
       "      <th>latitud</th>\n",
       "      <th>longitud</th>\n",
       "    </tr>\n",
       "  </thead>\n",
       "  <tbody>\n",
       "    <tr>\n",
       "      <th>0</th>\n",
       "      <td>3</td>\n",
       "      <td>1</td>\n",
       "      <td>-9999</td>\n",
       "      <td>-9999</td>\n",
       "      <td>-9999</td>\n",
       "      <td>[{'layer': '950mb', 'rh': 5}, {'layer': '900mb...</td>\n",
       "      <td>[{'layer': '950mb', 'direction': 245, 'speed':...</td>\n",
       "      <td>21</td>\n",
       "      <td>2</td>\n",
       "      <td>8</td>\n",
       "      <td>1017</td>\n",
       "      <td>none</td>\n",
       "      <td>0</td>\n",
       "      <td>0</td>\n",
       "      <td>200</td>\n",
       "      <td>2</td>\n",
       "      <td>USA</td>\n",
       "      <td>39.78373</td>\n",
       "      <td>-100.445882</td>\n",
       "    </tr>\n",
       "  </tbody>\n",
       "</table>\n",
       "</div>"
      ],
      "text/plain": [
       "   timepoint  cloudcover  highcloud  midcloud  lowcloud  \\\n",
       "0          3           1      -9999     -9999     -9999   \n",
       "\n",
       "                                          rh_profile  \\\n",
       "0  [{'layer': '950mb', 'rh': 5}, {'layer': '900mb...   \n",
       "\n",
       "                                        wind_profile  temp2m  lifted_index  \\\n",
       "0  [{'layer': '950mb', 'direction': 245, 'speed':...      21             2   \n",
       "\n",
       "   rh2m  msl_pressure prec_type  prec_amount  snow_depth  wind10m.direction  \\\n",
       "0     8          1017      none            0           0                200   \n",
       "\n",
       "   wind10m.speed pais   latitud    longitud  \n",
       "0              2  USA  39.78373 -100.445882  "
      ]
     },
     "execution_count": 3,
     "metadata": {},
     "output_type": "execute_result"
    }
   ],
   "source": [
    "df_clima=pd.read_csv(\"./df_completo.csv\",index_col=0)\n",
    "df_clima.head(1)"
   ]
  },
  {
   "cell_type": "code",
   "execution_count": 4,
   "metadata": {},
   "outputs": [],
   "source": [
    "def crear_bbdd(nombre_bbdd):\n",
    "    mydb = mysql.connector.connect(host=\"127.0.0.1\",user=\"root\",password=\"AlumnaAdalab\" )# aquí tendréis que poner vuestra contraseña de MySQL\n",
    "    print(\"Conexión realizada con éxito\")\n",
    "    \n",
    "    mycursor = mydb.cursor() # .cursor es el nexo de union entre python y la BBDD\n",
    "\n",
    "    try:\n",
    "        mycursor.execute(f\"CREATE DATABASE IF NOT EXISTS {nombre_bbdd};\") #.execute ,ejecutamos la query que hayamos definido previamente\n",
    "        print(mycursor)\n",
    "    except mysql.connector.Error as err:\n",
    "        print(err)\n",
    "        print(\"Error Code:\", err.errno)\n",
    "        print(\"SQLSTATE\", err.sqlstate)\n",
    "        print(\"Message\", err.msg)"
   ]
  },
  {
   "cell_type": "code",
   "execution_count": 6,
   "metadata": {},
   "outputs": [
    {
     "name": "stdout",
     "output_type": "stream",
     "text": [
      "Conexión realizada con éxito\n",
      "MySQLCursor: CREATE DATABASE IF NOT EXISTS tiburones;\n"
     ]
    }
   ],
   "source": [
    "#Hemos creado una tabla llamada tiburones\n",
    "mydb = crear_bbdd(\"tiburones\")"
   ]
  },
  {
   "cell_type": "markdown",
   "metadata": {},
   "source": [
    "    Ahora dentro de tiburones creamos ATAQUES Y CLIMA"
   ]
  },
  {
   "cell_type": "code",
   "execution_count": 7,
   "metadata": {},
   "outputs": [],
   "source": [
    "def crear_insertar_tabla(nombre_bbdd, contraseña, query):\n",
    "    \n",
    "    # nos conectamsos con el servidor usando el conector de sql\n",
    "    cnx = mysql.connector.connect(user='root',host='127.0.0.1', password=\"AlumnaAdalab\", database=\"tiburones\")\n",
    "    # iniciamos el cursor\n",
    "    mycursor = cnx.cursor()\n",
    "    \n",
    "    # intentamos hacer la query\n",
    "    try: \n",
    "        mycursor.execute(query)\n",
    "        cnx.commit() \n",
    "    # en caso de que podamos ejecutar la query devuelvenos un error para saber en que nos estamos equivocando\n",
    "    except mysql.connector.Error as err:\n",
    "        print(err)\n",
    "        print(\"Error Code:\", err.errno)\n",
    "        print(\"SQLSTATE\", err.sqlstate)\n",
    "        print(\"Message\", err.msg)"
   ]
  },
  {
   "cell_type": "code",
   "execution_count": 49,
   "metadata": {},
   "outputs": [],
   "source": [
    "tabla_ataques = '''\n",
    "CREATE TABLE IF NOT EXISTS `tiburones`.`ataques`(\n",
    "  `id_ataques`INT NOT NULL AUTO_INCREMENT,\n",
    "  `year`INT NOT NULL,\n",
    "  `type`VARCHAR(10) NOT NULL,\n",
    "  `country`VARCHAR(20) NOT NULL,\n",
    "  `age`DECIMAL NOT NULL,\n",
    "  `species_`VARCHAR(20) NOT NULL,\n",
    "  `fecha_limpia`VARCHAR(3)NOT NULL,\n",
    "  `fatal`VARCHAR(7) NOT NULL,\n",
    "  `sex`VARCHAR(1) NOT NULL,\n",
    "  `latitud`DECIMAL NOT NULL,\n",
    "  `longitud`DECIMAL NOT NULL,\n",
    "  `country2`VARCHAR(2) NOT NULL,\n",
    "  `fatal_N`INT NOT NULL,\n",
    "  `fatal_Unknown`INT NOT NULL, \n",
    "  `fatal_Y`INT NOT NULL,\n",
    "  `age_NORM`DECIMAL NOT NULL,\n",
    "  PRIMARY KEY (`id_ataques`));\n",
    "'''"
   ]
  },
  {
   "cell_type": "code",
   "execution_count": 50,
   "metadata": {},
   "outputs": [],
   "source": [
    "crear_insertar_tabla(\"tiburones\",\"AlumnaAdalab\", tabla_ataques)"
   ]
  },
  {
   "cell_type": "code",
   "execution_count": 43,
   "metadata": {},
   "outputs": [],
   "source": [
    "tabla_clima = '''\n",
    "CREATE TABLE IF NOT EXISTS `tiburones`.`clima`(\n",
    "  `id_indice`INT NOT NULL AUTO_INCREMENT,\n",
    "  `timepoint`INT NOT NULL,\n",
    "  `cloudcover`INT NOT NULL,\n",
    "  `temp2m`INT NOT NULL,\n",
    "  `lifted_index` INT NOT NULL,\n",
    "  `rh2m`INT NOT NULL,\n",
    "  `msl_pressure`INT NOT NULL,\n",
    "  `prec_type`VARCHAR(10) NOT NULL,\n",
    "  `prec_amount`INT NOT NULL,\n",
    "  `pais`VARCHAR(10) NOT NULL,\n",
    "  `latitud` DECIMAL NOT NULL,\n",
    "  `longitud`DECIMAL NOT NULL,\n",
    " PRIMARY KEY (`id_indice`));\n",
    "'''"
   ]
  },
  {
   "cell_type": "code",
   "execution_count": 44,
   "metadata": {},
   "outputs": [],
   "source": [
    "crear_insertar_tabla(\"tiburones\",\"AlumnaAdalab\", tabla_clima)"
   ]
  },
  {
   "cell_type": "markdown",
   "metadata": {},
   "source": [
    "    Listo funciona 😃"
   ]
  },
  {
   "cell_type": "markdown",
   "metadata": {},
   "source": [
    "------------"
   ]
  },
  {
   "cell_type": "markdown",
   "metadata": {},
   "source": [
    "\n",
    "BONUS Insertar los datos en las tablas.\n",
    "\n",
    "📌 Nota Esta parte del pair es optativa y no será considerada para la evaluación\n",
    "🚨 En caso de que no tengáis los datos unidos de la sesión anterior, tenéis un csv datos_union_clima_ataques con todos los datos que necesitareis para este ejercicio"
   ]
  },
  {
   "cell_type": "markdown",
   "metadata": {},
   "source": [
    "    Ahora hay que sacar los ID de atauqes y clima \n",
    "    Cuando tengamos los ID entonces podemos insertar los datos en la BBDD"
   ]
  },
  {
   "cell_type": "code",
   "execution_count": null,
   "metadata": {},
   "outputs": [],
   "source": [
    "for indice, fila in df_clima.iterrows():  # si tienen comillas es que su tipo NO es un integer\n",
    "\n",
    "    query_clima = f\"\"\"\n",
    "                INSERT INTO clima (timepoint, cloudcover, highcloud, midcloud, lowcloud,rh_profile, wind_profile, temp2m, lifted_index, rh2m,\n",
    "                msl_pressure, prec_type, prec_amount, snow_depth, pais, latitud, longitud) \n",
    "\n",
    "                VALUES ({fila['timepoint']}, {fila['cloudcover']}, \"{fila['highcloud']}\", {fila['midcloud']},{fila['lowcloud']},{fila['lowcloud']}, \n",
    "                \"{fila['rh_profile']}\",\"{fila['wind_profile']}\",{fila['temp2m']}, {fila['lifted_index']}, {fila['rh2m'], }, {'id_indice'} );\n",
    "                \"\"\"\n",
    "    print(query_clima)\n",
    "    crear_insertar_tabla(\"tiburon\",\"AlumnaAdalab\", df_clima)\n"
   ]
  },
  {
   "cell_type": "code",
   "execution_count": null,
   "metadata": {},
   "outputs": [],
   "source": [
    "for indice, fila in df_ataques.iterrows():  # si tienen comillas es que su tipo NO es un integer\n",
    "\n",
    "    query_ataques = f\"\"\"\n",
    "                INSERT INTO ataque (id_ataques, type, country,age,species_,fecha_limpia,fatal,sex,latitud,longitud,country2,fatal_N,fatal_Unknown,fatal_Y,age_NORM)\n",
    "\n",
    "                VALUES ({fila['id_ataques']}, {fila['type']}, \"{fila['country']}\", {fila['age']},{fila['species_']},{fila['fecha_limpia']}, \n",
    "                \"{fila['fatal']}\",\"{fila['sex']}\",{fila['latitud']}, {fila['longitud']}, {fila['country2'], }, {'id_indice'} );\n",
    "                \"\"\"\n",
    "    print(query_ataques)\n",
    "    crear_insertar_tabla(\"tiburon\",\"AlumnaAdalab\", df_ataques)\n"
   ]
  }
 ],
 "metadata": {
  "interpreter": {
   "hash": "40d3a090f54c6569ab1632332b64b2c03c39dcf918b08424e98f38b5ae0af88f"
  },
  "kernelspec": {
   "display_name": "Python 3.9.7 ('base')",
   "language": "python",
   "name": "python3"
  },
  "language_info": {
   "codemirror_mode": {
    "name": "ipython",
    "version": 3
   },
   "file_extension": ".py",
   "mimetype": "text/x-python",
   "name": "python",
   "nbconvert_exporter": "python",
   "pygments_lexer": "ipython3",
   "version": "3.9.7"
  },
  "orig_nbformat": 4
 },
 "nbformat": 4,
 "nbformat_minor": 2
}

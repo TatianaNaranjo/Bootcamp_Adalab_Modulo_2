{
 "cells": [
  {
   "cell_type": "markdown",
   "metadata": {},
   "source": [
    "# 19/05 - Pair Programming ETL 5 - Class carga"
   ]
  },
  {
   "cell_type": "markdown",
   "metadata": {},
   "source": [
    "Igual que en el ejercicio de pair programming de ETL Transformación II, tendréis que crear una clase que nos permita cargar los datos en SQL I."
   ]
  },
  {
   "cell_type": "code",
   "execution_count": null,
   "metadata": {},
   "outputs": [],
   "source": [
    "import pandas as pd\n",
    "import mysql.connector"
   ]
  },
  {
   "cell_type": "code",
   "execution_count": null,
   "metadata": {},
   "outputs": [],
   "source": [
    "class Cargar:\n",
    "    \n",
    "    def __init__(self, nombre_bbdd, contraseña):\n",
    "        # nuestra clase va a recibir dos parámetros que son fijos a lo largo de toda la BBDD, el nombre de la BBDD y la contraseña con el servidor. \n",
    "        self.nombre_bbdd = nombre_bbdd\n",
    "        self.contraseña = contraseña\n",
    "\n",
    "    # método para crear la BBDD \n",
    "    def crear_bbdd(self):\n",
    "\n",
    "        mydb = mysql.connector.connect(host=\"localhost\",\n",
    "                                       user=\"root\",\n",
    "                                       password=f'{self.contraseña}') \n",
    "        mycursor = mydb.cursor()\n",
    "        print(\"Conexión realizada con éxito\")\n",
    "\n",
    "        try:\n",
    "            mycursor.execute(f\"CREATE DATABASE IF NOT EXISTS {self.nombre_bbdd};\")\n",
    "            \n",
    "        except:\n",
    "            print(\"La BBDD ya existe\")\n",
    "            \n",
    "    # método para crear tablas  e insertar datos en ellas   \n",
    "    def crear_insertar_tabla(self, query):\n",
    "        \n",
    "        mydb = mysql.connector.connect(host=\"localhost\",\n",
    "                                       user=\"root\",\n",
    "                                       password=f'{self.contraseña}', \n",
    "                                       database=f\"{self.nombre_bbdd}\") \n",
    "        mycursor = mydb.cursor()\n",
    "        \n",
    "        try:\n",
    "            mycursor.execute(query)\n",
    "            mydb.commit()\n",
    "          \n",
    "        except mysql.connector.Error as err:\n",
    "            print(err)\n",
    "            print(\"Error Code:\", err.errno)\n",
    "            print(\"SQLSTATE\", err.sqlstate)\n",
    "            print(\"Message\", err.msg)"
   ]
  }
 ],
 "metadata": {
  "language_info": {
   "name": "python"
  },
  "orig_nbformat": 4
 },
 "nbformat": 4,
 "nbformat_minor": 2
}

{
 "cells": [
  {
   "cell_type": "markdown",
   "id": "32dad65c",
   "metadata": {
    "toc": true
   },
   "source": [
    "<h1>Table of Contents<span class=\"tocSkip\"></span></h1>\n",
    "<div class=\"toc\"><ul class=\"toc-item\"><li><span><a href=\"#Cargamos-el-csv-que-vamos-a-usar\" data-toc-modified-id=\"Cargamos-el-csv-que-vamos-a-usar-1\"><span class=\"toc-item-num\">1&nbsp;&nbsp;</span>Cargamos el <code>csv</code> que vamos a usar</a></span></li><li><span><a href=\"#Definición-de-variables\" data-toc-modified-id=\"Definición-de-variables-2\"><span class=\"toc-item-num\">2&nbsp;&nbsp;</span>Definición de variables</a></span></li><li><span><a href=\"#Creamos-la-clase\" data-toc-modified-id=\"Creamos-la-clase-3\"><span class=\"toc-item-num\">3&nbsp;&nbsp;</span>Creamos la clase</a></span><ul class=\"toc-item\"><li><span><a href=\"#Hacemos-las-llamadas-a-los-métodos-de-la-Clase\" data-toc-modified-id=\"Hacemos-las-llamadas-a-los-métodos-de-la-Clase-3.1\"><span class=\"toc-item-num\">3.1&nbsp;&nbsp;</span>Hacemos las llamadas a los métodos de la Clase</a></span><ul class=\"toc-item\"><li><span><a href=\"#Iniciamos-la-Clase\" data-toc-modified-id=\"Iniciamos-la-Clase-3.1.1\"><span class=\"toc-item-num\">3.1.1&nbsp;&nbsp;</span>Iniciamos la Clase</a></span></li><li><span><a href=\"#Llamada-a-la-API\" data-toc-modified-id=\"Llamada-a-la-API-3.1.2\"><span class=\"toc-item-num\">3.1.2&nbsp;&nbsp;</span>Llamada a la API</a></span></li><li><span><a href=\"#Limpiamos-los-dataframes\" data-toc-modified-id=\"Limpiamos-los-dataframes-3.1.3\"><span class=\"toc-item-num\">3.1.3&nbsp;&nbsp;</span>Limpiamos los dataframes</a></span></li><li><span><a href=\"#Juntamos-los-dataframes\" data-toc-modified-id=\"Juntamos-los-dataframes-3.1.4\"><span class=\"toc-item-num\">3.1.4&nbsp;&nbsp;</span>Juntamos los dataframes</a></span></li><li><span><a href=\"#Chequeamos-como-están-los-datos-de-&quot;limpios&quot;\" data-toc-modified-id=\"Chequeamos-como-están-los-datos-de-&quot;limpios&quot;-3.1.5\"><span class=\"toc-item-num\">3.1.5&nbsp;&nbsp;</span>Chequeamos como están los datos de \"limpios\"</a></span></li></ul></li></ul></li></ul></div>"
   ]
  },
  {
   "cell_type": "markdown",
   "id": "371c73f3",
   "metadata": {},
   "source": [
    "En este jupyter vamos a hacer lo mismo que en el anterior, pero en este caso lo haremos definiendo una clase que nos permita hacer todo el proceso. "
   ]
  },
  {
   "cell_type": "markdown",
   "id": "89da4070",
   "metadata": {},
   "source": []
  },
  {
   "cell_type": "code",
   "execution_count": 1,
   "id": "a05f5932",
   "metadata": {},
   "outputs": [],
   "source": [
    "import pandas as pd\n",
    "import requests\n",
    "from datetime import datetime, timedelta"
   ]
  },
  {
   "cell_type": "markdown",
   "id": "9c6850a6",
   "metadata": {},
   "source": [
    "# Cargamos el `csv` que vamos a usar"
   ]
  },
  {
   "cell_type": "code",
   "execution_count": 2,
   "id": "6e30b3a9",
   "metadata": {},
   "outputs": [
    {
     "data": {
      "text/html": [
       "<div>\n",
       "<style scoped>\n",
       "    .dataframe tbody tr th:only-of-type {\n",
       "        vertical-align: middle;\n",
       "    }\n",
       "\n",
       "    .dataframe tbody tr th {\n",
       "        vertical-align: top;\n",
       "    }\n",
       "\n",
       "    .dataframe thead th {\n",
       "        text-align: right;\n",
       "    }\n",
       "</style>\n",
       "<table border=\"1\" class=\"dataframe\">\n",
       "  <thead>\n",
       "    <tr style=\"text-align: right;\">\n",
       "      <th></th>\n",
       "      <th>timepoint</th>\n",
       "      <th>cloudcover</th>\n",
       "      <th>lifted_index</th>\n",
       "      <th>prec_type</th>\n",
       "      <th>prec_amount</th>\n",
       "      <th>temp2m</th>\n",
       "      <th>rh2m</th>\n",
       "      <th>weather</th>\n",
       "      <th>wind10m.direction</th>\n",
       "      <th>wind10m.speed</th>\n",
       "      <th>...</th>\n",
       "      <th>longitud</th>\n",
       "      <th>ciudad</th>\n",
       "      <th>seeing_x</th>\n",
       "      <th>transparency_x</th>\n",
       "      <th>seeing_y</th>\n",
       "      <th>transparency_y</th>\n",
       "      <th>ciudad_x.1</th>\n",
       "      <th>seeing</th>\n",
       "      <th>transparency</th>\n",
       "      <th>ciudad_y.1</th>\n",
       "    </tr>\n",
       "  </thead>\n",
       "  <tbody>\n",
       "    <tr>\n",
       "      <th>0</th>\n",
       "      <td>3</td>\n",
       "      <td>2</td>\n",
       "      <td>10</td>\n",
       "      <td>none</td>\n",
       "      <td>0</td>\n",
       "      <td>-1</td>\n",
       "      <td>73</td>\n",
       "      <td>clearnight</td>\n",
       "      <td>NW</td>\n",
       "      <td>5</td>\n",
       "      <td>...</td>\n",
       "      <td>-370.256</td>\n",
       "      <td>Madrid</td>\n",
       "      <td>NaN</td>\n",
       "      <td>NaN</td>\n",
       "      <td>2.0</td>\n",
       "      <td>2.0</td>\n",
       "      <td>NaN</td>\n",
       "      <td>2</td>\n",
       "      <td>2</td>\n",
       "      <td>Madrid</td>\n",
       "    </tr>\n",
       "    <tr>\n",
       "      <th>1</th>\n",
       "      <td>3</td>\n",
       "      <td>2</td>\n",
       "      <td>10</td>\n",
       "      <td>none</td>\n",
       "      <td>0</td>\n",
       "      <td>-1</td>\n",
       "      <td>73</td>\n",
       "      <td>clearnight</td>\n",
       "      <td>NW</td>\n",
       "      <td>5</td>\n",
       "      <td>...</td>\n",
       "      <td>-370.256</td>\n",
       "      <td>NaN</td>\n",
       "      <td>NaN</td>\n",
       "      <td>NaN</td>\n",
       "      <td>NaN</td>\n",
       "      <td>NaN</td>\n",
       "      <td>Madrid</td>\n",
       "      <td>2</td>\n",
       "      <td>2</td>\n",
       "      <td>Madrid</td>\n",
       "    </tr>\n",
       "  </tbody>\n",
       "</table>\n",
       "<p>2 rows × 22 columns</p>\n",
       "</div>"
      ],
      "text/plain": [
       "   timepoint  cloudcover  lifted_index prec_type  prec_amount  temp2m  rh2m  \\\n",
       "0          3           2            10      none            0      -1    73   \n",
       "1          3           2            10      none            0      -1    73   \n",
       "\n",
       "      weather wind10m.direction  wind10m.speed  ... longitud  ciudad  \\\n",
       "0  clearnight                NW              5  ... -370.256  Madrid   \n",
       "1  clearnight                NW              5  ... -370.256     NaN   \n",
       "\n",
       "   seeing_x transparency_x  seeing_y  transparency_y  ciudad_x.1  seeing  \\\n",
       "0       NaN            NaN       2.0             2.0         NaN       2   \n",
       "1       NaN            NaN       NaN             NaN      Madrid       2   \n",
       "\n",
       "  transparency  ciudad_y.1  \n",
       "0            2      Madrid  \n",
       "1            2      Madrid  \n",
       "\n",
       "[2 rows x 22 columns]"
      ]
     },
     "execution_count": 2,
     "metadata": {},
     "output_type": "execute_result"
    }
   ],
   "source": [
    "df = pd.read_csv(\"./datos_Madrid.csv\", index_col = 0)\n",
    "df.head(2)"
   ]
  },
  {
   "cell_type": "markdown",
   "id": "72b29750",
   "metadata": {},
   "source": [
    "# Definición de variables "
   ]
  },
  {
   "cell_type": "markdown",
   "id": "0ebe57c6",
   "metadata": {},
   "source": [
    "Definimos las variables que vamos a necesitar para hacer las llamadas a cada uno de los métodos de la clase. "
   ]
  },
  {
   "cell_type": "code",
   "execution_count": 3,
   "id": "5eb007cc",
   "metadata": {},
   "outputs": [],
   "source": [
    "latitud = 40.4165\n",
    "longitud = -3.70256\n",
    "producto = \"civil\"\n",
    "producto2 = \"astro\"\n",
    "ciudad = \"Madrid\"\n"
   ]
  },
  {
   "cell_type": "markdown",
   "id": "c2f9965a",
   "metadata": {},
   "source": [
    "# Creamos la clase "
   ]
  },
  {
   "cell_type": "code",
   "execution_count": 4,
   "id": "9803c914",
   "metadata": {},
   "outputs": [],
   "source": [
    "class Extraccion: \n",
    "    \n",
    "    def __init__(self, lat, lon, ciudad):\n",
    "        self.lat = lat\n",
    "        self.lon = lon\n",
    "        self.ciudad = ciudad\n",
    "        self.producto = producto\n",
    "        \n",
    "    def llamada_API(self, producto):\n",
    "        \n",
    "        self.producto = producto\n",
    "    \n",
    "        # hacemos la llamada  a la API\n",
    "        url = f'http://www.7timer.info/bin/api.pl?lon=-{self.lon}&lat={self.lat}&product={producto}&output=json'\n",
    "\n",
    "        response = requests.get(url=url)\n",
    "        codigo_estado = response.status_code\n",
    "        razon_estado = response.reason\n",
    "        if codigo_estado == 200:\n",
    "            print('La peticion se ha realizado correctamente, se ha devuelto el código de estado:',codigo_estado,' y como razón del código de estado: ',razon_estado)\n",
    "        elif codigo_estado == 402:\n",
    "            print('No se ha podido autorizar usario, se ha devuelto el código de estado:', codigo_estado,' y como razón del código de estado: ',razon_estado)\n",
    "        elif codigo_estado == 404:\n",
    "            print('Algo ha salido mal, el recurso no se ha encontrado,se ha devuelto el código de estado:', codigo_estado,' y como razón del código de estado: ',razon_estado)\n",
    "        else:\n",
    "            print('Algo inesperado ha ocurrido, se ha devuelto el código de estado:', codigo_estado,' y como razón del código de estado: ',razon_estado)\n",
    "\n",
    "        # convertimos los resultados en un dataframe: \n",
    "        df = pd.DataFrame.from_dict(pd.json_normalize(response.json()['dataseries']))\n",
    "        return df\n",
    "    \n",
    "    def limpiar_civil(self, df): \n",
    "\n",
    "        # lo primero que tenemos que hacer es crear la columna de fecha en el dataframe nuevo \n",
    "        # En este caso será la fecha del día de hoy. \n",
    "        hoy = datetime.now()\n",
    "        hoy = datetime.strftime(hoy, '%Y-%m-%d')\n",
    "\n",
    "        # creamos la nueva columna\n",
    "        df[\"fecha\"] = hoy\n",
    "\n",
    "        df[\"latitud\"] = self.lat\n",
    "        df[\"longitud\"] = self.lon\n",
    "        df[\"ciudad\"] = ciudad\n",
    "        return df\n",
    "    \n",
    "    \n",
    "    \n",
    "    def limpiar_astro(self, df):\n",
    "\n",
    "        #seleccionamos solo las columnas que nos interesan\n",
    "        df = df[[\"seeing\", \"transparency\", \"timepoint\"]]\n",
    "\n",
    "        # creamos la columna de fecha: \n",
    "        hoy = datetime.now()\n",
    "        hoy = datetime.strftime(hoy, '%Y-%m-%d')\n",
    "        df[\"fecha\"] = hoy\n",
    "\n",
    "\n",
    "        # insertamos las columnas de la localidad\n",
    "    \n",
    "        df[\"ciudad\"] = self.ciudad\n",
    "\n",
    "        return df\n",
    "    \n",
    "    \n",
    "    def juntar_dfs(self, df_completo, df_civil, df_visibilidad): \n",
    "    \n",
    "        # lo primero que hacemos es concatenar los dataframes con la información general. df_completo y df_civil\n",
    "        df_completo = pd.concat([df_completo, df_civil], axis = 0)\n",
    "\n",
    "        # ahora es el turno de unir el dataframe con la información de la visibilidad con el completo\n",
    "        # en este caso el how lo ponemos como left ya que queremos que se quede con toda la info que en la primera tabla que le pasamos que es la que tiene toda la información\n",
    "        df_completo = pd.merge(df_completo , df_visibilidad , on=['fecha', \"timepoint\"], how = \"inner\")\n",
    "\n",
    "        # guardamos los datos\n",
    "        df_completo.to_pickle('./datos_actualizados.pkl')\n",
    "        df_completo.to_csv('./datos_actualizados.csv')\n",
    "\n",
    "        return df_completo\n",
    "    \n",
    "\n",
    "    def chequear_datos(self, df): \n",
    "    \n",
    "        print(\"Las columnas son:\", \"\\n\")\n",
    "        print(list(df.columns))\n",
    "        print(\"-----------------------------------------\")\n",
    "\n",
    "        print(\"Los tipos de datos que tenemos son:\", \"\\n\")\n",
    "        print(df.dtypes)\n",
    "        print(\"-----------------------------------------\")\n",
    "\n",
    "        print(\"El porcentaje de nulos:\", \"\\n\")\n",
    "        print((df.isnull().sum() / df.shape[0]) *  100)\n",
    "\n",
    "    def limpiar_dataframe(self, df, lista_columnas): \n",
    "\n",
    "        #convertimos la fecha a datetime\n",
    "        df[\"fecha\"] = pd.to_datetime(df[\"fecha\"])\n",
    "\n",
    "        # reemplazamos los nulos de las columnas por la media\n",
    "         # lista de columnas en las que queremos reemplazar los nulos\n",
    "        df[lista_columnas]=df[lista_columnas].fillna(df.mean())\n",
    "\n",
    "        # quitar columnas repetidas:\n",
    "        \n",
    "        df.drop([\"ciudad_y\"], axis = 1, inplace = True)\n",
    "        \n",
    "        # renombrar columnas\n",
    "        \n",
    "        df.rename(columns = {\"ciudad_x\": \"ciudad\"}, inplace = True)\n",
    "\n",
    "        # quitar % \n",
    "        df[\"rh2m\"] = df[\"rh2m\"].replace(r\"%\", \"\", regex = True)\n",
    "\n",
    "        # guardamos los datos una vez limpios\n",
    "        df.to_pickle('datos/datos_Madrid.pkl')\n",
    "        df.to_csv('datos/datos_Madrid.csv')\n",
    "\n",
    "        return df"
   ]
  },
  {
   "cell_type": "markdown",
   "id": "e63020f5",
   "metadata": {},
   "source": [
    "## Hacemos las llamadas a los métodos de la Clase "
   ]
  },
  {
   "cell_type": "markdown",
   "id": "279f56b3",
   "metadata": {},
   "source": [
    "### Iniciamos la Clase "
   ]
  },
  {
   "cell_type": "code",
   "execution_count": 5,
   "id": "42b58be1",
   "metadata": {},
   "outputs": [],
   "source": [
    "api = Extraccion(latitud, longitud, ciudad)"
   ]
  },
  {
   "cell_type": "code",
   "execution_count": 6,
   "id": "643bc471",
   "metadata": {},
   "outputs": [
    {
     "data": {
      "text/plain": [
       "<__main__.Extraccion at 0x7fbfd0634be0>"
      ]
     },
     "execution_count": 6,
     "metadata": {},
     "output_type": "execute_result"
    }
   ],
   "source": [
    "api"
   ]
  },
  {
   "cell_type": "markdown",
   "id": "03f10355",
   "metadata": {},
   "source": [
    "### Llamada a la API "
   ]
  },
  {
   "cell_type": "markdown",
   "id": "c28f2066",
   "metadata": {},
   "source": [
    "1️⃣ Llamamos al producto \"civil\""
   ]
  },
  {
   "cell_type": "code",
   "execution_count": 7,
   "id": "3072170e",
   "metadata": {},
   "outputs": [
    {
     "name": "stdout",
     "output_type": "stream",
     "text": [
      "La peticion se ha realizado correctamente, se ha devuelto el código de estado: 200  y como razón del código de estado:  OK\n"
     ]
    },
    {
     "data": {
      "text/html": [
       "<div>\n",
       "<style scoped>\n",
       "    .dataframe tbody tr th:only-of-type {\n",
       "        vertical-align: middle;\n",
       "    }\n",
       "\n",
       "    .dataframe tbody tr th {\n",
       "        vertical-align: top;\n",
       "    }\n",
       "\n",
       "    .dataframe thead th {\n",
       "        text-align: right;\n",
       "    }\n",
       "</style>\n",
       "<table border=\"1\" class=\"dataframe\">\n",
       "  <thead>\n",
       "    <tr style=\"text-align: right;\">\n",
       "      <th></th>\n",
       "      <th>timepoint</th>\n",
       "      <th>cloudcover</th>\n",
       "      <th>lifted_index</th>\n",
       "      <th>prec_type</th>\n",
       "      <th>prec_amount</th>\n",
       "      <th>temp2m</th>\n",
       "      <th>rh2m</th>\n",
       "      <th>weather</th>\n",
       "      <th>wind10m.direction</th>\n",
       "      <th>wind10m.speed</th>\n",
       "    </tr>\n",
       "  </thead>\n",
       "  <tbody>\n",
       "    <tr>\n",
       "      <th>0</th>\n",
       "      <td>3</td>\n",
       "      <td>7</td>\n",
       "      <td>2</td>\n",
       "      <td>none</td>\n",
       "      <td>0</td>\n",
       "      <td>24</td>\n",
       "      <td>44%</td>\n",
       "      <td>mcloudyday</td>\n",
       "      <td>SE</td>\n",
       "      <td>2</td>\n",
       "    </tr>\n",
       "    <tr>\n",
       "      <th>1</th>\n",
       "      <td>6</td>\n",
       "      <td>8</td>\n",
       "      <td>-1</td>\n",
       "      <td>none</td>\n",
       "      <td>0</td>\n",
       "      <td>26</td>\n",
       "      <td>39%</td>\n",
       "      <td>cloudyday</td>\n",
       "      <td>SE</td>\n",
       "      <td>3</td>\n",
       "    </tr>\n",
       "  </tbody>\n",
       "</table>\n",
       "</div>"
      ],
      "text/plain": [
       "   timepoint  cloudcover  lifted_index prec_type  prec_amount  temp2m rh2m  \\\n",
       "0          3           7             2      none            0      24  44%   \n",
       "1          6           8            -1      none            0      26  39%   \n",
       "\n",
       "      weather wind10m.direction  wind10m.speed  \n",
       "0  mcloudyday                SE              2  \n",
       "1   cloudyday                SE              3  "
      ]
     },
     "execution_count": 7,
     "metadata": {},
     "output_type": "execute_result"
    }
   ],
   "source": [
    "df_civil = api.llamada_API(\"civil\")\n",
    "df_civil.head(2)"
   ]
  },
  {
   "cell_type": "markdown",
   "id": "7f6ad60c",
   "metadata": {},
   "source": [
    "2️⃣ Llamamos al producto \"astro\""
   ]
  },
  {
   "cell_type": "code",
   "execution_count": 8,
   "id": "fb7b7626",
   "metadata": {},
   "outputs": [
    {
     "name": "stdout",
     "output_type": "stream",
     "text": [
      "La peticion se ha realizado correctamente, se ha devuelto el código de estado: 200  y como razón del código de estado:  OK\n"
     ]
    },
    {
     "data": {
      "text/html": [
       "<div>\n",
       "<style scoped>\n",
       "    .dataframe tbody tr th:only-of-type {\n",
       "        vertical-align: middle;\n",
       "    }\n",
       "\n",
       "    .dataframe tbody tr th {\n",
       "        vertical-align: top;\n",
       "    }\n",
       "\n",
       "    .dataframe thead th {\n",
       "        text-align: right;\n",
       "    }\n",
       "</style>\n",
       "<table border=\"1\" class=\"dataframe\">\n",
       "  <thead>\n",
       "    <tr style=\"text-align: right;\">\n",
       "      <th></th>\n",
       "      <th>timepoint</th>\n",
       "      <th>cloudcover</th>\n",
       "      <th>seeing</th>\n",
       "      <th>transparency</th>\n",
       "      <th>lifted_index</th>\n",
       "      <th>rh2m</th>\n",
       "      <th>temp2m</th>\n",
       "      <th>prec_type</th>\n",
       "      <th>wind10m.direction</th>\n",
       "      <th>wind10m.speed</th>\n",
       "    </tr>\n",
       "  </thead>\n",
       "  <tbody>\n",
       "    <tr>\n",
       "      <th>0</th>\n",
       "      <td>3</td>\n",
       "      <td>7</td>\n",
       "      <td>1</td>\n",
       "      <td>2</td>\n",
       "      <td>2</td>\n",
       "      <td>4</td>\n",
       "      <td>24</td>\n",
       "      <td>none</td>\n",
       "      <td>SE</td>\n",
       "      <td>2</td>\n",
       "    </tr>\n",
       "    <tr>\n",
       "      <th>1</th>\n",
       "      <td>6</td>\n",
       "      <td>8</td>\n",
       "      <td>1</td>\n",
       "      <td>2</td>\n",
       "      <td>-1</td>\n",
       "      <td>3</td>\n",
       "      <td>26</td>\n",
       "      <td>none</td>\n",
       "      <td>SE</td>\n",
       "      <td>3</td>\n",
       "    </tr>\n",
       "  </tbody>\n",
       "</table>\n",
       "</div>"
      ],
      "text/plain": [
       "   timepoint  cloudcover  seeing  transparency  lifted_index  rh2m  temp2m  \\\n",
       "0          3           7       1             2             2     4      24   \n",
       "1          6           8       1             2            -1     3      26   \n",
       "\n",
       "  prec_type wind10m.direction  wind10m.speed  \n",
       "0      none                SE              2  \n",
       "1      none                SE              3  "
      ]
     },
     "execution_count": 8,
     "metadata": {},
     "output_type": "execute_result"
    }
   ],
   "source": [
    "df_astro = api.llamada_API(\"astro\")\n",
    "df_astro.head(2)"
   ]
  },
  {
   "cell_type": "markdown",
   "id": "565bc7d1",
   "metadata": {},
   "source": [
    "### Limpiamos los dataframes"
   ]
  },
  {
   "cell_type": "code",
   "execution_count": 9,
   "id": "d27177c9",
   "metadata": {},
   "outputs": [
    {
     "data": {
      "text/html": [
       "<div>\n",
       "<style scoped>\n",
       "    .dataframe tbody tr th:only-of-type {\n",
       "        vertical-align: middle;\n",
       "    }\n",
       "\n",
       "    .dataframe tbody tr th {\n",
       "        vertical-align: top;\n",
       "    }\n",
       "\n",
       "    .dataframe thead th {\n",
       "        text-align: right;\n",
       "    }\n",
       "</style>\n",
       "<table border=\"1\" class=\"dataframe\">\n",
       "  <thead>\n",
       "    <tr style=\"text-align: right;\">\n",
       "      <th></th>\n",
       "      <th>timepoint</th>\n",
       "      <th>cloudcover</th>\n",
       "      <th>lifted_index</th>\n",
       "      <th>prec_type</th>\n",
       "      <th>prec_amount</th>\n",
       "      <th>temp2m</th>\n",
       "      <th>rh2m</th>\n",
       "      <th>weather</th>\n",
       "      <th>wind10m.direction</th>\n",
       "      <th>wind10m.speed</th>\n",
       "      <th>fecha</th>\n",
       "      <th>latitud</th>\n",
       "      <th>longitud</th>\n",
       "      <th>ciudad</th>\n",
       "    </tr>\n",
       "  </thead>\n",
       "  <tbody>\n",
       "    <tr>\n",
       "      <th>0</th>\n",
       "      <td>3</td>\n",
       "      <td>7</td>\n",
       "      <td>2</td>\n",
       "      <td>none</td>\n",
       "      <td>0</td>\n",
       "      <td>24</td>\n",
       "      <td>44%</td>\n",
       "      <td>mcloudyday</td>\n",
       "      <td>SE</td>\n",
       "      <td>2</td>\n",
       "      <td>2022-05-18</td>\n",
       "      <td>40.4165</td>\n",
       "      <td>-3.70256</td>\n",
       "      <td>Madrid</td>\n",
       "    </tr>\n",
       "    <tr>\n",
       "      <th>1</th>\n",
       "      <td>6</td>\n",
       "      <td>8</td>\n",
       "      <td>-1</td>\n",
       "      <td>none</td>\n",
       "      <td>0</td>\n",
       "      <td>26</td>\n",
       "      <td>39%</td>\n",
       "      <td>cloudyday</td>\n",
       "      <td>SE</td>\n",
       "      <td>3</td>\n",
       "      <td>2022-05-18</td>\n",
       "      <td>40.4165</td>\n",
       "      <td>-3.70256</td>\n",
       "      <td>Madrid</td>\n",
       "    </tr>\n",
       "  </tbody>\n",
       "</table>\n",
       "</div>"
      ],
      "text/plain": [
       "   timepoint  cloudcover  lifted_index prec_type  prec_amount  temp2m rh2m  \\\n",
       "0          3           7             2      none            0      24  44%   \n",
       "1          6           8            -1      none            0      26  39%   \n",
       "\n",
       "      weather wind10m.direction  wind10m.speed       fecha  latitud  longitud  \\\n",
       "0  mcloudyday                SE              2  2022-05-18  40.4165  -3.70256   \n",
       "1   cloudyday                SE              3  2022-05-18  40.4165  -3.70256   \n",
       "\n",
       "   ciudad  \n",
       "0  Madrid  \n",
       "1  Madrid  "
      ]
     },
     "execution_count": 9,
     "metadata": {},
     "output_type": "execute_result"
    }
   ],
   "source": [
    "df_civil = api.limpiar_civil(df_civil)\n",
    "df_civil.head(2)"
   ]
  },
  {
   "cell_type": "code",
   "execution_count": 10,
   "id": "942d1e3c",
   "metadata": {},
   "outputs": [
    {
     "name": "stderr",
     "output_type": "stream",
     "text": [
      "/var/folders/rp/8_fhdgqx4mv2kkv4dswj4tq40000gn/T/ipykernel_4383/1991873112.py:57: SettingWithCopyWarning: \n",
      "A value is trying to be set on a copy of a slice from a DataFrame.\n",
      "Try using .loc[row_indexer,col_indexer] = value instead\n",
      "\n",
      "See the caveats in the documentation: https://pandas.pydata.org/pandas-docs/stable/user_guide/indexing.html#returning-a-view-versus-a-copy\n",
      "  df[\"fecha\"] = hoy\n",
      "/var/folders/rp/8_fhdgqx4mv2kkv4dswj4tq40000gn/T/ipykernel_4383/1991873112.py:62: SettingWithCopyWarning: \n",
      "A value is trying to be set on a copy of a slice from a DataFrame.\n",
      "Try using .loc[row_indexer,col_indexer] = value instead\n",
      "\n",
      "See the caveats in the documentation: https://pandas.pydata.org/pandas-docs/stable/user_guide/indexing.html#returning-a-view-versus-a-copy\n",
      "  df[\"ciudad\"] = self.ciudad\n"
     ]
    },
    {
     "data": {
      "text/html": [
       "<div>\n",
       "<style scoped>\n",
       "    .dataframe tbody tr th:only-of-type {\n",
       "        vertical-align: middle;\n",
       "    }\n",
       "\n",
       "    .dataframe tbody tr th {\n",
       "        vertical-align: top;\n",
       "    }\n",
       "\n",
       "    .dataframe thead th {\n",
       "        text-align: right;\n",
       "    }\n",
       "</style>\n",
       "<table border=\"1\" class=\"dataframe\">\n",
       "  <thead>\n",
       "    <tr style=\"text-align: right;\">\n",
       "      <th></th>\n",
       "      <th>seeing</th>\n",
       "      <th>transparency</th>\n",
       "      <th>timepoint</th>\n",
       "      <th>fecha</th>\n",
       "      <th>ciudad</th>\n",
       "    </tr>\n",
       "  </thead>\n",
       "  <tbody>\n",
       "    <tr>\n",
       "      <th>0</th>\n",
       "      <td>1</td>\n",
       "      <td>2</td>\n",
       "      <td>3</td>\n",
       "      <td>2022-05-18</td>\n",
       "      <td>Madrid</td>\n",
       "    </tr>\n",
       "    <tr>\n",
       "      <th>1</th>\n",
       "      <td>1</td>\n",
       "      <td>2</td>\n",
       "      <td>6</td>\n",
       "      <td>2022-05-18</td>\n",
       "      <td>Madrid</td>\n",
       "    </tr>\n",
       "  </tbody>\n",
       "</table>\n",
       "</div>"
      ],
      "text/plain": [
       "   seeing  transparency  timepoint       fecha  ciudad\n",
       "0       1             2          3  2022-05-18  Madrid\n",
       "1       1             2          6  2022-05-18  Madrid"
      ]
     },
     "execution_count": 10,
     "metadata": {},
     "output_type": "execute_result"
    }
   ],
   "source": [
    "df_astro = api.limpiar_astro(df_astro)\n",
    "df_astro.head(2)"
   ]
  },
  {
   "cell_type": "markdown",
   "id": "9eb3a490",
   "metadata": {},
   "source": [
    "### Juntamos los dataframes "
   ]
  },
  {
   "cell_type": "code",
   "execution_count": 11,
   "id": "028b9706",
   "metadata": {},
   "outputs": [
    {
     "name": "stderr",
     "output_type": "stream",
     "text": [
      "/var/folders/rp/8_fhdgqx4mv2kkv4dswj4tq40000gn/T/ipykernel_4383/1991873112.py:74: FutureWarning: Passing 'suffixes' which cause duplicate columns {'transparency_x', 'seeing_x'} in the result is deprecated and will raise a MergeError in a future version.\n",
      "  df_completo = pd.merge(df_completo , df_visibilidad , on=['fecha', \"timepoint\"], how = \"inner\")\n"
     ]
    },
    {
     "data": {
      "text/html": [
       "<div>\n",
       "<style scoped>\n",
       "    .dataframe tbody tr th:only-of-type {\n",
       "        vertical-align: middle;\n",
       "    }\n",
       "\n",
       "    .dataframe tbody tr th {\n",
       "        vertical-align: top;\n",
       "    }\n",
       "\n",
       "    .dataframe thead th {\n",
       "        text-align: right;\n",
       "    }\n",
       "</style>\n",
       "<table border=\"1\" class=\"dataframe\">\n",
       "  <thead>\n",
       "    <tr style=\"text-align: right;\">\n",
       "      <th></th>\n",
       "      <th>timepoint</th>\n",
       "      <th>cloudcover</th>\n",
       "      <th>lifted_index</th>\n",
       "      <th>prec_type</th>\n",
       "      <th>prec_amount</th>\n",
       "      <th>temp2m</th>\n",
       "      <th>rh2m</th>\n",
       "      <th>weather</th>\n",
       "      <th>wind10m.direction</th>\n",
       "      <th>wind10m.speed</th>\n",
       "      <th>...</th>\n",
       "      <th>transparency_x</th>\n",
       "      <th>seeing_y</th>\n",
       "      <th>transparency_y</th>\n",
       "      <th>ciudad_x.1</th>\n",
       "      <th>seeing_x</th>\n",
       "      <th>transparency_x</th>\n",
       "      <th>ciudad_y.1</th>\n",
       "      <th>seeing_y</th>\n",
       "      <th>transparency_y</th>\n",
       "      <th>ciudad_y</th>\n",
       "    </tr>\n",
       "  </thead>\n",
       "  <tbody>\n",
       "    <tr>\n",
       "      <th>0</th>\n",
       "      <td>3</td>\n",
       "      <td>7</td>\n",
       "      <td>2</td>\n",
       "      <td>none</td>\n",
       "      <td>0</td>\n",
       "      <td>24</td>\n",
       "      <td>44%</td>\n",
       "      <td>mcloudyday</td>\n",
       "      <td>SE</td>\n",
       "      <td>2</td>\n",
       "      <td>...</td>\n",
       "      <td>NaN</td>\n",
       "      <td>NaN</td>\n",
       "      <td>NaN</td>\n",
       "      <td>NaN</td>\n",
       "      <td>NaN</td>\n",
       "      <td>NaN</td>\n",
       "      <td>NaN</td>\n",
       "      <td>1</td>\n",
       "      <td>2</td>\n",
       "      <td>Madrid</td>\n",
       "    </tr>\n",
       "    <tr>\n",
       "      <th>1</th>\n",
       "      <td>6</td>\n",
       "      <td>8</td>\n",
       "      <td>-1</td>\n",
       "      <td>none</td>\n",
       "      <td>0</td>\n",
       "      <td>26</td>\n",
       "      <td>39%</td>\n",
       "      <td>cloudyday</td>\n",
       "      <td>SE</td>\n",
       "      <td>3</td>\n",
       "      <td>...</td>\n",
       "      <td>NaN</td>\n",
       "      <td>NaN</td>\n",
       "      <td>NaN</td>\n",
       "      <td>NaN</td>\n",
       "      <td>NaN</td>\n",
       "      <td>NaN</td>\n",
       "      <td>NaN</td>\n",
       "      <td>1</td>\n",
       "      <td>2</td>\n",
       "      <td>Madrid</td>\n",
       "    </tr>\n",
       "  </tbody>\n",
       "</table>\n",
       "<p>2 rows × 25 columns</p>\n",
       "</div>"
      ],
      "text/plain": [
       "   timepoint  cloudcover  lifted_index prec_type  prec_amount  temp2m rh2m  \\\n",
       "0          3           7             2      none            0      24  44%   \n",
       "1          6           8            -1      none            0      26  39%   \n",
       "\n",
       "      weather wind10m.direction  wind10m.speed  ...  transparency_x  seeing_y  \\\n",
       "0  mcloudyday                SE              2  ...             NaN       NaN   \n",
       "1   cloudyday                SE              3  ...             NaN       NaN   \n",
       "\n",
       "  transparency_y ciudad_x.1  seeing_x  transparency_x  ciudad_y.1  seeing_y  \\\n",
       "0            NaN        NaN       NaN             NaN         NaN         1   \n",
       "1            NaN        NaN       NaN             NaN         NaN         1   \n",
       "\n",
       "  transparency_y  ciudad_y  \n",
       "0              2    Madrid  \n",
       "1              2    Madrid  \n",
       "\n",
       "[2 rows x 25 columns]"
      ]
     },
     "execution_count": 11,
     "metadata": {},
     "output_type": "execute_result"
    }
   ],
   "source": [
    "df_completo = api.juntar_dfs(df, df_civil, df_astro)\n",
    "df_completo.head(2)"
   ]
  },
  {
   "cell_type": "code",
   "execution_count": 12,
   "id": "8d30fa04",
   "metadata": {},
   "outputs": [
    {
     "data": {
      "text/plain": [
       "timepoint             0\n",
       "cloudcover            0\n",
       "lifted_index          0\n",
       "prec_type             0\n",
       "prec_amount           0\n",
       "temp2m                0\n",
       "rh2m                  0\n",
       "weather               0\n",
       "wind10m.direction     0\n",
       "wind10m.speed         0\n",
       "fecha                 0\n",
       "latitud               0\n",
       "longitud              0\n",
       "ciudad_x              0\n",
       "seeing_x             24\n",
       "transparency_x       24\n",
       "seeing_y             24\n",
       "transparency_y       24\n",
       "ciudad_x.1           24\n",
       "seeing_x             24\n",
       "transparency_x       24\n",
       "ciudad_y.1           24\n",
       "seeing_y              0\n",
       "transparency_y        0\n",
       "ciudad_y              0\n",
       "dtype: int64"
      ]
     },
     "execution_count": 12,
     "metadata": {},
     "output_type": "execute_result"
    }
   ],
   "source": [
    "df_completo.isnull().sum()"
   ]
  },
  {
   "cell_type": "markdown",
   "id": "c29126fc",
   "metadata": {},
   "source": [
    "### Chequeamos como están los datos de \"limpios\""
   ]
  },
  {
   "cell_type": "code",
   "execution_count": 13,
   "id": "506b3653",
   "metadata": {
    "scrolled": false
   },
   "outputs": [
    {
     "name": "stdout",
     "output_type": "stream",
     "text": [
      "Las columnas son: \n",
      "\n",
      "['timepoint', 'cloudcover', 'lifted_index', 'prec_type', 'prec_amount', 'temp2m', 'rh2m', 'weather', 'wind10m.direction', 'wind10m.speed', 'fecha', 'latitud', 'longitud', 'ciudad_x', 'seeing_x', 'transparency_x', 'seeing_y', 'transparency_y', 'ciudad_x.1', 'seeing_x', 'transparency_x', 'ciudad_y.1', 'seeing_y', 'transparency_y', 'ciudad_y']\n",
      "-----------------------------------------\n",
      "Los tipos de datos que tenemos son: \n",
      "\n",
      "timepoint              int64\n",
      "cloudcover             int64\n",
      "lifted_index           int64\n",
      "prec_type             object\n",
      "prec_amount            int64\n",
      "temp2m                 int64\n",
      "rh2m                  object\n",
      "weather               object\n",
      "wind10m.direction     object\n",
      "wind10m.speed          int64\n",
      "fecha                 object\n",
      "latitud              float64\n",
      "longitud             float64\n",
      "ciudad_x              object\n",
      "seeing_x             float64\n",
      "transparency_x       float64\n",
      "seeing_y             float64\n",
      "transparency_y       float64\n",
      "ciudad_x.1            object\n",
      "seeing_x             float64\n",
      "transparency_x       float64\n",
      "ciudad_y.1            object\n",
      "seeing_y               int64\n",
      "transparency_y         int64\n",
      "ciudad_y              object\n",
      "dtype: object\n",
      "-----------------------------------------\n",
      "El porcentaje de nulos: \n",
      "\n",
      "timepoint              0.0\n",
      "cloudcover             0.0\n",
      "lifted_index           0.0\n",
      "prec_type              0.0\n",
      "prec_amount            0.0\n",
      "temp2m                 0.0\n",
      "rh2m                   0.0\n",
      "weather                0.0\n",
      "wind10m.direction      0.0\n",
      "wind10m.speed          0.0\n",
      "fecha                  0.0\n",
      "latitud                0.0\n",
      "longitud               0.0\n",
      "ciudad_x               0.0\n",
      "seeing_x             100.0\n",
      "transparency_x       100.0\n",
      "seeing_y             100.0\n",
      "transparency_y       100.0\n",
      "ciudad_x.1           100.0\n",
      "seeing_x             100.0\n",
      "transparency_x       100.0\n",
      "ciudad_y.1           100.0\n",
      "seeing_y               0.0\n",
      "transparency_y         0.0\n",
      "ciudad_y               0.0\n",
      "dtype: float64\n"
     ]
    }
   ],
   "source": [
    "api.chequear_datos(df_completo)"
   ]
  },
  {
   "cell_type": "code",
   "execution_count": 14,
   "id": "19d06aa2",
   "metadata": {},
   "outputs": [],
   "source": [
    "# definimos las columnas que tienen nulos\n",
    "\n",
    "columnas_con_nulos = [\"seeing\", \"transparency\", \"fecha\", \"latitud\", \"longitud\", 'ciudad_x', \"ciudad_y\"]"
   ]
  },
  {
   "cell_type": "code",
   "execution_count": null,
   "id": "46219ea6",
   "metadata": {},
   "outputs": [],
   "source": [
    "df_final = api.limpiar_dataframe(df_completo, columnas_con_nulos)\n",
    "df_final.head(2)"
   ]
  },
  {
   "cell_type": "markdown",
   "id": "6cea5efa",
   "metadata": {},
   "source": [
    "Y listo!! Si cada día ejecutaramos este código tendríamos actualizado al día la información meteorológica para la ciudad de Madrid 💪🏽"
   ]
  },
  {
   "cell_type": "markdown",
   "id": "097483f0",
   "metadata": {},
   "source": [
    "**EJERCICIOS** \n",
    "\n",
    "En este ejercicio tendréis que usar la misma API que hemos usado hasta ahora y elegir otro punto de información (hasta ahora hemos usado `civil` y `astro`). Descarga los datos, limpialos y juntalos con los datos de los otros puntos de información que hemos obtenido durante esta lección. \n",
    "\n",
    "📌 **NOTA** Al juntar toda la información puede que haya algunas columnas que tengan la misma información. Debemos evitar información duplicada en nuestro *dataframe*, por lo que tendremos que hacer una buena selección de las columnas que queremos conservar.\n",
    "\n",
    "💪🏽 **BONUS** Puede que algunas de las columnas que tengamos de la nueva llamada a la API tengan una pinta como esta 👇🏽\n",
    "\n",
    "```python\n",
    "[{'layer': '950mb', 'rh': 9},\n",
    " {'layer': '900mb', 'rh': 11},\n",
    " {'layer': '850mb', 'rh': 12},\n",
    " {'layer': '800mb', 'rh': 6},\n",
    " {'layer': '750mb', 'rh': 4},\n",
    " {'layer': '700mb', 'rh': 5},\n",
    " {'layer': '650mb', 'rh': 7},\n",
    " {'layer': '600mb', 'rh': 15},\n",
    " {'layer': '550mb', 'rh': 16},\n",
    " {'layer': '500mb', 'rh': 13},\n",
    " {'layer': '450mb', 'rh': 9},\n",
    " {'layer': '400mb', 'rh': 11},\n",
    " {'layer': '350mb', 'rh': 10},\n",
    " {'layer': '300mb', 'rh': 10},\n",
    " {'layer': '250mb', 'rh': 8},\n",
    " {'layer': '200mb', 'rh': -3}]\n",
    "```\n",
    "\n",
    "El objetivo de este bonus es serparar cada elemento de esa lista de diccionarios en columnas diferentes. \n"
   ]
  },
  {
   "cell_type": "markdown",
   "id": "f7f0bebe",
   "metadata": {},
   "source": []
  },
  {
   "cell_type": "code",
   "execution_count": null,
   "id": "a44ecbf8",
   "metadata": {},
   "outputs": [],
   "source": []
  }
 ],
 "metadata": {
  "interpreter": {
   "hash": "40d3a090f54c6569ab1632332b64b2c03c39dcf918b08424e98f38b5ae0af88f"
  },
  "kernelspec": {
   "display_name": "Python 3.9.7 ('base')",
   "language": "python",
   "name": "python3"
  },
  "language_info": {
   "codemirror_mode": {
    "name": "ipython",
    "version": 3
   },
   "file_extension": ".py",
   "mimetype": "text/x-python",
   "name": "python",
   "nbconvert_exporter": "python",
   "pygments_lexer": "ipython3",
   "version": "3.9.7"
  },
  "toc": {
   "base_numbering": 1,
   "nav_menu": {},
   "number_sections": true,
   "sideBar": true,
   "skip_h1_title": false,
   "title_cell": "Table of Contents",
   "title_sidebar": "Contents",
   "toc_cell": true,
   "toc_position": {},
   "toc_section_display": true,
   "toc_window_display": true
  }
 },
 "nbformat": 4,
 "nbformat_minor": 5
}

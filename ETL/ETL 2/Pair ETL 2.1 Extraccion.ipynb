{
 "cells": [
  {
   "cell_type": "markdown",
   "metadata": {},
   "source": [
    "# 17/05 - Pair Programming ETL 1 - Lidia y Tatiana"
   ]
  },
  {
   "cell_type": "markdown",
   "metadata": {},
   "source": [
    "Tendréis que usar el csv attacks_limpieza_completa.\n",
    "\n",
    "En la lección de hoy aprendimos como transformar nuestros datos para que estén preparados para almacearlos en una BBDD.\n",
    " \n",
    "En este momento tenemos dos fuentes de datos:\n",
    "\n",
    "- El csv con los ataques de tiburones que hemos estado limpiando hasta ahora. Usad el que no tenía las variables categóricas codificadas.\n",
    "- El csv con los datos climáticos de los principales paises que tienen ataques de tiburones."
   ]
  },
  {
   "cell_type": "markdown",
   "metadata": {},
   "source": [
    "El objetivo de la sesión de hoy será juntar en un único csv la información de ambas fuentes. Para ello:\n",
    "\n",
    "- Cargaremos los dos ficheros de datos\n",
    "\n",
    "Del dataframe de los ataques nos quedaremos solo con las filas de los paises que seleccionamos en la lección de ayer:\n",
    "\n",
    ">USA\n",
    "\n",
    ">Australia\n",
    "\n",
    ">New Zealand\n",
    "\n",
    ">South Africa\n",
    "\n",
    ">Papua New Guinea"
   ]
  },
  {
   "cell_type": "markdown",
   "metadata": {},
   "source": [
    "Del dataframe de los datos climáticos seleccionaremos todas las columnas.\n",
    "\n",
    "Cuando ya tengamos todos los datos deseados juntaremos los dos csv.\n",
    "\n",
    "Para hacer esta unión tendremos que hacer un groupby en la tabla de clima para sacar una media de las medidas climáticas por pais.\n",
    "\n",
    "Antes de hacer el groupby si nos fijamos tenemos dos columnas rh_profile y wind_profile cuya información es una lista de diccionarios. \n",
    "\n",
    "Si intentamos hacer la media de eso no nos dará un valor real. \n",
    "\n",
    "Como separar esta información en distintas columnas fue un problema al que nos enfrentamos en la clase invertida de ETL-2, donde teníais un Bonus para desempaquetar esta información. En caso de que en aquel ejercicio no lo consigierais os dejamos por aquí una posible solución que nos permite separar esa información en distintas columnas. \n",
    "\n",
    "Os dejamos el código documentado. ⚠️ Os recomendamos que vayáis desgranando el código y viendo lo que nos devuelve cada línea de código para entenderlo mejor."
   ]
  },
  {
   "cell_type": "code",
   "execution_count": 1,
   "metadata": {},
   "outputs": [],
   "source": [
    "import requests\n",
    "import pandas as pd\n",
    "import numpy as np\n",
    "\n",
    "from datetime import datetime, timedelta"
   ]
  },
  {
   "cell_type": "code",
   "execution_count": 2,
   "metadata": {},
   "outputs": [],
   "source": [
    "# Cargamos el primer archivo\n",
    "df = pd.read_csv(\"./attacks_limpieza_completa.csv\", index_col = 0)\n",
    "df.reset_index(inplace=True)"
   ]
  },
  {
   "cell_type": "code",
   "execution_count": 4,
   "metadata": {},
   "outputs": [
    {
     "data": {
      "text/html": [
       "<div>\n",
       "<style scoped>\n",
       "    .dataframe tbody tr th:only-of-type {\n",
       "        vertical-align: middle;\n",
       "    }\n",
       "\n",
       "    .dataframe tbody tr th {\n",
       "        vertical-align: top;\n",
       "    }\n",
       "\n",
       "    .dataframe thead th {\n",
       "        text-align: right;\n",
       "    }\n",
       "</style>\n",
       "<table border=\"1\" class=\"dataframe\">\n",
       "  <thead>\n",
       "    <tr style=\"text-align: right;\">\n",
       "      <th></th>\n",
       "      <th>index</th>\n",
       "      <th>year</th>\n",
       "      <th>type</th>\n",
       "      <th>country</th>\n",
       "      <th>age</th>\n",
       "      <th>species_</th>\n",
       "      <th>fecha_limpia</th>\n",
       "      <th>fatal</th>\n",
       "      <th>sex</th>\n",
       "      <th>latitud</th>\n",
       "      <th>...</th>\n",
       "      <th>fatal_N</th>\n",
       "      <th>fatal_Unknown</th>\n",
       "      <th>fatal_Y</th>\n",
       "      <th>fatal_N.1</th>\n",
       "      <th>fatal_Unknown.1</th>\n",
       "      <th>fatal_Y.1</th>\n",
       "      <th>species_.1</th>\n",
       "      <th>fecha_limpia.1</th>\n",
       "      <th>type.1</th>\n",
       "      <th>age_NORM</th>\n",
       "    </tr>\n",
       "  </thead>\n",
       "  <tbody>\n",
       "    <tr>\n",
       "      <th>0</th>\n",
       "      <td>0</td>\n",
       "      <td>2018</td>\n",
       "      <td>Boating</td>\n",
       "      <td>usa</td>\n",
       "      <td>57.0</td>\n",
       "      <td>White shark</td>\n",
       "      <td>Jun</td>\n",
       "      <td>N</td>\n",
       "      <td>F</td>\n",
       "      <td>39.78373</td>\n",
       "      <td>...</td>\n",
       "      <td>1</td>\n",
       "      <td>0</td>\n",
       "      <td>0</td>\n",
       "      <td>1</td>\n",
       "      <td>0</td>\n",
       "      <td>0</td>\n",
       "      <td>4</td>\n",
       "      <td>7</td>\n",
       "      <td>1</td>\n",
       "      <td>9.116327</td>\n",
       "    </tr>\n",
       "  </tbody>\n",
       "</table>\n",
       "<p>1 rows × 22 columns</p>\n",
       "</div>"
      ],
      "text/plain": [
       "   index  year     type country   age     species_ fecha_limpia fatal sex  \\\n",
       "0      0  2018  Boating     usa  57.0  White shark          Jun     N   F   \n",
       "\n",
       "    latitud  ...  fatal_N fatal_Unknown  fatal_Y  fatal_N.1  fatal_Unknown.1  \\\n",
       "0  39.78373  ...        1             0        0          1                0   \n",
       "\n",
       "   fatal_Y.1  species_.1  fecha_limpia.1  type.1  age_NORM  \n",
       "0          0           4               7       1  9.116327  \n",
       "\n",
       "[1 rows x 22 columns]"
      ]
     },
     "execution_count": 4,
     "metadata": {},
     "output_type": "execute_result"
    }
   ],
   "source": [
    "df.head(1)"
   ]
  },
  {
   "cell_type": "code",
   "execution_count": 5,
   "metadata": {},
   "outputs": [],
   "source": [
    "# Del primer archivo seleccionamos solo los paises que nos interesan\n",
    "df_paises= df[df[\"country\"].isin([\"usa\",\"australia\",\"new zealand\", \"south africa\", \"papua new guinea\"])]"
   ]
  },
  {
   "cell_type": "code",
   "execution_count": 6,
   "metadata": {},
   "outputs": [],
   "source": [
    "# Cargamos el segundo archivo\n",
    "df_clima= pd.read_csv(\"./df_completo.csv\", index_col = 0)\n",
    "df_clima.reset_index(inplace=True)"
   ]
  },
  {
   "cell_type": "code",
   "execution_count": 7,
   "metadata": {},
   "outputs": [
    {
     "data": {
      "text/html": [
       "<div>\n",
       "<style scoped>\n",
       "    .dataframe tbody tr th:only-of-type {\n",
       "        vertical-align: middle;\n",
       "    }\n",
       "\n",
       "    .dataframe tbody tr th {\n",
       "        vertical-align: top;\n",
       "    }\n",
       "\n",
       "    .dataframe thead th {\n",
       "        text-align: right;\n",
       "    }\n",
       "</style>\n",
       "<table border=\"1\" class=\"dataframe\">\n",
       "  <thead>\n",
       "    <tr style=\"text-align: right;\">\n",
       "      <th></th>\n",
       "      <th>index</th>\n",
       "      <th>timepoint</th>\n",
       "      <th>cloudcover</th>\n",
       "      <th>highcloud</th>\n",
       "      <th>midcloud</th>\n",
       "      <th>lowcloud</th>\n",
       "      <th>rh_profile</th>\n",
       "      <th>wind_profile</th>\n",
       "      <th>temp2m</th>\n",
       "      <th>lifted_index</th>\n",
       "      <th>rh2m</th>\n",
       "      <th>msl_pressure</th>\n",
       "      <th>prec_type</th>\n",
       "      <th>prec_amount</th>\n",
       "      <th>snow_depth</th>\n",
       "      <th>wind10m.direction</th>\n",
       "      <th>wind10m.speed</th>\n",
       "      <th>pais</th>\n",
       "      <th>latitud</th>\n",
       "      <th>longitud</th>\n",
       "    </tr>\n",
       "  </thead>\n",
       "  <tbody>\n",
       "    <tr>\n",
       "      <th>0</th>\n",
       "      <td>0</td>\n",
       "      <td>3</td>\n",
       "      <td>1</td>\n",
       "      <td>-9999</td>\n",
       "      <td>-9999</td>\n",
       "      <td>-9999</td>\n",
       "      <td>[{'layer': '950mb', 'rh': 5}, {'layer': '900mb...</td>\n",
       "      <td>[{'layer': '950mb', 'direction': 245, 'speed':...</td>\n",
       "      <td>21</td>\n",
       "      <td>2</td>\n",
       "      <td>8</td>\n",
       "      <td>1017</td>\n",
       "      <td>none</td>\n",
       "      <td>0</td>\n",
       "      <td>0</td>\n",
       "      <td>200</td>\n",
       "      <td>2</td>\n",
       "      <td>USA</td>\n",
       "      <td>39.78373</td>\n",
       "      <td>-100.445882</td>\n",
       "    </tr>\n",
       "  </tbody>\n",
       "</table>\n",
       "</div>"
      ],
      "text/plain": [
       "   index  timepoint  cloudcover  highcloud  midcloud  lowcloud  \\\n",
       "0      0          3           1      -9999     -9999     -9999   \n",
       "\n",
       "                                          rh_profile  \\\n",
       "0  [{'layer': '950mb', 'rh': 5}, {'layer': '900mb...   \n",
       "\n",
       "                                        wind_profile  temp2m  lifted_index  \\\n",
       "0  [{'layer': '950mb', 'direction': 245, 'speed':...      21             2   \n",
       "\n",
       "   rh2m  msl_pressure prec_type  prec_amount  snow_depth  wind10m.direction  \\\n",
       "0     8          1017      none            0           0                200   \n",
       "\n",
       "   wind10m.speed pais   latitud    longitud  \n",
       "0              2  USA  39.78373 -100.445882  "
      ]
     },
     "execution_count": 7,
     "metadata": {},
     "output_type": "execute_result"
    }
   ],
   "source": [
    "df_clima.head(1)"
   ]
  },
  {
   "cell_type": "code",
   "execution_count": 8,
   "metadata": {},
   "outputs": [],
   "source": [
    "import ast"
   ]
  },
  {
   "cell_type": "code",
   "execution_count": 9,
   "metadata": {},
   "outputs": [],
   "source": [
    "df_clima[\"rh_profile\"] =df_clima[\"rh_profile\"].apply(ast.literal_eval)"
   ]
  },
  {
   "cell_type": "code",
   "execution_count": 10,
   "metadata": {},
   "outputs": [
    {
     "data": {
      "text/plain": [
       "[{'layer': '950mb', 'rh': 5},\n",
       " {'layer': '900mb', 'rh': 4},\n",
       " {'layer': '850mb', 'rh': 4},\n",
       " {'layer': '800mb', 'rh': 4},\n",
       " {'layer': '750mb', 'rh': 3},\n",
       " {'layer': '700mb', 'rh': 1},\n",
       " {'layer': '650mb', 'rh': 2},\n",
       " {'layer': '600mb', 'rh': 3},\n",
       " {'layer': '550mb', 'rh': 4},\n",
       " {'layer': '500mb', 'rh': 5},\n",
       " {'layer': '450mb', 'rh': 1},\n",
       " {'layer': '400mb', 'rh': 0},\n",
       " {'layer': '350mb', 'rh': 3},\n",
       " {'layer': '300mb', 'rh': 2},\n",
       " {'layer': '250mb', 'rh': 3},\n",
       " {'layer': '200mb', 'rh': 8}]"
      ]
     },
     "execution_count": 10,
     "metadata": {},
     "output_type": "execute_result"
    }
   ],
   "source": [
    "df_clima.rh_profile[0] "
   ]
  },
  {
   "cell_type": "code",
   "execution_count": 11,
   "metadata": {},
   "outputs": [],
   "source": [
    "rh= df_clima[\"rh_profile\"].apply(pd.Series)"
   ]
  },
  {
   "cell_type": "code",
   "execution_count": 12,
   "metadata": {},
   "outputs": [],
   "source": [
    "for i in range(len(rh.columns)):\n",
    "    nombre = \"rh_\" + str(rh[i].apply(pd.Series)[\"layer\"][0]) \n",
    "    valores = list(rh[i].apply(pd.Series)[\"rh\"])#tenemos que convertirlo a lista para q funcione el insert\n",
    "    df_clima.insert(i, nombre, valores)#insert acepta listas"
   ]
  },
  {
   "cell_type": "code",
   "execution_count": 13,
   "metadata": {},
   "outputs": [
    {
     "data": {
      "text/html": [
       "<div>\n",
       "<style scoped>\n",
       "    .dataframe tbody tr th:only-of-type {\n",
       "        vertical-align: middle;\n",
       "    }\n",
       "\n",
       "    .dataframe tbody tr th {\n",
       "        vertical-align: top;\n",
       "    }\n",
       "\n",
       "    .dataframe thead th {\n",
       "        text-align: right;\n",
       "    }\n",
       "</style>\n",
       "<table border=\"1\" class=\"dataframe\">\n",
       "  <thead>\n",
       "    <tr style=\"text-align: right;\">\n",
       "      <th></th>\n",
       "      <th>rh_950mb</th>\n",
       "      <th>rh_900mb</th>\n",
       "      <th>rh_850mb</th>\n",
       "      <th>rh_800mb</th>\n",
       "      <th>rh_750mb</th>\n",
       "      <th>rh_700mb</th>\n",
       "      <th>rh_650mb</th>\n",
       "      <th>rh_600mb</th>\n",
       "      <th>rh_550mb</th>\n",
       "      <th>rh_500mb</th>\n",
       "      <th>...</th>\n",
       "      <th>rh2m</th>\n",
       "      <th>msl_pressure</th>\n",
       "      <th>prec_type</th>\n",
       "      <th>prec_amount</th>\n",
       "      <th>snow_depth</th>\n",
       "      <th>wind10m.direction</th>\n",
       "      <th>wind10m.speed</th>\n",
       "      <th>pais</th>\n",
       "      <th>latitud</th>\n",
       "      <th>longitud</th>\n",
       "    </tr>\n",
       "  </thead>\n",
       "  <tbody>\n",
       "    <tr>\n",
       "      <th>0</th>\n",
       "      <td>5</td>\n",
       "      <td>4</td>\n",
       "      <td>4</td>\n",
       "      <td>4</td>\n",
       "      <td>3</td>\n",
       "      <td>1</td>\n",
       "      <td>2</td>\n",
       "      <td>3</td>\n",
       "      <td>4</td>\n",
       "      <td>5</td>\n",
       "      <td>...</td>\n",
       "      <td>8</td>\n",
       "      <td>1017</td>\n",
       "      <td>none</td>\n",
       "      <td>0</td>\n",
       "      <td>0</td>\n",
       "      <td>200</td>\n",
       "      <td>2</td>\n",
       "      <td>USA</td>\n",
       "      <td>39.78373</td>\n",
       "      <td>-100.445882</td>\n",
       "    </tr>\n",
       "    <tr>\n",
       "      <th>1</th>\n",
       "      <td>5</td>\n",
       "      <td>4</td>\n",
       "      <td>4</td>\n",
       "      <td>4</td>\n",
       "      <td>1</td>\n",
       "      <td>0</td>\n",
       "      <td>2</td>\n",
       "      <td>3</td>\n",
       "      <td>4</td>\n",
       "      <td>3</td>\n",
       "      <td>...</td>\n",
       "      <td>8</td>\n",
       "      <td>1018</td>\n",
       "      <td>none</td>\n",
       "      <td>0</td>\n",
       "      <td>0</td>\n",
       "      <td>230</td>\n",
       "      <td>2</td>\n",
       "      <td>USA</td>\n",
       "      <td>39.78373</td>\n",
       "      <td>-100.445882</td>\n",
       "    </tr>\n",
       "  </tbody>\n",
       "</table>\n",
       "<p>2 rows × 36 columns</p>\n",
       "</div>"
      ],
      "text/plain": [
       "   rh_950mb  rh_900mb  rh_850mb  rh_800mb  rh_750mb  rh_700mb  rh_650mb  \\\n",
       "0         5         4         4         4         3         1         2   \n",
       "1         5         4         4         4         1         0         2   \n",
       "\n",
       "   rh_600mb  rh_550mb  rh_500mb  ...  rh2m  msl_pressure  prec_type  \\\n",
       "0         3         4         5  ...     8          1017       none   \n",
       "1         3         4         3  ...     8          1018       none   \n",
       "\n",
       "   prec_amount  snow_depth  wind10m.direction  wind10m.speed  pais   latitud  \\\n",
       "0            0           0                200              2   USA  39.78373   \n",
       "1            0           0                230              2   USA  39.78373   \n",
       "\n",
       "     longitud  \n",
       "0 -100.445882  \n",
       "1 -100.445882  \n",
       "\n",
       "[2 rows x 36 columns]"
      ]
     },
     "execution_count": 13,
     "metadata": {},
     "output_type": "execute_result"
    }
   ],
   "source": [
    "df_clima.head(2)"
   ]
  },
  {
   "cell_type": "code",
   "execution_count": 14,
   "metadata": {},
   "outputs": [],
   "source": [
    "df_clima['wind_profile']= df_clima['wind_profile'].apply(ast.literal_eval)"
   ]
  },
  {
   "cell_type": "code",
   "execution_count": 15,
   "metadata": {},
   "outputs": [
    {
     "data": {
      "text/plain": [
       "[{'layer': '950mb', 'direction': 245, 'speed': 2},\n",
       " {'layer': '900mb', 'direction': 230, 'speed': 3},\n",
       " {'layer': '850mb', 'direction': 240, 'speed': 3},\n",
       " {'layer': '800mb', 'direction': 255, 'speed': 2},\n",
       " {'layer': '750mb', 'direction': 265, 'speed': 3},\n",
       " {'layer': '700mb', 'direction': 265, 'speed': 3},\n",
       " {'layer': '650mb', 'direction': 255, 'speed': 3},\n",
       " {'layer': '600mb', 'direction': 250, 'speed': 4},\n",
       " {'layer': '550mb', 'direction': 260, 'speed': 5},\n",
       " {'layer': '500mb', 'direction': 270, 'speed': 5},\n",
       " {'layer': '450mb', 'direction': 285, 'speed': 4},\n",
       " {'layer': '400mb', 'direction': 290, 'speed': 5},\n",
       " {'layer': '350mb', 'direction': 290, 'speed': 5},\n",
       " {'layer': '300mb', 'direction': 300, 'speed': 6},\n",
       " {'layer': '250mb', 'direction': 305, 'speed': 5},\n",
       " {'layer': '200mb', 'direction': 285, 'speed': 5}]"
      ]
     },
     "execution_count": 15,
     "metadata": {},
     "output_type": "execute_result"
    }
   ],
   "source": [
    "df_clima['wind_profile'][0] "
   ]
  },
  {
   "cell_type": "code",
   "execution_count": 16,
   "metadata": {},
   "outputs": [],
   "source": [
    "direction= df_clima[\"wind_profile\"].apply(pd.Series)"
   ]
  },
  {
   "cell_type": "code",
   "execution_count": 17,
   "metadata": {},
   "outputs": [],
   "source": [
    "for i in range(len(direction.columns)):\n",
    "    nombre = \"wind_\" + str(direction[i].apply(pd.Series)[\"layer\"][0]) \n",
    "    valores = list(direction[i].apply(pd.Series)[\"direction\"])#tenemos que convertirlo a lista para q funcione el insert\n",
    "    df_clima.insert(i, nombre, valores)#insert acepta listas"
   ]
  },
  {
   "cell_type": "code",
   "execution_count": 18,
   "metadata": {},
   "outputs": [],
   "source": [
    "speed= df_clima[\"wind_profile\"].apply(pd.Series)"
   ]
  },
  {
   "cell_type": "code",
   "execution_count": 19,
   "metadata": {},
   "outputs": [],
   "source": [
    "for i in range(len(speed.columns)):\n",
    "    nombre = \"wind_speed_\" + str(speed[i].apply(pd.Series)[\"layer\"][0]) \n",
    "    valores = list(speed[i].apply(pd.Series)[\"speed\"])#tenemos que convertirlo a lista para q funcione el insert\n",
    "    df_clima.insert(i, nombre, valores)#insert acepta listas"
   ]
  },
  {
   "cell_type": "code",
   "execution_count": 20,
   "metadata": {},
   "outputs": [
    {
     "data": {
      "text/plain": [
       "Index(['wind_speed_950mb', 'wind_speed_900mb', 'wind_speed_850mb',\n",
       "       'wind_speed_800mb', 'wind_speed_750mb', 'wind_speed_700mb',\n",
       "       'wind_speed_650mb', 'wind_speed_600mb', 'wind_speed_550mb',\n",
       "       'wind_speed_500mb', 'wind_speed_450mb', 'wind_speed_400mb',\n",
       "       'wind_speed_350mb', 'wind_speed_300mb', 'wind_speed_250mb',\n",
       "       'wind_speed_200mb', 'wind_950mb', 'wind_900mb', 'wind_850mb',\n",
       "       'wind_800mb', 'wind_750mb', 'wind_700mb', 'wind_650mb', 'wind_600mb',\n",
       "       'wind_550mb', 'wind_500mb', 'wind_450mb', 'wind_400mb', 'wind_350mb',\n",
       "       'wind_300mb', 'wind_250mb', 'wind_200mb', 'rh_950mb', 'rh_900mb',\n",
       "       'rh_850mb', 'rh_800mb', 'rh_750mb', 'rh_700mb', 'rh_650mb', 'rh_600mb',\n",
       "       'rh_550mb', 'rh_500mb', 'rh_450mb', 'rh_400mb', 'rh_350mb', 'rh_300mb',\n",
       "       'rh_250mb', 'rh_200mb', 'index', 'timepoint', 'cloudcover', 'highcloud',\n",
       "       'midcloud', 'lowcloud', 'rh_profile', 'wind_profile', 'temp2m',\n",
       "       'lifted_index', 'rh2m', 'msl_pressure', 'prec_type', 'prec_amount',\n",
       "       'snow_depth', 'wind10m.direction', 'wind10m.speed', 'pais', 'latitud',\n",
       "       'longitud'],\n",
       "      dtype='object')"
      ]
     },
     "execution_count": 20,
     "metadata": {},
     "output_type": "execute_result"
    }
   ],
   "source": [
    "df_clima.columns #verificamos que todas nuestras columnas esta creadas"
   ]
  },
  {
   "cell_type": "markdown",
   "metadata": {},
   "source": [
    "Sacamos las medias de la tabla de clima por pais"
   ]
  },
  {
   "cell_type": "code",
   "execution_count": 21,
   "metadata": {},
   "outputs": [],
   "source": [
    "df_clima_agrupado= df_clima.groupby(\"pais\").mean()"
   ]
  },
  {
   "cell_type": "code",
   "execution_count": 23,
   "metadata": {},
   "outputs": [
    {
     "data": {
      "text/html": [
       "<div>\n",
       "<style scoped>\n",
       "    .dataframe tbody tr th:only-of-type {\n",
       "        vertical-align: middle;\n",
       "    }\n",
       "\n",
       "    .dataframe tbody tr th {\n",
       "        vertical-align: top;\n",
       "    }\n",
       "\n",
       "    .dataframe thead th {\n",
       "        text-align: right;\n",
       "    }\n",
       "</style>\n",
       "<table border=\"1\" class=\"dataframe\">\n",
       "  <thead>\n",
       "    <tr style=\"text-align: right;\">\n",
       "      <th></th>\n",
       "      <th>wind_speed_950mb</th>\n",
       "      <th>wind_speed_900mb</th>\n",
       "      <th>wind_speed_850mb</th>\n",
       "      <th>wind_speed_800mb</th>\n",
       "      <th>wind_speed_750mb</th>\n",
       "      <th>wind_speed_700mb</th>\n",
       "      <th>wind_speed_650mb</th>\n",
       "      <th>wind_speed_600mb</th>\n",
       "      <th>wind_speed_550mb</th>\n",
       "      <th>wind_speed_500mb</th>\n",
       "      <th>...</th>\n",
       "      <th>temp2m</th>\n",
       "      <th>lifted_index</th>\n",
       "      <th>rh2m</th>\n",
       "      <th>msl_pressure</th>\n",
       "      <th>prec_amount</th>\n",
       "      <th>snow_depth</th>\n",
       "      <th>wind10m.direction</th>\n",
       "      <th>wind10m.speed</th>\n",
       "      <th>latitud</th>\n",
       "      <th>longitud</th>\n",
       "    </tr>\n",
       "    <tr>\n",
       "      <th>pais</th>\n",
       "      <th></th>\n",
       "      <th></th>\n",
       "      <th></th>\n",
       "      <th></th>\n",
       "      <th></th>\n",
       "      <th></th>\n",
       "      <th></th>\n",
       "      <th></th>\n",
       "      <th></th>\n",
       "      <th></th>\n",
       "      <th></th>\n",
       "      <th></th>\n",
       "      <th></th>\n",
       "      <th></th>\n",
       "      <th></th>\n",
       "      <th></th>\n",
       "      <th></th>\n",
       "      <th></th>\n",
       "      <th></th>\n",
       "      <th></th>\n",
       "      <th></th>\n",
       "    </tr>\n",
       "  </thead>\n",
       "  <tbody>\n",
       "    <tr>\n",
       "      <th>Australia</th>\n",
       "      <td>3.125</td>\n",
       "      <td>2.921875</td>\n",
       "      <td>2.8125</td>\n",
       "      <td>2.640625</td>\n",
       "      <td>2.671875</td>\n",
       "      <td>2.78125</td>\n",
       "      <td>2.859375</td>\n",
       "      <td>3.09375</td>\n",
       "      <td>3.1875</td>\n",
       "      <td>3.359375</td>\n",
       "      <td>...</td>\n",
       "      <td>24.09375</td>\n",
       "      <td>0.375</td>\n",
       "      <td>10.796875</td>\n",
       "      <td>1019.15625</td>\n",
       "      <td>3.484375</td>\n",
       "      <td>0.0</td>\n",
       "      <td>133.4375</td>\n",
       "      <td>2.984375</td>\n",
       "      <td>-24.776109</td>\n",
       "      <td>134.755</td>\n",
       "    </tr>\n",
       "  </tbody>\n",
       "</table>\n",
       "<p>1 rows × 64 columns</p>\n",
       "</div>"
      ],
      "text/plain": [
       "           wind_speed_950mb  wind_speed_900mb  wind_speed_850mb  \\\n",
       "pais                                                              \n",
       "Australia             3.125          2.921875            2.8125   \n",
       "\n",
       "           wind_speed_800mb  wind_speed_750mb  wind_speed_700mb  \\\n",
       "pais                                                              \n",
       "Australia          2.640625          2.671875           2.78125   \n",
       "\n",
       "           wind_speed_650mb  wind_speed_600mb  wind_speed_550mb  \\\n",
       "pais                                                              \n",
       "Australia          2.859375           3.09375            3.1875   \n",
       "\n",
       "           wind_speed_500mb  ...    temp2m  lifted_index       rh2m  \\\n",
       "pais                         ...                                      \n",
       "Australia          3.359375  ...  24.09375         0.375  10.796875   \n",
       "\n",
       "           msl_pressure  prec_amount  snow_depth  wind10m.direction  \\\n",
       "pais                                                                  \n",
       "Australia    1019.15625     3.484375         0.0           133.4375   \n",
       "\n",
       "           wind10m.speed    latitud  longitud  \n",
       "pais                                           \n",
       "Australia       2.984375 -24.776109   134.755  \n",
       "\n",
       "[1 rows x 64 columns]"
      ]
     },
     "execution_count": 23,
     "metadata": {},
     "output_type": "execute_result"
    }
   ],
   "source": [
    "df_clima_agrupado.head(1)"
   ]
  },
  {
   "cell_type": "code",
   "execution_count": 24,
   "metadata": {},
   "outputs": [],
   "source": [
    "df_clima_agrupado= pd.DataFrame(df_clima_agrupado.reset_index())"
   ]
  },
  {
   "cell_type": "code",
   "execution_count": 25,
   "metadata": {},
   "outputs": [
    {
     "data": {
      "text/html": [
       "<div>\n",
       "<style scoped>\n",
       "    .dataframe tbody tr th:only-of-type {\n",
       "        vertical-align: middle;\n",
       "    }\n",
       "\n",
       "    .dataframe tbody tr th {\n",
       "        vertical-align: top;\n",
       "    }\n",
       "\n",
       "    .dataframe thead th {\n",
       "        text-align: right;\n",
       "    }\n",
       "</style>\n",
       "<table border=\"1\" class=\"dataframe\">\n",
       "  <thead>\n",
       "    <tr style=\"text-align: right;\">\n",
       "      <th></th>\n",
       "      <th>pais</th>\n",
       "      <th>wind_speed_950mb</th>\n",
       "      <th>wind_speed_900mb</th>\n",
       "      <th>wind_speed_850mb</th>\n",
       "      <th>wind_speed_800mb</th>\n",
       "      <th>wind_speed_750mb</th>\n",
       "      <th>wind_speed_700mb</th>\n",
       "      <th>wind_speed_650mb</th>\n",
       "      <th>wind_speed_600mb</th>\n",
       "      <th>wind_speed_550mb</th>\n",
       "      <th>...</th>\n",
       "      <th>temp2m</th>\n",
       "      <th>lifted_index</th>\n",
       "      <th>rh2m</th>\n",
       "      <th>msl_pressure</th>\n",
       "      <th>prec_amount</th>\n",
       "      <th>snow_depth</th>\n",
       "      <th>wind10m.direction</th>\n",
       "      <th>wind10m.speed</th>\n",
       "      <th>latitud</th>\n",
       "      <th>longitud</th>\n",
       "    </tr>\n",
       "  </thead>\n",
       "  <tbody>\n",
       "    <tr>\n",
       "      <th>0</th>\n",
       "      <td>Australia</td>\n",
       "      <td>3.125</td>\n",
       "      <td>2.921875</td>\n",
       "      <td>2.8125</td>\n",
       "      <td>2.640625</td>\n",
       "      <td>2.671875</td>\n",
       "      <td>2.78125</td>\n",
       "      <td>2.859375</td>\n",
       "      <td>3.09375</td>\n",
       "      <td>3.1875</td>\n",
       "      <td>...</td>\n",
       "      <td>24.09375</td>\n",
       "      <td>0.375</td>\n",
       "      <td>10.796875</td>\n",
       "      <td>1019.15625</td>\n",
       "      <td>3.484375</td>\n",
       "      <td>0.0</td>\n",
       "      <td>133.4375</td>\n",
       "      <td>2.984375</td>\n",
       "      <td>-24.776109</td>\n",
       "      <td>134.755</td>\n",
       "    </tr>\n",
       "  </tbody>\n",
       "</table>\n",
       "<p>1 rows × 65 columns</p>\n",
       "</div>"
      ],
      "text/plain": [
       "        pais  wind_speed_950mb  wind_speed_900mb  wind_speed_850mb  \\\n",
       "0  Australia             3.125          2.921875            2.8125   \n",
       "\n",
       "   wind_speed_800mb  wind_speed_750mb  wind_speed_700mb  wind_speed_650mb  \\\n",
       "0          2.640625          2.671875           2.78125          2.859375   \n",
       "\n",
       "   wind_speed_600mb  wind_speed_550mb  ...    temp2m  lifted_index       rh2m  \\\n",
       "0           3.09375            3.1875  ...  24.09375         0.375  10.796875   \n",
       "\n",
       "   msl_pressure  prec_amount  snow_depth  wind10m.direction  wind10m.speed  \\\n",
       "0    1019.15625     3.484375         0.0           133.4375       2.984375   \n",
       "\n",
       "     latitud  longitud  \n",
       "0 -24.776109   134.755  \n",
       "\n",
       "[1 rows x 65 columns]"
      ]
     },
     "execution_count": 25,
     "metadata": {},
     "output_type": "execute_result"
    }
   ],
   "source": [
    "df_clima_agrupado.head(1)"
   ]
  },
  {
   "cell_type": "markdown",
   "metadata": {},
   "source": [
    "     Que para mergear mas adelante, necesitamos que \"country\" y \"país\" tengan estén escritos igual, y por ello cambiamos a minusculo la info de la columna country."
   ]
  },
  {
   "cell_type": "code",
   "execution_count": 29,
   "metadata": {},
   "outputs": [],
   "source": [
    "def minuscula(col):\n",
    "    try:\n",
    "        col=col.lower()\n",
    "    except:\n",
    "        pass\n",
    "    return col"
   ]
  },
  {
   "cell_type": "code",
   "execution_count": 30,
   "metadata": {},
   "outputs": [],
   "source": [
    "df_clima_agrupado[\"pais\"] = df_clima_agrupado[\"pais\"].apply(minuscula)"
   ]
  },
  {
   "cell_type": "code",
   "execution_count": 31,
   "metadata": {},
   "outputs": [
    {
     "data": {
      "text/plain": [
       "array(['australia', 'new zealand', 'papua new guinea', 'south africa',\n",
       "       'usa'], dtype=object)"
      ]
     },
     "execution_count": 31,
     "metadata": {},
     "output_type": "execute_result"
    }
   ],
   "source": [
    "df_clima_agrupado[\"pais\"].unique()"
   ]
  },
  {
   "cell_type": "code",
   "execution_count": 32,
   "metadata": {},
   "outputs": [],
   "source": [
    "df_unido_total = pd.merge(df_paises,df_clima_agrupado, left_on=[\"country\"], right_on=[\"pais\"])"
   ]
  },
  {
   "cell_type": "code",
   "execution_count": 33,
   "metadata": {},
   "outputs": [
    {
     "data": {
      "text/html": [
       "<div>\n",
       "<style scoped>\n",
       "    .dataframe tbody tr th:only-of-type {\n",
       "        vertical-align: middle;\n",
       "    }\n",
       "\n",
       "    .dataframe tbody tr th {\n",
       "        vertical-align: top;\n",
       "    }\n",
       "\n",
       "    .dataframe thead th {\n",
       "        text-align: right;\n",
       "    }\n",
       "</style>\n",
       "<table border=\"1\" class=\"dataframe\">\n",
       "  <thead>\n",
       "    <tr style=\"text-align: right;\">\n",
       "      <th></th>\n",
       "      <th>index_x</th>\n",
       "      <th>year</th>\n",
       "      <th>type</th>\n",
       "      <th>country</th>\n",
       "      <th>age</th>\n",
       "      <th>species_</th>\n",
       "      <th>fecha_limpia</th>\n",
       "      <th>fatal</th>\n",
       "      <th>sex</th>\n",
       "      <th>latitud_x</th>\n",
       "      <th>...</th>\n",
       "      <th>temp2m</th>\n",
       "      <th>lifted_index</th>\n",
       "      <th>rh2m</th>\n",
       "      <th>msl_pressure</th>\n",
       "      <th>prec_amount</th>\n",
       "      <th>snow_depth</th>\n",
       "      <th>wind10m.direction</th>\n",
       "      <th>wind10m.speed</th>\n",
       "      <th>latitud_y</th>\n",
       "      <th>longitud_y</th>\n",
       "    </tr>\n",
       "  </thead>\n",
       "  <tbody>\n",
       "    <tr>\n",
       "      <th>0</th>\n",
       "      <td>0</td>\n",
       "      <td>2018</td>\n",
       "      <td>Boating</td>\n",
       "      <td>usa</td>\n",
       "      <td>57.0</td>\n",
       "      <td>White shark</td>\n",
       "      <td>Jun</td>\n",
       "      <td>N</td>\n",
       "      <td>F</td>\n",
       "      <td>39.78373</td>\n",
       "      <td>...</td>\n",
       "      <td>22.609375</td>\n",
       "      <td>1.90625</td>\n",
       "      <td>5.03125</td>\n",
       "      <td>1015.46875</td>\n",
       "      <td>0.0</td>\n",
       "      <td>0.0</td>\n",
       "      <td>136.09375</td>\n",
       "      <td>2.203125</td>\n",
       "      <td>39.78373</td>\n",
       "      <td>-100.445882</td>\n",
       "    </tr>\n",
       "    <tr>\n",
       "      <th>1</th>\n",
       "      <td>1</td>\n",
       "      <td>2018</td>\n",
       "      <td>Unprovoked</td>\n",
       "      <td>usa</td>\n",
       "      <td>11.0</td>\n",
       "      <td>Unespecific</td>\n",
       "      <td>Jun</td>\n",
       "      <td>N</td>\n",
       "      <td>F</td>\n",
       "      <td>39.78373</td>\n",
       "      <td>...</td>\n",
       "      <td>22.609375</td>\n",
       "      <td>1.90625</td>\n",
       "      <td>5.03125</td>\n",
       "      <td>1015.46875</td>\n",
       "      <td>0.0</td>\n",
       "      <td>0.0</td>\n",
       "      <td>136.09375</td>\n",
       "      <td>2.203125</td>\n",
       "      <td>39.78373</td>\n",
       "      <td>-100.445882</td>\n",
       "    </tr>\n",
       "    <tr>\n",
       "      <th>2</th>\n",
       "      <td>2</td>\n",
       "      <td>2018</td>\n",
       "      <td>Invalid</td>\n",
       "      <td>usa</td>\n",
       "      <td>48.0</td>\n",
       "      <td>Unespecific</td>\n",
       "      <td>Jun</td>\n",
       "      <td>N</td>\n",
       "      <td>M</td>\n",
       "      <td>39.78373</td>\n",
       "      <td>...</td>\n",
       "      <td>22.609375</td>\n",
       "      <td>1.90625</td>\n",
       "      <td>5.03125</td>\n",
       "      <td>1015.46875</td>\n",
       "      <td>0.0</td>\n",
       "      <td>0.0</td>\n",
       "      <td>136.09375</td>\n",
       "      <td>2.203125</td>\n",
       "      <td>39.78373</td>\n",
       "      <td>-100.445882</td>\n",
       "    </tr>\n",
       "    <tr>\n",
       "      <th>3</th>\n",
       "      <td>7</td>\n",
       "      <td>2018</td>\n",
       "      <td>Unprovoked</td>\n",
       "      <td>usa</td>\n",
       "      <td>52.0</td>\n",
       "      <td>Lemon shark</td>\n",
       "      <td>May</td>\n",
       "      <td>N</td>\n",
       "      <td>M</td>\n",
       "      <td>39.78373</td>\n",
       "      <td>...</td>\n",
       "      <td>22.609375</td>\n",
       "      <td>1.90625</td>\n",
       "      <td>5.03125</td>\n",
       "      <td>1015.46875</td>\n",
       "      <td>0.0</td>\n",
       "      <td>0.0</td>\n",
       "      <td>136.09375</td>\n",
       "      <td>2.203125</td>\n",
       "      <td>39.78373</td>\n",
       "      <td>-100.445882</td>\n",
       "    </tr>\n",
       "  </tbody>\n",
       "</table>\n",
       "<p>4 rows × 87 columns</p>\n",
       "</div>"
      ],
      "text/plain": [
       "   index_x  year        type country   age     species_ fecha_limpia fatal  \\\n",
       "0        0  2018     Boating     usa  57.0  White shark          Jun     N   \n",
       "1        1  2018  Unprovoked     usa  11.0  Unespecific          Jun     N   \n",
       "2        2  2018     Invalid     usa  48.0  Unespecific          Jun     N   \n",
       "3        7  2018  Unprovoked     usa  52.0  Lemon shark          May     N   \n",
       "\n",
       "  sex  latitud_x  ...     temp2m lifted_index     rh2m  msl_pressure  \\\n",
       "0   F   39.78373  ...  22.609375      1.90625  5.03125    1015.46875   \n",
       "1   F   39.78373  ...  22.609375      1.90625  5.03125    1015.46875   \n",
       "2   M   39.78373  ...  22.609375      1.90625  5.03125    1015.46875   \n",
       "3   M   39.78373  ...  22.609375      1.90625  5.03125    1015.46875   \n",
       "\n",
       "   prec_amount  snow_depth  wind10m.direction  wind10m.speed  latitud_y  \\\n",
       "0          0.0         0.0          136.09375       2.203125   39.78373   \n",
       "1          0.0         0.0          136.09375       2.203125   39.78373   \n",
       "2          0.0         0.0          136.09375       2.203125   39.78373   \n",
       "3          0.0         0.0          136.09375       2.203125   39.78373   \n",
       "\n",
       "   longitud_y  \n",
       "0 -100.445882  \n",
       "1 -100.445882  \n",
       "2 -100.445882  \n",
       "3 -100.445882  \n",
       "\n",
       "[4 rows x 87 columns]"
      ]
     },
     "execution_count": 33,
     "metadata": {},
     "output_type": "execute_result"
    }
   ],
   "source": [
    "df_unido_total.head(4)"
   ]
  },
  {
   "cell_type": "markdown",
   "metadata": {},
   "source": [
    "Guardar los resultados obtenidos en un csv."
   ]
  },
  {
   "cell_type": "code",
   "execution_count": 34,
   "metadata": {},
   "outputs": [],
   "source": [
    "df_unido_total.to_csv(\"df_unido.csv\")"
   ]
  }
 ],
 "metadata": {
  "interpreter": {
   "hash": "40d3a090f54c6569ab1632332b64b2c03c39dcf918b08424e98f38b5ae0af88f"
  },
  "kernelspec": {
   "display_name": "Python 3.9.7 ('base')",
   "language": "python",
   "name": "python3"
  },
  "language_info": {
   "codemirror_mode": {
    "name": "ipython",
    "version": 3
   },
   "file_extension": ".py",
   "mimetype": "text/x-python",
   "name": "python",
   "nbconvert_exporter": "python",
   "pygments_lexer": "ipython3",
   "version": "3.9.7"
  },
  "orig_nbformat": 4
 },
 "nbformat": 4,
 "nbformat_minor": 2
}
